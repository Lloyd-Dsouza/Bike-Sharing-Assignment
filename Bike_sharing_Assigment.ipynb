{
  "nbformat": 4,
  "nbformat_minor": 0,
  "metadata": {
    "colab": {
      "name": "Bike_sharing_assigment.ipynb",
      "provenance": [],
      "collapsed_sections": []
    },
    "kernelspec": {
      "name": "python3",
      "display_name": "Python 3"
    },
    "language_info": {
      "name": "python"
    }
  },
  "cells": [
    {
      "cell_type": "markdown",
      "source": [
        "# **Bike Sharing Assignment**\n",
        "\n",
        "Import Modules"
      ],
      "metadata": {
        "id": "5ozeMMWL4K_w"
      }
    },
    {
      "cell_type": "code",
      "execution_count": 1237,
      "metadata": {
        "id": "MRzBAUoK2zr6"
      },
      "outputs": [],
      "source": [
        "import numpy as np\n",
        "import pandas as pd\n",
        "import matplotlib.pyplot as plt\n",
        "import plotly.express as px\n",
        "from sklearn import linear_model\n",
        "from sklearn.linear_model import LinearRegression\n",
        "import scipy as sp\n",
        "from sklearn.model_selection import train_test_split\n",
        "import statsmodels.api as sm\n",
        "import statsmodels.tsa.api as smt\n",
        "from datetime import datetime\n",
        "from statsmodels.stats.outliers_influence import variance_inflation_factor\n",
        "from sklearn.linear_model import LinearRegression\n",
        "from sklearn.feature_selection import RFE\n",
        "from sklearn.model_selection import train_test_split\n",
        "from sklearn.metrics import r2_score\n",
        "from sklearn.preprocessing import MinMaxScaler"
      ]
    },
    {
      "cell_type": "markdown",
      "source": [
        "Import Dataset and check for sample of data"
      ],
      "metadata": {
        "id": "OXUUavg45ViO"
      }
    },
    {
      "cell_type": "code",
      "source": [
        "rides = pd.read_csv('day.csv')\n",
        "rides.head()"
      ],
      "metadata": {
        "colab": {
          "base_uri": "https://localhost:8080/",
          "height": 337
        },
        "id": "e2kHTHXw5T9S",
        "outputId": "ecf71c04-e628-49c1-cd43-9018d5a58b14"
      },
      "execution_count": 1238,
      "outputs": [
        {
          "output_type": "execute_result",
          "data": {
            "text/plain": [
              "   instant      dteday  season  yr  mnth  holiday  weekday  workingday  \\\n",
              "0        1  01-01-2018       1   0     1        0        6           0   \n",
              "1        2  02-01-2018       1   0     1        0        0           0   \n",
              "2        3  03-01-2018       1   0     1        0        1           1   \n",
              "3        4  04-01-2018       1   0     1        0        2           1   \n",
              "4        5  05-01-2018       1   0     1        0        3           1   \n",
              "\n",
              "   weathersit       temp     atemp      hum  windspeed  casual  registered  \\\n",
              "0           2  14.110847  18.18125  80.5833  10.749882     331         654   \n",
              "1           2  14.902598  17.68695  69.6087  16.652113     131         670   \n",
              "2           1   8.050924   9.47025  43.7273  16.636703     120        1229   \n",
              "3           1   8.200000  10.60610  59.0435  10.739832     108        1454   \n",
              "4           1   9.305237  11.46350  43.6957  12.522300      82        1518   \n",
              "\n",
              "    cnt  \n",
              "0   985  \n",
              "1   801  \n",
              "2  1349  \n",
              "3  1562  \n",
              "4  1600  "
            ],
            "text/html": [
              "\n",
              "  <div id=\"df-b354d290-b58a-460a-a694-df1ba7121ec7\">\n",
              "    <div class=\"colab-df-container\">\n",
              "      <div>\n",
              "<style scoped>\n",
              "    .dataframe tbody tr th:only-of-type {\n",
              "        vertical-align: middle;\n",
              "    }\n",
              "\n",
              "    .dataframe tbody tr th {\n",
              "        vertical-align: top;\n",
              "    }\n",
              "\n",
              "    .dataframe thead th {\n",
              "        text-align: right;\n",
              "    }\n",
              "</style>\n",
              "<table border=\"1\" class=\"dataframe\">\n",
              "  <thead>\n",
              "    <tr style=\"text-align: right;\">\n",
              "      <th></th>\n",
              "      <th>instant</th>\n",
              "      <th>dteday</th>\n",
              "      <th>season</th>\n",
              "      <th>yr</th>\n",
              "      <th>mnth</th>\n",
              "      <th>holiday</th>\n",
              "      <th>weekday</th>\n",
              "      <th>workingday</th>\n",
              "      <th>weathersit</th>\n",
              "      <th>temp</th>\n",
              "      <th>atemp</th>\n",
              "      <th>hum</th>\n",
              "      <th>windspeed</th>\n",
              "      <th>casual</th>\n",
              "      <th>registered</th>\n",
              "      <th>cnt</th>\n",
              "    </tr>\n",
              "  </thead>\n",
              "  <tbody>\n",
              "    <tr>\n",
              "      <th>0</th>\n",
              "      <td>1</td>\n",
              "      <td>01-01-2018</td>\n",
              "      <td>1</td>\n",
              "      <td>0</td>\n",
              "      <td>1</td>\n",
              "      <td>0</td>\n",
              "      <td>6</td>\n",
              "      <td>0</td>\n",
              "      <td>2</td>\n",
              "      <td>14.110847</td>\n",
              "      <td>18.18125</td>\n",
              "      <td>80.5833</td>\n",
              "      <td>10.749882</td>\n",
              "      <td>331</td>\n",
              "      <td>654</td>\n",
              "      <td>985</td>\n",
              "    </tr>\n",
              "    <tr>\n",
              "      <th>1</th>\n",
              "      <td>2</td>\n",
              "      <td>02-01-2018</td>\n",
              "      <td>1</td>\n",
              "      <td>0</td>\n",
              "      <td>1</td>\n",
              "      <td>0</td>\n",
              "      <td>0</td>\n",
              "      <td>0</td>\n",
              "      <td>2</td>\n",
              "      <td>14.902598</td>\n",
              "      <td>17.68695</td>\n",
              "      <td>69.6087</td>\n",
              "      <td>16.652113</td>\n",
              "      <td>131</td>\n",
              "      <td>670</td>\n",
              "      <td>801</td>\n",
              "    </tr>\n",
              "    <tr>\n",
              "      <th>2</th>\n",
              "      <td>3</td>\n",
              "      <td>03-01-2018</td>\n",
              "      <td>1</td>\n",
              "      <td>0</td>\n",
              "      <td>1</td>\n",
              "      <td>0</td>\n",
              "      <td>1</td>\n",
              "      <td>1</td>\n",
              "      <td>1</td>\n",
              "      <td>8.050924</td>\n",
              "      <td>9.47025</td>\n",
              "      <td>43.7273</td>\n",
              "      <td>16.636703</td>\n",
              "      <td>120</td>\n",
              "      <td>1229</td>\n",
              "      <td>1349</td>\n",
              "    </tr>\n",
              "    <tr>\n",
              "      <th>3</th>\n",
              "      <td>4</td>\n",
              "      <td>04-01-2018</td>\n",
              "      <td>1</td>\n",
              "      <td>0</td>\n",
              "      <td>1</td>\n",
              "      <td>0</td>\n",
              "      <td>2</td>\n",
              "      <td>1</td>\n",
              "      <td>1</td>\n",
              "      <td>8.200000</td>\n",
              "      <td>10.60610</td>\n",
              "      <td>59.0435</td>\n",
              "      <td>10.739832</td>\n",
              "      <td>108</td>\n",
              "      <td>1454</td>\n",
              "      <td>1562</td>\n",
              "    </tr>\n",
              "    <tr>\n",
              "      <th>4</th>\n",
              "      <td>5</td>\n",
              "      <td>05-01-2018</td>\n",
              "      <td>1</td>\n",
              "      <td>0</td>\n",
              "      <td>1</td>\n",
              "      <td>0</td>\n",
              "      <td>3</td>\n",
              "      <td>1</td>\n",
              "      <td>1</td>\n",
              "      <td>9.305237</td>\n",
              "      <td>11.46350</td>\n",
              "      <td>43.6957</td>\n",
              "      <td>12.522300</td>\n",
              "      <td>82</td>\n",
              "      <td>1518</td>\n",
              "      <td>1600</td>\n",
              "    </tr>\n",
              "  </tbody>\n",
              "</table>\n",
              "</div>\n",
              "      <button class=\"colab-df-convert\" onclick=\"convertToInteractive('df-b354d290-b58a-460a-a694-df1ba7121ec7')\"\n",
              "              title=\"Convert this dataframe to an interactive table.\"\n",
              "              style=\"display:none;\">\n",
              "        \n",
              "  <svg xmlns=\"http://www.w3.org/2000/svg\" height=\"24px\"viewBox=\"0 0 24 24\"\n",
              "       width=\"24px\">\n",
              "    <path d=\"M0 0h24v24H0V0z\" fill=\"none\"/>\n",
              "    <path d=\"M18.56 5.44l.94 2.06.94-2.06 2.06-.94-2.06-.94-.94-2.06-.94 2.06-2.06.94zm-11 1L8.5 8.5l.94-2.06 2.06-.94-2.06-.94L8.5 2.5l-.94 2.06-2.06.94zm10 10l.94 2.06.94-2.06 2.06-.94-2.06-.94-.94-2.06-.94 2.06-2.06.94z\"/><path d=\"M17.41 7.96l-1.37-1.37c-.4-.4-.92-.59-1.43-.59-.52 0-1.04.2-1.43.59L10.3 9.45l-7.72 7.72c-.78.78-.78 2.05 0 2.83L4 21.41c.39.39.9.59 1.41.59.51 0 1.02-.2 1.41-.59l7.78-7.78 2.81-2.81c.8-.78.8-2.07 0-2.86zM5.41 20L4 18.59l7.72-7.72 1.47 1.35L5.41 20z\"/>\n",
              "  </svg>\n",
              "      </button>\n",
              "      \n",
              "  <style>\n",
              "    .colab-df-container {\n",
              "      display:flex;\n",
              "      flex-wrap:wrap;\n",
              "      gap: 12px;\n",
              "    }\n",
              "\n",
              "    .colab-df-convert {\n",
              "      background-color: #E8F0FE;\n",
              "      border: none;\n",
              "      border-radius: 50%;\n",
              "      cursor: pointer;\n",
              "      display: none;\n",
              "      fill: #1967D2;\n",
              "      height: 32px;\n",
              "      padding: 0 0 0 0;\n",
              "      width: 32px;\n",
              "    }\n",
              "\n",
              "    .colab-df-convert:hover {\n",
              "      background-color: #E2EBFA;\n",
              "      box-shadow: 0px 1px 2px rgba(60, 64, 67, 0.3), 0px 1px 3px 1px rgba(60, 64, 67, 0.15);\n",
              "      fill: #174EA6;\n",
              "    }\n",
              "\n",
              "    [theme=dark] .colab-df-convert {\n",
              "      background-color: #3B4455;\n",
              "      fill: #D2E3FC;\n",
              "    }\n",
              "\n",
              "    [theme=dark] .colab-df-convert:hover {\n",
              "      background-color: #434B5C;\n",
              "      box-shadow: 0px 1px 3px 1px rgba(0, 0, 0, 0.15);\n",
              "      filter: drop-shadow(0px 1px 2px rgba(0, 0, 0, 0.3));\n",
              "      fill: #FFFFFF;\n",
              "    }\n",
              "  </style>\n",
              "\n",
              "      <script>\n",
              "        const buttonEl =\n",
              "          document.querySelector('#df-b354d290-b58a-460a-a694-df1ba7121ec7 button.colab-df-convert');\n",
              "        buttonEl.style.display =\n",
              "          google.colab.kernel.accessAllowed ? 'block' : 'none';\n",
              "\n",
              "        async function convertToInteractive(key) {\n",
              "          const element = document.querySelector('#df-b354d290-b58a-460a-a694-df1ba7121ec7');\n",
              "          const dataTable =\n",
              "            await google.colab.kernel.invokeFunction('convertToInteractive',\n",
              "                                                     [key], {});\n",
              "          if (!dataTable) return;\n",
              "\n",
              "          const docLinkHtml = 'Like what you see? Visit the ' +\n",
              "            '<a target=\"_blank\" href=https://colab.research.google.com/notebooks/data_table.ipynb>data table notebook</a>'\n",
              "            + ' to learn more about interactive tables.';\n",
              "          element.innerHTML = '';\n",
              "          dataTable['output_type'] = 'display_data';\n",
              "          await google.colab.output.renderOutput(dataTable, element);\n",
              "          const docLink = document.createElement('div');\n",
              "          docLink.innerHTML = docLinkHtml;\n",
              "          element.appendChild(docLink);\n",
              "        }\n",
              "      </script>\n",
              "    </div>\n",
              "  </div>\n",
              "  "
            ]
          },
          "metadata": {},
          "execution_count": 1238
        }
      ]
    },
    {
      "cell_type": "markdown",
      "source": [
        "Check the shape, datatype info of the dataset"
      ],
      "metadata": {
        "id": "l8lJhZWt9nnG"
      }
    },
    {
      "cell_type": "code",
      "source": [
        "rides.info()"
      ],
      "metadata": {
        "colab": {
          "base_uri": "https://localhost:8080/"
        },
        "id": "QQ1aLeaF8Wuv",
        "outputId": "a72f8604-ec92-4bda-83d2-0dcbd7ea9e11"
      },
      "execution_count": 1239,
      "outputs": [
        {
          "output_type": "stream",
          "name": "stdout",
          "text": [
            "<class 'pandas.core.frame.DataFrame'>\n",
            "RangeIndex: 730 entries, 0 to 729\n",
            "Data columns (total 16 columns):\n",
            " #   Column      Non-Null Count  Dtype  \n",
            "---  ------      --------------  -----  \n",
            " 0   instant     730 non-null    int64  \n",
            " 1   dteday      730 non-null    object \n",
            " 2   season      730 non-null    int64  \n",
            " 3   yr          730 non-null    int64  \n",
            " 4   mnth        730 non-null    int64  \n",
            " 5   holiday     730 non-null    int64  \n",
            " 6   weekday     730 non-null    int64  \n",
            " 7   workingday  730 non-null    int64  \n",
            " 8   weathersit  730 non-null    int64  \n",
            " 9   temp        730 non-null    float64\n",
            " 10  atemp       730 non-null    float64\n",
            " 11  hum         730 non-null    float64\n",
            " 12  windspeed   730 non-null    float64\n",
            " 13  casual      730 non-null    int64  \n",
            " 14  registered  730 non-null    int64  \n",
            " 15  cnt         730 non-null    int64  \n",
            "dtypes: float64(4), int64(11), object(1)\n",
            "memory usage: 91.4+ KB\n"
          ]
        }
      ]
    },
    {
      "cell_type": "code",
      "source": [
        "rides.shape"
      ],
      "metadata": {
        "colab": {
          "base_uri": "https://localhost:8080/"
        },
        "id": "Qo-dfzDd9vVt",
        "outputId": "ceb76d92-b38c-48e1-ac03-95f7a5a9e254"
      },
      "execution_count": 1240,
      "outputs": [
        {
          "output_type": "execute_result",
          "data": {
            "text/plain": [
              "(730, 16)"
            ]
          },
          "metadata": {},
          "execution_count": 1240
        }
      ]
    },
    {
      "cell_type": "markdown",
      "source": [
        "There are no null values in the dataset, But we'll confirm again,"
      ],
      "metadata": {
        "id": "iSNida9l922E"
      }
    },
    {
      "cell_type": "code",
      "source": [
        "rides.isnull().sum().sum()"
      ],
      "metadata": {
        "colab": {
          "base_uri": "https://localhost:8080/"
        },
        "id": "fkIGWcLN90Nt",
        "outputId": "6dc8e461-e632-4260-a905-60f09225b9d3"
      },
      "execution_count": 1241,
      "outputs": [
        {
          "output_type": "execute_result",
          "data": {
            "text/plain": [
              "0"
            ]
          },
          "metadata": {},
          "execution_count": 1241
        }
      ]
    },
    {
      "cell_type": "markdown",
      "source": [
        "Checking the range of values"
      ],
      "metadata": {
        "id": "QmRiLgJ7-Uup"
      }
    },
    {
      "cell_type": "code",
      "source": [
        "rides.describe()"
      ],
      "metadata": {
        "colab": {
          "base_uri": "https://localhost:8080/",
          "height": 364
        },
        "id": "F3ZA3S4U-ky0",
        "outputId": "97999a89-f06e-439d-b006-9ee5ef4d4447"
      },
      "execution_count": 1242,
      "outputs": [
        {
          "output_type": "execute_result",
          "data": {
            "text/plain": [
              "          instant      season          yr        mnth     holiday     weekday  \\\n",
              "count  730.000000  730.000000  730.000000  730.000000  730.000000  730.000000   \n",
              "mean   365.500000    2.498630    0.500000    6.526027    0.028767    2.997260   \n",
              "std    210.877136    1.110184    0.500343    3.450215    0.167266    2.006161   \n",
              "min      1.000000    1.000000    0.000000    1.000000    0.000000    0.000000   \n",
              "25%    183.250000    2.000000    0.000000    4.000000    0.000000    1.000000   \n",
              "50%    365.500000    3.000000    0.500000    7.000000    0.000000    3.000000   \n",
              "75%    547.750000    3.000000    1.000000   10.000000    0.000000    5.000000   \n",
              "max    730.000000    4.000000    1.000000   12.000000    1.000000    6.000000   \n",
              "\n",
              "       workingday  weathersit        temp       atemp         hum   windspeed  \\\n",
              "count  730.000000  730.000000  730.000000  730.000000  730.000000  730.000000   \n",
              "mean     0.683562    1.394521   20.319259   23.726322   62.765175   12.763620   \n",
              "std      0.465405    0.544807    7.506729    8.150308   14.237589    5.195841   \n",
              "min      0.000000    1.000000    2.424346    3.953480    0.000000    1.500244   \n",
              "25%      0.000000    1.000000   13.811885   16.889713   52.000000    9.041650   \n",
              "50%      1.000000    1.000000   20.465826   24.368225   62.625000   12.125325   \n",
              "75%      1.000000    2.000000   26.880615   30.445775   72.989575   15.625589   \n",
              "max      1.000000    3.000000   35.328347   42.044800   97.250000   34.000021   \n",
              "\n",
              "            casual   registered          cnt  \n",
              "count   730.000000   730.000000   730.000000  \n",
              "mean    849.249315  3658.757534  4508.006849  \n",
              "std     686.479875  1559.758728  1936.011647  \n",
              "min       2.000000    20.000000    22.000000  \n",
              "25%     316.250000  2502.250000  3169.750000  \n",
              "50%     717.000000  3664.500000  4548.500000  \n",
              "75%    1096.500000  4783.250000  5966.000000  \n",
              "max    3410.000000  6946.000000  8714.000000  "
            ],
            "text/html": [
              "\n",
              "  <div id=\"df-f6b2b105-1e4b-4be3-9e00-d2fd3b8fe883\">\n",
              "    <div class=\"colab-df-container\">\n",
              "      <div>\n",
              "<style scoped>\n",
              "    .dataframe tbody tr th:only-of-type {\n",
              "        vertical-align: middle;\n",
              "    }\n",
              "\n",
              "    .dataframe tbody tr th {\n",
              "        vertical-align: top;\n",
              "    }\n",
              "\n",
              "    .dataframe thead th {\n",
              "        text-align: right;\n",
              "    }\n",
              "</style>\n",
              "<table border=\"1\" class=\"dataframe\">\n",
              "  <thead>\n",
              "    <tr style=\"text-align: right;\">\n",
              "      <th></th>\n",
              "      <th>instant</th>\n",
              "      <th>season</th>\n",
              "      <th>yr</th>\n",
              "      <th>mnth</th>\n",
              "      <th>holiday</th>\n",
              "      <th>weekday</th>\n",
              "      <th>workingday</th>\n",
              "      <th>weathersit</th>\n",
              "      <th>temp</th>\n",
              "      <th>atemp</th>\n",
              "      <th>hum</th>\n",
              "      <th>windspeed</th>\n",
              "      <th>casual</th>\n",
              "      <th>registered</th>\n",
              "      <th>cnt</th>\n",
              "    </tr>\n",
              "  </thead>\n",
              "  <tbody>\n",
              "    <tr>\n",
              "      <th>count</th>\n",
              "      <td>730.000000</td>\n",
              "      <td>730.000000</td>\n",
              "      <td>730.000000</td>\n",
              "      <td>730.000000</td>\n",
              "      <td>730.000000</td>\n",
              "      <td>730.000000</td>\n",
              "      <td>730.000000</td>\n",
              "      <td>730.000000</td>\n",
              "      <td>730.000000</td>\n",
              "      <td>730.000000</td>\n",
              "      <td>730.000000</td>\n",
              "      <td>730.000000</td>\n",
              "      <td>730.000000</td>\n",
              "      <td>730.000000</td>\n",
              "      <td>730.000000</td>\n",
              "    </tr>\n",
              "    <tr>\n",
              "      <th>mean</th>\n",
              "      <td>365.500000</td>\n",
              "      <td>2.498630</td>\n",
              "      <td>0.500000</td>\n",
              "      <td>6.526027</td>\n",
              "      <td>0.028767</td>\n",
              "      <td>2.997260</td>\n",
              "      <td>0.683562</td>\n",
              "      <td>1.394521</td>\n",
              "      <td>20.319259</td>\n",
              "      <td>23.726322</td>\n",
              "      <td>62.765175</td>\n",
              "      <td>12.763620</td>\n",
              "      <td>849.249315</td>\n",
              "      <td>3658.757534</td>\n",
              "      <td>4508.006849</td>\n",
              "    </tr>\n",
              "    <tr>\n",
              "      <th>std</th>\n",
              "      <td>210.877136</td>\n",
              "      <td>1.110184</td>\n",
              "      <td>0.500343</td>\n",
              "      <td>3.450215</td>\n",
              "      <td>0.167266</td>\n",
              "      <td>2.006161</td>\n",
              "      <td>0.465405</td>\n",
              "      <td>0.544807</td>\n",
              "      <td>7.506729</td>\n",
              "      <td>8.150308</td>\n",
              "      <td>14.237589</td>\n",
              "      <td>5.195841</td>\n",
              "      <td>686.479875</td>\n",
              "      <td>1559.758728</td>\n",
              "      <td>1936.011647</td>\n",
              "    </tr>\n",
              "    <tr>\n",
              "      <th>min</th>\n",
              "      <td>1.000000</td>\n",
              "      <td>1.000000</td>\n",
              "      <td>0.000000</td>\n",
              "      <td>1.000000</td>\n",
              "      <td>0.000000</td>\n",
              "      <td>0.000000</td>\n",
              "      <td>0.000000</td>\n",
              "      <td>1.000000</td>\n",
              "      <td>2.424346</td>\n",
              "      <td>3.953480</td>\n",
              "      <td>0.000000</td>\n",
              "      <td>1.500244</td>\n",
              "      <td>2.000000</td>\n",
              "      <td>20.000000</td>\n",
              "      <td>22.000000</td>\n",
              "    </tr>\n",
              "    <tr>\n",
              "      <th>25%</th>\n",
              "      <td>183.250000</td>\n",
              "      <td>2.000000</td>\n",
              "      <td>0.000000</td>\n",
              "      <td>4.000000</td>\n",
              "      <td>0.000000</td>\n",
              "      <td>1.000000</td>\n",
              "      <td>0.000000</td>\n",
              "      <td>1.000000</td>\n",
              "      <td>13.811885</td>\n",
              "      <td>16.889713</td>\n",
              "      <td>52.000000</td>\n",
              "      <td>9.041650</td>\n",
              "      <td>316.250000</td>\n",
              "      <td>2502.250000</td>\n",
              "      <td>3169.750000</td>\n",
              "    </tr>\n",
              "    <tr>\n",
              "      <th>50%</th>\n",
              "      <td>365.500000</td>\n",
              "      <td>3.000000</td>\n",
              "      <td>0.500000</td>\n",
              "      <td>7.000000</td>\n",
              "      <td>0.000000</td>\n",
              "      <td>3.000000</td>\n",
              "      <td>1.000000</td>\n",
              "      <td>1.000000</td>\n",
              "      <td>20.465826</td>\n",
              "      <td>24.368225</td>\n",
              "      <td>62.625000</td>\n",
              "      <td>12.125325</td>\n",
              "      <td>717.000000</td>\n",
              "      <td>3664.500000</td>\n",
              "      <td>4548.500000</td>\n",
              "    </tr>\n",
              "    <tr>\n",
              "      <th>75%</th>\n",
              "      <td>547.750000</td>\n",
              "      <td>3.000000</td>\n",
              "      <td>1.000000</td>\n",
              "      <td>10.000000</td>\n",
              "      <td>0.000000</td>\n",
              "      <td>5.000000</td>\n",
              "      <td>1.000000</td>\n",
              "      <td>2.000000</td>\n",
              "      <td>26.880615</td>\n",
              "      <td>30.445775</td>\n",
              "      <td>72.989575</td>\n",
              "      <td>15.625589</td>\n",
              "      <td>1096.500000</td>\n",
              "      <td>4783.250000</td>\n",
              "      <td>5966.000000</td>\n",
              "    </tr>\n",
              "    <tr>\n",
              "      <th>max</th>\n",
              "      <td>730.000000</td>\n",
              "      <td>4.000000</td>\n",
              "      <td>1.000000</td>\n",
              "      <td>12.000000</td>\n",
              "      <td>1.000000</td>\n",
              "      <td>6.000000</td>\n",
              "      <td>1.000000</td>\n",
              "      <td>3.000000</td>\n",
              "      <td>35.328347</td>\n",
              "      <td>42.044800</td>\n",
              "      <td>97.250000</td>\n",
              "      <td>34.000021</td>\n",
              "      <td>3410.000000</td>\n",
              "      <td>6946.000000</td>\n",
              "      <td>8714.000000</td>\n",
              "    </tr>\n",
              "  </tbody>\n",
              "</table>\n",
              "</div>\n",
              "      <button class=\"colab-df-convert\" onclick=\"convertToInteractive('df-f6b2b105-1e4b-4be3-9e00-d2fd3b8fe883')\"\n",
              "              title=\"Convert this dataframe to an interactive table.\"\n",
              "              style=\"display:none;\">\n",
              "        \n",
              "  <svg xmlns=\"http://www.w3.org/2000/svg\" height=\"24px\"viewBox=\"0 0 24 24\"\n",
              "       width=\"24px\">\n",
              "    <path d=\"M0 0h24v24H0V0z\" fill=\"none\"/>\n",
              "    <path d=\"M18.56 5.44l.94 2.06.94-2.06 2.06-.94-2.06-.94-.94-2.06-.94 2.06-2.06.94zm-11 1L8.5 8.5l.94-2.06 2.06-.94-2.06-.94L8.5 2.5l-.94 2.06-2.06.94zm10 10l.94 2.06.94-2.06 2.06-.94-2.06-.94-.94-2.06-.94 2.06-2.06.94z\"/><path d=\"M17.41 7.96l-1.37-1.37c-.4-.4-.92-.59-1.43-.59-.52 0-1.04.2-1.43.59L10.3 9.45l-7.72 7.72c-.78.78-.78 2.05 0 2.83L4 21.41c.39.39.9.59 1.41.59.51 0 1.02-.2 1.41-.59l7.78-7.78 2.81-2.81c.8-.78.8-2.07 0-2.86zM5.41 20L4 18.59l7.72-7.72 1.47 1.35L5.41 20z\"/>\n",
              "  </svg>\n",
              "      </button>\n",
              "      \n",
              "  <style>\n",
              "    .colab-df-container {\n",
              "      display:flex;\n",
              "      flex-wrap:wrap;\n",
              "      gap: 12px;\n",
              "    }\n",
              "\n",
              "    .colab-df-convert {\n",
              "      background-color: #E8F0FE;\n",
              "      border: none;\n",
              "      border-radius: 50%;\n",
              "      cursor: pointer;\n",
              "      display: none;\n",
              "      fill: #1967D2;\n",
              "      height: 32px;\n",
              "      padding: 0 0 0 0;\n",
              "      width: 32px;\n",
              "    }\n",
              "\n",
              "    .colab-df-convert:hover {\n",
              "      background-color: #E2EBFA;\n",
              "      box-shadow: 0px 1px 2px rgba(60, 64, 67, 0.3), 0px 1px 3px 1px rgba(60, 64, 67, 0.15);\n",
              "      fill: #174EA6;\n",
              "    }\n",
              "\n",
              "    [theme=dark] .colab-df-convert {\n",
              "      background-color: #3B4455;\n",
              "      fill: #D2E3FC;\n",
              "    }\n",
              "\n",
              "    [theme=dark] .colab-df-convert:hover {\n",
              "      background-color: #434B5C;\n",
              "      box-shadow: 0px 1px 3px 1px rgba(0, 0, 0, 0.15);\n",
              "      filter: drop-shadow(0px 1px 2px rgba(0, 0, 0, 0.3));\n",
              "      fill: #FFFFFF;\n",
              "    }\n",
              "  </style>\n",
              "\n",
              "      <script>\n",
              "        const buttonEl =\n",
              "          document.querySelector('#df-f6b2b105-1e4b-4be3-9e00-d2fd3b8fe883 button.colab-df-convert');\n",
              "        buttonEl.style.display =\n",
              "          google.colab.kernel.accessAllowed ? 'block' : 'none';\n",
              "\n",
              "        async function convertToInteractive(key) {\n",
              "          const element = document.querySelector('#df-f6b2b105-1e4b-4be3-9e00-d2fd3b8fe883');\n",
              "          const dataTable =\n",
              "            await google.colab.kernel.invokeFunction('convertToInteractive',\n",
              "                                                     [key], {});\n",
              "          if (!dataTable) return;\n",
              "\n",
              "          const docLinkHtml = 'Like what you see? Visit the ' +\n",
              "            '<a target=\"_blank\" href=https://colab.research.google.com/notebooks/data_table.ipynb>data table notebook</a>'\n",
              "            + ' to learn more about interactive tables.';\n",
              "          element.innerHTML = '';\n",
              "          dataTable['output_type'] = 'display_data';\n",
              "          await google.colab.output.renderOutput(dataTable, element);\n",
              "          const docLink = document.createElement('div');\n",
              "          docLink.innerHTML = docLinkHtml;\n",
              "          element.appendChild(docLink);\n",
              "        }\n",
              "      </script>\n",
              "    </div>\n",
              "  </div>\n",
              "  "
            ]
          },
          "metadata": {},
          "execution_count": 1242
        }
      ]
    },
    {
      "cell_type": "markdown",
      "source": [
        "\n",
        "**Cleaning the data**\n",
        "\n",
        "Check if column is useful in the analysis, if not then drop the column"
      ],
      "metadata": {
        "id": "O2tsQSnkBs_I"
      }
    },
    {
      "cell_type": "code",
      "source": [
        "rides.columns"
      ],
      "metadata": {
        "colab": {
          "base_uri": "https://localhost:8080/"
        },
        "id": "yvWD31kXcKnD",
        "outputId": "c86f7635-a704-4034-a56a-c1c1d6970331"
      },
      "execution_count": 1243,
      "outputs": [
        {
          "output_type": "execute_result",
          "data": {
            "text/plain": [
              "Index(['instant', 'dteday', 'season', 'yr', 'mnth', 'holiday', 'weekday',\n",
              "       'workingday', 'weathersit', 'temp', 'atemp', 'hum', 'windspeed',\n",
              "       'casual', 'registered', 'cnt'],\n",
              "      dtype='object')"
            ]
          },
          "metadata": {},
          "execution_count": 1243
        }
      ]
    },
    {
      "cell_type": "markdown",
      "source": [
        "\n",
        "*   Instant is a serial number so we can drop the column.\n",
        "*   We will drop casual and registered as we already have count (cnt)\n",
        "*   Dropping dteday as we have month and year\n",
        "\n",
        "\n"
      ],
      "metadata": {
        "id": "fvxHmU2SCSKv"
      }
    },
    {
      "cell_type": "code",
      "source": [
        "rides.drop(['instant', 'dteday', 'casual', 'registered'], axis=1, inplace=True)"
      ],
      "metadata": {
        "id": "RzLDikPAfWL_"
      },
      "execution_count": 1244,
      "outputs": []
    },
    {
      "cell_type": "code",
      "source": [
        "rides.columns"
      ],
      "metadata": {
        "colab": {
          "base_uri": "https://localhost:8080/"
        },
        "id": "8rGaSNlbfk2c",
        "outputId": "bc614b55-53c0-4f60-997f-3fce6d4edff7"
      },
      "execution_count": 1245,
      "outputs": [
        {
          "output_type": "execute_result",
          "data": {
            "text/plain": [
              "Index(['season', 'yr', 'mnth', 'holiday', 'weekday', 'workingday',\n",
              "       'weathersit', 'temp', 'atemp', 'hum', 'windspeed', 'cnt'],\n",
              "      dtype='object')"
            ]
          },
          "metadata": {},
          "execution_count": 1245
        }
      ]
    },
    {
      "cell_type": "markdown",
      "source": [
        "Renaming column names to proper names"
      ],
      "metadata": {
        "id": "j_gY_EpofKbz"
      }
    },
    {
      "cell_type": "code",
      "source": [
        "rides.rename(columns = {'yr':'year','mnth':'month','hum':'humidity'}, inplace=True)\n",
        "rides.columns"
      ],
      "metadata": {
        "colab": {
          "base_uri": "https://localhost:8080/"
        },
        "id": "405P4rWHdlCY",
        "outputId": "65344abb-2e7f-43f6-d8fe-17a2f675c5b2"
      },
      "execution_count": 1246,
      "outputs": [
        {
          "output_type": "execute_result",
          "data": {
            "text/plain": [
              "Index(['season', 'year', 'month', 'holiday', 'weekday', 'workingday',\n",
              "       'weathersit', 'temp', 'atemp', 'humidity', 'windspeed', 'cnt'],\n",
              "      dtype='object')"
            ]
          },
          "metadata": {},
          "execution_count": 1246
        }
      ]
    },
    {
      "cell_type": "code",
      "source": [
        "rides['weathersit'].value_counts()"
      ],
      "metadata": {
        "colab": {
          "base_uri": "https://localhost:8080/"
        },
        "id": "HUmFpQ_F4V8D",
        "outputId": "5340ef3a-7d77-493f-bf6b-6ec042732c41"
      },
      "execution_count": 1247,
      "outputs": [
        {
          "output_type": "execute_result",
          "data": {
            "text/plain": [
              "1    463\n",
              "2    246\n",
              "3     21\n",
              "Name: weathersit, dtype: int64"
            ]
          },
          "metadata": {},
          "execution_count": 1247
        }
      ]
    },
    {
      "cell_type": "markdown",
      "source": [
        "We will change the category values to sub category names"
      ],
      "metadata": {
        "id": "6JiNPumi--WU"
      }
    },
    {
      "cell_type": "code",
      "source": [
        "rides['season'] = rides['season'].map({1:'spring', 2:'summer', 3:'fall', 4:'winter'})\n",
        "rides['month'] = rides['month'].map({1: 'Jan', 2: 'Feb', 3:'Mar',4:'Apr', 5:'May', 6:'Jun', 7:'Jul', 8: 'Aug', 9:'Sep', 10: 'Oct',11: 'Nov', 12:'Dec'})\n",
        "rides['weathersit'] = rides['weathersit'].map({1: 'Clear', 2:'Mist + Cloudy', 3: 'Light Snow', 4: 'Heavy Rain'})\n",
        "rides['weekday'] = rides['weekday'].map({0: 'Sun', 1: 'Mon', 2:'Tue', 3:'Wed', 4:'Thu', 5: 'Fri', 6:'Sat'})"
      ],
      "metadata": {
        "id": "KbaF7yT0_daR"
      },
      "execution_count": 1248,
      "outputs": []
    },
    {
      "cell_type": "code",
      "source": [
        "rides.head(10)"
      ],
      "metadata": {
        "colab": {
          "base_uri": "https://localhost:8080/",
          "height": 363
        },
        "id": "NaikCpUggDYJ",
        "outputId": "39042cf1-75d6-4be2-8bcf-45bd06f07f99"
      },
      "execution_count": 1249,
      "outputs": [
        {
          "output_type": "execute_result",
          "data": {
            "text/plain": [
              "   season  year month  holiday weekday  workingday     weathersit       temp  \\\n",
              "0  spring     0   Jan        0     Sat           0  Mist + Cloudy  14.110847   \n",
              "1  spring     0   Jan        0     Sun           0  Mist + Cloudy  14.902598   \n",
              "2  spring     0   Jan        0     Mon           1          Clear   8.050924   \n",
              "3  spring     0   Jan        0     Tue           1          Clear   8.200000   \n",
              "4  spring     0   Jan        0     Wed           1          Clear   9.305237   \n",
              "5  spring     0   Jan        0     Thu           1          Clear   8.378268   \n",
              "6  spring     0   Jan        0     Fri           1  Mist + Cloudy   8.057402   \n",
              "7  spring     0   Jan        0     Sat           0  Mist + Cloudy   6.765000   \n",
              "8  spring     0   Jan        0     Sun           0          Clear   5.671653   \n",
              "9  spring     0   Jan        0     Mon           1          Clear   6.184153   \n",
              "\n",
              "      atemp  humidity  windspeed   cnt  \n",
              "0  18.18125   80.5833  10.749882   985  \n",
              "1  17.68695   69.6087  16.652113   801  \n",
              "2   9.47025   43.7273  16.636703  1349  \n",
              "3  10.60610   59.0435  10.739832  1562  \n",
              "4  11.46350   43.6957  12.522300  1600  \n",
              "5  11.66045   51.8261   6.000868  1606  \n",
              "6  10.44195   49.8696  11.304642  1510  \n",
              "7   8.11270   53.5833  17.875868   959  \n",
              "8   5.80875   43.4167  24.250650   822  \n",
              "9   7.54440   48.2917  14.958889  1321  "
            ],
            "text/html": [
              "\n",
              "  <div id=\"df-c393d760-0685-4d75-b26b-485fdf0a4bc1\">\n",
              "    <div class=\"colab-df-container\">\n",
              "      <div>\n",
              "<style scoped>\n",
              "    .dataframe tbody tr th:only-of-type {\n",
              "        vertical-align: middle;\n",
              "    }\n",
              "\n",
              "    .dataframe tbody tr th {\n",
              "        vertical-align: top;\n",
              "    }\n",
              "\n",
              "    .dataframe thead th {\n",
              "        text-align: right;\n",
              "    }\n",
              "</style>\n",
              "<table border=\"1\" class=\"dataframe\">\n",
              "  <thead>\n",
              "    <tr style=\"text-align: right;\">\n",
              "      <th></th>\n",
              "      <th>season</th>\n",
              "      <th>year</th>\n",
              "      <th>month</th>\n",
              "      <th>holiday</th>\n",
              "      <th>weekday</th>\n",
              "      <th>workingday</th>\n",
              "      <th>weathersit</th>\n",
              "      <th>temp</th>\n",
              "      <th>atemp</th>\n",
              "      <th>humidity</th>\n",
              "      <th>windspeed</th>\n",
              "      <th>cnt</th>\n",
              "    </tr>\n",
              "  </thead>\n",
              "  <tbody>\n",
              "    <tr>\n",
              "      <th>0</th>\n",
              "      <td>spring</td>\n",
              "      <td>0</td>\n",
              "      <td>Jan</td>\n",
              "      <td>0</td>\n",
              "      <td>Sat</td>\n",
              "      <td>0</td>\n",
              "      <td>Mist + Cloudy</td>\n",
              "      <td>14.110847</td>\n",
              "      <td>18.18125</td>\n",
              "      <td>80.5833</td>\n",
              "      <td>10.749882</td>\n",
              "      <td>985</td>\n",
              "    </tr>\n",
              "    <tr>\n",
              "      <th>1</th>\n",
              "      <td>spring</td>\n",
              "      <td>0</td>\n",
              "      <td>Jan</td>\n",
              "      <td>0</td>\n",
              "      <td>Sun</td>\n",
              "      <td>0</td>\n",
              "      <td>Mist + Cloudy</td>\n",
              "      <td>14.902598</td>\n",
              "      <td>17.68695</td>\n",
              "      <td>69.6087</td>\n",
              "      <td>16.652113</td>\n",
              "      <td>801</td>\n",
              "    </tr>\n",
              "    <tr>\n",
              "      <th>2</th>\n",
              "      <td>spring</td>\n",
              "      <td>0</td>\n",
              "      <td>Jan</td>\n",
              "      <td>0</td>\n",
              "      <td>Mon</td>\n",
              "      <td>1</td>\n",
              "      <td>Clear</td>\n",
              "      <td>8.050924</td>\n",
              "      <td>9.47025</td>\n",
              "      <td>43.7273</td>\n",
              "      <td>16.636703</td>\n",
              "      <td>1349</td>\n",
              "    </tr>\n",
              "    <tr>\n",
              "      <th>3</th>\n",
              "      <td>spring</td>\n",
              "      <td>0</td>\n",
              "      <td>Jan</td>\n",
              "      <td>0</td>\n",
              "      <td>Tue</td>\n",
              "      <td>1</td>\n",
              "      <td>Clear</td>\n",
              "      <td>8.200000</td>\n",
              "      <td>10.60610</td>\n",
              "      <td>59.0435</td>\n",
              "      <td>10.739832</td>\n",
              "      <td>1562</td>\n",
              "    </tr>\n",
              "    <tr>\n",
              "      <th>4</th>\n",
              "      <td>spring</td>\n",
              "      <td>0</td>\n",
              "      <td>Jan</td>\n",
              "      <td>0</td>\n",
              "      <td>Wed</td>\n",
              "      <td>1</td>\n",
              "      <td>Clear</td>\n",
              "      <td>9.305237</td>\n",
              "      <td>11.46350</td>\n",
              "      <td>43.6957</td>\n",
              "      <td>12.522300</td>\n",
              "      <td>1600</td>\n",
              "    </tr>\n",
              "    <tr>\n",
              "      <th>5</th>\n",
              "      <td>spring</td>\n",
              "      <td>0</td>\n",
              "      <td>Jan</td>\n",
              "      <td>0</td>\n",
              "      <td>Thu</td>\n",
              "      <td>1</td>\n",
              "      <td>Clear</td>\n",
              "      <td>8.378268</td>\n",
              "      <td>11.66045</td>\n",
              "      <td>51.8261</td>\n",
              "      <td>6.000868</td>\n",
              "      <td>1606</td>\n",
              "    </tr>\n",
              "    <tr>\n",
              "      <th>6</th>\n",
              "      <td>spring</td>\n",
              "      <td>0</td>\n",
              "      <td>Jan</td>\n",
              "      <td>0</td>\n",
              "      <td>Fri</td>\n",
              "      <td>1</td>\n",
              "      <td>Mist + Cloudy</td>\n",
              "      <td>8.057402</td>\n",
              "      <td>10.44195</td>\n",
              "      <td>49.8696</td>\n",
              "      <td>11.304642</td>\n",
              "      <td>1510</td>\n",
              "    </tr>\n",
              "    <tr>\n",
              "      <th>7</th>\n",
              "      <td>spring</td>\n",
              "      <td>0</td>\n",
              "      <td>Jan</td>\n",
              "      <td>0</td>\n",
              "      <td>Sat</td>\n",
              "      <td>0</td>\n",
              "      <td>Mist + Cloudy</td>\n",
              "      <td>6.765000</td>\n",
              "      <td>8.11270</td>\n",
              "      <td>53.5833</td>\n",
              "      <td>17.875868</td>\n",
              "      <td>959</td>\n",
              "    </tr>\n",
              "    <tr>\n",
              "      <th>8</th>\n",
              "      <td>spring</td>\n",
              "      <td>0</td>\n",
              "      <td>Jan</td>\n",
              "      <td>0</td>\n",
              "      <td>Sun</td>\n",
              "      <td>0</td>\n",
              "      <td>Clear</td>\n",
              "      <td>5.671653</td>\n",
              "      <td>5.80875</td>\n",
              "      <td>43.4167</td>\n",
              "      <td>24.250650</td>\n",
              "      <td>822</td>\n",
              "    </tr>\n",
              "    <tr>\n",
              "      <th>9</th>\n",
              "      <td>spring</td>\n",
              "      <td>0</td>\n",
              "      <td>Jan</td>\n",
              "      <td>0</td>\n",
              "      <td>Mon</td>\n",
              "      <td>1</td>\n",
              "      <td>Clear</td>\n",
              "      <td>6.184153</td>\n",
              "      <td>7.54440</td>\n",
              "      <td>48.2917</td>\n",
              "      <td>14.958889</td>\n",
              "      <td>1321</td>\n",
              "    </tr>\n",
              "  </tbody>\n",
              "</table>\n",
              "</div>\n",
              "      <button class=\"colab-df-convert\" onclick=\"convertToInteractive('df-c393d760-0685-4d75-b26b-485fdf0a4bc1')\"\n",
              "              title=\"Convert this dataframe to an interactive table.\"\n",
              "              style=\"display:none;\">\n",
              "        \n",
              "  <svg xmlns=\"http://www.w3.org/2000/svg\" height=\"24px\"viewBox=\"0 0 24 24\"\n",
              "       width=\"24px\">\n",
              "    <path d=\"M0 0h24v24H0V0z\" fill=\"none\"/>\n",
              "    <path d=\"M18.56 5.44l.94 2.06.94-2.06 2.06-.94-2.06-.94-.94-2.06-.94 2.06-2.06.94zm-11 1L8.5 8.5l.94-2.06 2.06-.94-2.06-.94L8.5 2.5l-.94 2.06-2.06.94zm10 10l.94 2.06.94-2.06 2.06-.94-2.06-.94-.94-2.06-.94 2.06-2.06.94z\"/><path d=\"M17.41 7.96l-1.37-1.37c-.4-.4-.92-.59-1.43-.59-.52 0-1.04.2-1.43.59L10.3 9.45l-7.72 7.72c-.78.78-.78 2.05 0 2.83L4 21.41c.39.39.9.59 1.41.59.51 0 1.02-.2 1.41-.59l7.78-7.78 2.81-2.81c.8-.78.8-2.07 0-2.86zM5.41 20L4 18.59l7.72-7.72 1.47 1.35L5.41 20z\"/>\n",
              "  </svg>\n",
              "      </button>\n",
              "      \n",
              "  <style>\n",
              "    .colab-df-container {\n",
              "      display:flex;\n",
              "      flex-wrap:wrap;\n",
              "      gap: 12px;\n",
              "    }\n",
              "\n",
              "    .colab-df-convert {\n",
              "      background-color: #E8F0FE;\n",
              "      border: none;\n",
              "      border-radius: 50%;\n",
              "      cursor: pointer;\n",
              "      display: none;\n",
              "      fill: #1967D2;\n",
              "      height: 32px;\n",
              "      padding: 0 0 0 0;\n",
              "      width: 32px;\n",
              "    }\n",
              "\n",
              "    .colab-df-convert:hover {\n",
              "      background-color: #E2EBFA;\n",
              "      box-shadow: 0px 1px 2px rgba(60, 64, 67, 0.3), 0px 1px 3px 1px rgba(60, 64, 67, 0.15);\n",
              "      fill: #174EA6;\n",
              "    }\n",
              "\n",
              "    [theme=dark] .colab-df-convert {\n",
              "      background-color: #3B4455;\n",
              "      fill: #D2E3FC;\n",
              "    }\n",
              "\n",
              "    [theme=dark] .colab-df-convert:hover {\n",
              "      background-color: #434B5C;\n",
              "      box-shadow: 0px 1px 3px 1px rgba(0, 0, 0, 0.15);\n",
              "      filter: drop-shadow(0px 1px 2px rgba(0, 0, 0, 0.3));\n",
              "      fill: #FFFFFF;\n",
              "    }\n",
              "  </style>\n",
              "\n",
              "      <script>\n",
              "        const buttonEl =\n",
              "          document.querySelector('#df-c393d760-0685-4d75-b26b-485fdf0a4bc1 button.colab-df-convert');\n",
              "        buttonEl.style.display =\n",
              "          google.colab.kernel.accessAllowed ? 'block' : 'none';\n",
              "\n",
              "        async function convertToInteractive(key) {\n",
              "          const element = document.querySelector('#df-c393d760-0685-4d75-b26b-485fdf0a4bc1');\n",
              "          const dataTable =\n",
              "            await google.colab.kernel.invokeFunction('convertToInteractive',\n",
              "                                                     [key], {});\n",
              "          if (!dataTable) return;\n",
              "\n",
              "          const docLinkHtml = 'Like what you see? Visit the ' +\n",
              "            '<a target=\"_blank\" href=https://colab.research.google.com/notebooks/data_table.ipynb>data table notebook</a>'\n",
              "            + ' to learn more about interactive tables.';\n",
              "          element.innerHTML = '';\n",
              "          dataTable['output_type'] = 'display_data';\n",
              "          await google.colab.output.renderOutput(dataTable, element);\n",
              "          const docLink = document.createElement('div');\n",
              "          docLink.innerHTML = docLinkHtml;\n",
              "          element.appendChild(docLink);\n",
              "        }\n",
              "      </script>\n",
              "    </div>\n",
              "  </div>\n",
              "  "
            ]
          },
          "metadata": {},
          "execution_count": 1249
        }
      ]
    },
    {
      "cell_type": "markdown",
      "source": [
        "We will next check for outliers using a box plot"
      ],
      "metadata": {
        "id": "KcvNDgWLhd5C"
      }
    },
    {
      "cell_type": "code",
      "source": [
        "box_count = px.box(data_frame= rides, y='cnt')\n",
        "box_count.update_layout(bargap=0.2, title=\"Distribution of bike sharing count\")\n",
        "box_count.show()"
      ],
      "metadata": {
        "colab": {
          "base_uri": "https://localhost:8080/",
          "height": 542
        },
        "id": "xFk3PJ6_nQDy",
        "outputId": "16f4d99f-c65f-4c8d-a6db-e0a906653f47"
      },
      "execution_count": 1250,
      "outputs": [
        {
          "output_type": "display_data",
          "data": {
            "text/html": [
              "<html>\n",
              "<head><meta charset=\"utf-8\" /></head>\n",
              "<body>\n",
              "    <div>            <script src=\"https://cdnjs.cloudflare.com/ajax/libs/mathjax/2.7.5/MathJax.js?config=TeX-AMS-MML_SVG\"></script><script type=\"text/javascript\">if (window.MathJax) {MathJax.Hub.Config({SVG: {font: \"STIX-Web\"}});}</script>                <script type=\"text/javascript\">window.PlotlyConfig = {MathJaxConfig: 'local'};</script>\n",
              "        <script src=\"https://cdn.plot.ly/plotly-2.8.3.min.js\"></script>                <div id=\"07dead1b-5953-474a-b589-89d6e8814f76\" class=\"plotly-graph-div\" style=\"height:525px; width:100%;\"></div>            <script type=\"text/javascript\">                                    window.PLOTLYENV=window.PLOTLYENV || {};                                    if (document.getElementById(\"07dead1b-5953-474a-b589-89d6e8814f76\")) {                    Plotly.newPlot(                        \"07dead1b-5953-474a-b589-89d6e8814f76\",                        [{\"alignmentgroup\":\"True\",\"hovertemplate\":\"cnt=%{y}<extra></extra>\",\"legendgroup\":\"\",\"marker\":{\"color\":\"#636efa\"},\"name\":\"\",\"notched\":false,\"offsetgroup\":\"\",\"orientation\":\"v\",\"showlegend\":false,\"x0\":\" \",\"xaxis\":\"x\",\"y\":[985,801,1349,1562,1600,1606,1510,959,822,1321,1263,1162,1406,1421,1248,1204,1000,683,1650,1927,1543,981,986,1416,1985,506,431,1167,1098,1096,1501,1360,1526,1550,1708,1005,1623,1712,1530,1605,1538,1746,1472,1589,1913,1815,2115,2475,2927,1635,1812,1107,1450,1917,1807,1461,1969,2402,1446,1851,2134,1685,1944,2077,605,1872,2133,1891,623,1977,2132,2417,2046,2056,2192,2744,3239,3117,2471,2077,2703,2121,1865,2210,2496,1693,2028,2425,1536,1685,2227,2252,3249,3115,1795,2808,3141,1471,2455,2895,3348,2034,2162,3267,3126,795,3744,3429,3204,3944,4189,1683,4036,4191,4073,4400,3872,4058,4595,5312,3351,4401,4451,2633,4433,4608,4714,4333,4362,4803,4182,4864,4105,3409,4553,3958,4123,3855,4575,4917,5805,4660,4274,4492,4978,4677,4679,4758,4788,4098,3982,3974,4968,5312,5342,4906,4548,4833,4401,3915,4586,4966,4460,5020,4891,5180,3767,4844,5119,4744,4010,4835,4507,4790,4991,5202,5305,4708,4648,5225,5515,5362,5119,4649,6043,4665,4629,4592,4040,5336,4881,4086,4258,4342,5084,5538,5923,5302,4458,4541,4332,3784,3387,3285,3606,3840,4590,4656,4390,3846,4475,4302,4266,4845,3574,4576,4866,4294,3785,4326,4602,4780,4792,4905,4150,3820,4338,4725,4694,3805,4153,5191,3873,4758,5895,5130,3542,4661,1115,4334,4634,5204,5058,5115,4727,4484,4940,3351,2710,1996,1842,3544,5345,5046,4713,4763,4785,3659,4760,4511,4274,4539,3641,4352,4795,2395,5423,5010,4630,4120,3907,4839,5202,2429,2918,3570,4456,4826,4765,4985,5409,5511,5117,4563,2416,2913,3644,5217,5041,4570,4748,2424,4195,4304,4308,4381,4187,4687,3894,2659,3747,627,3331,3669,4068,4186,3974,4046,3926,3649,4035,4205,4109,2933,3368,4067,3717,4486,4195,1817,3053,3392,3663,3520,2765,1607,2566,1495,2792,3068,3071,3867,2914,3613,3727,3940,3614,3485,3811,2594,705,3322,3620,3190,2743,3310,3523,3740,3709,3577,2739,2431,3403,3750,2660,3068,2209,1011,754,1317,1162,2302,2423,2999,2485,2294,1951,2236,2368,3272,4098,4521,3425,2376,3598,2177,4097,3214,2493,2311,2298,2935,3376,3292,3163,1301,1977,2432,4339,4270,4075,3456,4023,3243,3624,4509,4579,3761,4151,2832,2947,3784,4375,2802,3830,3831,2169,1529,3422,3922,4169,3005,4154,4318,2689,3129,3777,4773,5062,3487,2732,3389,4322,4363,4990,3194,4066,3423,3333,3956,4916,5382,4569,4118,4911,5298,5847,6312,6192,4378,7836,5892,6153,6093,6230,6871,8362,3372,4996,5558,5102,5698,6133,5459,6235,6041,5936,6772,6436,6457,6460,6857,5169,5585,5918,4862,5409,6398,7460,7132,6370,6691,4367,6565,7290,6624,1027,3214,5633,6196,5026,6233,4220,6304,5572,5740,6169,6421,6296,6883,6359,6273,5728,4717,6572,7030,7429,6118,2843,5115,7424,7384,7639,8294,7129,4359,6073,5260,6770,6734,6536,6591,6043,5743,6855,7338,4127,8120,7641,6998,7001,7055,7494,7736,7498,6598,6664,4972,7421,7363,7665,7702,6978,5099,6825,6211,5905,5823,7458,6891,6779,7442,7335,6879,5463,5687,5531,6227,6660,7403,6241,6207,4840,4672,6569,6290,7264,7446,7499,6969,6031,6830,6786,5713,6591,5870,4459,7410,6966,7592,8173,6861,6904,6685,6597,7105,7216,7580,7261,7175,6824,5464,7013,7273,7534,7286,5786,6299,6544,6883,6784,7347,7605,7148,7865,4549,6530,7006,7375,7765,7582,6053,5255,6917,7040,7697,7713,7350,6140,5810,6034,6864,7112,6203,7504,5976,8227,7525,7767,7870,7804,8009,8714,7333,6869,4073,7591,7720,8167,8395,7907,7436,7538,7733,7393,7415,8555,6889,6778,4639,7572,7328,8156,7965,3510,5478,6392,7691,7570,7282,7109,6639,5875,7534,7461,7509,5424,8090,6824,7058,7466,7693,7359,7444,7852,4459,22,1096,5566,5986,5847,5138,5107,5259,5686,5035,5315,5992,6536,6852,6269,4094,5495,5445,5698,5629,4669,5499,5634,5146,2425,3910,2277,2424,5087,3959,5260,5323,5668,5191,4649,6234,6606,5729,5375,5008,5582,3228,5170,5501,5319,5532,5611,5047,3786,4585,5557,5267,4128,3623,1749,1787,920,1013,441,2114,3095,1341,1796,2729],\"y0\":\" \",\"yaxis\":\"y\",\"type\":\"box\"}],                        {\"template\":{\"data\":{\"bar\":[{\"error_x\":{\"color\":\"#2a3f5f\"},\"error_y\":{\"color\":\"#2a3f5f\"},\"marker\":{\"line\":{\"color\":\"#E5ECF6\",\"width\":0.5},\"pattern\":{\"fillmode\":\"overlay\",\"size\":10,\"solidity\":0.2}},\"type\":\"bar\"}],\"barpolar\":[{\"marker\":{\"line\":{\"color\":\"#E5ECF6\",\"width\":0.5},\"pattern\":{\"fillmode\":\"overlay\",\"size\":10,\"solidity\":0.2}},\"type\":\"barpolar\"}],\"carpet\":[{\"aaxis\":{\"endlinecolor\":\"#2a3f5f\",\"gridcolor\":\"white\",\"linecolor\":\"white\",\"minorgridcolor\":\"white\",\"startlinecolor\":\"#2a3f5f\"},\"baxis\":{\"endlinecolor\":\"#2a3f5f\",\"gridcolor\":\"white\",\"linecolor\":\"white\",\"minorgridcolor\":\"white\",\"startlinecolor\":\"#2a3f5f\"},\"type\":\"carpet\"}],\"choropleth\":[{\"colorbar\":{\"outlinewidth\":0,\"ticks\":\"\"},\"type\":\"choropleth\"}],\"contour\":[{\"colorbar\":{\"outlinewidth\":0,\"ticks\":\"\"},\"colorscale\":[[0.0,\"#0d0887\"],[0.1111111111111111,\"#46039f\"],[0.2222222222222222,\"#7201a8\"],[0.3333333333333333,\"#9c179e\"],[0.4444444444444444,\"#bd3786\"],[0.5555555555555556,\"#d8576b\"],[0.6666666666666666,\"#ed7953\"],[0.7777777777777778,\"#fb9f3a\"],[0.8888888888888888,\"#fdca26\"],[1.0,\"#f0f921\"]],\"type\":\"contour\"}],\"contourcarpet\":[{\"colorbar\":{\"outlinewidth\":0,\"ticks\":\"\"},\"type\":\"contourcarpet\"}],\"heatmap\":[{\"colorbar\":{\"outlinewidth\":0,\"ticks\":\"\"},\"colorscale\":[[0.0,\"#0d0887\"],[0.1111111111111111,\"#46039f\"],[0.2222222222222222,\"#7201a8\"],[0.3333333333333333,\"#9c179e\"],[0.4444444444444444,\"#bd3786\"],[0.5555555555555556,\"#d8576b\"],[0.6666666666666666,\"#ed7953\"],[0.7777777777777778,\"#fb9f3a\"],[0.8888888888888888,\"#fdca26\"],[1.0,\"#f0f921\"]],\"type\":\"heatmap\"}],\"heatmapgl\":[{\"colorbar\":{\"outlinewidth\":0,\"ticks\":\"\"},\"colorscale\":[[0.0,\"#0d0887\"],[0.1111111111111111,\"#46039f\"],[0.2222222222222222,\"#7201a8\"],[0.3333333333333333,\"#9c179e\"],[0.4444444444444444,\"#bd3786\"],[0.5555555555555556,\"#d8576b\"],[0.6666666666666666,\"#ed7953\"],[0.7777777777777778,\"#fb9f3a\"],[0.8888888888888888,\"#fdca26\"],[1.0,\"#f0f921\"]],\"type\":\"heatmapgl\"}],\"histogram\":[{\"marker\":{\"pattern\":{\"fillmode\":\"overlay\",\"size\":10,\"solidity\":0.2}},\"type\":\"histogram\"}],\"histogram2d\":[{\"colorbar\":{\"outlinewidth\":0,\"ticks\":\"\"},\"colorscale\":[[0.0,\"#0d0887\"],[0.1111111111111111,\"#46039f\"],[0.2222222222222222,\"#7201a8\"],[0.3333333333333333,\"#9c179e\"],[0.4444444444444444,\"#bd3786\"],[0.5555555555555556,\"#d8576b\"],[0.6666666666666666,\"#ed7953\"],[0.7777777777777778,\"#fb9f3a\"],[0.8888888888888888,\"#fdca26\"],[1.0,\"#f0f921\"]],\"type\":\"histogram2d\"}],\"histogram2dcontour\":[{\"colorbar\":{\"outlinewidth\":0,\"ticks\":\"\"},\"colorscale\":[[0.0,\"#0d0887\"],[0.1111111111111111,\"#46039f\"],[0.2222222222222222,\"#7201a8\"],[0.3333333333333333,\"#9c179e\"],[0.4444444444444444,\"#bd3786\"],[0.5555555555555556,\"#d8576b\"],[0.6666666666666666,\"#ed7953\"],[0.7777777777777778,\"#fb9f3a\"],[0.8888888888888888,\"#fdca26\"],[1.0,\"#f0f921\"]],\"type\":\"histogram2dcontour\"}],\"mesh3d\":[{\"colorbar\":{\"outlinewidth\":0,\"ticks\":\"\"},\"type\":\"mesh3d\"}],\"parcoords\":[{\"line\":{\"colorbar\":{\"outlinewidth\":0,\"ticks\":\"\"}},\"type\":\"parcoords\"}],\"pie\":[{\"automargin\":true,\"type\":\"pie\"}],\"scatter\":[{\"marker\":{\"colorbar\":{\"outlinewidth\":0,\"ticks\":\"\"}},\"type\":\"scatter\"}],\"scatter3d\":[{\"line\":{\"colorbar\":{\"outlinewidth\":0,\"ticks\":\"\"}},\"marker\":{\"colorbar\":{\"outlinewidth\":0,\"ticks\":\"\"}},\"type\":\"scatter3d\"}],\"scattercarpet\":[{\"marker\":{\"colorbar\":{\"outlinewidth\":0,\"ticks\":\"\"}},\"type\":\"scattercarpet\"}],\"scattergeo\":[{\"marker\":{\"colorbar\":{\"outlinewidth\":0,\"ticks\":\"\"}},\"type\":\"scattergeo\"}],\"scattergl\":[{\"marker\":{\"colorbar\":{\"outlinewidth\":0,\"ticks\":\"\"}},\"type\":\"scattergl\"}],\"scattermapbox\":[{\"marker\":{\"colorbar\":{\"outlinewidth\":0,\"ticks\":\"\"}},\"type\":\"scattermapbox\"}],\"scatterpolar\":[{\"marker\":{\"colorbar\":{\"outlinewidth\":0,\"ticks\":\"\"}},\"type\":\"scatterpolar\"}],\"scatterpolargl\":[{\"marker\":{\"colorbar\":{\"outlinewidth\":0,\"ticks\":\"\"}},\"type\":\"scatterpolargl\"}],\"scatterternary\":[{\"marker\":{\"colorbar\":{\"outlinewidth\":0,\"ticks\":\"\"}},\"type\":\"scatterternary\"}],\"surface\":[{\"colorbar\":{\"outlinewidth\":0,\"ticks\":\"\"},\"colorscale\":[[0.0,\"#0d0887\"],[0.1111111111111111,\"#46039f\"],[0.2222222222222222,\"#7201a8\"],[0.3333333333333333,\"#9c179e\"],[0.4444444444444444,\"#bd3786\"],[0.5555555555555556,\"#d8576b\"],[0.6666666666666666,\"#ed7953\"],[0.7777777777777778,\"#fb9f3a\"],[0.8888888888888888,\"#fdca26\"],[1.0,\"#f0f921\"]],\"type\":\"surface\"}],\"table\":[{\"cells\":{\"fill\":{\"color\":\"#EBF0F8\"},\"line\":{\"color\":\"white\"}},\"header\":{\"fill\":{\"color\":\"#C8D4E3\"},\"line\":{\"color\":\"white\"}},\"type\":\"table\"}]},\"layout\":{\"annotationdefaults\":{\"arrowcolor\":\"#2a3f5f\",\"arrowhead\":0,\"arrowwidth\":1},\"autotypenumbers\":\"strict\",\"coloraxis\":{\"colorbar\":{\"outlinewidth\":0,\"ticks\":\"\"}},\"colorscale\":{\"diverging\":[[0,\"#8e0152\"],[0.1,\"#c51b7d\"],[0.2,\"#de77ae\"],[0.3,\"#f1b6da\"],[0.4,\"#fde0ef\"],[0.5,\"#f7f7f7\"],[0.6,\"#e6f5d0\"],[0.7,\"#b8e186\"],[0.8,\"#7fbc41\"],[0.9,\"#4d9221\"],[1,\"#276419\"]],\"sequential\":[[0.0,\"#0d0887\"],[0.1111111111111111,\"#46039f\"],[0.2222222222222222,\"#7201a8\"],[0.3333333333333333,\"#9c179e\"],[0.4444444444444444,\"#bd3786\"],[0.5555555555555556,\"#d8576b\"],[0.6666666666666666,\"#ed7953\"],[0.7777777777777778,\"#fb9f3a\"],[0.8888888888888888,\"#fdca26\"],[1.0,\"#f0f921\"]],\"sequentialminus\":[[0.0,\"#0d0887\"],[0.1111111111111111,\"#46039f\"],[0.2222222222222222,\"#7201a8\"],[0.3333333333333333,\"#9c179e\"],[0.4444444444444444,\"#bd3786\"],[0.5555555555555556,\"#d8576b\"],[0.6666666666666666,\"#ed7953\"],[0.7777777777777778,\"#fb9f3a\"],[0.8888888888888888,\"#fdca26\"],[1.0,\"#f0f921\"]]},\"colorway\":[\"#636efa\",\"#EF553B\",\"#00cc96\",\"#ab63fa\",\"#FFA15A\",\"#19d3f3\",\"#FF6692\",\"#B6E880\",\"#FF97FF\",\"#FECB52\"],\"font\":{\"color\":\"#2a3f5f\"},\"geo\":{\"bgcolor\":\"white\",\"lakecolor\":\"white\",\"landcolor\":\"#E5ECF6\",\"showlakes\":true,\"showland\":true,\"subunitcolor\":\"white\"},\"hoverlabel\":{\"align\":\"left\"},\"hovermode\":\"closest\",\"mapbox\":{\"style\":\"light\"},\"paper_bgcolor\":\"white\",\"plot_bgcolor\":\"#E5ECF6\",\"polar\":{\"angularaxis\":{\"gridcolor\":\"white\",\"linecolor\":\"white\",\"ticks\":\"\"},\"bgcolor\":\"#E5ECF6\",\"radialaxis\":{\"gridcolor\":\"white\",\"linecolor\":\"white\",\"ticks\":\"\"}},\"scene\":{\"xaxis\":{\"backgroundcolor\":\"#E5ECF6\",\"gridcolor\":\"white\",\"gridwidth\":2,\"linecolor\":\"white\",\"showbackground\":true,\"ticks\":\"\",\"zerolinecolor\":\"white\"},\"yaxis\":{\"backgroundcolor\":\"#E5ECF6\",\"gridcolor\":\"white\",\"gridwidth\":2,\"linecolor\":\"white\",\"showbackground\":true,\"ticks\":\"\",\"zerolinecolor\":\"white\"},\"zaxis\":{\"backgroundcolor\":\"#E5ECF6\",\"gridcolor\":\"white\",\"gridwidth\":2,\"linecolor\":\"white\",\"showbackground\":true,\"ticks\":\"\",\"zerolinecolor\":\"white\"}},\"shapedefaults\":{\"line\":{\"color\":\"#2a3f5f\"}},\"ternary\":{\"aaxis\":{\"gridcolor\":\"white\",\"linecolor\":\"white\",\"ticks\":\"\"},\"baxis\":{\"gridcolor\":\"white\",\"linecolor\":\"white\",\"ticks\":\"\"},\"bgcolor\":\"#E5ECF6\",\"caxis\":{\"gridcolor\":\"white\",\"linecolor\":\"white\",\"ticks\":\"\"}},\"title\":{\"x\":0.05},\"xaxis\":{\"automargin\":true,\"gridcolor\":\"white\",\"linecolor\":\"white\",\"ticks\":\"\",\"title\":{\"standoff\":15},\"zerolinecolor\":\"white\",\"zerolinewidth\":2},\"yaxis\":{\"automargin\":true,\"gridcolor\":\"white\",\"linecolor\":\"white\",\"ticks\":\"\",\"title\":{\"standoff\":15},\"zerolinecolor\":\"white\",\"zerolinewidth\":2}}},\"xaxis\":{\"anchor\":\"y\",\"domain\":[0.0,1.0]},\"yaxis\":{\"anchor\":\"x\",\"domain\":[0.0,1.0],\"title\":{\"text\":\"cnt\"}},\"legend\":{\"tracegroupgap\":0},\"margin\":{\"t\":60},\"boxmode\":\"group\",\"bargap\":0.2,\"title\":{\"text\":\"Distribution of bike sharing count\"}},                        {\"responsive\": true}                    ).then(function(){\n",
              "                            \n",
              "var gd = document.getElementById('07dead1b-5953-474a-b589-89d6e8814f76');\n",
              "var x = new MutationObserver(function (mutations, observer) {{\n",
              "        var display = window.getComputedStyle(gd).display;\n",
              "        if (!display || display === 'none') {{\n",
              "            console.log([gd, 'removed!']);\n",
              "            Plotly.purge(gd);\n",
              "            observer.disconnect();\n",
              "        }}\n",
              "}});\n",
              "\n",
              "// Listen for the removal of the full notebook cells\n",
              "var notebookContainer = gd.closest('#notebook-container');\n",
              "if (notebookContainer) {{\n",
              "    x.observe(notebookContainer, {childList: true});\n",
              "}}\n",
              "\n",
              "// Listen for the clearing of the current output cell\n",
              "var outputEl = gd.closest('.output');\n",
              "if (outputEl) {{\n",
              "    x.observe(outputEl, {childList: true});\n",
              "}}\n",
              "\n",
              "                        })                };                            </script>        </div>\n",
              "</body>\n",
              "</html>"
            ]
          },
          "metadata": {}
        }
      ]
    },
    {
      "cell_type": "markdown",
      "source": [
        "There are no visible outliers in the count."
      ],
      "metadata": {
        "id": "wv-zKCXovliz"
      }
    },
    {
      "cell_type": "markdown",
      "source": [
        "We will next visualize the data and check which variables show corelation with the target variable  "
      ],
      "metadata": {
        "id": "CnfVxZL4wB7-"
      }
    },
    {
      "cell_type": "code",
      "source": [
        "hist_year = px.box(data_frame= rides, x='year', y='cnt')\n",
        "hist_year.update_layout(bargap=0.2, title=\"Distribution of count by year\")\n",
        "hist_year.show()"
      ],
      "metadata": {
        "colab": {
          "base_uri": "https://localhost:8080/",
          "height": 542
        },
        "id": "RF57EFVSj1LR",
        "outputId": "7f837414-a824-46bd-d36a-d1b72556c5d5"
      },
      "execution_count": 1251,
      "outputs": [
        {
          "output_type": "display_data",
          "data": {
            "text/html": [
              "<html>\n",
              "<head><meta charset=\"utf-8\" /></head>\n",
              "<body>\n",
              "    <div>            <script src=\"https://cdnjs.cloudflare.com/ajax/libs/mathjax/2.7.5/MathJax.js?config=TeX-AMS-MML_SVG\"></script><script type=\"text/javascript\">if (window.MathJax) {MathJax.Hub.Config({SVG: {font: \"STIX-Web\"}});}</script>                <script type=\"text/javascript\">window.PlotlyConfig = {MathJaxConfig: 'local'};</script>\n",
              "        <script src=\"https://cdn.plot.ly/plotly-2.8.3.min.js\"></script>                <div id=\"1ad74ddc-7e80-4c5b-98c6-2d335a76398a\" class=\"plotly-graph-div\" style=\"height:525px; width:100%;\"></div>            <script type=\"text/javascript\">                                    window.PLOTLYENV=window.PLOTLYENV || {};                                    if (document.getElementById(\"1ad74ddc-7e80-4c5b-98c6-2d335a76398a\")) {                    Plotly.newPlot(                        \"1ad74ddc-7e80-4c5b-98c6-2d335a76398a\",                        [{\"alignmentgroup\":\"True\",\"hovertemplate\":\"year=%{x}<br>cnt=%{y}<extra></extra>\",\"legendgroup\":\"\",\"marker\":{\"color\":\"#636efa\"},\"name\":\"\",\"notched\":false,\"offsetgroup\":\"\",\"orientation\":\"v\",\"showlegend\":false,\"x\":[0,0,0,0,0,0,0,0,0,0,0,0,0,0,0,0,0,0,0,0,0,0,0,0,0,0,0,0,0,0,0,0,0,0,0,0,0,0,0,0,0,0,0,0,0,0,0,0,0,0,0,0,0,0,0,0,0,0,0,0,0,0,0,0,0,0,0,0,0,0,0,0,0,0,0,0,0,0,0,0,0,0,0,0,0,0,0,0,0,0,0,0,0,0,0,0,0,0,0,0,0,0,0,0,0,0,0,0,0,0,0,0,0,0,0,0,0,0,0,0,0,0,0,0,0,0,0,0,0,0,0,0,0,0,0,0,0,0,0,0,0,0,0,0,0,0,0,0,0,0,0,0,0,0,0,0,0,0,0,0,0,0,0,0,0,0,0,0,0,0,0,0,0,0,0,0,0,0,0,0,0,0,0,0,0,0,0,0,0,0,0,0,0,0,0,0,0,0,0,0,0,0,0,0,0,0,0,0,0,0,0,0,0,0,0,0,0,0,0,0,0,0,0,0,0,0,0,0,0,0,0,0,0,0,0,0,0,0,0,0,0,0,0,0,0,0,0,0,0,0,0,0,0,0,0,0,0,0,0,0,0,0,0,0,0,0,0,0,0,0,0,0,0,0,0,0,0,0,0,0,0,0,0,0,0,0,0,0,0,0,0,0,0,0,0,0,0,0,0,0,0,0,0,0,0,0,0,0,0,0,0,0,0,0,0,0,0,0,0,0,0,0,0,0,0,0,0,0,0,0,0,0,0,0,0,0,0,0,0,0,0,0,0,0,0,0,0,0,0,0,0,0,0,0,0,0,0,0,0,0,0,0,0,0,0,1,1,1,1,1,1,1,1,1,1,1,1,1,1,1,1,1,1,1,1,1,1,1,1,1,1,1,1,1,1,1,1,1,1,1,1,1,1,1,1,1,1,1,1,1,1,1,1,1,1,1,1,1,1,1,1,1,1,1,1,1,1,1,1,1,1,1,1,1,1,1,1,1,1,1,1,1,1,1,1,1,1,1,1,1,1,1,1,1,1,1,1,1,1,1,1,1,1,1,1,1,1,1,1,1,1,1,1,1,1,1,1,1,1,1,1,1,1,1,1,1,1,1,1,1,1,1,1,1,1,1,1,1,1,1,1,1,1,1,1,1,1,1,1,1,1,1,1,1,1,1,1,1,1,1,1,1,1,1,1,1,1,1,1,1,1,1,1,1,1,1,1,1,1,1,1,1,1,1,1,1,1,1,1,1,1,1,1,1,1,1,1,1,1,1,1,1,1,1,1,1,1,1,1,1,1,1,1,1,1,1,1,1,1,1,1,1,1,1,1,1,1,1,1,1,1,1,1,1,1,1,1,1,1,1,1,1,1,1,1,1,1,1,1,1,1,1,1,1,1,1,1,1,1,1,1,1,1,1,1,1,1,1,1,1,1,1,1,1,1,1,1,1,1,1,1,1,1,1,1,1,1,1,1,1,1,1,1,1,1,1,1,1,1,1,1,1,1,1,1,1,1,1,1,1,1,1,1,1,1,1,1,1,1,1,1,1,1,1,1,1,1,1,1,1,1,1,1,1,1,1,1,1,1,1,1,1,1,1,1,1,1,1,1,1,1,1,1,1,1,1,1,1,1,1,1,1,1,1,1,1,1,1,1,1],\"x0\":\" \",\"xaxis\":\"x\",\"y\":[985,801,1349,1562,1600,1606,1510,959,822,1321,1263,1162,1406,1421,1248,1204,1000,683,1650,1927,1543,981,986,1416,1985,506,431,1167,1098,1096,1501,1360,1526,1550,1708,1005,1623,1712,1530,1605,1538,1746,1472,1589,1913,1815,2115,2475,2927,1635,1812,1107,1450,1917,1807,1461,1969,2402,1446,1851,2134,1685,1944,2077,605,1872,2133,1891,623,1977,2132,2417,2046,2056,2192,2744,3239,3117,2471,2077,2703,2121,1865,2210,2496,1693,2028,2425,1536,1685,2227,2252,3249,3115,1795,2808,3141,1471,2455,2895,3348,2034,2162,3267,3126,795,3744,3429,3204,3944,4189,1683,4036,4191,4073,4400,3872,4058,4595,5312,3351,4401,4451,2633,4433,4608,4714,4333,4362,4803,4182,4864,4105,3409,4553,3958,4123,3855,4575,4917,5805,4660,4274,4492,4978,4677,4679,4758,4788,4098,3982,3974,4968,5312,5342,4906,4548,4833,4401,3915,4586,4966,4460,5020,4891,5180,3767,4844,5119,4744,4010,4835,4507,4790,4991,5202,5305,4708,4648,5225,5515,5362,5119,4649,6043,4665,4629,4592,4040,5336,4881,4086,4258,4342,5084,5538,5923,5302,4458,4541,4332,3784,3387,3285,3606,3840,4590,4656,4390,3846,4475,4302,4266,4845,3574,4576,4866,4294,3785,4326,4602,4780,4792,4905,4150,3820,4338,4725,4694,3805,4153,5191,3873,4758,5895,5130,3542,4661,1115,4334,4634,5204,5058,5115,4727,4484,4940,3351,2710,1996,1842,3544,5345,5046,4713,4763,4785,3659,4760,4511,4274,4539,3641,4352,4795,2395,5423,5010,4630,4120,3907,4839,5202,2429,2918,3570,4456,4826,4765,4985,5409,5511,5117,4563,2416,2913,3644,5217,5041,4570,4748,2424,4195,4304,4308,4381,4187,4687,3894,2659,3747,627,3331,3669,4068,4186,3974,4046,3926,3649,4035,4205,4109,2933,3368,4067,3717,4486,4195,1817,3053,3392,3663,3520,2765,1607,2566,1495,2792,3068,3071,3867,2914,3613,3727,3940,3614,3485,3811,2594,705,3322,3620,3190,2743,3310,3523,3740,3709,3577,2739,2431,3403,3750,2660,3068,2209,1011,754,1317,1162,2302,2423,2999,2485,2294,1951,2236,2368,3272,4098,4521,3425,2376,3598,2177,4097,3214,2493,2311,2298,2935,3376,3292,3163,1301,1977,2432,4339,4270,4075,3456,4023,3243,3624,4509,4579,3761,4151,2832,2947,3784,4375,2802,3830,3831,2169,1529,3422,3922,4169,3005,4154,4318,2689,3129,3777,4773,5062,3487,2732,3389,4322,4363,4990,3194,4066,3423,3333,3956,4916,5382,4569,4118,4911,5298,5847,6312,6192,4378,7836,5892,6153,6093,6230,6871,8362,3372,4996,5558,5102,5698,6133,5459,6235,6041,5936,6772,6436,6457,6460,6857,5169,5585,5918,4862,5409,6398,7460,7132,6370,6691,4367,6565,7290,6624,1027,3214,5633,6196,5026,6233,4220,6304,5572,5740,6169,6421,6296,6883,6359,6273,5728,4717,6572,7030,7429,6118,2843,5115,7424,7384,7639,8294,7129,4359,6073,5260,6770,6734,6536,6591,6043,5743,6855,7338,4127,8120,7641,6998,7001,7055,7494,7736,7498,6598,6664,4972,7421,7363,7665,7702,6978,5099,6825,6211,5905,5823,7458,6891,6779,7442,7335,6879,5463,5687,5531,6227,6660,7403,6241,6207,4840,4672,6569,6290,7264,7446,7499,6969,6031,6830,6786,5713,6591,5870,4459,7410,6966,7592,8173,6861,6904,6685,6597,7105,7216,7580,7261,7175,6824,5464,7013,7273,7534,7286,5786,6299,6544,6883,6784,7347,7605,7148,7865,4549,6530,7006,7375,7765,7582,6053,5255,6917,7040,7697,7713,7350,6140,5810,6034,6864,7112,6203,7504,5976,8227,7525,7767,7870,7804,8009,8714,7333,6869,4073,7591,7720,8167,8395,7907,7436,7538,7733,7393,7415,8555,6889,6778,4639,7572,7328,8156,7965,3510,5478,6392,7691,7570,7282,7109,6639,5875,7534,7461,7509,5424,8090,6824,7058,7466,7693,7359,7444,7852,4459,22,1096,5566,5986,5847,5138,5107,5259,5686,5035,5315,5992,6536,6852,6269,4094,5495,5445,5698,5629,4669,5499,5634,5146,2425,3910,2277,2424,5087,3959,5260,5323,5668,5191,4649,6234,6606,5729,5375,5008,5582,3228,5170,5501,5319,5532,5611,5047,3786,4585,5557,5267,4128,3623,1749,1787,920,1013,441,2114,3095,1341,1796,2729],\"y0\":\" \",\"yaxis\":\"y\",\"type\":\"box\"}],                        {\"template\":{\"data\":{\"bar\":[{\"error_x\":{\"color\":\"#2a3f5f\"},\"error_y\":{\"color\":\"#2a3f5f\"},\"marker\":{\"line\":{\"color\":\"#E5ECF6\",\"width\":0.5},\"pattern\":{\"fillmode\":\"overlay\",\"size\":10,\"solidity\":0.2}},\"type\":\"bar\"}],\"barpolar\":[{\"marker\":{\"line\":{\"color\":\"#E5ECF6\",\"width\":0.5},\"pattern\":{\"fillmode\":\"overlay\",\"size\":10,\"solidity\":0.2}},\"type\":\"barpolar\"}],\"carpet\":[{\"aaxis\":{\"endlinecolor\":\"#2a3f5f\",\"gridcolor\":\"white\",\"linecolor\":\"white\",\"minorgridcolor\":\"white\",\"startlinecolor\":\"#2a3f5f\"},\"baxis\":{\"endlinecolor\":\"#2a3f5f\",\"gridcolor\":\"white\",\"linecolor\":\"white\",\"minorgridcolor\":\"white\",\"startlinecolor\":\"#2a3f5f\"},\"type\":\"carpet\"}],\"choropleth\":[{\"colorbar\":{\"outlinewidth\":0,\"ticks\":\"\"},\"type\":\"choropleth\"}],\"contour\":[{\"colorbar\":{\"outlinewidth\":0,\"ticks\":\"\"},\"colorscale\":[[0.0,\"#0d0887\"],[0.1111111111111111,\"#46039f\"],[0.2222222222222222,\"#7201a8\"],[0.3333333333333333,\"#9c179e\"],[0.4444444444444444,\"#bd3786\"],[0.5555555555555556,\"#d8576b\"],[0.6666666666666666,\"#ed7953\"],[0.7777777777777778,\"#fb9f3a\"],[0.8888888888888888,\"#fdca26\"],[1.0,\"#f0f921\"]],\"type\":\"contour\"}],\"contourcarpet\":[{\"colorbar\":{\"outlinewidth\":0,\"ticks\":\"\"},\"type\":\"contourcarpet\"}],\"heatmap\":[{\"colorbar\":{\"outlinewidth\":0,\"ticks\":\"\"},\"colorscale\":[[0.0,\"#0d0887\"],[0.1111111111111111,\"#46039f\"],[0.2222222222222222,\"#7201a8\"],[0.3333333333333333,\"#9c179e\"],[0.4444444444444444,\"#bd3786\"],[0.5555555555555556,\"#d8576b\"],[0.6666666666666666,\"#ed7953\"],[0.7777777777777778,\"#fb9f3a\"],[0.8888888888888888,\"#fdca26\"],[1.0,\"#f0f921\"]],\"type\":\"heatmap\"}],\"heatmapgl\":[{\"colorbar\":{\"outlinewidth\":0,\"ticks\":\"\"},\"colorscale\":[[0.0,\"#0d0887\"],[0.1111111111111111,\"#46039f\"],[0.2222222222222222,\"#7201a8\"],[0.3333333333333333,\"#9c179e\"],[0.4444444444444444,\"#bd3786\"],[0.5555555555555556,\"#d8576b\"],[0.6666666666666666,\"#ed7953\"],[0.7777777777777778,\"#fb9f3a\"],[0.8888888888888888,\"#fdca26\"],[1.0,\"#f0f921\"]],\"type\":\"heatmapgl\"}],\"histogram\":[{\"marker\":{\"pattern\":{\"fillmode\":\"overlay\",\"size\":10,\"solidity\":0.2}},\"type\":\"histogram\"}],\"histogram2d\":[{\"colorbar\":{\"outlinewidth\":0,\"ticks\":\"\"},\"colorscale\":[[0.0,\"#0d0887\"],[0.1111111111111111,\"#46039f\"],[0.2222222222222222,\"#7201a8\"],[0.3333333333333333,\"#9c179e\"],[0.4444444444444444,\"#bd3786\"],[0.5555555555555556,\"#d8576b\"],[0.6666666666666666,\"#ed7953\"],[0.7777777777777778,\"#fb9f3a\"],[0.8888888888888888,\"#fdca26\"],[1.0,\"#f0f921\"]],\"type\":\"histogram2d\"}],\"histogram2dcontour\":[{\"colorbar\":{\"outlinewidth\":0,\"ticks\":\"\"},\"colorscale\":[[0.0,\"#0d0887\"],[0.1111111111111111,\"#46039f\"],[0.2222222222222222,\"#7201a8\"],[0.3333333333333333,\"#9c179e\"],[0.4444444444444444,\"#bd3786\"],[0.5555555555555556,\"#d8576b\"],[0.6666666666666666,\"#ed7953\"],[0.7777777777777778,\"#fb9f3a\"],[0.8888888888888888,\"#fdca26\"],[1.0,\"#f0f921\"]],\"type\":\"histogram2dcontour\"}],\"mesh3d\":[{\"colorbar\":{\"outlinewidth\":0,\"ticks\":\"\"},\"type\":\"mesh3d\"}],\"parcoords\":[{\"line\":{\"colorbar\":{\"outlinewidth\":0,\"ticks\":\"\"}},\"type\":\"parcoords\"}],\"pie\":[{\"automargin\":true,\"type\":\"pie\"}],\"scatter\":[{\"marker\":{\"colorbar\":{\"outlinewidth\":0,\"ticks\":\"\"}},\"type\":\"scatter\"}],\"scatter3d\":[{\"line\":{\"colorbar\":{\"outlinewidth\":0,\"ticks\":\"\"}},\"marker\":{\"colorbar\":{\"outlinewidth\":0,\"ticks\":\"\"}},\"type\":\"scatter3d\"}],\"scattercarpet\":[{\"marker\":{\"colorbar\":{\"outlinewidth\":0,\"ticks\":\"\"}},\"type\":\"scattercarpet\"}],\"scattergeo\":[{\"marker\":{\"colorbar\":{\"outlinewidth\":0,\"ticks\":\"\"}},\"type\":\"scattergeo\"}],\"scattergl\":[{\"marker\":{\"colorbar\":{\"outlinewidth\":0,\"ticks\":\"\"}},\"type\":\"scattergl\"}],\"scattermapbox\":[{\"marker\":{\"colorbar\":{\"outlinewidth\":0,\"ticks\":\"\"}},\"type\":\"scattermapbox\"}],\"scatterpolar\":[{\"marker\":{\"colorbar\":{\"outlinewidth\":0,\"ticks\":\"\"}},\"type\":\"scatterpolar\"}],\"scatterpolargl\":[{\"marker\":{\"colorbar\":{\"outlinewidth\":0,\"ticks\":\"\"}},\"type\":\"scatterpolargl\"}],\"scatterternary\":[{\"marker\":{\"colorbar\":{\"outlinewidth\":0,\"ticks\":\"\"}},\"type\":\"scatterternary\"}],\"surface\":[{\"colorbar\":{\"outlinewidth\":0,\"ticks\":\"\"},\"colorscale\":[[0.0,\"#0d0887\"],[0.1111111111111111,\"#46039f\"],[0.2222222222222222,\"#7201a8\"],[0.3333333333333333,\"#9c179e\"],[0.4444444444444444,\"#bd3786\"],[0.5555555555555556,\"#d8576b\"],[0.6666666666666666,\"#ed7953\"],[0.7777777777777778,\"#fb9f3a\"],[0.8888888888888888,\"#fdca26\"],[1.0,\"#f0f921\"]],\"type\":\"surface\"}],\"table\":[{\"cells\":{\"fill\":{\"color\":\"#EBF0F8\"},\"line\":{\"color\":\"white\"}},\"header\":{\"fill\":{\"color\":\"#C8D4E3\"},\"line\":{\"color\":\"white\"}},\"type\":\"table\"}]},\"layout\":{\"annotationdefaults\":{\"arrowcolor\":\"#2a3f5f\",\"arrowhead\":0,\"arrowwidth\":1},\"autotypenumbers\":\"strict\",\"coloraxis\":{\"colorbar\":{\"outlinewidth\":0,\"ticks\":\"\"}},\"colorscale\":{\"diverging\":[[0,\"#8e0152\"],[0.1,\"#c51b7d\"],[0.2,\"#de77ae\"],[0.3,\"#f1b6da\"],[0.4,\"#fde0ef\"],[0.5,\"#f7f7f7\"],[0.6,\"#e6f5d0\"],[0.7,\"#b8e186\"],[0.8,\"#7fbc41\"],[0.9,\"#4d9221\"],[1,\"#276419\"]],\"sequential\":[[0.0,\"#0d0887\"],[0.1111111111111111,\"#46039f\"],[0.2222222222222222,\"#7201a8\"],[0.3333333333333333,\"#9c179e\"],[0.4444444444444444,\"#bd3786\"],[0.5555555555555556,\"#d8576b\"],[0.6666666666666666,\"#ed7953\"],[0.7777777777777778,\"#fb9f3a\"],[0.8888888888888888,\"#fdca26\"],[1.0,\"#f0f921\"]],\"sequentialminus\":[[0.0,\"#0d0887\"],[0.1111111111111111,\"#46039f\"],[0.2222222222222222,\"#7201a8\"],[0.3333333333333333,\"#9c179e\"],[0.4444444444444444,\"#bd3786\"],[0.5555555555555556,\"#d8576b\"],[0.6666666666666666,\"#ed7953\"],[0.7777777777777778,\"#fb9f3a\"],[0.8888888888888888,\"#fdca26\"],[1.0,\"#f0f921\"]]},\"colorway\":[\"#636efa\",\"#EF553B\",\"#00cc96\",\"#ab63fa\",\"#FFA15A\",\"#19d3f3\",\"#FF6692\",\"#B6E880\",\"#FF97FF\",\"#FECB52\"],\"font\":{\"color\":\"#2a3f5f\"},\"geo\":{\"bgcolor\":\"white\",\"lakecolor\":\"white\",\"landcolor\":\"#E5ECF6\",\"showlakes\":true,\"showland\":true,\"subunitcolor\":\"white\"},\"hoverlabel\":{\"align\":\"left\"},\"hovermode\":\"closest\",\"mapbox\":{\"style\":\"light\"},\"paper_bgcolor\":\"white\",\"plot_bgcolor\":\"#E5ECF6\",\"polar\":{\"angularaxis\":{\"gridcolor\":\"white\",\"linecolor\":\"white\",\"ticks\":\"\"},\"bgcolor\":\"#E5ECF6\",\"radialaxis\":{\"gridcolor\":\"white\",\"linecolor\":\"white\",\"ticks\":\"\"}},\"scene\":{\"xaxis\":{\"backgroundcolor\":\"#E5ECF6\",\"gridcolor\":\"white\",\"gridwidth\":2,\"linecolor\":\"white\",\"showbackground\":true,\"ticks\":\"\",\"zerolinecolor\":\"white\"},\"yaxis\":{\"backgroundcolor\":\"#E5ECF6\",\"gridcolor\":\"white\",\"gridwidth\":2,\"linecolor\":\"white\",\"showbackground\":true,\"ticks\":\"\",\"zerolinecolor\":\"white\"},\"zaxis\":{\"backgroundcolor\":\"#E5ECF6\",\"gridcolor\":\"white\",\"gridwidth\":2,\"linecolor\":\"white\",\"showbackground\":true,\"ticks\":\"\",\"zerolinecolor\":\"white\"}},\"shapedefaults\":{\"line\":{\"color\":\"#2a3f5f\"}},\"ternary\":{\"aaxis\":{\"gridcolor\":\"white\",\"linecolor\":\"white\",\"ticks\":\"\"},\"baxis\":{\"gridcolor\":\"white\",\"linecolor\":\"white\",\"ticks\":\"\"},\"bgcolor\":\"#E5ECF6\",\"caxis\":{\"gridcolor\":\"white\",\"linecolor\":\"white\",\"ticks\":\"\"}},\"title\":{\"x\":0.05},\"xaxis\":{\"automargin\":true,\"gridcolor\":\"white\",\"linecolor\":\"white\",\"ticks\":\"\",\"title\":{\"standoff\":15},\"zerolinecolor\":\"white\",\"zerolinewidth\":2},\"yaxis\":{\"automargin\":true,\"gridcolor\":\"white\",\"linecolor\":\"white\",\"ticks\":\"\",\"title\":{\"standoff\":15},\"zerolinecolor\":\"white\",\"zerolinewidth\":2}}},\"xaxis\":{\"anchor\":\"y\",\"domain\":[0.0,1.0],\"title\":{\"text\":\"year\"}},\"yaxis\":{\"anchor\":\"x\",\"domain\":[0.0,1.0],\"title\":{\"text\":\"cnt\"}},\"legend\":{\"tracegroupgap\":0},\"margin\":{\"t\":60},\"boxmode\":\"group\",\"bargap\":0.2,\"title\":{\"text\":\"Distribution of count by year\"}},                        {\"responsive\": true}                    ).then(function(){\n",
              "                            \n",
              "var gd = document.getElementById('1ad74ddc-7e80-4c5b-98c6-2d335a76398a');\n",
              "var x = new MutationObserver(function (mutations, observer) {{\n",
              "        var display = window.getComputedStyle(gd).display;\n",
              "        if (!display || display === 'none') {{\n",
              "            console.log([gd, 'removed!']);\n",
              "            Plotly.purge(gd);\n",
              "            observer.disconnect();\n",
              "        }}\n",
              "}});\n",
              "\n",
              "// Listen for the removal of the full notebook cells\n",
              "var notebookContainer = gd.closest('#notebook-container');\n",
              "if (notebookContainer) {{\n",
              "    x.observe(notebookContainer, {childList: true});\n",
              "}}\n",
              "\n",
              "// Listen for the clearing of the current output cell\n",
              "var outputEl = gd.closest('.output');\n",
              "if (outputEl) {{\n",
              "    x.observe(outputEl, {childList: true});\n",
              "}}\n",
              "\n",
              "                        })                };                            </script>        </div>\n",
              "</body>\n",
              "</html>"
            ]
          },
          "metadata": {}
        }
      ]
    },
    {
      "cell_type": "markdown",
      "source": [
        "The number of rides have increased in 2019 (1) compared to 2018 (0), showing growth"
      ],
      "metadata": {
        "id": "rPDeA2lHy3cH"
      }
    },
    {
      "cell_type": "code",
      "source": [
        "box_month = px.box(rides, x='month', y='cnt')\n",
        "box_month.update_layout(title=\"Distribution of count by month\")\n",
        "box_month .show()"
      ],
      "metadata": {
        "colab": {
          "base_uri": "https://localhost:8080/",
          "height": 542
        },
        "id": "1BCJLjsozH9B",
        "outputId": "efc2412c-2c38-4ebd-a536-05db1372b4ec"
      },
      "execution_count": 1252,
      "outputs": [
        {
          "output_type": "display_data",
          "data": {
            "text/html": [
              "<html>\n",
              "<head><meta charset=\"utf-8\" /></head>\n",
              "<body>\n",
              "    <div>            <script src=\"https://cdnjs.cloudflare.com/ajax/libs/mathjax/2.7.5/MathJax.js?config=TeX-AMS-MML_SVG\"></script><script type=\"text/javascript\">if (window.MathJax) {MathJax.Hub.Config({SVG: {font: \"STIX-Web\"}});}</script>                <script type=\"text/javascript\">window.PlotlyConfig = {MathJaxConfig: 'local'};</script>\n",
              "        <script src=\"https://cdn.plot.ly/plotly-2.8.3.min.js\"></script>                <div id=\"fee79305-4607-4730-ab00-117135c1b5bb\" class=\"plotly-graph-div\" style=\"height:525px; width:100%;\"></div>            <script type=\"text/javascript\">                                    window.PLOTLYENV=window.PLOTLYENV || {};                                    if (document.getElementById(\"fee79305-4607-4730-ab00-117135c1b5bb\")) {                    Plotly.newPlot(                        \"fee79305-4607-4730-ab00-117135c1b5bb\",                        [{\"alignmentgroup\":\"True\",\"hovertemplate\":\"month=%{x}<br>cnt=%{y}<extra></extra>\",\"legendgroup\":\"\",\"marker\":{\"color\":\"#636efa\"},\"name\":\"\",\"notched\":false,\"offsetgroup\":\"\",\"orientation\":\"v\",\"showlegend\":false,\"x\":[\"Jan\",\"Jan\",\"Jan\",\"Jan\",\"Jan\",\"Jan\",\"Jan\",\"Jan\",\"Jan\",\"Jan\",\"Jan\",\"Jan\",\"Jan\",\"Jan\",\"Jan\",\"Jan\",\"Jan\",\"Jan\",\"Jan\",\"Jan\",\"Jan\",\"Jan\",\"Jan\",\"Jan\",\"Jan\",\"Jan\",\"Jan\",\"Jan\",\"Jan\",\"Jan\",\"Jan\",\"Feb\",\"Feb\",\"Feb\",\"Feb\",\"Feb\",\"Feb\",\"Feb\",\"Feb\",\"Feb\",\"Feb\",\"Feb\",\"Feb\",\"Feb\",\"Feb\",\"Feb\",\"Feb\",\"Feb\",\"Feb\",\"Feb\",\"Feb\",\"Feb\",\"Feb\",\"Feb\",\"Feb\",\"Feb\",\"Feb\",\"Feb\",\"Feb\",\"Mar\",\"Mar\",\"Mar\",\"Mar\",\"Mar\",\"Mar\",\"Mar\",\"Mar\",\"Mar\",\"Mar\",\"Mar\",\"Mar\",\"Mar\",\"Mar\",\"Mar\",\"Mar\",\"Mar\",\"Mar\",\"Mar\",\"Mar\",\"Mar\",\"Mar\",\"Mar\",\"Mar\",\"Mar\",\"Mar\",\"Mar\",\"Mar\",\"Mar\",\"Mar\",\"Mar\",\"Apr\",\"Apr\",\"Apr\",\"Apr\",\"Apr\",\"Apr\",\"Apr\",\"Apr\",\"Apr\",\"Apr\",\"Apr\",\"Apr\",\"Apr\",\"Apr\",\"Apr\",\"Apr\",\"Apr\",\"Apr\",\"Apr\",\"Apr\",\"Apr\",\"Apr\",\"Apr\",\"Apr\",\"Apr\",\"Apr\",\"Apr\",\"Apr\",\"Apr\",\"Apr\",\"May\",\"May\",\"May\",\"May\",\"May\",\"May\",\"May\",\"May\",\"May\",\"May\",\"May\",\"May\",\"May\",\"May\",\"May\",\"May\",\"May\",\"May\",\"May\",\"May\",\"May\",\"May\",\"May\",\"May\",\"May\",\"May\",\"May\",\"May\",\"May\",\"May\",\"May\",\"Jun\",\"Jun\",\"Jun\",\"Jun\",\"Jun\",\"Jun\",\"Jun\",\"Jun\",\"Jun\",\"Jun\",\"Jun\",\"Jun\",\"Jun\",\"Jun\",\"Jun\",\"Jun\",\"Jun\",\"Jun\",\"Jun\",\"Jun\",\"Jun\",\"Jun\",\"Jun\",\"Jun\",\"Jun\",\"Jun\",\"Jun\",\"Jun\",\"Jun\",\"Jun\",\"Jul\",\"Jul\",\"Jul\",\"Jul\",\"Jul\",\"Jul\",\"Jul\",\"Jul\",\"Jul\",\"Jul\",\"Jul\",\"Jul\",\"Jul\",\"Jul\",\"Jul\",\"Jul\",\"Jul\",\"Jul\",\"Jul\",\"Jul\",\"Jul\",\"Jul\",\"Jul\",\"Jul\",\"Jul\",\"Jul\",\"Jul\",\"Jul\",\"Jul\",\"Jul\",\"Jul\",\"Aug\",\"Aug\",\"Aug\",\"Aug\",\"Aug\",\"Aug\",\"Aug\",\"Aug\",\"Aug\",\"Aug\",\"Aug\",\"Aug\",\"Aug\",\"Aug\",\"Aug\",\"Aug\",\"Aug\",\"Aug\",\"Aug\",\"Aug\",\"Aug\",\"Aug\",\"Aug\",\"Aug\",\"Aug\",\"Aug\",\"Aug\",\"Aug\",\"Aug\",\"Aug\",\"Aug\",\"Sep\",\"Sep\",\"Sep\",\"Sep\",\"Sep\",\"Sep\",\"Sep\",\"Sep\",\"Sep\",\"Sep\",\"Sep\",\"Sep\",\"Sep\",\"Sep\",\"Sep\",\"Sep\",\"Sep\",\"Sep\",\"Sep\",\"Sep\",\"Sep\",\"Sep\",\"Sep\",\"Sep\",\"Sep\",\"Sep\",\"Sep\",\"Sep\",\"Sep\",\"Sep\",\"Oct\",\"Oct\",\"Oct\",\"Oct\",\"Oct\",\"Oct\",\"Oct\",\"Oct\",\"Oct\",\"Oct\",\"Oct\",\"Oct\",\"Oct\",\"Oct\",\"Oct\",\"Oct\",\"Oct\",\"Oct\",\"Oct\",\"Oct\",\"Oct\",\"Oct\",\"Oct\",\"Oct\",\"Oct\",\"Oct\",\"Oct\",\"Oct\",\"Oct\",\"Oct\",\"Oct\",\"Nov\",\"Nov\",\"Nov\",\"Nov\",\"Nov\",\"Nov\",\"Nov\",\"Nov\",\"Nov\",\"Nov\",\"Nov\",\"Nov\",\"Nov\",\"Nov\",\"Nov\",\"Nov\",\"Nov\",\"Nov\",\"Nov\",\"Nov\",\"Nov\",\"Nov\",\"Nov\",\"Nov\",\"Nov\",\"Nov\",\"Nov\",\"Nov\",\"Nov\",\"Nov\",\"Dec\",\"Dec\",\"Dec\",\"Dec\",\"Dec\",\"Dec\",\"Dec\",\"Dec\",\"Dec\",\"Dec\",\"Dec\",\"Dec\",\"Dec\",\"Dec\",\"Dec\",\"Dec\",\"Dec\",\"Dec\",\"Dec\",\"Dec\",\"Dec\",\"Dec\",\"Dec\",\"Dec\",\"Dec\",\"Dec\",\"Dec\",\"Dec\",\"Dec\",\"Dec\",\"Dec\",\"Jan\",\"Jan\",\"Jan\",\"Jan\",\"Jan\",\"Jan\",\"Jan\",\"Jan\",\"Jan\",\"Jan\",\"Jan\",\"Jan\",\"Jan\",\"Jan\",\"Jan\",\"Jan\",\"Jan\",\"Jan\",\"Jan\",\"Jan\",\"Jan\",\"Jan\",\"Jan\",\"Jan\",\"Jan\",\"Jan\",\"Jan\",\"Jan\",\"Jan\",\"Jan\",\"Jan\",\"Feb\",\"Feb\",\"Feb\",\"Feb\",\"Feb\",\"Feb\",\"Feb\",\"Feb\",\"Feb\",\"Feb\",\"Feb\",\"Feb\",\"Feb\",\"Feb\",\"Feb\",\"Feb\",\"Feb\",\"Feb\",\"Feb\",\"Feb\",\"Feb\",\"Feb\",\"Feb\",\"Feb\",\"Feb\",\"Feb\",\"Feb\",\"Feb\",\"Mar\",\"Mar\",\"Mar\",\"Mar\",\"Mar\",\"Mar\",\"Mar\",\"Mar\",\"Mar\",\"Mar\",\"Mar\",\"Mar\",\"Mar\",\"Mar\",\"Mar\",\"Mar\",\"Mar\",\"Mar\",\"Mar\",\"Mar\",\"Mar\",\"Mar\",\"Mar\",\"Mar\",\"Mar\",\"Mar\",\"Mar\",\"Mar\",\"Mar\",\"Mar\",\"Mar\",\"Apr\",\"Apr\",\"Apr\",\"Apr\",\"Apr\",\"Apr\",\"Apr\",\"Apr\",\"Apr\",\"Apr\",\"Apr\",\"Apr\",\"Apr\",\"Apr\",\"Apr\",\"Apr\",\"Apr\",\"Apr\",\"Apr\",\"Apr\",\"Apr\",\"Apr\",\"Apr\",\"Apr\",\"Apr\",\"Apr\",\"Apr\",\"Apr\",\"Apr\",\"Apr\",\"May\",\"May\",\"May\",\"May\",\"May\",\"May\",\"May\",\"May\",\"May\",\"May\",\"May\",\"May\",\"May\",\"May\",\"May\",\"May\",\"May\",\"May\",\"May\",\"May\",\"May\",\"May\",\"May\",\"May\",\"May\",\"May\",\"May\",\"May\",\"May\",\"May\",\"May\",\"Jun\",\"Jun\",\"Jun\",\"Jun\",\"Jun\",\"Jun\",\"Jun\",\"Jun\",\"Jun\",\"Jun\",\"Jun\",\"Jun\",\"Jun\",\"Jun\",\"Jun\",\"Jun\",\"Jun\",\"Jun\",\"Jun\",\"Jun\",\"Jun\",\"Jun\",\"Jun\",\"Jun\",\"Jun\",\"Jun\",\"Jun\",\"Jun\",\"Jun\",\"Jun\",\"Jul\",\"Jul\",\"Jul\",\"Jul\",\"Jul\",\"Jul\",\"Jul\",\"Jul\",\"Jul\",\"Jul\",\"Jul\",\"Jul\",\"Jul\",\"Jul\",\"Jul\",\"Jul\",\"Jul\",\"Jul\",\"Jul\",\"Jul\",\"Jul\",\"Jul\",\"Jul\",\"Jul\",\"Jul\",\"Jul\",\"Jul\",\"Jul\",\"Jul\",\"Jul\",\"Jul\",\"Aug\",\"Aug\",\"Aug\",\"Aug\",\"Aug\",\"Aug\",\"Aug\",\"Aug\",\"Aug\",\"Aug\",\"Aug\",\"Aug\",\"Aug\",\"Aug\",\"Aug\",\"Aug\",\"Aug\",\"Aug\",\"Aug\",\"Aug\",\"Aug\",\"Aug\",\"Aug\",\"Aug\",\"Aug\",\"Aug\",\"Aug\",\"Aug\",\"Aug\",\"Aug\",\"Aug\",\"Sep\",\"Sep\",\"Sep\",\"Sep\",\"Sep\",\"Sep\",\"Sep\",\"Sep\",\"Sep\",\"Sep\",\"Sep\",\"Sep\",\"Sep\",\"Sep\",\"Sep\",\"Sep\",\"Sep\",\"Sep\",\"Sep\",\"Sep\",\"Sep\",\"Sep\",\"Sep\",\"Sep\",\"Sep\",\"Sep\",\"Sep\",\"Sep\",\"Sep\",\"Sep\",\"Oct\",\"Oct\",\"Oct\",\"Oct\",\"Oct\",\"Oct\",\"Oct\",\"Oct\",\"Oct\",\"Oct\",\"Oct\",\"Oct\",\"Oct\",\"Oct\",\"Oct\",\"Oct\",\"Oct\",\"Oct\",\"Oct\",\"Oct\",\"Oct\",\"Oct\",\"Oct\",\"Oct\",\"Oct\",\"Oct\",\"Oct\",\"Oct\",\"Oct\",\"Oct\",\"Oct\",\"Nov\",\"Nov\",\"Nov\",\"Nov\",\"Nov\",\"Nov\",\"Nov\",\"Nov\",\"Nov\",\"Nov\",\"Nov\",\"Nov\",\"Nov\",\"Nov\",\"Nov\",\"Nov\",\"Nov\",\"Nov\",\"Nov\",\"Nov\",\"Nov\",\"Nov\",\"Nov\",\"Nov\",\"Nov\",\"Nov\",\"Nov\",\"Nov\",\"Nov\",\"Nov\",\"Dec\",\"Dec\",\"Dec\",\"Dec\",\"Dec\",\"Dec\",\"Dec\",\"Dec\",\"Dec\",\"Dec\",\"Dec\",\"Dec\",\"Dec\",\"Dec\",\"Dec\",\"Dec\",\"Dec\",\"Dec\",\"Dec\",\"Dec\",\"Dec\",\"Dec\",\"Dec\",\"Dec\",\"Dec\",\"Dec\",\"Dec\",\"Dec\",\"Dec\",\"Dec\",\"Dec\"],\"x0\":\" \",\"xaxis\":\"x\",\"y\":[985,801,1349,1562,1600,1606,1510,959,822,1321,1263,1162,1406,1421,1248,1204,1000,683,1650,1927,1543,981,986,1416,1985,506,431,1167,1098,1096,1501,1360,1526,1550,1708,1005,1623,1712,1530,1605,1538,1746,1472,1589,1913,1815,2115,2475,2927,1635,1812,1107,1450,1917,1807,1461,1969,2402,1446,1851,2134,1685,1944,2077,605,1872,2133,1891,623,1977,2132,2417,2046,2056,2192,2744,3239,3117,2471,2077,2703,2121,1865,2210,2496,1693,2028,2425,1536,1685,2227,2252,3249,3115,1795,2808,3141,1471,2455,2895,3348,2034,2162,3267,3126,795,3744,3429,3204,3944,4189,1683,4036,4191,4073,4400,3872,4058,4595,5312,3351,4401,4451,2633,4433,4608,4714,4333,4362,4803,4182,4864,4105,3409,4553,3958,4123,3855,4575,4917,5805,4660,4274,4492,4978,4677,4679,4758,4788,4098,3982,3974,4968,5312,5342,4906,4548,4833,4401,3915,4586,4966,4460,5020,4891,5180,3767,4844,5119,4744,4010,4835,4507,4790,4991,5202,5305,4708,4648,5225,5515,5362,5119,4649,6043,4665,4629,4592,4040,5336,4881,4086,4258,4342,5084,5538,5923,5302,4458,4541,4332,3784,3387,3285,3606,3840,4590,4656,4390,3846,4475,4302,4266,4845,3574,4576,4866,4294,3785,4326,4602,4780,4792,4905,4150,3820,4338,4725,4694,3805,4153,5191,3873,4758,5895,5130,3542,4661,1115,4334,4634,5204,5058,5115,4727,4484,4940,3351,2710,1996,1842,3544,5345,5046,4713,4763,4785,3659,4760,4511,4274,4539,3641,4352,4795,2395,5423,5010,4630,4120,3907,4839,5202,2429,2918,3570,4456,4826,4765,4985,5409,5511,5117,4563,2416,2913,3644,5217,5041,4570,4748,2424,4195,4304,4308,4381,4187,4687,3894,2659,3747,627,3331,3669,4068,4186,3974,4046,3926,3649,4035,4205,4109,2933,3368,4067,3717,4486,4195,1817,3053,3392,3663,3520,2765,1607,2566,1495,2792,3068,3071,3867,2914,3613,3727,3940,3614,3485,3811,2594,705,3322,3620,3190,2743,3310,3523,3740,3709,3577,2739,2431,3403,3750,2660,3068,2209,1011,754,1317,1162,2302,2423,2999,2485,2294,1951,2236,2368,3272,4098,4521,3425,2376,3598,2177,4097,3214,2493,2311,2298,2935,3376,3292,3163,1301,1977,2432,4339,4270,4075,3456,4023,3243,3624,4509,4579,3761,4151,2832,2947,3784,4375,2802,3830,3831,2169,1529,3422,3922,4169,3005,4154,4318,2689,3129,3777,4773,5062,3487,2732,3389,4322,4363,4990,3194,4066,3423,3333,3956,4916,5382,4569,4118,4911,5298,5847,6312,6192,4378,7836,5892,6153,6093,6230,6871,8362,3372,4996,5558,5102,5698,6133,5459,6235,6041,5936,6772,6436,6457,6460,6857,5169,5585,5918,4862,5409,6398,7460,7132,6370,6691,4367,6565,7290,6624,1027,3214,5633,6196,5026,6233,4220,6304,5572,5740,6169,6421,6296,6883,6359,6273,5728,4717,6572,7030,7429,6118,2843,5115,7424,7384,7639,8294,7129,4359,6073,5260,6770,6734,6536,6591,6043,5743,6855,7338,4127,8120,7641,6998,7001,7055,7494,7736,7498,6598,6664,4972,7421,7363,7665,7702,6978,5099,6825,6211,5905,5823,7458,6891,6779,7442,7335,6879,5463,5687,5531,6227,6660,7403,6241,6207,4840,4672,6569,6290,7264,7446,7499,6969,6031,6830,6786,5713,6591,5870,4459,7410,6966,7592,8173,6861,6904,6685,6597,7105,7216,7580,7261,7175,6824,5464,7013,7273,7534,7286,5786,6299,6544,6883,6784,7347,7605,7148,7865,4549,6530,7006,7375,7765,7582,6053,5255,6917,7040,7697,7713,7350,6140,5810,6034,6864,7112,6203,7504,5976,8227,7525,7767,7870,7804,8009,8714,7333,6869,4073,7591,7720,8167,8395,7907,7436,7538,7733,7393,7415,8555,6889,6778,4639,7572,7328,8156,7965,3510,5478,6392,7691,7570,7282,7109,6639,5875,7534,7461,7509,5424,8090,6824,7058,7466,7693,7359,7444,7852,4459,22,1096,5566,5986,5847,5138,5107,5259,5686,5035,5315,5992,6536,6852,6269,4094,5495,5445,5698,5629,4669,5499,5634,5146,2425,3910,2277,2424,5087,3959,5260,5323,5668,5191,4649,6234,6606,5729,5375,5008,5582,3228,5170,5501,5319,5532,5611,5047,3786,4585,5557,5267,4128,3623,1749,1787,920,1013,441,2114,3095,1341,1796,2729],\"y0\":\" \",\"yaxis\":\"y\",\"type\":\"box\"}],                        {\"template\":{\"data\":{\"bar\":[{\"error_x\":{\"color\":\"#2a3f5f\"},\"error_y\":{\"color\":\"#2a3f5f\"},\"marker\":{\"line\":{\"color\":\"#E5ECF6\",\"width\":0.5},\"pattern\":{\"fillmode\":\"overlay\",\"size\":10,\"solidity\":0.2}},\"type\":\"bar\"}],\"barpolar\":[{\"marker\":{\"line\":{\"color\":\"#E5ECF6\",\"width\":0.5},\"pattern\":{\"fillmode\":\"overlay\",\"size\":10,\"solidity\":0.2}},\"type\":\"barpolar\"}],\"carpet\":[{\"aaxis\":{\"endlinecolor\":\"#2a3f5f\",\"gridcolor\":\"white\",\"linecolor\":\"white\",\"minorgridcolor\":\"white\",\"startlinecolor\":\"#2a3f5f\"},\"baxis\":{\"endlinecolor\":\"#2a3f5f\",\"gridcolor\":\"white\",\"linecolor\":\"white\",\"minorgridcolor\":\"white\",\"startlinecolor\":\"#2a3f5f\"},\"type\":\"carpet\"}],\"choropleth\":[{\"colorbar\":{\"outlinewidth\":0,\"ticks\":\"\"},\"type\":\"choropleth\"}],\"contour\":[{\"colorbar\":{\"outlinewidth\":0,\"ticks\":\"\"},\"colorscale\":[[0.0,\"#0d0887\"],[0.1111111111111111,\"#46039f\"],[0.2222222222222222,\"#7201a8\"],[0.3333333333333333,\"#9c179e\"],[0.4444444444444444,\"#bd3786\"],[0.5555555555555556,\"#d8576b\"],[0.6666666666666666,\"#ed7953\"],[0.7777777777777778,\"#fb9f3a\"],[0.8888888888888888,\"#fdca26\"],[1.0,\"#f0f921\"]],\"type\":\"contour\"}],\"contourcarpet\":[{\"colorbar\":{\"outlinewidth\":0,\"ticks\":\"\"},\"type\":\"contourcarpet\"}],\"heatmap\":[{\"colorbar\":{\"outlinewidth\":0,\"ticks\":\"\"},\"colorscale\":[[0.0,\"#0d0887\"],[0.1111111111111111,\"#46039f\"],[0.2222222222222222,\"#7201a8\"],[0.3333333333333333,\"#9c179e\"],[0.4444444444444444,\"#bd3786\"],[0.5555555555555556,\"#d8576b\"],[0.6666666666666666,\"#ed7953\"],[0.7777777777777778,\"#fb9f3a\"],[0.8888888888888888,\"#fdca26\"],[1.0,\"#f0f921\"]],\"type\":\"heatmap\"}],\"heatmapgl\":[{\"colorbar\":{\"outlinewidth\":0,\"ticks\":\"\"},\"colorscale\":[[0.0,\"#0d0887\"],[0.1111111111111111,\"#46039f\"],[0.2222222222222222,\"#7201a8\"],[0.3333333333333333,\"#9c179e\"],[0.4444444444444444,\"#bd3786\"],[0.5555555555555556,\"#d8576b\"],[0.6666666666666666,\"#ed7953\"],[0.7777777777777778,\"#fb9f3a\"],[0.8888888888888888,\"#fdca26\"],[1.0,\"#f0f921\"]],\"type\":\"heatmapgl\"}],\"histogram\":[{\"marker\":{\"pattern\":{\"fillmode\":\"overlay\",\"size\":10,\"solidity\":0.2}},\"type\":\"histogram\"}],\"histogram2d\":[{\"colorbar\":{\"outlinewidth\":0,\"ticks\":\"\"},\"colorscale\":[[0.0,\"#0d0887\"],[0.1111111111111111,\"#46039f\"],[0.2222222222222222,\"#7201a8\"],[0.3333333333333333,\"#9c179e\"],[0.4444444444444444,\"#bd3786\"],[0.5555555555555556,\"#d8576b\"],[0.6666666666666666,\"#ed7953\"],[0.7777777777777778,\"#fb9f3a\"],[0.8888888888888888,\"#fdca26\"],[1.0,\"#f0f921\"]],\"type\":\"histogram2d\"}],\"histogram2dcontour\":[{\"colorbar\":{\"outlinewidth\":0,\"ticks\":\"\"},\"colorscale\":[[0.0,\"#0d0887\"],[0.1111111111111111,\"#46039f\"],[0.2222222222222222,\"#7201a8\"],[0.3333333333333333,\"#9c179e\"],[0.4444444444444444,\"#bd3786\"],[0.5555555555555556,\"#d8576b\"],[0.6666666666666666,\"#ed7953\"],[0.7777777777777778,\"#fb9f3a\"],[0.8888888888888888,\"#fdca26\"],[1.0,\"#f0f921\"]],\"type\":\"histogram2dcontour\"}],\"mesh3d\":[{\"colorbar\":{\"outlinewidth\":0,\"ticks\":\"\"},\"type\":\"mesh3d\"}],\"parcoords\":[{\"line\":{\"colorbar\":{\"outlinewidth\":0,\"ticks\":\"\"}},\"type\":\"parcoords\"}],\"pie\":[{\"automargin\":true,\"type\":\"pie\"}],\"scatter\":[{\"marker\":{\"colorbar\":{\"outlinewidth\":0,\"ticks\":\"\"}},\"type\":\"scatter\"}],\"scatter3d\":[{\"line\":{\"colorbar\":{\"outlinewidth\":0,\"ticks\":\"\"}},\"marker\":{\"colorbar\":{\"outlinewidth\":0,\"ticks\":\"\"}},\"type\":\"scatter3d\"}],\"scattercarpet\":[{\"marker\":{\"colorbar\":{\"outlinewidth\":0,\"ticks\":\"\"}},\"type\":\"scattercarpet\"}],\"scattergeo\":[{\"marker\":{\"colorbar\":{\"outlinewidth\":0,\"ticks\":\"\"}},\"type\":\"scattergeo\"}],\"scattergl\":[{\"marker\":{\"colorbar\":{\"outlinewidth\":0,\"ticks\":\"\"}},\"type\":\"scattergl\"}],\"scattermapbox\":[{\"marker\":{\"colorbar\":{\"outlinewidth\":0,\"ticks\":\"\"}},\"type\":\"scattermapbox\"}],\"scatterpolar\":[{\"marker\":{\"colorbar\":{\"outlinewidth\":0,\"ticks\":\"\"}},\"type\":\"scatterpolar\"}],\"scatterpolargl\":[{\"marker\":{\"colorbar\":{\"outlinewidth\":0,\"ticks\":\"\"}},\"type\":\"scatterpolargl\"}],\"scatterternary\":[{\"marker\":{\"colorbar\":{\"outlinewidth\":0,\"ticks\":\"\"}},\"type\":\"scatterternary\"}],\"surface\":[{\"colorbar\":{\"outlinewidth\":0,\"ticks\":\"\"},\"colorscale\":[[0.0,\"#0d0887\"],[0.1111111111111111,\"#46039f\"],[0.2222222222222222,\"#7201a8\"],[0.3333333333333333,\"#9c179e\"],[0.4444444444444444,\"#bd3786\"],[0.5555555555555556,\"#d8576b\"],[0.6666666666666666,\"#ed7953\"],[0.7777777777777778,\"#fb9f3a\"],[0.8888888888888888,\"#fdca26\"],[1.0,\"#f0f921\"]],\"type\":\"surface\"}],\"table\":[{\"cells\":{\"fill\":{\"color\":\"#EBF0F8\"},\"line\":{\"color\":\"white\"}},\"header\":{\"fill\":{\"color\":\"#C8D4E3\"},\"line\":{\"color\":\"white\"}},\"type\":\"table\"}]},\"layout\":{\"annotationdefaults\":{\"arrowcolor\":\"#2a3f5f\",\"arrowhead\":0,\"arrowwidth\":1},\"autotypenumbers\":\"strict\",\"coloraxis\":{\"colorbar\":{\"outlinewidth\":0,\"ticks\":\"\"}},\"colorscale\":{\"diverging\":[[0,\"#8e0152\"],[0.1,\"#c51b7d\"],[0.2,\"#de77ae\"],[0.3,\"#f1b6da\"],[0.4,\"#fde0ef\"],[0.5,\"#f7f7f7\"],[0.6,\"#e6f5d0\"],[0.7,\"#b8e186\"],[0.8,\"#7fbc41\"],[0.9,\"#4d9221\"],[1,\"#276419\"]],\"sequential\":[[0.0,\"#0d0887\"],[0.1111111111111111,\"#46039f\"],[0.2222222222222222,\"#7201a8\"],[0.3333333333333333,\"#9c179e\"],[0.4444444444444444,\"#bd3786\"],[0.5555555555555556,\"#d8576b\"],[0.6666666666666666,\"#ed7953\"],[0.7777777777777778,\"#fb9f3a\"],[0.8888888888888888,\"#fdca26\"],[1.0,\"#f0f921\"]],\"sequentialminus\":[[0.0,\"#0d0887\"],[0.1111111111111111,\"#46039f\"],[0.2222222222222222,\"#7201a8\"],[0.3333333333333333,\"#9c179e\"],[0.4444444444444444,\"#bd3786\"],[0.5555555555555556,\"#d8576b\"],[0.6666666666666666,\"#ed7953\"],[0.7777777777777778,\"#fb9f3a\"],[0.8888888888888888,\"#fdca26\"],[1.0,\"#f0f921\"]]},\"colorway\":[\"#636efa\",\"#EF553B\",\"#00cc96\",\"#ab63fa\",\"#FFA15A\",\"#19d3f3\",\"#FF6692\",\"#B6E880\",\"#FF97FF\",\"#FECB52\"],\"font\":{\"color\":\"#2a3f5f\"},\"geo\":{\"bgcolor\":\"white\",\"lakecolor\":\"white\",\"landcolor\":\"#E5ECF6\",\"showlakes\":true,\"showland\":true,\"subunitcolor\":\"white\"},\"hoverlabel\":{\"align\":\"left\"},\"hovermode\":\"closest\",\"mapbox\":{\"style\":\"light\"},\"paper_bgcolor\":\"white\",\"plot_bgcolor\":\"#E5ECF6\",\"polar\":{\"angularaxis\":{\"gridcolor\":\"white\",\"linecolor\":\"white\",\"ticks\":\"\"},\"bgcolor\":\"#E5ECF6\",\"radialaxis\":{\"gridcolor\":\"white\",\"linecolor\":\"white\",\"ticks\":\"\"}},\"scene\":{\"xaxis\":{\"backgroundcolor\":\"#E5ECF6\",\"gridcolor\":\"white\",\"gridwidth\":2,\"linecolor\":\"white\",\"showbackground\":true,\"ticks\":\"\",\"zerolinecolor\":\"white\"},\"yaxis\":{\"backgroundcolor\":\"#E5ECF6\",\"gridcolor\":\"white\",\"gridwidth\":2,\"linecolor\":\"white\",\"showbackground\":true,\"ticks\":\"\",\"zerolinecolor\":\"white\"},\"zaxis\":{\"backgroundcolor\":\"#E5ECF6\",\"gridcolor\":\"white\",\"gridwidth\":2,\"linecolor\":\"white\",\"showbackground\":true,\"ticks\":\"\",\"zerolinecolor\":\"white\"}},\"shapedefaults\":{\"line\":{\"color\":\"#2a3f5f\"}},\"ternary\":{\"aaxis\":{\"gridcolor\":\"white\",\"linecolor\":\"white\",\"ticks\":\"\"},\"baxis\":{\"gridcolor\":\"white\",\"linecolor\":\"white\",\"ticks\":\"\"},\"bgcolor\":\"#E5ECF6\",\"caxis\":{\"gridcolor\":\"white\",\"linecolor\":\"white\",\"ticks\":\"\"}},\"title\":{\"x\":0.05},\"xaxis\":{\"automargin\":true,\"gridcolor\":\"white\",\"linecolor\":\"white\",\"ticks\":\"\",\"title\":{\"standoff\":15},\"zerolinecolor\":\"white\",\"zerolinewidth\":2},\"yaxis\":{\"automargin\":true,\"gridcolor\":\"white\",\"linecolor\":\"white\",\"ticks\":\"\",\"title\":{\"standoff\":15},\"zerolinecolor\":\"white\",\"zerolinewidth\":2}}},\"xaxis\":{\"anchor\":\"y\",\"domain\":[0.0,1.0],\"title\":{\"text\":\"month\"}},\"yaxis\":{\"anchor\":\"x\",\"domain\":[0.0,1.0],\"title\":{\"text\":\"cnt\"}},\"legend\":{\"tracegroupgap\":0},\"margin\":{\"t\":60},\"boxmode\":\"group\",\"title\":{\"text\":\"Distribution of count by month\"}},                        {\"responsive\": true}                    ).then(function(){\n",
              "                            \n",
              "var gd = document.getElementById('fee79305-4607-4730-ab00-117135c1b5bb');\n",
              "var x = new MutationObserver(function (mutations, observer) {{\n",
              "        var display = window.getComputedStyle(gd).display;\n",
              "        if (!display || display === 'none') {{\n",
              "            console.log([gd, 'removed!']);\n",
              "            Plotly.purge(gd);\n",
              "            observer.disconnect();\n",
              "        }}\n",
              "}});\n",
              "\n",
              "// Listen for the removal of the full notebook cells\n",
              "var notebookContainer = gd.closest('#notebook-container');\n",
              "if (notebookContainer) {{\n",
              "    x.observe(notebookContainer, {childList: true});\n",
              "}}\n",
              "\n",
              "// Listen for the clearing of the current output cell\n",
              "var outputEl = gd.closest('.output');\n",
              "if (outputEl) {{\n",
              "    x.observe(outputEl, {childList: true});\n",
              "}}\n",
              "\n",
              "                        })                };                            </script>        </div>\n",
              "</body>\n",
              "</html>"
            ]
          },
          "metadata": {}
        }
      ]
    },
    {
      "cell_type": "markdown",
      "source": [
        "There is a increase in count for the months from August to October. Using this we will see it based on the season"
      ],
      "metadata": {
        "id": "rQMy-xT41D6y"
      }
    },
    {
      "cell_type": "code",
      "source": [
        "box_season = px.box(rides, x='season', y='cnt')\n",
        "box_season.update_layout(title=\"Distribution of count by season\")\n",
        "box_season .show()"
      ],
      "metadata": {
        "colab": {
          "base_uri": "https://localhost:8080/",
          "height": 542
        },
        "id": "oZb6Vtre1tFh",
        "outputId": "3b81b967-31c5-4a29-f5d3-95e1ec4e4297"
      },
      "execution_count": 1253,
      "outputs": [
        {
          "output_type": "display_data",
          "data": {
            "text/html": [
              "<html>\n",
              "<head><meta charset=\"utf-8\" /></head>\n",
              "<body>\n",
              "    <div>            <script src=\"https://cdnjs.cloudflare.com/ajax/libs/mathjax/2.7.5/MathJax.js?config=TeX-AMS-MML_SVG\"></script><script type=\"text/javascript\">if (window.MathJax) {MathJax.Hub.Config({SVG: {font: \"STIX-Web\"}});}</script>                <script type=\"text/javascript\">window.PlotlyConfig = {MathJaxConfig: 'local'};</script>\n",
              "        <script src=\"https://cdn.plot.ly/plotly-2.8.3.min.js\"></script>                <div id=\"a0e58c24-9542-45cf-b89f-ea71962ca8fb\" class=\"plotly-graph-div\" style=\"height:525px; width:100%;\"></div>            <script type=\"text/javascript\">                                    window.PLOTLYENV=window.PLOTLYENV || {};                                    if (document.getElementById(\"a0e58c24-9542-45cf-b89f-ea71962ca8fb\")) {                    Plotly.newPlot(                        \"a0e58c24-9542-45cf-b89f-ea71962ca8fb\",                        [{\"alignmentgroup\":\"True\",\"hovertemplate\":\"season=%{x}<br>cnt=%{y}<extra></extra>\",\"legendgroup\":\"\",\"marker\":{\"color\":\"#636efa\"},\"name\":\"\",\"notched\":false,\"offsetgroup\":\"\",\"orientation\":\"v\",\"showlegend\":false,\"x\":[\"spring\",\"spring\",\"spring\",\"spring\",\"spring\",\"spring\",\"spring\",\"spring\",\"spring\",\"spring\",\"spring\",\"spring\",\"spring\",\"spring\",\"spring\",\"spring\",\"spring\",\"spring\",\"spring\",\"spring\",\"spring\",\"spring\",\"spring\",\"spring\",\"spring\",\"spring\",\"spring\",\"spring\",\"spring\",\"spring\",\"spring\",\"spring\",\"spring\",\"spring\",\"spring\",\"spring\",\"spring\",\"spring\",\"spring\",\"spring\",\"spring\",\"spring\",\"spring\",\"spring\",\"spring\",\"spring\",\"spring\",\"spring\",\"spring\",\"spring\",\"spring\",\"spring\",\"spring\",\"spring\",\"spring\",\"spring\",\"spring\",\"spring\",\"spring\",\"spring\",\"spring\",\"spring\",\"spring\",\"spring\",\"spring\",\"spring\",\"spring\",\"spring\",\"spring\",\"spring\",\"spring\",\"spring\",\"spring\",\"spring\",\"spring\",\"spring\",\"spring\",\"spring\",\"spring\",\"summer\",\"summer\",\"summer\",\"summer\",\"summer\",\"summer\",\"summer\",\"summer\",\"summer\",\"summer\",\"summer\",\"summer\",\"summer\",\"summer\",\"summer\",\"summer\",\"summer\",\"summer\",\"summer\",\"summer\",\"summer\",\"summer\",\"summer\",\"summer\",\"summer\",\"summer\",\"summer\",\"summer\",\"summer\",\"summer\",\"summer\",\"summer\",\"summer\",\"summer\",\"summer\",\"summer\",\"summer\",\"summer\",\"summer\",\"summer\",\"summer\",\"summer\",\"summer\",\"summer\",\"summer\",\"summer\",\"summer\",\"summer\",\"summer\",\"summer\",\"summer\",\"summer\",\"summer\",\"summer\",\"summer\",\"summer\",\"summer\",\"summer\",\"summer\",\"summer\",\"summer\",\"summer\",\"summer\",\"summer\",\"summer\",\"summer\",\"summer\",\"summer\",\"summer\",\"summer\",\"summer\",\"summer\",\"summer\",\"summer\",\"summer\",\"summer\",\"summer\",\"summer\",\"summer\",\"summer\",\"summer\",\"summer\",\"summer\",\"summer\",\"summer\",\"summer\",\"summer\",\"summer\",\"summer\",\"summer\",\"summer\",\"summer\",\"fall\",\"fall\",\"fall\",\"fall\",\"fall\",\"fall\",\"fall\",\"fall\",\"fall\",\"fall\",\"fall\",\"fall\",\"fall\",\"fall\",\"fall\",\"fall\",\"fall\",\"fall\",\"fall\",\"fall\",\"fall\",\"fall\",\"fall\",\"fall\",\"fall\",\"fall\",\"fall\",\"fall\",\"fall\",\"fall\",\"fall\",\"fall\",\"fall\",\"fall\",\"fall\",\"fall\",\"fall\",\"fall\",\"fall\",\"fall\",\"fall\",\"fall\",\"fall\",\"fall\",\"fall\",\"fall\",\"fall\",\"fall\",\"fall\",\"fall\",\"fall\",\"fall\",\"fall\",\"fall\",\"fall\",\"fall\",\"fall\",\"fall\",\"fall\",\"fall\",\"fall\",\"fall\",\"fall\",\"fall\",\"fall\",\"fall\",\"fall\",\"fall\",\"fall\",\"fall\",\"fall\",\"fall\",\"fall\",\"fall\",\"fall\",\"fall\",\"fall\",\"fall\",\"fall\",\"fall\",\"fall\",\"fall\",\"fall\",\"fall\",\"fall\",\"fall\",\"fall\",\"fall\",\"fall\",\"fall\",\"fall\",\"fall\",\"fall\",\"fall\",\"winter\",\"winter\",\"winter\",\"winter\",\"winter\",\"winter\",\"winter\",\"winter\",\"winter\",\"winter\",\"winter\",\"winter\",\"winter\",\"winter\",\"winter\",\"winter\",\"winter\",\"winter\",\"winter\",\"winter\",\"winter\",\"winter\",\"winter\",\"winter\",\"winter\",\"winter\",\"winter\",\"winter\",\"winter\",\"winter\",\"winter\",\"winter\",\"winter\",\"winter\",\"winter\",\"winter\",\"winter\",\"winter\",\"winter\",\"winter\",\"winter\",\"winter\",\"winter\",\"winter\",\"winter\",\"winter\",\"winter\",\"winter\",\"winter\",\"winter\",\"winter\",\"winter\",\"winter\",\"winter\",\"winter\",\"winter\",\"winter\",\"winter\",\"winter\",\"winter\",\"winter\",\"winter\",\"winter\",\"winter\",\"winter\",\"winter\",\"winter\",\"winter\",\"winter\",\"winter\",\"winter\",\"winter\",\"winter\",\"winter\",\"winter\",\"winter\",\"winter\",\"winter\",\"winter\",\"winter\",\"winter\",\"winter\",\"winter\",\"winter\",\"winter\",\"winter\",\"winter\",\"winter\",\"winter\",\"spring\",\"spring\",\"spring\",\"spring\",\"spring\",\"spring\",\"spring\",\"spring\",\"spring\",\"spring\",\"spring\",\"spring\",\"spring\",\"spring\",\"spring\",\"spring\",\"spring\",\"spring\",\"spring\",\"spring\",\"spring\",\"spring\",\"spring\",\"spring\",\"spring\",\"spring\",\"spring\",\"spring\",\"spring\",\"spring\",\"spring\",\"spring\",\"spring\",\"spring\",\"spring\",\"spring\",\"spring\",\"spring\",\"spring\",\"spring\",\"spring\",\"spring\",\"spring\",\"spring\",\"spring\",\"spring\",\"spring\",\"spring\",\"spring\",\"spring\",\"spring\",\"spring\",\"spring\",\"spring\",\"spring\",\"spring\",\"spring\",\"spring\",\"spring\",\"spring\",\"spring\",\"spring\",\"spring\",\"spring\",\"spring\",\"spring\",\"spring\",\"spring\",\"spring\",\"spring\",\"spring\",\"spring\",\"spring\",\"spring\",\"spring\",\"spring\",\"spring\",\"spring\",\"spring\",\"spring\",\"spring\",\"spring\",\"spring\",\"spring\",\"spring\",\"spring\",\"spring\",\"spring\",\"spring\",\"spring\",\"summer\",\"summer\",\"summer\",\"summer\",\"summer\",\"summer\",\"summer\",\"summer\",\"summer\",\"summer\",\"summer\",\"summer\",\"summer\",\"summer\",\"summer\",\"summer\",\"summer\",\"summer\",\"summer\",\"summer\",\"summer\",\"summer\",\"summer\",\"summer\",\"summer\",\"summer\",\"summer\",\"summer\",\"summer\",\"summer\",\"summer\",\"summer\",\"summer\",\"summer\",\"summer\",\"summer\",\"summer\",\"summer\",\"summer\",\"summer\",\"summer\",\"summer\",\"summer\",\"summer\",\"summer\",\"summer\",\"summer\",\"summer\",\"summer\",\"summer\",\"summer\",\"summer\",\"summer\",\"summer\",\"summer\",\"summer\",\"summer\",\"summer\",\"summer\",\"summer\",\"summer\",\"summer\",\"summer\",\"summer\",\"summer\",\"summer\",\"summer\",\"summer\",\"summer\",\"summer\",\"summer\",\"summer\",\"summer\",\"summer\",\"summer\",\"summer\",\"summer\",\"summer\",\"summer\",\"summer\",\"summer\",\"summer\",\"summer\",\"summer\",\"summer\",\"summer\",\"summer\",\"summer\",\"summer\",\"summer\",\"summer\",\"summer\",\"fall\",\"fall\",\"fall\",\"fall\",\"fall\",\"fall\",\"fall\",\"fall\",\"fall\",\"fall\",\"fall\",\"fall\",\"fall\",\"fall\",\"fall\",\"fall\",\"fall\",\"fall\",\"fall\",\"fall\",\"fall\",\"fall\",\"fall\",\"fall\",\"fall\",\"fall\",\"fall\",\"fall\",\"fall\",\"fall\",\"fall\",\"fall\",\"fall\",\"fall\",\"fall\",\"fall\",\"fall\",\"fall\",\"fall\",\"fall\",\"fall\",\"fall\",\"fall\",\"fall\",\"fall\",\"fall\",\"fall\",\"fall\",\"fall\",\"fall\",\"fall\",\"fall\",\"fall\",\"fall\",\"fall\",\"fall\",\"fall\",\"fall\",\"fall\",\"fall\",\"fall\",\"fall\",\"fall\",\"fall\",\"fall\",\"fall\",\"fall\",\"fall\",\"fall\",\"fall\",\"fall\",\"fall\",\"fall\",\"fall\",\"fall\",\"fall\",\"fall\",\"fall\",\"fall\",\"fall\",\"fall\",\"fall\",\"fall\",\"fall\",\"fall\",\"fall\",\"fall\",\"fall\",\"fall\",\"fall\",\"fall\",\"fall\",\"fall\",\"fall\",\"winter\",\"winter\",\"winter\",\"winter\",\"winter\",\"winter\",\"winter\",\"winter\",\"winter\",\"winter\",\"winter\",\"winter\",\"winter\",\"winter\",\"winter\",\"winter\",\"winter\",\"winter\",\"winter\",\"winter\",\"winter\",\"winter\",\"winter\",\"winter\",\"winter\",\"winter\",\"winter\",\"winter\",\"winter\",\"winter\",\"winter\",\"winter\",\"winter\",\"winter\",\"winter\",\"winter\",\"winter\",\"winter\",\"winter\",\"winter\",\"winter\",\"winter\",\"winter\",\"winter\",\"winter\",\"winter\",\"winter\",\"winter\",\"winter\",\"winter\",\"winter\",\"winter\",\"winter\",\"winter\",\"winter\",\"winter\",\"winter\",\"winter\",\"winter\",\"winter\",\"winter\",\"winter\",\"winter\",\"winter\",\"winter\",\"winter\",\"winter\",\"winter\",\"winter\",\"winter\",\"winter\",\"winter\",\"winter\",\"winter\",\"winter\",\"winter\",\"winter\",\"winter\",\"winter\",\"winter\",\"winter\",\"winter\",\"winter\",\"winter\",\"winter\",\"winter\",\"winter\",\"winter\",\"winter\",\"spring\",\"spring\",\"spring\",\"spring\",\"spring\",\"spring\",\"spring\",\"spring\",\"spring\",\"spring\",\"spring\"],\"x0\":\" \",\"xaxis\":\"x\",\"y\":[985,801,1349,1562,1600,1606,1510,959,822,1321,1263,1162,1406,1421,1248,1204,1000,683,1650,1927,1543,981,986,1416,1985,506,431,1167,1098,1096,1501,1360,1526,1550,1708,1005,1623,1712,1530,1605,1538,1746,1472,1589,1913,1815,2115,2475,2927,1635,1812,1107,1450,1917,1807,1461,1969,2402,1446,1851,2134,1685,1944,2077,605,1872,2133,1891,623,1977,2132,2417,2046,2056,2192,2744,3239,3117,2471,2077,2703,2121,1865,2210,2496,1693,2028,2425,1536,1685,2227,2252,3249,3115,1795,2808,3141,1471,2455,2895,3348,2034,2162,3267,3126,795,3744,3429,3204,3944,4189,1683,4036,4191,4073,4400,3872,4058,4595,5312,3351,4401,4451,2633,4433,4608,4714,4333,4362,4803,4182,4864,4105,3409,4553,3958,4123,3855,4575,4917,5805,4660,4274,4492,4978,4677,4679,4758,4788,4098,3982,3974,4968,5312,5342,4906,4548,4833,4401,3915,4586,4966,4460,5020,4891,5180,3767,4844,5119,4744,4010,4835,4507,4790,4991,5202,5305,4708,4648,5225,5515,5362,5119,4649,6043,4665,4629,4592,4040,5336,4881,4086,4258,4342,5084,5538,5923,5302,4458,4541,4332,3784,3387,3285,3606,3840,4590,4656,4390,3846,4475,4302,4266,4845,3574,4576,4866,4294,3785,4326,4602,4780,4792,4905,4150,3820,4338,4725,4694,3805,4153,5191,3873,4758,5895,5130,3542,4661,1115,4334,4634,5204,5058,5115,4727,4484,4940,3351,2710,1996,1842,3544,5345,5046,4713,4763,4785,3659,4760,4511,4274,4539,3641,4352,4795,2395,5423,5010,4630,4120,3907,4839,5202,2429,2918,3570,4456,4826,4765,4985,5409,5511,5117,4563,2416,2913,3644,5217,5041,4570,4748,2424,4195,4304,4308,4381,4187,4687,3894,2659,3747,627,3331,3669,4068,4186,3974,4046,3926,3649,4035,4205,4109,2933,3368,4067,3717,4486,4195,1817,3053,3392,3663,3520,2765,1607,2566,1495,2792,3068,3071,3867,2914,3613,3727,3940,3614,3485,3811,2594,705,3322,3620,3190,2743,3310,3523,3740,3709,3577,2739,2431,3403,3750,2660,3068,2209,1011,754,1317,1162,2302,2423,2999,2485,2294,1951,2236,2368,3272,4098,4521,3425,2376,3598,2177,4097,3214,2493,2311,2298,2935,3376,3292,3163,1301,1977,2432,4339,4270,4075,3456,4023,3243,3624,4509,4579,3761,4151,2832,2947,3784,4375,2802,3830,3831,2169,1529,3422,3922,4169,3005,4154,4318,2689,3129,3777,4773,5062,3487,2732,3389,4322,4363,4990,3194,4066,3423,3333,3956,4916,5382,4569,4118,4911,5298,5847,6312,6192,4378,7836,5892,6153,6093,6230,6871,8362,3372,4996,5558,5102,5698,6133,5459,6235,6041,5936,6772,6436,6457,6460,6857,5169,5585,5918,4862,5409,6398,7460,7132,6370,6691,4367,6565,7290,6624,1027,3214,5633,6196,5026,6233,4220,6304,5572,5740,6169,6421,6296,6883,6359,6273,5728,4717,6572,7030,7429,6118,2843,5115,7424,7384,7639,8294,7129,4359,6073,5260,6770,6734,6536,6591,6043,5743,6855,7338,4127,8120,7641,6998,7001,7055,7494,7736,7498,6598,6664,4972,7421,7363,7665,7702,6978,5099,6825,6211,5905,5823,7458,6891,6779,7442,7335,6879,5463,5687,5531,6227,6660,7403,6241,6207,4840,4672,6569,6290,7264,7446,7499,6969,6031,6830,6786,5713,6591,5870,4459,7410,6966,7592,8173,6861,6904,6685,6597,7105,7216,7580,7261,7175,6824,5464,7013,7273,7534,7286,5786,6299,6544,6883,6784,7347,7605,7148,7865,4549,6530,7006,7375,7765,7582,6053,5255,6917,7040,7697,7713,7350,6140,5810,6034,6864,7112,6203,7504,5976,8227,7525,7767,7870,7804,8009,8714,7333,6869,4073,7591,7720,8167,8395,7907,7436,7538,7733,7393,7415,8555,6889,6778,4639,7572,7328,8156,7965,3510,5478,6392,7691,7570,7282,7109,6639,5875,7534,7461,7509,5424,8090,6824,7058,7466,7693,7359,7444,7852,4459,22,1096,5566,5986,5847,5138,5107,5259,5686,5035,5315,5992,6536,6852,6269,4094,5495,5445,5698,5629,4669,5499,5634,5146,2425,3910,2277,2424,5087,3959,5260,5323,5668,5191,4649,6234,6606,5729,5375,5008,5582,3228,5170,5501,5319,5532,5611,5047,3786,4585,5557,5267,4128,3623,1749,1787,920,1013,441,2114,3095,1341,1796,2729],\"y0\":\" \",\"yaxis\":\"y\",\"type\":\"box\"}],                        {\"template\":{\"data\":{\"bar\":[{\"error_x\":{\"color\":\"#2a3f5f\"},\"error_y\":{\"color\":\"#2a3f5f\"},\"marker\":{\"line\":{\"color\":\"#E5ECF6\",\"width\":0.5},\"pattern\":{\"fillmode\":\"overlay\",\"size\":10,\"solidity\":0.2}},\"type\":\"bar\"}],\"barpolar\":[{\"marker\":{\"line\":{\"color\":\"#E5ECF6\",\"width\":0.5},\"pattern\":{\"fillmode\":\"overlay\",\"size\":10,\"solidity\":0.2}},\"type\":\"barpolar\"}],\"carpet\":[{\"aaxis\":{\"endlinecolor\":\"#2a3f5f\",\"gridcolor\":\"white\",\"linecolor\":\"white\",\"minorgridcolor\":\"white\",\"startlinecolor\":\"#2a3f5f\"},\"baxis\":{\"endlinecolor\":\"#2a3f5f\",\"gridcolor\":\"white\",\"linecolor\":\"white\",\"minorgridcolor\":\"white\",\"startlinecolor\":\"#2a3f5f\"},\"type\":\"carpet\"}],\"choropleth\":[{\"colorbar\":{\"outlinewidth\":0,\"ticks\":\"\"},\"type\":\"choropleth\"}],\"contour\":[{\"colorbar\":{\"outlinewidth\":0,\"ticks\":\"\"},\"colorscale\":[[0.0,\"#0d0887\"],[0.1111111111111111,\"#46039f\"],[0.2222222222222222,\"#7201a8\"],[0.3333333333333333,\"#9c179e\"],[0.4444444444444444,\"#bd3786\"],[0.5555555555555556,\"#d8576b\"],[0.6666666666666666,\"#ed7953\"],[0.7777777777777778,\"#fb9f3a\"],[0.8888888888888888,\"#fdca26\"],[1.0,\"#f0f921\"]],\"type\":\"contour\"}],\"contourcarpet\":[{\"colorbar\":{\"outlinewidth\":0,\"ticks\":\"\"},\"type\":\"contourcarpet\"}],\"heatmap\":[{\"colorbar\":{\"outlinewidth\":0,\"ticks\":\"\"},\"colorscale\":[[0.0,\"#0d0887\"],[0.1111111111111111,\"#46039f\"],[0.2222222222222222,\"#7201a8\"],[0.3333333333333333,\"#9c179e\"],[0.4444444444444444,\"#bd3786\"],[0.5555555555555556,\"#d8576b\"],[0.6666666666666666,\"#ed7953\"],[0.7777777777777778,\"#fb9f3a\"],[0.8888888888888888,\"#fdca26\"],[1.0,\"#f0f921\"]],\"type\":\"heatmap\"}],\"heatmapgl\":[{\"colorbar\":{\"outlinewidth\":0,\"ticks\":\"\"},\"colorscale\":[[0.0,\"#0d0887\"],[0.1111111111111111,\"#46039f\"],[0.2222222222222222,\"#7201a8\"],[0.3333333333333333,\"#9c179e\"],[0.4444444444444444,\"#bd3786\"],[0.5555555555555556,\"#d8576b\"],[0.6666666666666666,\"#ed7953\"],[0.7777777777777778,\"#fb9f3a\"],[0.8888888888888888,\"#fdca26\"],[1.0,\"#f0f921\"]],\"type\":\"heatmapgl\"}],\"histogram\":[{\"marker\":{\"pattern\":{\"fillmode\":\"overlay\",\"size\":10,\"solidity\":0.2}},\"type\":\"histogram\"}],\"histogram2d\":[{\"colorbar\":{\"outlinewidth\":0,\"ticks\":\"\"},\"colorscale\":[[0.0,\"#0d0887\"],[0.1111111111111111,\"#46039f\"],[0.2222222222222222,\"#7201a8\"],[0.3333333333333333,\"#9c179e\"],[0.4444444444444444,\"#bd3786\"],[0.5555555555555556,\"#d8576b\"],[0.6666666666666666,\"#ed7953\"],[0.7777777777777778,\"#fb9f3a\"],[0.8888888888888888,\"#fdca26\"],[1.0,\"#f0f921\"]],\"type\":\"histogram2d\"}],\"histogram2dcontour\":[{\"colorbar\":{\"outlinewidth\":0,\"ticks\":\"\"},\"colorscale\":[[0.0,\"#0d0887\"],[0.1111111111111111,\"#46039f\"],[0.2222222222222222,\"#7201a8\"],[0.3333333333333333,\"#9c179e\"],[0.4444444444444444,\"#bd3786\"],[0.5555555555555556,\"#d8576b\"],[0.6666666666666666,\"#ed7953\"],[0.7777777777777778,\"#fb9f3a\"],[0.8888888888888888,\"#fdca26\"],[1.0,\"#f0f921\"]],\"type\":\"histogram2dcontour\"}],\"mesh3d\":[{\"colorbar\":{\"outlinewidth\":0,\"ticks\":\"\"},\"type\":\"mesh3d\"}],\"parcoords\":[{\"line\":{\"colorbar\":{\"outlinewidth\":0,\"ticks\":\"\"}},\"type\":\"parcoords\"}],\"pie\":[{\"automargin\":true,\"type\":\"pie\"}],\"scatter\":[{\"marker\":{\"colorbar\":{\"outlinewidth\":0,\"ticks\":\"\"}},\"type\":\"scatter\"}],\"scatter3d\":[{\"line\":{\"colorbar\":{\"outlinewidth\":0,\"ticks\":\"\"}},\"marker\":{\"colorbar\":{\"outlinewidth\":0,\"ticks\":\"\"}},\"type\":\"scatter3d\"}],\"scattercarpet\":[{\"marker\":{\"colorbar\":{\"outlinewidth\":0,\"ticks\":\"\"}},\"type\":\"scattercarpet\"}],\"scattergeo\":[{\"marker\":{\"colorbar\":{\"outlinewidth\":0,\"ticks\":\"\"}},\"type\":\"scattergeo\"}],\"scattergl\":[{\"marker\":{\"colorbar\":{\"outlinewidth\":0,\"ticks\":\"\"}},\"type\":\"scattergl\"}],\"scattermapbox\":[{\"marker\":{\"colorbar\":{\"outlinewidth\":0,\"ticks\":\"\"}},\"type\":\"scattermapbox\"}],\"scatterpolar\":[{\"marker\":{\"colorbar\":{\"outlinewidth\":0,\"ticks\":\"\"}},\"type\":\"scatterpolar\"}],\"scatterpolargl\":[{\"marker\":{\"colorbar\":{\"outlinewidth\":0,\"ticks\":\"\"}},\"type\":\"scatterpolargl\"}],\"scatterternary\":[{\"marker\":{\"colorbar\":{\"outlinewidth\":0,\"ticks\":\"\"}},\"type\":\"scatterternary\"}],\"surface\":[{\"colorbar\":{\"outlinewidth\":0,\"ticks\":\"\"},\"colorscale\":[[0.0,\"#0d0887\"],[0.1111111111111111,\"#46039f\"],[0.2222222222222222,\"#7201a8\"],[0.3333333333333333,\"#9c179e\"],[0.4444444444444444,\"#bd3786\"],[0.5555555555555556,\"#d8576b\"],[0.6666666666666666,\"#ed7953\"],[0.7777777777777778,\"#fb9f3a\"],[0.8888888888888888,\"#fdca26\"],[1.0,\"#f0f921\"]],\"type\":\"surface\"}],\"table\":[{\"cells\":{\"fill\":{\"color\":\"#EBF0F8\"},\"line\":{\"color\":\"white\"}},\"header\":{\"fill\":{\"color\":\"#C8D4E3\"},\"line\":{\"color\":\"white\"}},\"type\":\"table\"}]},\"layout\":{\"annotationdefaults\":{\"arrowcolor\":\"#2a3f5f\",\"arrowhead\":0,\"arrowwidth\":1},\"autotypenumbers\":\"strict\",\"coloraxis\":{\"colorbar\":{\"outlinewidth\":0,\"ticks\":\"\"}},\"colorscale\":{\"diverging\":[[0,\"#8e0152\"],[0.1,\"#c51b7d\"],[0.2,\"#de77ae\"],[0.3,\"#f1b6da\"],[0.4,\"#fde0ef\"],[0.5,\"#f7f7f7\"],[0.6,\"#e6f5d0\"],[0.7,\"#b8e186\"],[0.8,\"#7fbc41\"],[0.9,\"#4d9221\"],[1,\"#276419\"]],\"sequential\":[[0.0,\"#0d0887\"],[0.1111111111111111,\"#46039f\"],[0.2222222222222222,\"#7201a8\"],[0.3333333333333333,\"#9c179e\"],[0.4444444444444444,\"#bd3786\"],[0.5555555555555556,\"#d8576b\"],[0.6666666666666666,\"#ed7953\"],[0.7777777777777778,\"#fb9f3a\"],[0.8888888888888888,\"#fdca26\"],[1.0,\"#f0f921\"]],\"sequentialminus\":[[0.0,\"#0d0887\"],[0.1111111111111111,\"#46039f\"],[0.2222222222222222,\"#7201a8\"],[0.3333333333333333,\"#9c179e\"],[0.4444444444444444,\"#bd3786\"],[0.5555555555555556,\"#d8576b\"],[0.6666666666666666,\"#ed7953\"],[0.7777777777777778,\"#fb9f3a\"],[0.8888888888888888,\"#fdca26\"],[1.0,\"#f0f921\"]]},\"colorway\":[\"#636efa\",\"#EF553B\",\"#00cc96\",\"#ab63fa\",\"#FFA15A\",\"#19d3f3\",\"#FF6692\",\"#B6E880\",\"#FF97FF\",\"#FECB52\"],\"font\":{\"color\":\"#2a3f5f\"},\"geo\":{\"bgcolor\":\"white\",\"lakecolor\":\"white\",\"landcolor\":\"#E5ECF6\",\"showlakes\":true,\"showland\":true,\"subunitcolor\":\"white\"},\"hoverlabel\":{\"align\":\"left\"},\"hovermode\":\"closest\",\"mapbox\":{\"style\":\"light\"},\"paper_bgcolor\":\"white\",\"plot_bgcolor\":\"#E5ECF6\",\"polar\":{\"angularaxis\":{\"gridcolor\":\"white\",\"linecolor\":\"white\",\"ticks\":\"\"},\"bgcolor\":\"#E5ECF6\",\"radialaxis\":{\"gridcolor\":\"white\",\"linecolor\":\"white\",\"ticks\":\"\"}},\"scene\":{\"xaxis\":{\"backgroundcolor\":\"#E5ECF6\",\"gridcolor\":\"white\",\"gridwidth\":2,\"linecolor\":\"white\",\"showbackground\":true,\"ticks\":\"\",\"zerolinecolor\":\"white\"},\"yaxis\":{\"backgroundcolor\":\"#E5ECF6\",\"gridcolor\":\"white\",\"gridwidth\":2,\"linecolor\":\"white\",\"showbackground\":true,\"ticks\":\"\",\"zerolinecolor\":\"white\"},\"zaxis\":{\"backgroundcolor\":\"#E5ECF6\",\"gridcolor\":\"white\",\"gridwidth\":2,\"linecolor\":\"white\",\"showbackground\":true,\"ticks\":\"\",\"zerolinecolor\":\"white\"}},\"shapedefaults\":{\"line\":{\"color\":\"#2a3f5f\"}},\"ternary\":{\"aaxis\":{\"gridcolor\":\"white\",\"linecolor\":\"white\",\"ticks\":\"\"},\"baxis\":{\"gridcolor\":\"white\",\"linecolor\":\"white\",\"ticks\":\"\"},\"bgcolor\":\"#E5ECF6\",\"caxis\":{\"gridcolor\":\"white\",\"linecolor\":\"white\",\"ticks\":\"\"}},\"title\":{\"x\":0.05},\"xaxis\":{\"automargin\":true,\"gridcolor\":\"white\",\"linecolor\":\"white\",\"ticks\":\"\",\"title\":{\"standoff\":15},\"zerolinecolor\":\"white\",\"zerolinewidth\":2},\"yaxis\":{\"automargin\":true,\"gridcolor\":\"white\",\"linecolor\":\"white\",\"ticks\":\"\",\"title\":{\"standoff\":15},\"zerolinecolor\":\"white\",\"zerolinewidth\":2}}},\"xaxis\":{\"anchor\":\"y\",\"domain\":[0.0,1.0],\"title\":{\"text\":\"season\"}},\"yaxis\":{\"anchor\":\"x\",\"domain\":[0.0,1.0],\"title\":{\"text\":\"cnt\"}},\"legend\":{\"tracegroupgap\":0},\"margin\":{\"t\":60},\"boxmode\":\"group\",\"title\":{\"text\":\"Distribution of count by season\"}},                        {\"responsive\": true}                    ).then(function(){\n",
              "                            \n",
              "var gd = document.getElementById('a0e58c24-9542-45cf-b89f-ea71962ca8fb');\n",
              "var x = new MutationObserver(function (mutations, observer) {{\n",
              "        var display = window.getComputedStyle(gd).display;\n",
              "        if (!display || display === 'none') {{\n",
              "            console.log([gd, 'removed!']);\n",
              "            Plotly.purge(gd);\n",
              "            observer.disconnect();\n",
              "        }}\n",
              "}});\n",
              "\n",
              "// Listen for the removal of the full notebook cells\n",
              "var notebookContainer = gd.closest('#notebook-container');\n",
              "if (notebookContainer) {{\n",
              "    x.observe(notebookContainer, {childList: true});\n",
              "}}\n",
              "\n",
              "// Listen for the clearing of the current output cell\n",
              "var outputEl = gd.closest('.output');\n",
              "if (outputEl) {{\n",
              "    x.observe(outputEl, {childList: true});\n",
              "}}\n",
              "\n",
              "                        })                };                            </script>        </div>\n",
              "</body>\n",
              "</html>"
            ]
          },
          "metadata": {}
        }
      ]
    },
    {
      "cell_type": "markdown",
      "source": [
        "for the seasons Summer and fall there is an increase in cnt"
      ],
      "metadata": {
        "id": "v5E097pl3Z2o"
      }
    },
    {
      "cell_type": "code",
      "source": [
        "box_season = px.box(rides, x='weathersit', y='cnt')\n",
        "box_season.update_layout(title=\"Distribution of count by weather\")\n",
        "box_season .show()"
      ],
      "metadata": {
        "colab": {
          "base_uri": "https://localhost:8080/",
          "height": 542
        },
        "id": "fPgwQY4D16-P",
        "outputId": "46f7bc70-756a-41c9-98b0-dcbda001e8ef"
      },
      "execution_count": 1254,
      "outputs": [
        {
          "output_type": "display_data",
          "data": {
            "text/html": [
              "<html>\n",
              "<head><meta charset=\"utf-8\" /></head>\n",
              "<body>\n",
              "    <div>            <script src=\"https://cdnjs.cloudflare.com/ajax/libs/mathjax/2.7.5/MathJax.js?config=TeX-AMS-MML_SVG\"></script><script type=\"text/javascript\">if (window.MathJax) {MathJax.Hub.Config({SVG: {font: \"STIX-Web\"}});}</script>                <script type=\"text/javascript\">window.PlotlyConfig = {MathJaxConfig: 'local'};</script>\n",
              "        <script src=\"https://cdn.plot.ly/plotly-2.8.3.min.js\"></script>                <div id=\"9a1734a0-ea03-4575-833c-14b24336bd49\" class=\"plotly-graph-div\" style=\"height:525px; width:100%;\"></div>            <script type=\"text/javascript\">                                    window.PLOTLYENV=window.PLOTLYENV || {};                                    if (document.getElementById(\"9a1734a0-ea03-4575-833c-14b24336bd49\")) {                    Plotly.newPlot(                        \"9a1734a0-ea03-4575-833c-14b24336bd49\",                        [{\"alignmentgroup\":\"True\",\"hovertemplate\":\"weathersit=%{x}<br>cnt=%{y}<extra></extra>\",\"legendgroup\":\"\",\"marker\":{\"color\":\"#636efa\"},\"name\":\"\",\"notched\":false,\"offsetgroup\":\"\",\"orientation\":\"v\",\"showlegend\":false,\"x\":[\"Mist + Cloudy\",\"Mist + Cloudy\",\"Clear\",\"Clear\",\"Clear\",\"Clear\",\"Mist + Cloudy\",\"Mist + Cloudy\",\"Clear\",\"Clear\",\"Mist + Cloudy\",\"Clear\",\"Clear\",\"Clear\",\"Mist + Cloudy\",\"Clear\",\"Mist + Cloudy\",\"Mist + Cloudy\",\"Mist + Cloudy\",\"Mist + Cloudy\",\"Clear\",\"Clear\",\"Clear\",\"Clear\",\"Mist + Cloudy\",\"Light Snow\",\"Clear\",\"Mist + Cloudy\",\"Clear\",\"Clear\",\"Mist + Cloudy\",\"Mist + Cloudy\",\"Mist + Cloudy\",\"Clear\",\"Mist + Cloudy\",\"Mist + Cloudy\",\"Clear\",\"Clear\",\"Clear\",\"Mist + Cloudy\",\"Clear\",\"Clear\",\"Clear\",\"Clear\",\"Clear\",\"Clear\",\"Clear\",\"Clear\",\"Clear\",\"Clear\",\"Clear\",\"Mist + Cloudy\",\"Clear\",\"Clear\",\"Mist + Cloudy\",\"Mist + Cloudy\",\"Clear\",\"Clear\",\"Mist + Cloudy\",\"Clear\",\"Clear\",\"Clear\",\"Mist + Cloudy\",\"Mist + Cloudy\",\"Mist + Cloudy\",\"Clear\",\"Clear\",\"Mist + Cloudy\",\"Light Snow\",\"Mist + Cloudy\",\"Clear\",\"Clear\",\"Clear\",\"Mist + Cloudy\",\"Mist + Cloudy\",\"Clear\",\"Clear\",\"Clear\",\"Clear\",\"Mist + Cloudy\",\"Clear\",\"Mist + Cloudy\",\"Mist + Cloudy\",\"Clear\",\"Clear\",\"Mist + Cloudy\",\"Clear\",\"Clear\",\"Mist + Cloudy\",\"Light Snow\",\"Mist + Cloudy\",\"Mist + Cloudy\",\"Clear\",\"Clear\",\"Mist + Cloudy\",\"Clear\",\"Clear\",\"Mist + Cloudy\",\"Mist + Cloudy\",\"Mist + Cloudy\",\"Mist + Cloudy\",\"Mist + Cloudy\",\"Mist + Cloudy\",\"Clear\",\"Clear\",\"Light Snow\",\"Clear\",\"Clear\",\"Mist + Cloudy\",\"Clear\",\"Clear\",\"Mist + Cloudy\",\"Mist + Cloudy\",\"Mist + Cloudy\",\"Clear\",\"Clear\",\"Mist + Cloudy\",\"Mist + Cloudy\",\"Clear\",\"Clear\",\"Mist + Cloudy\",\"Mist + Cloudy\",\"Mist + Cloudy\",\"Mist + Cloudy\",\"Clear\",\"Clear\",\"Clear\",\"Clear\",\"Clear\",\"Clear\",\"Clear\",\"Clear\",\"Mist + Cloudy\",\"Mist + Cloudy\",\"Mist + Cloudy\",\"Clear\",\"Mist + Cloudy\",\"Mist + Cloudy\",\"Mist + Cloudy\",\"Clear\",\"Clear\",\"Clear\",\"Mist + Cloudy\",\"Mist + Cloudy\",\"Clear\",\"Clear\",\"Clear\",\"Clear\",\"Clear\",\"Clear\",\"Clear\",\"Mist + Cloudy\",\"Clear\",\"Clear\",\"Clear\",\"Mist + Cloudy\",\"Clear\",\"Clear\",\"Clear\",\"Mist + Cloudy\",\"Clear\",\"Clear\",\"Clear\",\"Clear\",\"Clear\",\"Clear\",\"Mist + Cloudy\",\"Clear\",\"Clear\",\"Mist + Cloudy\",\"Mist + Cloudy\",\"Mist + Cloudy\",\"Clear\",\"Mist + Cloudy\",\"Clear\",\"Clear\",\"Clear\",\"Mist + Cloudy\",\"Clear\",\"Clear\",\"Clear\",\"Clear\",\"Clear\",\"Mist + Cloudy\",\"Mist + Cloudy\",\"Clear\",\"Clear\",\"Clear\",\"Mist + Cloudy\",\"Clear\",\"Clear\",\"Clear\",\"Clear\",\"Clear\",\"Clear\",\"Clear\",\"Clear\",\"Clear\",\"Clear\",\"Clear\",\"Clear\",\"Mist + Cloudy\",\"Clear\",\"Clear\",\"Clear\",\"Clear\",\"Clear\",\"Clear\",\"Clear\",\"Clear\",\"Clear\",\"Clear\",\"Clear\",\"Clear\",\"Mist + Cloudy\",\"Mist + Cloudy\",\"Clear\",\"Mist + Cloudy\",\"Clear\",\"Clear\",\"Clear\",\"Clear\",\"Clear\",\"Clear\",\"Mist + Cloudy\",\"Mist + Cloudy\",\"Clear\",\"Clear\",\"Clear\",\"Clear\",\"Mist + Cloudy\",\"Clear\",\"Clear\",\"Clear\",\"Clear\",\"Clear\",\"Mist + Cloudy\",\"Clear\",\"Mist + Cloudy\",\"Clear\",\"Clear\",\"Clear\",\"Clear\",\"Clear\",\"Mist + Cloudy\",\"Clear\",\"Clear\",\"Mist + Cloudy\",\"Light Snow\",\"Light Snow\",\"Light Snow\",\"Mist + Cloudy\",\"Clear\",\"Clear\",\"Clear\",\"Clear\",\"Clear\",\"Mist + Cloudy\",\"Mist + Cloudy\",\"Mist + Cloudy\",\"Clear\",\"Mist + Cloudy\",\"Mist + Cloudy\",\"Mist + Cloudy\",\"Mist + Cloudy\",\"Mist + Cloudy\",\"Mist + Cloudy\",\"Mist + Cloudy\",\"Mist + Cloudy\",\"Mist + Cloudy\",\"Mist + Cloudy\",\"Clear\",\"Clear\",\"Mist + Cloudy\",\"Mist + Cloudy\",\"Mist + Cloudy\",\"Clear\",\"Clear\",\"Clear\",\"Clear\",\"Clear\",\"Clear\",\"Clear\",\"Mist + Cloudy\",\"Light Snow\",\"Mist + Cloudy\",\"Mist + Cloudy\",\"Clear\",\"Clear\",\"Clear\",\"Mist + Cloudy\",\"Light Snow\",\"Clear\",\"Clear\",\"Clear\",\"Clear\",\"Clear\",\"Clear\",\"Mist + Cloudy\",\"Mist + Cloudy\",\"Mist + Cloudy\",\"Light Snow\",\"Clear\",\"Clear\",\"Clear\",\"Clear\",\"Clear\",\"Mist + Cloudy\",\"Clear\",\"Clear\",\"Clear\",\"Clear\",\"Clear\",\"Mist + Cloudy\",\"Clear\",\"Clear\",\"Clear\",\"Clear\",\"Mist + Cloudy\",\"Light Snow\",\"Mist + Cloudy\",\"Clear\",\"Clear\",\"Mist + Cloudy\",\"Light Snow\",\"Light Snow\",\"Mist + Cloudy\",\"Clear\",\"Clear\",\"Clear\",\"Clear\",\"Clear\",\"Mist + Cloudy\",\"Clear\",\"Clear\",\"Clear\",\"Clear\",\"Clear\",\"Mist + Cloudy\",\"Light Snow\",\"Light Snow\",\"Clear\",\"Clear\",\"Clear\",\"Clear\",\"Clear\",\"Clear\",\"Mist + Cloudy\",\"Mist + Cloudy\",\"Mist + Cloudy\",\"Mist + Cloudy\",\"Clear\",\"Clear\",\"Mist + Cloudy\",\"Mist + Cloudy\",\"Mist + Cloudy\",\"Clear\",\"Clear\",\"Clear\",\"Clear\",\"Mist + Cloudy\",\"Clear\",\"Clear\",\"Clear\",\"Clear\",\"Clear\",\"Clear\",\"Clear\",\"Mist + Cloudy\",\"Clear\",\"Clear\",\"Clear\",\"Clear\",\"Mist + Cloudy\",\"Clear\",\"Mist + Cloudy\",\"Mist + Cloudy\",\"Clear\",\"Clear\",\"Clear\",\"Clear\",\"Mist + Cloudy\",\"Clear\",\"Clear\",\"Mist + Cloudy\",\"Mist + Cloudy\",\"Mist + Cloudy\",\"Mist + Cloudy\",\"Clear\",\"Clear\",\"Mist + Cloudy\",\"Mist + Cloudy\",\"Clear\",\"Clear\",\"Clear\",\"Clear\",\"Clear\",\"Mist + Cloudy\",\"Clear\",\"Mist + Cloudy\",\"Mist + Cloudy\",\"Clear\",\"Clear\",\"Mist + Cloudy\",\"Clear\",\"Mist + Cloudy\",\"Light Snow\",\"Clear\",\"Clear\",\"Mist + Cloudy\",\"Clear\",\"Mist + Cloudy\",\"Clear\",\"Clear\",\"Mist + Cloudy\",\"Clear\",\"Clear\",\"Clear\",\"Clear\",\"Mist + Cloudy\",\"Clear\",\"Clear\",\"Clear\",\"Clear\",\"Clear\",\"Mist + Cloudy\",\"Mist + Cloudy\",\"Clear\",\"Clear\",\"Clear\",\"Clear\",\"Clear\",\"Mist + Cloudy\",\"Clear\",\"Clear\",\"Clear\",\"Clear\",\"Clear\",\"Clear\",\"Mist + Cloudy\",\"Mist + Cloudy\",\"Mist + Cloudy\",\"Clear\",\"Clear\",\"Mist + Cloudy\",\"Clear\",\"Mist + Cloudy\",\"Mist + Cloudy\",\"Mist + Cloudy\",\"Clear\",\"Clear\",\"Clear\",\"Clear\",\"Mist + Cloudy\",\"Mist + Cloudy\",\"Mist + Cloudy\",\"Clear\",\"Clear\",\"Clear\",\"Clear\",\"Clear\",\"Clear\",\"Clear\",\"Clear\",\"Clear\",\"Clear\",\"Clear\",\"Clear\",\"Clear\",\"Clear\",\"Clear\",\"Clear\",\"Mist + Cloudy\",\"Clear\",\"Clear\",\"Clear\",\"Light Snow\",\"Mist + Cloudy\",\"Clear\",\"Clear\",\"Mist + Cloudy\",\"Clear\",\"Mist + Cloudy\",\"Clear\",\"Mist + Cloudy\",\"Mist + Cloudy\",\"Clear\",\"Mist + Cloudy\",\"Clear\",\"Mist + Cloudy\",\"Mist + Cloudy\",\"Mist + Cloudy\",\"Mist + Cloudy\",\"Mist + Cloudy\",\"Clear\",\"Clear\",\"Clear\",\"Clear\",\"Mist + Cloudy\",\"Mist + Cloudy\",\"Clear\",\"Clear\",\"Clear\",\"Clear\",\"Clear\",\"Mist + Cloudy\",\"Mist + Cloudy\",\"Mist + Cloudy\",\"Clear\",\"Clear\",\"Clear\",\"Clear\",\"Clear\",\"Clear\",\"Mist + Cloudy\",\"Clear\",\"Mist + Cloudy\",\"Clear\",\"Clear\",\"Clear\",\"Mist + Cloudy\",\"Clear\",\"Clear\",\"Clear\",\"Clear\",\"Clear\",\"Mist + Cloudy\",\"Mist + Cloudy\",\"Clear\",\"Clear\",\"Clear\",\"Clear\",\"Clear\",\"Mist + Cloudy\",\"Clear\",\"Clear\",\"Clear\",\"Clear\",\"Clear\",\"Clear\",\"Clear\",\"Clear\",\"Clear\",\"Clear\",\"Clear\",\"Clear\",\"Clear\",\"Clear\",\"Clear\",\"Clear\",\"Clear\",\"Clear\",\"Clear\",\"Clear\",\"Mist + Cloudy\",\"Mist + Cloudy\",\"Clear\",\"Clear\",\"Mist + Cloudy\",\"Mist + Cloudy\",\"Clear\",\"Clear\",\"Clear\",\"Clear\",\"Clear\",\"Mist + Cloudy\",\"Light Snow\",\"Mist + Cloudy\",\"Clear\",\"Clear\",\"Clear\",\"Clear\",\"Clear\",\"Clear\",\"Clear\",\"Clear\",\"Clear\",\"Clear\",\"Clear\",\"Mist + Cloudy\",\"Clear\",\"Clear\",\"Mist + Cloudy\",\"Mist + Cloudy\",\"Mist + Cloudy\",\"Clear\",\"Mist + Cloudy\",\"Mist + Cloudy\",\"Clear\",\"Clear\",\"Clear\",\"Clear\",\"Clear\",\"Clear\",\"Clear\",\"Mist + Cloudy\",\"Mist + Cloudy\",\"Clear\",\"Clear\",\"Clear\",\"Mist + Cloudy\",\"Mist + Cloudy\",\"Mist + Cloudy\",\"Clear\",\"Clear\",\"Clear\",\"Clear\",\"Clear\",\"Mist + Cloudy\",\"Mist + Cloudy\",\"Clear\",\"Clear\",\"Clear\",\"Mist + Cloudy\",\"Clear\",\"Mist + Cloudy\",\"Clear\",\"Clear\",\"Clear\",\"Clear\",\"Clear\",\"Clear\",\"Clear\",\"Clear\",\"Mist + Cloudy\",\"Mist + Cloudy\",\"Clear\",\"Clear\",\"Clear\",\"Clear\",\"Clear\",\"Clear\",\"Clear\",\"Clear\",\"Mist + Cloudy\",\"Mist + Cloudy\",\"Clear\",\"Clear\",\"Mist + Cloudy\",\"Light Snow\",\"Mist + Cloudy\",\"Mist + Cloudy\",\"Clear\",\"Clear\",\"Mist + Cloudy\",\"Mist + Cloudy\",\"Mist + Cloudy\",\"Clear\",\"Clear\",\"Clear\",\"Clear\",\"Clear\",\"Mist + Cloudy\",\"Clear\",\"Clear\",\"Mist + Cloudy\",\"Mist + Cloudy\",\"Clear\",\"Clear\",\"Clear\",\"Clear\",\"Clear\",\"Mist + Cloudy\",\"Mist + Cloudy\",\"Mist + Cloudy\",\"Mist + Cloudy\",\"Light Snow\",\"Mist + Cloudy\",\"Mist + Cloudy\",\"Mist + Cloudy\",\"Clear\",\"Mist + Cloudy\",\"Clear\",\"Clear\",\"Clear\",\"Mist + Cloudy\",\"Clear\",\"Clear\",\"Clear\",\"Clear\",\"Clear\",\"Mist + Cloudy\",\"Clear\",\"Mist + Cloudy\",\"Clear\",\"Clear\",\"Clear\",\"Mist + Cloudy\",\"Mist + Cloudy\",\"Clear\",\"Clear\",\"Clear\",\"Clear\",\"Clear\",\"Clear\",\"Mist + Cloudy\",\"Clear\",\"Clear\",\"Clear\",\"Mist + Cloudy\",\"Mist + Cloudy\",\"Clear\",\"Clear\",\"Clear\",\"Clear\",\"Mist + Cloudy\",\"Mist + Cloudy\",\"Mist + Cloudy\",\"Mist + Cloudy\",\"Mist + Cloudy\",\"Mist + Cloudy\",\"Clear\",\"Clear\",\"Clear\",\"Mist + Cloudy\",\"Mist + Cloudy\",\"Clear\",\"Clear\",\"Mist + Cloudy\",\"Mist + Cloudy\",\"Clear\",\"Clear\",\"Mist + Cloudy\",\"Mist + Cloudy\",\"Light Snow\",\"Mist + Cloudy\",\"Mist + Cloudy\",\"Mist + Cloudy\",\"Clear\",\"Mist + Cloudy\"],\"x0\":\" \",\"xaxis\":\"x\",\"y\":[985,801,1349,1562,1600,1606,1510,959,822,1321,1263,1162,1406,1421,1248,1204,1000,683,1650,1927,1543,981,986,1416,1985,506,431,1167,1098,1096,1501,1360,1526,1550,1708,1005,1623,1712,1530,1605,1538,1746,1472,1589,1913,1815,2115,2475,2927,1635,1812,1107,1450,1917,1807,1461,1969,2402,1446,1851,2134,1685,1944,2077,605,1872,2133,1891,623,1977,2132,2417,2046,2056,2192,2744,3239,3117,2471,2077,2703,2121,1865,2210,2496,1693,2028,2425,1536,1685,2227,2252,3249,3115,1795,2808,3141,1471,2455,2895,3348,2034,2162,3267,3126,795,3744,3429,3204,3944,4189,1683,4036,4191,4073,4400,3872,4058,4595,5312,3351,4401,4451,2633,4433,4608,4714,4333,4362,4803,4182,4864,4105,3409,4553,3958,4123,3855,4575,4917,5805,4660,4274,4492,4978,4677,4679,4758,4788,4098,3982,3974,4968,5312,5342,4906,4548,4833,4401,3915,4586,4966,4460,5020,4891,5180,3767,4844,5119,4744,4010,4835,4507,4790,4991,5202,5305,4708,4648,5225,5515,5362,5119,4649,6043,4665,4629,4592,4040,5336,4881,4086,4258,4342,5084,5538,5923,5302,4458,4541,4332,3784,3387,3285,3606,3840,4590,4656,4390,3846,4475,4302,4266,4845,3574,4576,4866,4294,3785,4326,4602,4780,4792,4905,4150,3820,4338,4725,4694,3805,4153,5191,3873,4758,5895,5130,3542,4661,1115,4334,4634,5204,5058,5115,4727,4484,4940,3351,2710,1996,1842,3544,5345,5046,4713,4763,4785,3659,4760,4511,4274,4539,3641,4352,4795,2395,5423,5010,4630,4120,3907,4839,5202,2429,2918,3570,4456,4826,4765,4985,5409,5511,5117,4563,2416,2913,3644,5217,5041,4570,4748,2424,4195,4304,4308,4381,4187,4687,3894,2659,3747,627,3331,3669,4068,4186,3974,4046,3926,3649,4035,4205,4109,2933,3368,4067,3717,4486,4195,1817,3053,3392,3663,3520,2765,1607,2566,1495,2792,3068,3071,3867,2914,3613,3727,3940,3614,3485,3811,2594,705,3322,3620,3190,2743,3310,3523,3740,3709,3577,2739,2431,3403,3750,2660,3068,2209,1011,754,1317,1162,2302,2423,2999,2485,2294,1951,2236,2368,3272,4098,4521,3425,2376,3598,2177,4097,3214,2493,2311,2298,2935,3376,3292,3163,1301,1977,2432,4339,4270,4075,3456,4023,3243,3624,4509,4579,3761,4151,2832,2947,3784,4375,2802,3830,3831,2169,1529,3422,3922,4169,3005,4154,4318,2689,3129,3777,4773,5062,3487,2732,3389,4322,4363,4990,3194,4066,3423,3333,3956,4916,5382,4569,4118,4911,5298,5847,6312,6192,4378,7836,5892,6153,6093,6230,6871,8362,3372,4996,5558,5102,5698,6133,5459,6235,6041,5936,6772,6436,6457,6460,6857,5169,5585,5918,4862,5409,6398,7460,7132,6370,6691,4367,6565,7290,6624,1027,3214,5633,6196,5026,6233,4220,6304,5572,5740,6169,6421,6296,6883,6359,6273,5728,4717,6572,7030,7429,6118,2843,5115,7424,7384,7639,8294,7129,4359,6073,5260,6770,6734,6536,6591,6043,5743,6855,7338,4127,8120,7641,6998,7001,7055,7494,7736,7498,6598,6664,4972,7421,7363,7665,7702,6978,5099,6825,6211,5905,5823,7458,6891,6779,7442,7335,6879,5463,5687,5531,6227,6660,7403,6241,6207,4840,4672,6569,6290,7264,7446,7499,6969,6031,6830,6786,5713,6591,5870,4459,7410,6966,7592,8173,6861,6904,6685,6597,7105,7216,7580,7261,7175,6824,5464,7013,7273,7534,7286,5786,6299,6544,6883,6784,7347,7605,7148,7865,4549,6530,7006,7375,7765,7582,6053,5255,6917,7040,7697,7713,7350,6140,5810,6034,6864,7112,6203,7504,5976,8227,7525,7767,7870,7804,8009,8714,7333,6869,4073,7591,7720,8167,8395,7907,7436,7538,7733,7393,7415,8555,6889,6778,4639,7572,7328,8156,7965,3510,5478,6392,7691,7570,7282,7109,6639,5875,7534,7461,7509,5424,8090,6824,7058,7466,7693,7359,7444,7852,4459,22,1096,5566,5986,5847,5138,5107,5259,5686,5035,5315,5992,6536,6852,6269,4094,5495,5445,5698,5629,4669,5499,5634,5146,2425,3910,2277,2424,5087,3959,5260,5323,5668,5191,4649,6234,6606,5729,5375,5008,5582,3228,5170,5501,5319,5532,5611,5047,3786,4585,5557,5267,4128,3623,1749,1787,920,1013,441,2114,3095,1341,1796,2729],\"y0\":\" \",\"yaxis\":\"y\",\"type\":\"box\"}],                        {\"template\":{\"data\":{\"bar\":[{\"error_x\":{\"color\":\"#2a3f5f\"},\"error_y\":{\"color\":\"#2a3f5f\"},\"marker\":{\"line\":{\"color\":\"#E5ECF6\",\"width\":0.5},\"pattern\":{\"fillmode\":\"overlay\",\"size\":10,\"solidity\":0.2}},\"type\":\"bar\"}],\"barpolar\":[{\"marker\":{\"line\":{\"color\":\"#E5ECF6\",\"width\":0.5},\"pattern\":{\"fillmode\":\"overlay\",\"size\":10,\"solidity\":0.2}},\"type\":\"barpolar\"}],\"carpet\":[{\"aaxis\":{\"endlinecolor\":\"#2a3f5f\",\"gridcolor\":\"white\",\"linecolor\":\"white\",\"minorgridcolor\":\"white\",\"startlinecolor\":\"#2a3f5f\"},\"baxis\":{\"endlinecolor\":\"#2a3f5f\",\"gridcolor\":\"white\",\"linecolor\":\"white\",\"minorgridcolor\":\"white\",\"startlinecolor\":\"#2a3f5f\"},\"type\":\"carpet\"}],\"choropleth\":[{\"colorbar\":{\"outlinewidth\":0,\"ticks\":\"\"},\"type\":\"choropleth\"}],\"contour\":[{\"colorbar\":{\"outlinewidth\":0,\"ticks\":\"\"},\"colorscale\":[[0.0,\"#0d0887\"],[0.1111111111111111,\"#46039f\"],[0.2222222222222222,\"#7201a8\"],[0.3333333333333333,\"#9c179e\"],[0.4444444444444444,\"#bd3786\"],[0.5555555555555556,\"#d8576b\"],[0.6666666666666666,\"#ed7953\"],[0.7777777777777778,\"#fb9f3a\"],[0.8888888888888888,\"#fdca26\"],[1.0,\"#f0f921\"]],\"type\":\"contour\"}],\"contourcarpet\":[{\"colorbar\":{\"outlinewidth\":0,\"ticks\":\"\"},\"type\":\"contourcarpet\"}],\"heatmap\":[{\"colorbar\":{\"outlinewidth\":0,\"ticks\":\"\"},\"colorscale\":[[0.0,\"#0d0887\"],[0.1111111111111111,\"#46039f\"],[0.2222222222222222,\"#7201a8\"],[0.3333333333333333,\"#9c179e\"],[0.4444444444444444,\"#bd3786\"],[0.5555555555555556,\"#d8576b\"],[0.6666666666666666,\"#ed7953\"],[0.7777777777777778,\"#fb9f3a\"],[0.8888888888888888,\"#fdca26\"],[1.0,\"#f0f921\"]],\"type\":\"heatmap\"}],\"heatmapgl\":[{\"colorbar\":{\"outlinewidth\":0,\"ticks\":\"\"},\"colorscale\":[[0.0,\"#0d0887\"],[0.1111111111111111,\"#46039f\"],[0.2222222222222222,\"#7201a8\"],[0.3333333333333333,\"#9c179e\"],[0.4444444444444444,\"#bd3786\"],[0.5555555555555556,\"#d8576b\"],[0.6666666666666666,\"#ed7953\"],[0.7777777777777778,\"#fb9f3a\"],[0.8888888888888888,\"#fdca26\"],[1.0,\"#f0f921\"]],\"type\":\"heatmapgl\"}],\"histogram\":[{\"marker\":{\"pattern\":{\"fillmode\":\"overlay\",\"size\":10,\"solidity\":0.2}},\"type\":\"histogram\"}],\"histogram2d\":[{\"colorbar\":{\"outlinewidth\":0,\"ticks\":\"\"},\"colorscale\":[[0.0,\"#0d0887\"],[0.1111111111111111,\"#46039f\"],[0.2222222222222222,\"#7201a8\"],[0.3333333333333333,\"#9c179e\"],[0.4444444444444444,\"#bd3786\"],[0.5555555555555556,\"#d8576b\"],[0.6666666666666666,\"#ed7953\"],[0.7777777777777778,\"#fb9f3a\"],[0.8888888888888888,\"#fdca26\"],[1.0,\"#f0f921\"]],\"type\":\"histogram2d\"}],\"histogram2dcontour\":[{\"colorbar\":{\"outlinewidth\":0,\"ticks\":\"\"},\"colorscale\":[[0.0,\"#0d0887\"],[0.1111111111111111,\"#46039f\"],[0.2222222222222222,\"#7201a8\"],[0.3333333333333333,\"#9c179e\"],[0.4444444444444444,\"#bd3786\"],[0.5555555555555556,\"#d8576b\"],[0.6666666666666666,\"#ed7953\"],[0.7777777777777778,\"#fb9f3a\"],[0.8888888888888888,\"#fdca26\"],[1.0,\"#f0f921\"]],\"type\":\"histogram2dcontour\"}],\"mesh3d\":[{\"colorbar\":{\"outlinewidth\":0,\"ticks\":\"\"},\"type\":\"mesh3d\"}],\"parcoords\":[{\"line\":{\"colorbar\":{\"outlinewidth\":0,\"ticks\":\"\"}},\"type\":\"parcoords\"}],\"pie\":[{\"automargin\":true,\"type\":\"pie\"}],\"scatter\":[{\"marker\":{\"colorbar\":{\"outlinewidth\":0,\"ticks\":\"\"}},\"type\":\"scatter\"}],\"scatter3d\":[{\"line\":{\"colorbar\":{\"outlinewidth\":0,\"ticks\":\"\"}},\"marker\":{\"colorbar\":{\"outlinewidth\":0,\"ticks\":\"\"}},\"type\":\"scatter3d\"}],\"scattercarpet\":[{\"marker\":{\"colorbar\":{\"outlinewidth\":0,\"ticks\":\"\"}},\"type\":\"scattercarpet\"}],\"scattergeo\":[{\"marker\":{\"colorbar\":{\"outlinewidth\":0,\"ticks\":\"\"}},\"type\":\"scattergeo\"}],\"scattergl\":[{\"marker\":{\"colorbar\":{\"outlinewidth\":0,\"ticks\":\"\"}},\"type\":\"scattergl\"}],\"scattermapbox\":[{\"marker\":{\"colorbar\":{\"outlinewidth\":0,\"ticks\":\"\"}},\"type\":\"scattermapbox\"}],\"scatterpolar\":[{\"marker\":{\"colorbar\":{\"outlinewidth\":0,\"ticks\":\"\"}},\"type\":\"scatterpolar\"}],\"scatterpolargl\":[{\"marker\":{\"colorbar\":{\"outlinewidth\":0,\"ticks\":\"\"}},\"type\":\"scatterpolargl\"}],\"scatterternary\":[{\"marker\":{\"colorbar\":{\"outlinewidth\":0,\"ticks\":\"\"}},\"type\":\"scatterternary\"}],\"surface\":[{\"colorbar\":{\"outlinewidth\":0,\"ticks\":\"\"},\"colorscale\":[[0.0,\"#0d0887\"],[0.1111111111111111,\"#46039f\"],[0.2222222222222222,\"#7201a8\"],[0.3333333333333333,\"#9c179e\"],[0.4444444444444444,\"#bd3786\"],[0.5555555555555556,\"#d8576b\"],[0.6666666666666666,\"#ed7953\"],[0.7777777777777778,\"#fb9f3a\"],[0.8888888888888888,\"#fdca26\"],[1.0,\"#f0f921\"]],\"type\":\"surface\"}],\"table\":[{\"cells\":{\"fill\":{\"color\":\"#EBF0F8\"},\"line\":{\"color\":\"white\"}},\"header\":{\"fill\":{\"color\":\"#C8D4E3\"},\"line\":{\"color\":\"white\"}},\"type\":\"table\"}]},\"layout\":{\"annotationdefaults\":{\"arrowcolor\":\"#2a3f5f\",\"arrowhead\":0,\"arrowwidth\":1},\"autotypenumbers\":\"strict\",\"coloraxis\":{\"colorbar\":{\"outlinewidth\":0,\"ticks\":\"\"}},\"colorscale\":{\"diverging\":[[0,\"#8e0152\"],[0.1,\"#c51b7d\"],[0.2,\"#de77ae\"],[0.3,\"#f1b6da\"],[0.4,\"#fde0ef\"],[0.5,\"#f7f7f7\"],[0.6,\"#e6f5d0\"],[0.7,\"#b8e186\"],[0.8,\"#7fbc41\"],[0.9,\"#4d9221\"],[1,\"#276419\"]],\"sequential\":[[0.0,\"#0d0887\"],[0.1111111111111111,\"#46039f\"],[0.2222222222222222,\"#7201a8\"],[0.3333333333333333,\"#9c179e\"],[0.4444444444444444,\"#bd3786\"],[0.5555555555555556,\"#d8576b\"],[0.6666666666666666,\"#ed7953\"],[0.7777777777777778,\"#fb9f3a\"],[0.8888888888888888,\"#fdca26\"],[1.0,\"#f0f921\"]],\"sequentialminus\":[[0.0,\"#0d0887\"],[0.1111111111111111,\"#46039f\"],[0.2222222222222222,\"#7201a8\"],[0.3333333333333333,\"#9c179e\"],[0.4444444444444444,\"#bd3786\"],[0.5555555555555556,\"#d8576b\"],[0.6666666666666666,\"#ed7953\"],[0.7777777777777778,\"#fb9f3a\"],[0.8888888888888888,\"#fdca26\"],[1.0,\"#f0f921\"]]},\"colorway\":[\"#636efa\",\"#EF553B\",\"#00cc96\",\"#ab63fa\",\"#FFA15A\",\"#19d3f3\",\"#FF6692\",\"#B6E880\",\"#FF97FF\",\"#FECB52\"],\"font\":{\"color\":\"#2a3f5f\"},\"geo\":{\"bgcolor\":\"white\",\"lakecolor\":\"white\",\"landcolor\":\"#E5ECF6\",\"showlakes\":true,\"showland\":true,\"subunitcolor\":\"white\"},\"hoverlabel\":{\"align\":\"left\"},\"hovermode\":\"closest\",\"mapbox\":{\"style\":\"light\"},\"paper_bgcolor\":\"white\",\"plot_bgcolor\":\"#E5ECF6\",\"polar\":{\"angularaxis\":{\"gridcolor\":\"white\",\"linecolor\":\"white\",\"ticks\":\"\"},\"bgcolor\":\"#E5ECF6\",\"radialaxis\":{\"gridcolor\":\"white\",\"linecolor\":\"white\",\"ticks\":\"\"}},\"scene\":{\"xaxis\":{\"backgroundcolor\":\"#E5ECF6\",\"gridcolor\":\"white\",\"gridwidth\":2,\"linecolor\":\"white\",\"showbackground\":true,\"ticks\":\"\",\"zerolinecolor\":\"white\"},\"yaxis\":{\"backgroundcolor\":\"#E5ECF6\",\"gridcolor\":\"white\",\"gridwidth\":2,\"linecolor\":\"white\",\"showbackground\":true,\"ticks\":\"\",\"zerolinecolor\":\"white\"},\"zaxis\":{\"backgroundcolor\":\"#E5ECF6\",\"gridcolor\":\"white\",\"gridwidth\":2,\"linecolor\":\"white\",\"showbackground\":true,\"ticks\":\"\",\"zerolinecolor\":\"white\"}},\"shapedefaults\":{\"line\":{\"color\":\"#2a3f5f\"}},\"ternary\":{\"aaxis\":{\"gridcolor\":\"white\",\"linecolor\":\"white\",\"ticks\":\"\"},\"baxis\":{\"gridcolor\":\"white\",\"linecolor\":\"white\",\"ticks\":\"\"},\"bgcolor\":\"#E5ECF6\",\"caxis\":{\"gridcolor\":\"white\",\"linecolor\":\"white\",\"ticks\":\"\"}},\"title\":{\"x\":0.05},\"xaxis\":{\"automargin\":true,\"gridcolor\":\"white\",\"linecolor\":\"white\",\"ticks\":\"\",\"title\":{\"standoff\":15},\"zerolinecolor\":\"white\",\"zerolinewidth\":2},\"yaxis\":{\"automargin\":true,\"gridcolor\":\"white\",\"linecolor\":\"white\",\"ticks\":\"\",\"title\":{\"standoff\":15},\"zerolinecolor\":\"white\",\"zerolinewidth\":2}}},\"xaxis\":{\"anchor\":\"y\",\"domain\":[0.0,1.0],\"title\":{\"text\":\"weathersit\"}},\"yaxis\":{\"anchor\":\"x\",\"domain\":[0.0,1.0],\"title\":{\"text\":\"cnt\"}},\"legend\":{\"tracegroupgap\":0},\"margin\":{\"t\":60},\"boxmode\":\"group\",\"title\":{\"text\":\"Distribution of count by weather\"}},                        {\"responsive\": true}                    ).then(function(){\n",
              "                            \n",
              "var gd = document.getElementById('9a1734a0-ea03-4575-833c-14b24336bd49');\n",
              "var x = new MutationObserver(function (mutations, observer) {{\n",
              "        var display = window.getComputedStyle(gd).display;\n",
              "        if (!display || display === 'none') {{\n",
              "            console.log([gd, 'removed!']);\n",
              "            Plotly.purge(gd);\n",
              "            observer.disconnect();\n",
              "        }}\n",
              "}});\n",
              "\n",
              "// Listen for the removal of the full notebook cells\n",
              "var notebookContainer = gd.closest('#notebook-container');\n",
              "if (notebookContainer) {{\n",
              "    x.observe(notebookContainer, {childList: true});\n",
              "}}\n",
              "\n",
              "// Listen for the clearing of the current output cell\n",
              "var outputEl = gd.closest('.output');\n",
              "if (outputEl) {{\n",
              "    x.observe(outputEl, {childList: true});\n",
              "}}\n",
              "\n",
              "                        })                };                            </script>        </div>\n",
              "</body>\n",
              "</html>"
            ]
          },
          "metadata": {}
        }
      ]
    },
    {
      "cell_type": "markdown",
      "source": [
        "bike rental count is more in Clear weather days"
      ],
      "metadata": {
        "id": "RI2yAa3g5RA9"
      }
    },
    {
      "cell_type": "code",
      "source": [
        "box_week = px.histogram(rides, x='weekday', y='cnt')\n",
        "box_week.update_layout(title=\"Distribution of count by weekdays\")\n",
        "box_week .show()"
      ],
      "metadata": {
        "colab": {
          "base_uri": "https://localhost:8080/",
          "height": 542
        },
        "id": "4mOPYOya84Ml",
        "outputId": "51841c3c-a6d0-42e0-a985-477cdd4b0300"
      },
      "execution_count": 1255,
      "outputs": [
        {
          "output_type": "display_data",
          "data": {
            "text/html": [
              "<html>\n",
              "<head><meta charset=\"utf-8\" /></head>\n",
              "<body>\n",
              "    <div>            <script src=\"https://cdnjs.cloudflare.com/ajax/libs/mathjax/2.7.5/MathJax.js?config=TeX-AMS-MML_SVG\"></script><script type=\"text/javascript\">if (window.MathJax) {MathJax.Hub.Config({SVG: {font: \"STIX-Web\"}});}</script>                <script type=\"text/javascript\">window.PlotlyConfig = {MathJaxConfig: 'local'};</script>\n",
              "        <script src=\"https://cdn.plot.ly/plotly-2.8.3.min.js\"></script>                <div id=\"161fcb94-9fca-4cfc-82d6-2f14aacdce86\" class=\"plotly-graph-div\" style=\"height:525px; width:100%;\"></div>            <script type=\"text/javascript\">                                    window.PLOTLYENV=window.PLOTLYENV || {};                                    if (document.getElementById(\"161fcb94-9fca-4cfc-82d6-2f14aacdce86\")) {                    Plotly.newPlot(                        \"161fcb94-9fca-4cfc-82d6-2f14aacdce86\",                        [{\"alignmentgroup\":\"True\",\"bingroup\":\"x\",\"histfunc\":\"sum\",\"hovertemplate\":\"weekday=%{x}<br>sum of cnt=%{y}<extra></extra>\",\"legendgroup\":\"\",\"marker\":{\"color\":\"#636efa\",\"pattern\":{\"shape\":\"\"}},\"name\":\"\",\"offsetgroup\":\"\",\"orientation\":\"v\",\"showlegend\":false,\"x\":[\"Sat\",\"Sun\",\"Mon\",\"Tue\",\"Wed\",\"Thu\",\"Fri\",\"Sat\",\"Sun\",\"Mon\",\"Tue\",\"Wed\",\"Thu\",\"Fri\",\"Sat\",\"Sun\",\"Mon\",\"Tue\",\"Wed\",\"Thu\",\"Fri\",\"Sat\",\"Sun\",\"Mon\",\"Tue\",\"Wed\",\"Thu\",\"Fri\",\"Sat\",\"Sun\",\"Mon\",\"Tue\",\"Wed\",\"Thu\",\"Fri\",\"Sat\",\"Sun\",\"Mon\",\"Tue\",\"Wed\",\"Thu\",\"Fri\",\"Sat\",\"Sun\",\"Mon\",\"Tue\",\"Wed\",\"Thu\",\"Fri\",\"Sat\",\"Sun\",\"Mon\",\"Tue\",\"Wed\",\"Thu\",\"Fri\",\"Sat\",\"Sun\",\"Mon\",\"Tue\",\"Wed\",\"Thu\",\"Fri\",\"Sat\",\"Sun\",\"Mon\",\"Tue\",\"Wed\",\"Thu\",\"Fri\",\"Sat\",\"Sun\",\"Mon\",\"Tue\",\"Wed\",\"Thu\",\"Fri\",\"Sat\",\"Sun\",\"Mon\",\"Tue\",\"Wed\",\"Thu\",\"Fri\",\"Sat\",\"Sun\",\"Mon\",\"Tue\",\"Wed\",\"Thu\",\"Fri\",\"Sat\",\"Sun\",\"Mon\",\"Tue\",\"Wed\",\"Thu\",\"Fri\",\"Sat\",\"Sun\",\"Mon\",\"Tue\",\"Wed\",\"Thu\",\"Fri\",\"Sat\",\"Sun\",\"Mon\",\"Tue\",\"Wed\",\"Thu\",\"Fri\",\"Sat\",\"Sun\",\"Mon\",\"Tue\",\"Wed\",\"Thu\",\"Fri\",\"Sat\",\"Sun\",\"Mon\",\"Tue\",\"Wed\",\"Thu\",\"Fri\",\"Sat\",\"Sun\",\"Mon\",\"Tue\",\"Wed\",\"Thu\",\"Fri\",\"Sat\",\"Sun\",\"Mon\",\"Tue\",\"Wed\",\"Thu\",\"Fri\",\"Sat\",\"Sun\",\"Mon\",\"Tue\",\"Wed\",\"Thu\",\"Fri\",\"Sat\",\"Sun\",\"Mon\",\"Tue\",\"Wed\",\"Thu\",\"Fri\",\"Sat\",\"Sun\",\"Mon\",\"Tue\",\"Wed\",\"Thu\",\"Fri\",\"Sat\",\"Sun\",\"Mon\",\"Tue\",\"Wed\",\"Thu\",\"Fri\",\"Sat\",\"Sun\",\"Mon\",\"Tue\",\"Wed\",\"Thu\",\"Fri\",\"Sat\",\"Sun\",\"Mon\",\"Tue\",\"Wed\",\"Thu\",\"Fri\",\"Sat\",\"Sun\",\"Mon\",\"Tue\",\"Wed\",\"Thu\",\"Fri\",\"Sat\",\"Sun\",\"Mon\",\"Tue\",\"Wed\",\"Thu\",\"Fri\",\"Sat\",\"Sun\",\"Mon\",\"Tue\",\"Wed\",\"Thu\",\"Fri\",\"Sat\",\"Sun\",\"Mon\",\"Tue\",\"Wed\",\"Thu\",\"Fri\",\"Sat\",\"Sun\",\"Mon\",\"Tue\",\"Wed\",\"Thu\",\"Fri\",\"Sat\",\"Sun\",\"Mon\",\"Tue\",\"Wed\",\"Thu\",\"Fri\",\"Sat\",\"Sun\",\"Mon\",\"Tue\",\"Wed\",\"Thu\",\"Fri\",\"Sat\",\"Sun\",\"Mon\",\"Tue\",\"Wed\",\"Thu\",\"Fri\",\"Sat\",\"Sun\",\"Mon\",\"Tue\",\"Wed\",\"Thu\",\"Fri\",\"Sat\",\"Sun\",\"Mon\",\"Tue\",\"Wed\",\"Thu\",\"Fri\",\"Sat\",\"Sun\",\"Mon\",\"Tue\",\"Wed\",\"Thu\",\"Fri\",\"Sat\",\"Sun\",\"Mon\",\"Tue\",\"Wed\",\"Thu\",\"Fri\",\"Sat\",\"Sun\",\"Mon\",\"Tue\",\"Wed\",\"Thu\",\"Fri\",\"Sat\",\"Sun\",\"Mon\",\"Tue\",\"Wed\",\"Thu\",\"Fri\",\"Sat\",\"Sun\",\"Mon\",\"Tue\",\"Wed\",\"Thu\",\"Fri\",\"Sat\",\"Sun\",\"Mon\",\"Tue\",\"Wed\",\"Thu\",\"Fri\",\"Sat\",\"Sun\",\"Mon\",\"Tue\",\"Wed\",\"Thu\",\"Fri\",\"Sat\",\"Sun\",\"Mon\",\"Tue\",\"Wed\",\"Thu\",\"Fri\",\"Sat\",\"Sun\",\"Mon\",\"Tue\",\"Wed\",\"Thu\",\"Fri\",\"Sat\",\"Sun\",\"Mon\",\"Tue\",\"Wed\",\"Thu\",\"Fri\",\"Sat\",\"Sun\",\"Mon\",\"Tue\",\"Wed\",\"Thu\",\"Fri\",\"Sat\",\"Sun\",\"Mon\",\"Tue\",\"Wed\",\"Thu\",\"Fri\",\"Sat\",\"Sun\",\"Mon\",\"Tue\",\"Wed\",\"Thu\",\"Fri\",\"Sat\",\"Sun\",\"Mon\",\"Tue\",\"Wed\",\"Thu\",\"Fri\",\"Sat\",\"Sun\",\"Mon\",\"Tue\",\"Wed\",\"Thu\",\"Fri\",\"Sat\",\"Sun\",\"Mon\",\"Tue\",\"Wed\",\"Thu\",\"Fri\",\"Sat\",\"Sun\",\"Mon\",\"Tue\",\"Wed\",\"Thu\",\"Fri\",\"Sat\",\"Sun\",\"Mon\",\"Tue\",\"Wed\",\"Thu\",\"Fri\",\"Sat\",\"Sun\",\"Mon\",\"Tue\",\"Wed\",\"Thu\",\"Fri\",\"Sat\",\"Sun\",\"Mon\",\"Tue\",\"Wed\",\"Thu\",\"Fri\",\"Sat\",\"Sun\",\"Mon\",\"Tue\",\"Wed\",\"Thu\",\"Fri\",\"Sat\",\"Sun\",\"Mon\",\"Tue\",\"Wed\",\"Thu\",\"Fri\",\"Sat\",\"Sun\",\"Mon\",\"Tue\",\"Wed\",\"Thu\",\"Fri\",\"Sat\",\"Sun\",\"Mon\",\"Tue\",\"Wed\",\"Thu\",\"Fri\",\"Sat\",\"Sun\",\"Mon\",\"Tue\",\"Thu\",\"Fri\",\"Sat\",\"Sun\",\"Mon\",\"Tue\",\"Wed\",\"Thu\",\"Fri\",\"Sat\",\"Sun\",\"Mon\",\"Tue\",\"Wed\",\"Thu\",\"Fri\",\"Sat\",\"Sun\",\"Mon\",\"Tue\",\"Wed\",\"Thu\",\"Fri\",\"Sat\",\"Sun\",\"Mon\",\"Tue\",\"Wed\",\"Thu\",\"Fri\",\"Sat\",\"Sun\",\"Mon\",\"Tue\",\"Wed\",\"Thu\",\"Fri\",\"Sat\",\"Sun\",\"Mon\",\"Tue\",\"Wed\",\"Thu\",\"Fri\",\"Sat\",\"Sun\",\"Mon\",\"Tue\",\"Wed\",\"Thu\",\"Fri\",\"Sat\",\"Sun\",\"Mon\",\"Tue\",\"Wed\",\"Thu\",\"Fri\",\"Sat\",\"Sun\",\"Mon\",\"Tue\",\"Wed\",\"Thu\",\"Fri\",\"Sat\",\"Sun\",\"Mon\",\"Tue\",\"Wed\",\"Thu\",\"Fri\",\"Sat\",\"Sun\",\"Mon\",\"Tue\",\"Wed\",\"Thu\",\"Fri\",\"Sat\",\"Sun\",\"Mon\",\"Tue\",\"Wed\",\"Thu\",\"Fri\",\"Sat\",\"Sun\",\"Mon\",\"Tue\",\"Wed\",\"Thu\",\"Fri\",\"Sat\",\"Sun\",\"Mon\",\"Tue\",\"Wed\",\"Thu\",\"Fri\",\"Sat\",\"Sun\",\"Mon\",\"Tue\",\"Wed\",\"Thu\",\"Fri\",\"Sat\",\"Sun\",\"Mon\",\"Tue\",\"Wed\",\"Thu\",\"Fri\",\"Sat\",\"Sun\",\"Mon\",\"Tue\",\"Wed\",\"Thu\",\"Fri\",\"Sat\",\"Sun\",\"Mon\",\"Tue\",\"Wed\",\"Thu\",\"Fri\",\"Sat\",\"Sun\",\"Mon\",\"Tue\",\"Wed\",\"Thu\",\"Fri\",\"Sat\",\"Sun\",\"Mon\",\"Tue\",\"Wed\",\"Thu\",\"Fri\",\"Sat\",\"Sun\",\"Mon\",\"Tue\",\"Wed\",\"Thu\",\"Fri\",\"Sat\",\"Sun\",\"Mon\",\"Tue\",\"Wed\",\"Thu\",\"Fri\",\"Sat\",\"Sun\",\"Mon\",\"Tue\",\"Wed\",\"Thu\",\"Fri\",\"Sat\",\"Sun\",\"Mon\",\"Tue\",\"Wed\",\"Thu\",\"Fri\",\"Sat\",\"Sun\",\"Mon\",\"Tue\",\"Wed\",\"Thu\",\"Fri\",\"Sat\",\"Sun\",\"Mon\",\"Tue\",\"Wed\",\"Thu\",\"Fri\",\"Sat\",\"Sun\",\"Mon\",\"Tue\",\"Wed\",\"Thu\",\"Fri\",\"Sat\",\"Sun\",\"Mon\",\"Tue\",\"Wed\",\"Thu\",\"Fri\",\"Sat\",\"Sun\",\"Mon\",\"Tue\",\"Wed\",\"Thu\",\"Fri\",\"Sat\",\"Sun\",\"Mon\",\"Tue\",\"Wed\",\"Thu\",\"Fri\",\"Sat\",\"Sun\",\"Mon\",\"Tue\",\"Wed\",\"Thu\",\"Fri\",\"Sat\",\"Sun\",\"Mon\",\"Tue\",\"Wed\",\"Thu\",\"Fri\",\"Sat\",\"Sun\",\"Mon\",\"Tue\",\"Wed\",\"Thu\",\"Fri\",\"Sat\",\"Sun\",\"Mon\",\"Tue\",\"Wed\",\"Thu\",\"Fri\",\"Sat\",\"Sun\",\"Mon\",\"Tue\",\"Wed\",\"Thu\",\"Fri\",\"Sat\",\"Sun\",\"Mon\",\"Tue\",\"Wed\",\"Thu\",\"Fri\",\"Sat\",\"Sun\",\"Mon\",\"Tue\",\"Wed\",\"Thu\",\"Fri\",\"Sat\",\"Sun\",\"Mon\",\"Tue\",\"Wed\",\"Thu\",\"Fri\",\"Sat\",\"Sun\",\"Mon\",\"Tue\",\"Wed\",\"Thu\",\"Fri\",\"Sat\",\"Sun\",\"Mon\",\"Tue\",\"Wed\",\"Thu\",\"Fri\",\"Sat\",\"Sun\",\"Mon\",\"Tue\",\"Wed\",\"Thu\",\"Fri\",\"Sat\",\"Sun\",\"Mon\",\"Tue\",\"Wed\",\"Thu\",\"Fri\",\"Sat\",\"Sun\",\"Mon\",\"Tue\",\"Wed\",\"Thu\",\"Fri\",\"Sat\",\"Sun\",\"Mon\"],\"xaxis\":\"x\",\"y\":[985,801,1349,1562,1600,1606,1510,959,822,1321,1263,1162,1406,1421,1248,1204,1000,683,1650,1927,1543,981,986,1416,1985,506,431,1167,1098,1096,1501,1360,1526,1550,1708,1005,1623,1712,1530,1605,1538,1746,1472,1589,1913,1815,2115,2475,2927,1635,1812,1107,1450,1917,1807,1461,1969,2402,1446,1851,2134,1685,1944,2077,605,1872,2133,1891,623,1977,2132,2417,2046,2056,2192,2744,3239,3117,2471,2077,2703,2121,1865,2210,2496,1693,2028,2425,1536,1685,2227,2252,3249,3115,1795,2808,3141,1471,2455,2895,3348,2034,2162,3267,3126,795,3744,3429,3204,3944,4189,1683,4036,4191,4073,4400,3872,4058,4595,5312,3351,4401,4451,2633,4433,4608,4714,4333,4362,4803,4182,4864,4105,3409,4553,3958,4123,3855,4575,4917,5805,4660,4274,4492,4978,4677,4679,4758,4788,4098,3982,3974,4968,5312,5342,4906,4548,4833,4401,3915,4586,4966,4460,5020,4891,5180,3767,4844,5119,4744,4010,4835,4507,4790,4991,5202,5305,4708,4648,5225,5515,5362,5119,4649,6043,4665,4629,4592,4040,5336,4881,4086,4258,4342,5084,5538,5923,5302,4458,4541,4332,3784,3387,3285,3606,3840,4590,4656,4390,3846,4475,4302,4266,4845,3574,4576,4866,4294,3785,4326,4602,4780,4792,4905,4150,3820,4338,4725,4694,3805,4153,5191,3873,4758,5895,5130,3542,4661,1115,4334,4634,5204,5058,5115,4727,4484,4940,3351,2710,1996,1842,3544,5345,5046,4713,4763,4785,3659,4760,4511,4274,4539,3641,4352,4795,2395,5423,5010,4630,4120,3907,4839,5202,2429,2918,3570,4456,4826,4765,4985,5409,5511,5117,4563,2416,2913,3644,5217,5041,4570,4748,2424,4195,4304,4308,4381,4187,4687,3894,2659,3747,627,3331,3669,4068,4186,3974,4046,3926,3649,4035,4205,4109,2933,3368,4067,3717,4486,4195,1817,3053,3392,3663,3520,2765,1607,2566,1495,2792,3068,3071,3867,2914,3613,3727,3940,3614,3485,3811,2594,705,3322,3620,3190,2743,3310,3523,3740,3709,3577,2739,2431,3403,3750,2660,3068,2209,1011,754,1317,1162,2302,2423,2999,2485,2294,1951,2236,2368,3272,4098,4521,3425,2376,3598,2177,4097,3214,2493,2311,2298,2935,3376,3292,3163,1301,1977,2432,4339,4270,4075,3456,4023,3243,3624,4509,4579,3761,4151,2832,2947,3784,4375,2802,3830,3831,2169,1529,3422,3922,4169,3005,4154,4318,2689,3129,3777,4773,5062,3487,2732,3389,4322,4363,4990,3194,4066,3423,3333,3956,4916,5382,4569,4118,4911,5298,5847,6312,6192,4378,7836,5892,6153,6093,6230,6871,8362,3372,4996,5558,5102,5698,6133,5459,6235,6041,5936,6772,6436,6457,6460,6857,5169,5585,5918,4862,5409,6398,7460,7132,6370,6691,4367,6565,7290,6624,1027,3214,5633,6196,5026,6233,4220,6304,5572,5740,6169,6421,6296,6883,6359,6273,5728,4717,6572,7030,7429,6118,2843,5115,7424,7384,7639,8294,7129,4359,6073,5260,6770,6734,6536,6591,6043,5743,6855,7338,4127,8120,7641,6998,7001,7055,7494,7736,7498,6598,6664,4972,7421,7363,7665,7702,6978,5099,6825,6211,5905,5823,7458,6891,6779,7442,7335,6879,5463,5687,5531,6227,6660,7403,6241,6207,4840,4672,6569,6290,7264,7446,7499,6969,6031,6830,6786,5713,6591,5870,4459,7410,6966,7592,8173,6861,6904,6685,6597,7105,7216,7580,7261,7175,6824,5464,7013,7273,7534,7286,5786,6299,6544,6883,6784,7347,7605,7148,7865,4549,6530,7006,7375,7765,7582,6053,5255,6917,7040,7697,7713,7350,6140,5810,6034,6864,7112,6203,7504,5976,8227,7525,7767,7870,7804,8009,8714,7333,6869,4073,7591,7720,8167,8395,7907,7436,7538,7733,7393,7415,8555,6889,6778,4639,7572,7328,8156,7965,3510,5478,6392,7691,7570,7282,7109,6639,5875,7534,7461,7509,5424,8090,6824,7058,7466,7693,7359,7444,7852,4459,22,1096,5566,5986,5847,5138,5107,5259,5686,5035,5315,5992,6536,6852,6269,4094,5495,5445,5698,5629,4669,5499,5634,5146,2425,3910,2277,2424,5087,3959,5260,5323,5668,5191,4649,6234,6606,5729,5375,5008,5582,3228,5170,5501,5319,5532,5611,5047,3786,4585,5557,5267,4128,3623,1749,1787,920,1013,441,2114,3095,1341,1796,2729],\"yaxis\":\"y\",\"type\":\"histogram\"}],                        {\"template\":{\"data\":{\"bar\":[{\"error_x\":{\"color\":\"#2a3f5f\"},\"error_y\":{\"color\":\"#2a3f5f\"},\"marker\":{\"line\":{\"color\":\"#E5ECF6\",\"width\":0.5},\"pattern\":{\"fillmode\":\"overlay\",\"size\":10,\"solidity\":0.2}},\"type\":\"bar\"}],\"barpolar\":[{\"marker\":{\"line\":{\"color\":\"#E5ECF6\",\"width\":0.5},\"pattern\":{\"fillmode\":\"overlay\",\"size\":10,\"solidity\":0.2}},\"type\":\"barpolar\"}],\"carpet\":[{\"aaxis\":{\"endlinecolor\":\"#2a3f5f\",\"gridcolor\":\"white\",\"linecolor\":\"white\",\"minorgridcolor\":\"white\",\"startlinecolor\":\"#2a3f5f\"},\"baxis\":{\"endlinecolor\":\"#2a3f5f\",\"gridcolor\":\"white\",\"linecolor\":\"white\",\"minorgridcolor\":\"white\",\"startlinecolor\":\"#2a3f5f\"},\"type\":\"carpet\"}],\"choropleth\":[{\"colorbar\":{\"outlinewidth\":0,\"ticks\":\"\"},\"type\":\"choropleth\"}],\"contour\":[{\"colorbar\":{\"outlinewidth\":0,\"ticks\":\"\"},\"colorscale\":[[0.0,\"#0d0887\"],[0.1111111111111111,\"#46039f\"],[0.2222222222222222,\"#7201a8\"],[0.3333333333333333,\"#9c179e\"],[0.4444444444444444,\"#bd3786\"],[0.5555555555555556,\"#d8576b\"],[0.6666666666666666,\"#ed7953\"],[0.7777777777777778,\"#fb9f3a\"],[0.8888888888888888,\"#fdca26\"],[1.0,\"#f0f921\"]],\"type\":\"contour\"}],\"contourcarpet\":[{\"colorbar\":{\"outlinewidth\":0,\"ticks\":\"\"},\"type\":\"contourcarpet\"}],\"heatmap\":[{\"colorbar\":{\"outlinewidth\":0,\"ticks\":\"\"},\"colorscale\":[[0.0,\"#0d0887\"],[0.1111111111111111,\"#46039f\"],[0.2222222222222222,\"#7201a8\"],[0.3333333333333333,\"#9c179e\"],[0.4444444444444444,\"#bd3786\"],[0.5555555555555556,\"#d8576b\"],[0.6666666666666666,\"#ed7953\"],[0.7777777777777778,\"#fb9f3a\"],[0.8888888888888888,\"#fdca26\"],[1.0,\"#f0f921\"]],\"type\":\"heatmap\"}],\"heatmapgl\":[{\"colorbar\":{\"outlinewidth\":0,\"ticks\":\"\"},\"colorscale\":[[0.0,\"#0d0887\"],[0.1111111111111111,\"#46039f\"],[0.2222222222222222,\"#7201a8\"],[0.3333333333333333,\"#9c179e\"],[0.4444444444444444,\"#bd3786\"],[0.5555555555555556,\"#d8576b\"],[0.6666666666666666,\"#ed7953\"],[0.7777777777777778,\"#fb9f3a\"],[0.8888888888888888,\"#fdca26\"],[1.0,\"#f0f921\"]],\"type\":\"heatmapgl\"}],\"histogram\":[{\"marker\":{\"pattern\":{\"fillmode\":\"overlay\",\"size\":10,\"solidity\":0.2}},\"type\":\"histogram\"}],\"histogram2d\":[{\"colorbar\":{\"outlinewidth\":0,\"ticks\":\"\"},\"colorscale\":[[0.0,\"#0d0887\"],[0.1111111111111111,\"#46039f\"],[0.2222222222222222,\"#7201a8\"],[0.3333333333333333,\"#9c179e\"],[0.4444444444444444,\"#bd3786\"],[0.5555555555555556,\"#d8576b\"],[0.6666666666666666,\"#ed7953\"],[0.7777777777777778,\"#fb9f3a\"],[0.8888888888888888,\"#fdca26\"],[1.0,\"#f0f921\"]],\"type\":\"histogram2d\"}],\"histogram2dcontour\":[{\"colorbar\":{\"outlinewidth\":0,\"ticks\":\"\"},\"colorscale\":[[0.0,\"#0d0887\"],[0.1111111111111111,\"#46039f\"],[0.2222222222222222,\"#7201a8\"],[0.3333333333333333,\"#9c179e\"],[0.4444444444444444,\"#bd3786\"],[0.5555555555555556,\"#d8576b\"],[0.6666666666666666,\"#ed7953\"],[0.7777777777777778,\"#fb9f3a\"],[0.8888888888888888,\"#fdca26\"],[1.0,\"#f0f921\"]],\"type\":\"histogram2dcontour\"}],\"mesh3d\":[{\"colorbar\":{\"outlinewidth\":0,\"ticks\":\"\"},\"type\":\"mesh3d\"}],\"parcoords\":[{\"line\":{\"colorbar\":{\"outlinewidth\":0,\"ticks\":\"\"}},\"type\":\"parcoords\"}],\"pie\":[{\"automargin\":true,\"type\":\"pie\"}],\"scatter\":[{\"marker\":{\"colorbar\":{\"outlinewidth\":0,\"ticks\":\"\"}},\"type\":\"scatter\"}],\"scatter3d\":[{\"line\":{\"colorbar\":{\"outlinewidth\":0,\"ticks\":\"\"}},\"marker\":{\"colorbar\":{\"outlinewidth\":0,\"ticks\":\"\"}},\"type\":\"scatter3d\"}],\"scattercarpet\":[{\"marker\":{\"colorbar\":{\"outlinewidth\":0,\"ticks\":\"\"}},\"type\":\"scattercarpet\"}],\"scattergeo\":[{\"marker\":{\"colorbar\":{\"outlinewidth\":0,\"ticks\":\"\"}},\"type\":\"scattergeo\"}],\"scattergl\":[{\"marker\":{\"colorbar\":{\"outlinewidth\":0,\"ticks\":\"\"}},\"type\":\"scattergl\"}],\"scattermapbox\":[{\"marker\":{\"colorbar\":{\"outlinewidth\":0,\"ticks\":\"\"}},\"type\":\"scattermapbox\"}],\"scatterpolar\":[{\"marker\":{\"colorbar\":{\"outlinewidth\":0,\"ticks\":\"\"}},\"type\":\"scatterpolar\"}],\"scatterpolargl\":[{\"marker\":{\"colorbar\":{\"outlinewidth\":0,\"ticks\":\"\"}},\"type\":\"scatterpolargl\"}],\"scatterternary\":[{\"marker\":{\"colorbar\":{\"outlinewidth\":0,\"ticks\":\"\"}},\"type\":\"scatterternary\"}],\"surface\":[{\"colorbar\":{\"outlinewidth\":0,\"ticks\":\"\"},\"colorscale\":[[0.0,\"#0d0887\"],[0.1111111111111111,\"#46039f\"],[0.2222222222222222,\"#7201a8\"],[0.3333333333333333,\"#9c179e\"],[0.4444444444444444,\"#bd3786\"],[0.5555555555555556,\"#d8576b\"],[0.6666666666666666,\"#ed7953\"],[0.7777777777777778,\"#fb9f3a\"],[0.8888888888888888,\"#fdca26\"],[1.0,\"#f0f921\"]],\"type\":\"surface\"}],\"table\":[{\"cells\":{\"fill\":{\"color\":\"#EBF0F8\"},\"line\":{\"color\":\"white\"}},\"header\":{\"fill\":{\"color\":\"#C8D4E3\"},\"line\":{\"color\":\"white\"}},\"type\":\"table\"}]},\"layout\":{\"annotationdefaults\":{\"arrowcolor\":\"#2a3f5f\",\"arrowhead\":0,\"arrowwidth\":1},\"autotypenumbers\":\"strict\",\"coloraxis\":{\"colorbar\":{\"outlinewidth\":0,\"ticks\":\"\"}},\"colorscale\":{\"diverging\":[[0,\"#8e0152\"],[0.1,\"#c51b7d\"],[0.2,\"#de77ae\"],[0.3,\"#f1b6da\"],[0.4,\"#fde0ef\"],[0.5,\"#f7f7f7\"],[0.6,\"#e6f5d0\"],[0.7,\"#b8e186\"],[0.8,\"#7fbc41\"],[0.9,\"#4d9221\"],[1,\"#276419\"]],\"sequential\":[[0.0,\"#0d0887\"],[0.1111111111111111,\"#46039f\"],[0.2222222222222222,\"#7201a8\"],[0.3333333333333333,\"#9c179e\"],[0.4444444444444444,\"#bd3786\"],[0.5555555555555556,\"#d8576b\"],[0.6666666666666666,\"#ed7953\"],[0.7777777777777778,\"#fb9f3a\"],[0.8888888888888888,\"#fdca26\"],[1.0,\"#f0f921\"]],\"sequentialminus\":[[0.0,\"#0d0887\"],[0.1111111111111111,\"#46039f\"],[0.2222222222222222,\"#7201a8\"],[0.3333333333333333,\"#9c179e\"],[0.4444444444444444,\"#bd3786\"],[0.5555555555555556,\"#d8576b\"],[0.6666666666666666,\"#ed7953\"],[0.7777777777777778,\"#fb9f3a\"],[0.8888888888888888,\"#fdca26\"],[1.0,\"#f0f921\"]]},\"colorway\":[\"#636efa\",\"#EF553B\",\"#00cc96\",\"#ab63fa\",\"#FFA15A\",\"#19d3f3\",\"#FF6692\",\"#B6E880\",\"#FF97FF\",\"#FECB52\"],\"font\":{\"color\":\"#2a3f5f\"},\"geo\":{\"bgcolor\":\"white\",\"lakecolor\":\"white\",\"landcolor\":\"#E5ECF6\",\"showlakes\":true,\"showland\":true,\"subunitcolor\":\"white\"},\"hoverlabel\":{\"align\":\"left\"},\"hovermode\":\"closest\",\"mapbox\":{\"style\":\"light\"},\"paper_bgcolor\":\"white\",\"plot_bgcolor\":\"#E5ECF6\",\"polar\":{\"angularaxis\":{\"gridcolor\":\"white\",\"linecolor\":\"white\",\"ticks\":\"\"},\"bgcolor\":\"#E5ECF6\",\"radialaxis\":{\"gridcolor\":\"white\",\"linecolor\":\"white\",\"ticks\":\"\"}},\"scene\":{\"xaxis\":{\"backgroundcolor\":\"#E5ECF6\",\"gridcolor\":\"white\",\"gridwidth\":2,\"linecolor\":\"white\",\"showbackground\":true,\"ticks\":\"\",\"zerolinecolor\":\"white\"},\"yaxis\":{\"backgroundcolor\":\"#E5ECF6\",\"gridcolor\":\"white\",\"gridwidth\":2,\"linecolor\":\"white\",\"showbackground\":true,\"ticks\":\"\",\"zerolinecolor\":\"white\"},\"zaxis\":{\"backgroundcolor\":\"#E5ECF6\",\"gridcolor\":\"white\",\"gridwidth\":2,\"linecolor\":\"white\",\"showbackground\":true,\"ticks\":\"\",\"zerolinecolor\":\"white\"}},\"shapedefaults\":{\"line\":{\"color\":\"#2a3f5f\"}},\"ternary\":{\"aaxis\":{\"gridcolor\":\"white\",\"linecolor\":\"white\",\"ticks\":\"\"},\"baxis\":{\"gridcolor\":\"white\",\"linecolor\":\"white\",\"ticks\":\"\"},\"bgcolor\":\"#E5ECF6\",\"caxis\":{\"gridcolor\":\"white\",\"linecolor\":\"white\",\"ticks\":\"\"}},\"title\":{\"x\":0.05},\"xaxis\":{\"automargin\":true,\"gridcolor\":\"white\",\"linecolor\":\"white\",\"ticks\":\"\",\"title\":{\"standoff\":15},\"zerolinecolor\":\"white\",\"zerolinewidth\":2},\"yaxis\":{\"automargin\":true,\"gridcolor\":\"white\",\"linecolor\":\"white\",\"ticks\":\"\",\"title\":{\"standoff\":15},\"zerolinecolor\":\"white\",\"zerolinewidth\":2}}},\"xaxis\":{\"anchor\":\"y\",\"domain\":[0.0,1.0],\"title\":{\"text\":\"weekday\"}},\"yaxis\":{\"anchor\":\"x\",\"domain\":[0.0,1.0],\"title\":{\"text\":\"sum of cnt\"}},\"legend\":{\"tracegroupgap\":0},\"margin\":{\"t\":60},\"barmode\":\"relative\",\"title\":{\"text\":\"Distribution of count by weekdays\"}},                        {\"responsive\": true}                    ).then(function(){\n",
              "                            \n",
              "var gd = document.getElementById('161fcb94-9fca-4cfc-82d6-2f14aacdce86');\n",
              "var x = new MutationObserver(function (mutations, observer) {{\n",
              "        var display = window.getComputedStyle(gd).display;\n",
              "        if (!display || display === 'none') {{\n",
              "            console.log([gd, 'removed!']);\n",
              "            Plotly.purge(gd);\n",
              "            observer.disconnect();\n",
              "        }}\n",
              "}});\n",
              "\n",
              "// Listen for the removal of the full notebook cells\n",
              "var notebookContainer = gd.closest('#notebook-container');\n",
              "if (notebookContainer) {{\n",
              "    x.observe(notebookContainer, {childList: true});\n",
              "}}\n",
              "\n",
              "// Listen for the clearing of the current output cell\n",
              "var outputEl = gd.closest('.output');\n",
              "if (outputEl) {{\n",
              "    x.observe(outputEl, {childList: true});\n",
              "}}\n",
              "\n",
              "                        })                };                            </script>        </div>\n",
              "</body>\n",
              "</html>"
            ]
          },
          "metadata": {}
        }
      ]
    },
    {
      "cell_type": "markdown",
      "source": [
        "On saturday, bike rentals are high\n"
      ],
      "metadata": {
        "id": "FmtxVgNT9FYS"
      }
    },
    {
      "cell_type": "code",
      "source": [
        "box_temp = px.histogram(rides, x='temp', y='cnt')\n",
        "box_temp.update_layout(bargap=0.2,title=\"Distribution of count by Temperature\")\n",
        "box_temp .show()"
      ],
      "metadata": {
        "colab": {
          "base_uri": "https://localhost:8080/",
          "height": 542
        },
        "id": "FpFc_asv9XhD",
        "outputId": "0fd917ac-d769-4cb9-a664-0779c01dc9ee"
      },
      "execution_count": 1256,
      "outputs": [
        {
          "output_type": "display_data",
          "data": {
            "text/html": [
              "<html>\n",
              "<head><meta charset=\"utf-8\" /></head>\n",
              "<body>\n",
              "    <div>            <script src=\"https://cdnjs.cloudflare.com/ajax/libs/mathjax/2.7.5/MathJax.js?config=TeX-AMS-MML_SVG\"></script><script type=\"text/javascript\">if (window.MathJax) {MathJax.Hub.Config({SVG: {font: \"STIX-Web\"}});}</script>                <script type=\"text/javascript\">window.PlotlyConfig = {MathJaxConfig: 'local'};</script>\n",
              "        <script src=\"https://cdn.plot.ly/plotly-2.8.3.min.js\"></script>                <div id=\"97626ffe-520e-4681-856b-9b481c8be138\" class=\"plotly-graph-div\" style=\"height:525px; width:100%;\"></div>            <script type=\"text/javascript\">                                    window.PLOTLYENV=window.PLOTLYENV || {};                                    if (document.getElementById(\"97626ffe-520e-4681-856b-9b481c8be138\")) {                    Plotly.newPlot(                        \"97626ffe-520e-4681-856b-9b481c8be138\",                        [{\"alignmentgroup\":\"True\",\"bingroup\":\"x\",\"histfunc\":\"sum\",\"hovertemplate\":\"temp=%{x}<br>sum of cnt=%{y}<extra></extra>\",\"legendgroup\":\"\",\"marker\":{\"color\":\"#636efa\",\"pattern\":{\"shape\":\"\"}},\"name\":\"\",\"offsetgroup\":\"\",\"orientation\":\"v\",\"showlegend\":false,\"x\":[14.110847,14.902598,8.050924,8.2,9.305237,8.378268,8.057402,6.765,5.671653,6.184153,6.932731,7.081807,6.765,6.59567,9.566653,9.498347,7.209153,8.883347,11.979134,10.728347,7.2775,2.4243464,3.9573897,3.9930433,9.162598,8.9175,7.995,8.342598,8.057402,8.877402,7.414153,7.879134,10.66,7.665237,8.663464,9.566653,11.719153,11.138347,9.054153,5.526103,5.918268,7.752731,9.1225,12.977402,17.015,10.909567,13.048701,17.869153,21.388347,16.365847,11.693897,12.436653,7.471102,9.091299,12.121732,14.938268,11.5825,14.082598,16.698193,10.933347,13.735,8.131653,10.728347,15.750847,15.437402,10.731299,11.9925,12.129153,15.952731,12.977402,13.495847,15.758268,13.333897,13.013031,14.973897,17.015,22.14,19.3725,13.6325,17.647835,18.108347,14.225237,11.685,10.830847,10.899153,10.374763,10.838268,12.4025,12.3,11.001653,12.3,12.915,15.511653,23.506653,16.980847,16.024153,17.9375,13.769153,14.0425,17.493347,24.421732,20.6025,16.9125,19.1675,18.313347,17.664153,18.723347,21.0125,20.739153,24.395,18.825847,13.803347,18.86,23.848347,24.873347,25.898347,25.42,25.3175,20.91,19.3725,18.518347,22.515847,25.283347,16.980847,18.825847,19.645847,21.32,21.661653,21.8325,21.8325,22.2425,21.935,21.0125,21.354153,23.0625,23.6775,23.028347,22.55,21.764153,22.003347,24.7025,24.770847,25.898347,27.06,27.094153,29.041653,27.948347,26.889153,27.3675,30.066653,31.775,31.330847,29.315,25.42,26.035,26.581653,27.811653,29.0075,31.809153,33.141653,30.955,29.725,28.3925,26.035,24.770847,25.693347,25.761653,26.615847,28.563347,28.665847,26.035,27.914153,30.066653,29.861653,29.690847,28.495,27.88,27.9825,30.510847,29.861653,28.563347,29.6225,30.271653,29.383347,29.793347,30.613347,29.52,30.75,29.075847,30.066653,30.6475,31.2625,32.560847,30.613347,27.914153,27.196653,28.153347,29.485847,30.613347,31.843347,31.501653,33.415,34.781653,34.815847,34.03,30.476653,31.638347,31.775,31.945847,34.371653,32.970847,33.039153,31.638347,32.116653,29.998347,29.11,29.144153,29.383347,30.4425,31.365,31.775,31.433347,29.4175,29.041653,28.119153,27.743347,27.299153,28.734153,29.656653,29.178347,28.085,28.5975,29.144153,28.358347,26.274153,27.606653,28.050847,28.7,27.88,28.989419,26.103347,26.205847,26.923347,26.855,26.376653,27.435847,29.075847,27.606653,22.14,24.565847,25.990433,26.65,27.06,26.786653,26.418268,26.684153,27.606653,23.6775,19.235847,20.158347,20.8075,22.515847,23.028347,24.395,25.761653,24.975847,24.873347,26.000847,26.615847,26.103347,26.035,25.283347,23.130847,16.81,14.623347,15.750847,19.850847,22.071653,20.260847,20.944153,21.388347,22.174153,23.404153,23.233347,22.276653,24.155847,22.584153,20.773347,20.978347,21.900847,21.8325,22.211299,19.509153,17.5275,17.3225,17.288347,18.996653,19.338347,19.850847,19.27,13.564153,10.420847,13.085847,13.94,16.434153,15.4775,16.741653,16.536653,13.393347,14.281653,16.195,16.741653,16.4,15.58,13.290847,14.623347,18.074153,21.73,21.73,18.723347,14.008347,11.240847,13.495847,18.996653,18.3475,17.083347,18.074153,15.306653,15.375,15.409153,18.825847,20.642598,18.791653,13.325,12.8125,12.880847,12.265847,13.564153,15.819153,18.9625,16.81,10.899153,11.924153,11.275,9.054153,9.771653,11.5825,13.0175,17.3225,15.375,10.591653,9.771653,11.343347,15.819153,17.561653,17.356653,15.306653,12.4025,11.266103,13.191299,13.325,12.26433,10.181653,12.778347,16.81,15.17,11.194763,6.15,4.4075,10.899153,13.700847,16.126653,13.8375,9.190847,12.656536,11.240847,15.6825,11.240847,7.38,6.833347,7.79,15.294763,12.436653,7.79,8.9175,7.106653,6.6625,8.951653,14.0425,12.060847,14.008347,17.425,12.949153,11.5825,11.035847,15.99,19.235847,16.365847,12.846653,10.830847,10.899153,11.586969,14.520847,10.523347,10.865,11.514153,9.190847,5.2275,9.1225,13.085847,14.281653,12.983347,14.076653,14.213347,11.48,11.48,11.800866,16.229153,18.620847,16.7075,11.924153,11.445847,15.033347,14.725847,19.919153,14.486653,16.980847,13.359153,9.976653,10.591653,16.570847,21.6275,16.844153,11.7875,14.831299,19.133347,23.165,23.4725,22.8575,17.869153,21.080847,19.3725,22.345,22.994153,21.798347,22.720847,24.668347,20.6025,17.9375,18.279153,13.256653,19.850847,20.260847,15.17,17.390847,17.459153,17.790433,19.133347,22.208347,17.835,16.536653,17.9375,20.5,20.055847,18.313347,14.296536,16.2975,18.1425,20.295,24.873347,27.230847,24.941653,18.996653,20.431653,21.593347,23.37,16.263347,13.188347,16.946653,19.543347,20.431653,18.7575,15.443347,18.791653,19.030847,25.146653,23.130847,22.96,25.7275,25.488347,23.0625,22.0375,23.848347,23.575,20.739153,21.866653,23.130847,25.1125,23.506653,25.078347,26.103347,24.326653,23.130847,24.6,25.454153,24.531653,25.215,25.488347,26.855,27.88,28.3925,28.29,29.2125,29.6225,26.923347,27.88,26.820847,23.916653,24.7025,24.4975,22.174153,22.720847,24.7025,26.615847,29.144153,29.793347,29.554153,26.786653,26.889153,26.581653,26.205847,25.898347,24.2925,23.301653,28.221653,32.0825,33.039153,31.8775,29.998347,30.476653,29.349153,25.864153,28.5975,30.715847,34.200847,31.365,33.449153,32.048347,32.014153,32.355847,33.9275,33.961653,35.328347,33.7225,29.144153,29.554153,29.383347,29.349153,29.998347,28.836653,30.579153,31.296653,33.551653,32.526653,31.57,27.299153,24.429153,27.3675,30.408347,30.784153,29.690847,31.843347,32.048347,30.989153,29.588347,29.964153,29.246653,29.4175,30.8525,31.399153,32.526653,31.535847,30.8525,30.169153,30.75,30.989153,29.349153,28.3925,28.734153,29.554153,29.793347,28.973347,29.485847,29.656653,27.811653,26.069153,26.069153,26.615847,27.3675,28.529153,28.8025,27.128347,26.786653,28.836653,29.861653,28.085,28.973347,31.330847,30.886653,28.563347,29.0075,29.759153,30.203347,28.563347,28.836653,27.025847,25.01,23.916653,23.6775,24.565847,25.1125,25.966653,24.941653,23.78,23.814153,25.556653,22.6525,22.413347,24.565847,26.65,21.695847,21.080847,22.55,26.035,26.65,25.385847,22.2425,21.593347,21.354153,24.224153,26.9575,26.9575,25.215,22.720847,17.049153,15.716653,18.313347,21.080847,17.835,17.9375,16.126653,21.388347,23.028347,19.201653,18.689153,21.4225,23.096653,19.850847,19.030847,19.9875,22.310847,24.0875,22.55,22.379153,21.73,19.5775,18.04,13.045462,14.6575,14.999153,14.555,14.076653,13.359153,13.085847,11.514153,12.129153,14.439134,14.828347,15.955847,17.254153,19.885,14.076653,11.855847,13.188347,14.145,13.325,14.0425,15.614153,15.340847,14.486653,13.94,15.101653,11.411653,10.079153,12.846653,11.958347,12.163347,11.51567,12.231653,12.231653,14.2475,18.5525,19.509153,17.971653,10.489153,13.154153,15.648347,15.750847,17.869153,14.486653,12.1975,12.129153,11.548347,13.290847,14.8625,16.126653,16.844153,13.6325,13.53,13.393347,10.899153,10.079153,9.483464,11.943464,9.976653,10.420847,10.386653,10.386653,10.489153,8.849153],\"xaxis\":\"x\",\"y\":[985,801,1349,1562,1600,1606,1510,959,822,1321,1263,1162,1406,1421,1248,1204,1000,683,1650,1927,1543,981,986,1416,1985,506,431,1167,1098,1096,1501,1360,1526,1550,1708,1005,1623,1712,1530,1605,1538,1746,1472,1589,1913,1815,2115,2475,2927,1635,1812,1107,1450,1917,1807,1461,1969,2402,1446,1851,2134,1685,1944,2077,605,1872,2133,1891,623,1977,2132,2417,2046,2056,2192,2744,3239,3117,2471,2077,2703,2121,1865,2210,2496,1693,2028,2425,1536,1685,2227,2252,3249,3115,1795,2808,3141,1471,2455,2895,3348,2034,2162,3267,3126,795,3744,3429,3204,3944,4189,1683,4036,4191,4073,4400,3872,4058,4595,5312,3351,4401,4451,2633,4433,4608,4714,4333,4362,4803,4182,4864,4105,3409,4553,3958,4123,3855,4575,4917,5805,4660,4274,4492,4978,4677,4679,4758,4788,4098,3982,3974,4968,5312,5342,4906,4548,4833,4401,3915,4586,4966,4460,5020,4891,5180,3767,4844,5119,4744,4010,4835,4507,4790,4991,5202,5305,4708,4648,5225,5515,5362,5119,4649,6043,4665,4629,4592,4040,5336,4881,4086,4258,4342,5084,5538,5923,5302,4458,4541,4332,3784,3387,3285,3606,3840,4590,4656,4390,3846,4475,4302,4266,4845,3574,4576,4866,4294,3785,4326,4602,4780,4792,4905,4150,3820,4338,4725,4694,3805,4153,5191,3873,4758,5895,5130,3542,4661,1115,4334,4634,5204,5058,5115,4727,4484,4940,3351,2710,1996,1842,3544,5345,5046,4713,4763,4785,3659,4760,4511,4274,4539,3641,4352,4795,2395,5423,5010,4630,4120,3907,4839,5202,2429,2918,3570,4456,4826,4765,4985,5409,5511,5117,4563,2416,2913,3644,5217,5041,4570,4748,2424,4195,4304,4308,4381,4187,4687,3894,2659,3747,627,3331,3669,4068,4186,3974,4046,3926,3649,4035,4205,4109,2933,3368,4067,3717,4486,4195,1817,3053,3392,3663,3520,2765,1607,2566,1495,2792,3068,3071,3867,2914,3613,3727,3940,3614,3485,3811,2594,705,3322,3620,3190,2743,3310,3523,3740,3709,3577,2739,2431,3403,3750,2660,3068,2209,1011,754,1317,1162,2302,2423,2999,2485,2294,1951,2236,2368,3272,4098,4521,3425,2376,3598,2177,4097,3214,2493,2311,2298,2935,3376,3292,3163,1301,1977,2432,4339,4270,4075,3456,4023,3243,3624,4509,4579,3761,4151,2832,2947,3784,4375,2802,3830,3831,2169,1529,3422,3922,4169,3005,4154,4318,2689,3129,3777,4773,5062,3487,2732,3389,4322,4363,4990,3194,4066,3423,3333,3956,4916,5382,4569,4118,4911,5298,5847,6312,6192,4378,7836,5892,6153,6093,6230,6871,8362,3372,4996,5558,5102,5698,6133,5459,6235,6041,5936,6772,6436,6457,6460,6857,5169,5585,5918,4862,5409,6398,7460,7132,6370,6691,4367,6565,7290,6624,1027,3214,5633,6196,5026,6233,4220,6304,5572,5740,6169,6421,6296,6883,6359,6273,5728,4717,6572,7030,7429,6118,2843,5115,7424,7384,7639,8294,7129,4359,6073,5260,6770,6734,6536,6591,6043,5743,6855,7338,4127,8120,7641,6998,7001,7055,7494,7736,7498,6598,6664,4972,7421,7363,7665,7702,6978,5099,6825,6211,5905,5823,7458,6891,6779,7442,7335,6879,5463,5687,5531,6227,6660,7403,6241,6207,4840,4672,6569,6290,7264,7446,7499,6969,6031,6830,6786,5713,6591,5870,4459,7410,6966,7592,8173,6861,6904,6685,6597,7105,7216,7580,7261,7175,6824,5464,7013,7273,7534,7286,5786,6299,6544,6883,6784,7347,7605,7148,7865,4549,6530,7006,7375,7765,7582,6053,5255,6917,7040,7697,7713,7350,6140,5810,6034,6864,7112,6203,7504,5976,8227,7525,7767,7870,7804,8009,8714,7333,6869,4073,7591,7720,8167,8395,7907,7436,7538,7733,7393,7415,8555,6889,6778,4639,7572,7328,8156,7965,3510,5478,6392,7691,7570,7282,7109,6639,5875,7534,7461,7509,5424,8090,6824,7058,7466,7693,7359,7444,7852,4459,22,1096,5566,5986,5847,5138,5107,5259,5686,5035,5315,5992,6536,6852,6269,4094,5495,5445,5698,5629,4669,5499,5634,5146,2425,3910,2277,2424,5087,3959,5260,5323,5668,5191,4649,6234,6606,5729,5375,5008,5582,3228,5170,5501,5319,5532,5611,5047,3786,4585,5557,5267,4128,3623,1749,1787,920,1013,441,2114,3095,1341,1796,2729],\"yaxis\":\"y\",\"type\":\"histogram\"}],                        {\"template\":{\"data\":{\"bar\":[{\"error_x\":{\"color\":\"#2a3f5f\"},\"error_y\":{\"color\":\"#2a3f5f\"},\"marker\":{\"line\":{\"color\":\"#E5ECF6\",\"width\":0.5},\"pattern\":{\"fillmode\":\"overlay\",\"size\":10,\"solidity\":0.2}},\"type\":\"bar\"}],\"barpolar\":[{\"marker\":{\"line\":{\"color\":\"#E5ECF6\",\"width\":0.5},\"pattern\":{\"fillmode\":\"overlay\",\"size\":10,\"solidity\":0.2}},\"type\":\"barpolar\"}],\"carpet\":[{\"aaxis\":{\"endlinecolor\":\"#2a3f5f\",\"gridcolor\":\"white\",\"linecolor\":\"white\",\"minorgridcolor\":\"white\",\"startlinecolor\":\"#2a3f5f\"},\"baxis\":{\"endlinecolor\":\"#2a3f5f\",\"gridcolor\":\"white\",\"linecolor\":\"white\",\"minorgridcolor\":\"white\",\"startlinecolor\":\"#2a3f5f\"},\"type\":\"carpet\"}],\"choropleth\":[{\"colorbar\":{\"outlinewidth\":0,\"ticks\":\"\"},\"type\":\"choropleth\"}],\"contour\":[{\"colorbar\":{\"outlinewidth\":0,\"ticks\":\"\"},\"colorscale\":[[0.0,\"#0d0887\"],[0.1111111111111111,\"#46039f\"],[0.2222222222222222,\"#7201a8\"],[0.3333333333333333,\"#9c179e\"],[0.4444444444444444,\"#bd3786\"],[0.5555555555555556,\"#d8576b\"],[0.6666666666666666,\"#ed7953\"],[0.7777777777777778,\"#fb9f3a\"],[0.8888888888888888,\"#fdca26\"],[1.0,\"#f0f921\"]],\"type\":\"contour\"}],\"contourcarpet\":[{\"colorbar\":{\"outlinewidth\":0,\"ticks\":\"\"},\"type\":\"contourcarpet\"}],\"heatmap\":[{\"colorbar\":{\"outlinewidth\":0,\"ticks\":\"\"},\"colorscale\":[[0.0,\"#0d0887\"],[0.1111111111111111,\"#46039f\"],[0.2222222222222222,\"#7201a8\"],[0.3333333333333333,\"#9c179e\"],[0.4444444444444444,\"#bd3786\"],[0.5555555555555556,\"#d8576b\"],[0.6666666666666666,\"#ed7953\"],[0.7777777777777778,\"#fb9f3a\"],[0.8888888888888888,\"#fdca26\"],[1.0,\"#f0f921\"]],\"type\":\"heatmap\"}],\"heatmapgl\":[{\"colorbar\":{\"outlinewidth\":0,\"ticks\":\"\"},\"colorscale\":[[0.0,\"#0d0887\"],[0.1111111111111111,\"#46039f\"],[0.2222222222222222,\"#7201a8\"],[0.3333333333333333,\"#9c179e\"],[0.4444444444444444,\"#bd3786\"],[0.5555555555555556,\"#d8576b\"],[0.6666666666666666,\"#ed7953\"],[0.7777777777777778,\"#fb9f3a\"],[0.8888888888888888,\"#fdca26\"],[1.0,\"#f0f921\"]],\"type\":\"heatmapgl\"}],\"histogram\":[{\"marker\":{\"pattern\":{\"fillmode\":\"overlay\",\"size\":10,\"solidity\":0.2}},\"type\":\"histogram\"}],\"histogram2d\":[{\"colorbar\":{\"outlinewidth\":0,\"ticks\":\"\"},\"colorscale\":[[0.0,\"#0d0887\"],[0.1111111111111111,\"#46039f\"],[0.2222222222222222,\"#7201a8\"],[0.3333333333333333,\"#9c179e\"],[0.4444444444444444,\"#bd3786\"],[0.5555555555555556,\"#d8576b\"],[0.6666666666666666,\"#ed7953\"],[0.7777777777777778,\"#fb9f3a\"],[0.8888888888888888,\"#fdca26\"],[1.0,\"#f0f921\"]],\"type\":\"histogram2d\"}],\"histogram2dcontour\":[{\"colorbar\":{\"outlinewidth\":0,\"ticks\":\"\"},\"colorscale\":[[0.0,\"#0d0887\"],[0.1111111111111111,\"#46039f\"],[0.2222222222222222,\"#7201a8\"],[0.3333333333333333,\"#9c179e\"],[0.4444444444444444,\"#bd3786\"],[0.5555555555555556,\"#d8576b\"],[0.6666666666666666,\"#ed7953\"],[0.7777777777777778,\"#fb9f3a\"],[0.8888888888888888,\"#fdca26\"],[1.0,\"#f0f921\"]],\"type\":\"histogram2dcontour\"}],\"mesh3d\":[{\"colorbar\":{\"outlinewidth\":0,\"ticks\":\"\"},\"type\":\"mesh3d\"}],\"parcoords\":[{\"line\":{\"colorbar\":{\"outlinewidth\":0,\"ticks\":\"\"}},\"type\":\"parcoords\"}],\"pie\":[{\"automargin\":true,\"type\":\"pie\"}],\"scatter\":[{\"marker\":{\"colorbar\":{\"outlinewidth\":0,\"ticks\":\"\"}},\"type\":\"scatter\"}],\"scatter3d\":[{\"line\":{\"colorbar\":{\"outlinewidth\":0,\"ticks\":\"\"}},\"marker\":{\"colorbar\":{\"outlinewidth\":0,\"ticks\":\"\"}},\"type\":\"scatter3d\"}],\"scattercarpet\":[{\"marker\":{\"colorbar\":{\"outlinewidth\":0,\"ticks\":\"\"}},\"type\":\"scattercarpet\"}],\"scattergeo\":[{\"marker\":{\"colorbar\":{\"outlinewidth\":0,\"ticks\":\"\"}},\"type\":\"scattergeo\"}],\"scattergl\":[{\"marker\":{\"colorbar\":{\"outlinewidth\":0,\"ticks\":\"\"}},\"type\":\"scattergl\"}],\"scattermapbox\":[{\"marker\":{\"colorbar\":{\"outlinewidth\":0,\"ticks\":\"\"}},\"type\":\"scattermapbox\"}],\"scatterpolar\":[{\"marker\":{\"colorbar\":{\"outlinewidth\":0,\"ticks\":\"\"}},\"type\":\"scatterpolar\"}],\"scatterpolargl\":[{\"marker\":{\"colorbar\":{\"outlinewidth\":0,\"ticks\":\"\"}},\"type\":\"scatterpolargl\"}],\"scatterternary\":[{\"marker\":{\"colorbar\":{\"outlinewidth\":0,\"ticks\":\"\"}},\"type\":\"scatterternary\"}],\"surface\":[{\"colorbar\":{\"outlinewidth\":0,\"ticks\":\"\"},\"colorscale\":[[0.0,\"#0d0887\"],[0.1111111111111111,\"#46039f\"],[0.2222222222222222,\"#7201a8\"],[0.3333333333333333,\"#9c179e\"],[0.4444444444444444,\"#bd3786\"],[0.5555555555555556,\"#d8576b\"],[0.6666666666666666,\"#ed7953\"],[0.7777777777777778,\"#fb9f3a\"],[0.8888888888888888,\"#fdca26\"],[1.0,\"#f0f921\"]],\"type\":\"surface\"}],\"table\":[{\"cells\":{\"fill\":{\"color\":\"#EBF0F8\"},\"line\":{\"color\":\"white\"}},\"header\":{\"fill\":{\"color\":\"#C8D4E3\"},\"line\":{\"color\":\"white\"}},\"type\":\"table\"}]},\"layout\":{\"annotationdefaults\":{\"arrowcolor\":\"#2a3f5f\",\"arrowhead\":0,\"arrowwidth\":1},\"autotypenumbers\":\"strict\",\"coloraxis\":{\"colorbar\":{\"outlinewidth\":0,\"ticks\":\"\"}},\"colorscale\":{\"diverging\":[[0,\"#8e0152\"],[0.1,\"#c51b7d\"],[0.2,\"#de77ae\"],[0.3,\"#f1b6da\"],[0.4,\"#fde0ef\"],[0.5,\"#f7f7f7\"],[0.6,\"#e6f5d0\"],[0.7,\"#b8e186\"],[0.8,\"#7fbc41\"],[0.9,\"#4d9221\"],[1,\"#276419\"]],\"sequential\":[[0.0,\"#0d0887\"],[0.1111111111111111,\"#46039f\"],[0.2222222222222222,\"#7201a8\"],[0.3333333333333333,\"#9c179e\"],[0.4444444444444444,\"#bd3786\"],[0.5555555555555556,\"#d8576b\"],[0.6666666666666666,\"#ed7953\"],[0.7777777777777778,\"#fb9f3a\"],[0.8888888888888888,\"#fdca26\"],[1.0,\"#f0f921\"]],\"sequentialminus\":[[0.0,\"#0d0887\"],[0.1111111111111111,\"#46039f\"],[0.2222222222222222,\"#7201a8\"],[0.3333333333333333,\"#9c179e\"],[0.4444444444444444,\"#bd3786\"],[0.5555555555555556,\"#d8576b\"],[0.6666666666666666,\"#ed7953\"],[0.7777777777777778,\"#fb9f3a\"],[0.8888888888888888,\"#fdca26\"],[1.0,\"#f0f921\"]]},\"colorway\":[\"#636efa\",\"#EF553B\",\"#00cc96\",\"#ab63fa\",\"#FFA15A\",\"#19d3f3\",\"#FF6692\",\"#B6E880\",\"#FF97FF\",\"#FECB52\"],\"font\":{\"color\":\"#2a3f5f\"},\"geo\":{\"bgcolor\":\"white\",\"lakecolor\":\"white\",\"landcolor\":\"#E5ECF6\",\"showlakes\":true,\"showland\":true,\"subunitcolor\":\"white\"},\"hoverlabel\":{\"align\":\"left\"},\"hovermode\":\"closest\",\"mapbox\":{\"style\":\"light\"},\"paper_bgcolor\":\"white\",\"plot_bgcolor\":\"#E5ECF6\",\"polar\":{\"angularaxis\":{\"gridcolor\":\"white\",\"linecolor\":\"white\",\"ticks\":\"\"},\"bgcolor\":\"#E5ECF6\",\"radialaxis\":{\"gridcolor\":\"white\",\"linecolor\":\"white\",\"ticks\":\"\"}},\"scene\":{\"xaxis\":{\"backgroundcolor\":\"#E5ECF6\",\"gridcolor\":\"white\",\"gridwidth\":2,\"linecolor\":\"white\",\"showbackground\":true,\"ticks\":\"\",\"zerolinecolor\":\"white\"},\"yaxis\":{\"backgroundcolor\":\"#E5ECF6\",\"gridcolor\":\"white\",\"gridwidth\":2,\"linecolor\":\"white\",\"showbackground\":true,\"ticks\":\"\",\"zerolinecolor\":\"white\"},\"zaxis\":{\"backgroundcolor\":\"#E5ECF6\",\"gridcolor\":\"white\",\"gridwidth\":2,\"linecolor\":\"white\",\"showbackground\":true,\"ticks\":\"\",\"zerolinecolor\":\"white\"}},\"shapedefaults\":{\"line\":{\"color\":\"#2a3f5f\"}},\"ternary\":{\"aaxis\":{\"gridcolor\":\"white\",\"linecolor\":\"white\",\"ticks\":\"\"},\"baxis\":{\"gridcolor\":\"white\",\"linecolor\":\"white\",\"ticks\":\"\"},\"bgcolor\":\"#E5ECF6\",\"caxis\":{\"gridcolor\":\"white\",\"linecolor\":\"white\",\"ticks\":\"\"}},\"title\":{\"x\":0.05},\"xaxis\":{\"automargin\":true,\"gridcolor\":\"white\",\"linecolor\":\"white\",\"ticks\":\"\",\"title\":{\"standoff\":15},\"zerolinecolor\":\"white\",\"zerolinewidth\":2},\"yaxis\":{\"automargin\":true,\"gridcolor\":\"white\",\"linecolor\":\"white\",\"ticks\":\"\",\"title\":{\"standoff\":15},\"zerolinecolor\":\"white\",\"zerolinewidth\":2}}},\"xaxis\":{\"anchor\":\"y\",\"domain\":[0.0,1.0],\"title\":{\"text\":\"temp\"}},\"yaxis\":{\"anchor\":\"x\",\"domain\":[0.0,1.0],\"title\":{\"text\":\"sum of cnt\"}},\"legend\":{\"tracegroupgap\":0},\"margin\":{\"t\":60},\"barmode\":\"relative\",\"bargap\":0.2,\"title\":{\"text\":\"Distribution of count by Temperature\"}},                        {\"responsive\": true}                    ).then(function(){\n",
              "                            \n",
              "var gd = document.getElementById('97626ffe-520e-4681-856b-9b481c8be138');\n",
              "var x = new MutationObserver(function (mutations, observer) {{\n",
              "        var display = window.getComputedStyle(gd).display;\n",
              "        if (!display || display === 'none') {{\n",
              "            console.log([gd, 'removed!']);\n",
              "            Plotly.purge(gd);\n",
              "            observer.disconnect();\n",
              "        }}\n",
              "}});\n",
              "\n",
              "// Listen for the removal of the full notebook cells\n",
              "var notebookContainer = gd.closest('#notebook-container');\n",
              "if (notebookContainer) {{\n",
              "    x.observe(notebookContainer, {childList: true});\n",
              "}}\n",
              "\n",
              "// Listen for the clearing of the current output cell\n",
              "var outputEl = gd.closest('.output');\n",
              "if (outputEl) {{\n",
              "    x.observe(outputEl, {childList: true});\n",
              "}}\n",
              "\n",
              "                        })                };                            </script>        </div>\n",
              "</body>\n",
              "</html>"
            ]
          },
          "metadata": {}
        }
      ]
    },
    {
      "cell_type": "markdown",
      "source": [
        "Between temperatures of 26 to 30 there are more number of rides"
      ],
      "metadata": {
        "id": "bUmMHjAUL2sV"
      }
    },
    {
      "cell_type": "code",
      "source": [
        "hist_hum = px.histogram(rides, x='humidity', y='cnt')\n",
        "hist_hum.update_layout(bargap=0.2,title=\"Distribution of count by Humidity\")\n",
        "hist_hum .show()"
      ],
      "metadata": {
        "colab": {
          "base_uri": "https://localhost:8080/",
          "height": 542
        },
        "id": "hYNG6gOTiPlz",
        "outputId": "49d8a060-bcca-47d3-f7c2-c651f5860bb3"
      },
      "execution_count": 1257,
      "outputs": [
        {
          "output_type": "display_data",
          "data": {
            "text/html": [
              "<html>\n",
              "<head><meta charset=\"utf-8\" /></head>\n",
              "<body>\n",
              "    <div>            <script src=\"https://cdnjs.cloudflare.com/ajax/libs/mathjax/2.7.5/MathJax.js?config=TeX-AMS-MML_SVG\"></script><script type=\"text/javascript\">if (window.MathJax) {MathJax.Hub.Config({SVG: {font: \"STIX-Web\"}});}</script>                <script type=\"text/javascript\">window.PlotlyConfig = {MathJaxConfig: 'local'};</script>\n",
              "        <script src=\"https://cdn.plot.ly/plotly-2.8.3.min.js\"></script>                <div id=\"8c9b7f6d-9eda-4f85-9303-0e52855d3ef8\" class=\"plotly-graph-div\" style=\"height:525px; width:100%;\"></div>            <script type=\"text/javascript\">                                    window.PLOTLYENV=window.PLOTLYENV || {};                                    if (document.getElementById(\"8c9b7f6d-9eda-4f85-9303-0e52855d3ef8\")) {                    Plotly.newPlot(                        \"8c9b7f6d-9eda-4f85-9303-0e52855d3ef8\",                        [{\"alignmentgroup\":\"True\",\"bingroup\":\"x\",\"histfunc\":\"sum\",\"hovertemplate\":\"humidity=%{x}<br>sum of cnt=%{y}<extra></extra>\",\"legendgroup\":\"\",\"marker\":{\"color\":\"#636efa\",\"pattern\":{\"shape\":\"\"}},\"name\":\"\",\"offsetgroup\":\"\",\"orientation\":\"v\",\"showlegend\":false,\"x\":[80.5833,69.6087,43.7273,59.0435,43.6957,51.8261,49.8696,53.5833,43.4167,48.2917,68.6364,59.9545,47.0417,53.7826,49.875,48.375,53.75,86.1667,74.1739,53.8333,45.7083,40.0,43.6522,49.1739,61.6957,86.25,68.75,79.3043,65.1739,72.2174,60.375,82.9565,77.5417,43.7826,58.5217,92.9167,56.8333,73.8333,53.7917,49.4783,43.7391,50.6364,54.4167,45.7391,37.5833,31.4348,42.3478,50.5,51.6667,18.7917,40.7826,60.5,57.7778,42.3043,69.7391,71.2174,53.7917,68.0,87.6364,53.5,44.9583,31.8333,61.0417,78.9167,94.8261,55.1304,42.0833,77.5417,0.0,64.9565,59.4583,52.7391,49.6957,65.5652,77.6522,60.2917,52.5217,37.9167,47.375,73.7391,62.4583,83.9565,80.5833,49.5,39.4167,49.3913,30.2174,31.4167,64.6667,91.8333,68.625,65.375,48.0,42.625,64.2083,47.0833,60.2917,83.625,87.75,85.75,71.6956,73.9167,81.9167,54.0417,67.125,88.8333,47.9583,54.25,66.5833,61.4167,40.7083,72.9583,88.7917,81.0833,77.6667,72.9167,83.5417,70.0833,45.7083,50.3333,76.2083,73.0,69.7083,73.7083,44.4167,59.0,54.125,63.1667,58.875,48.9167,63.2917,74.75,86.3333,92.25,86.7083,78.7917,83.7917,87.0,82.9583,71.9583,62.6667,74.9583,81.0,74.0833,69.625,67.75,65.375,72.9583,81.875,68.5,63.6667,67.7083,30.5,35.4167,45.625,65.25,60.0,59.7917,62.2083,56.8333,60.5,65.4583,74.7917,49.4583,50.7083,47.1667,68.8333,73.5833,67.0417,66.6667,74.625,77.0417,70.75,70.3333,57.3333,48.3333,51.3333,65.8333,63.4167,49.7917,43.4167,39.625,44.4583,68.25,63.7917,59.0417,74.3333,65.125,75.7917,60.9167,57.8333,63.5833,55.9167,63.1667,47.625,59.125,58.5,60.4167,65.125,65.0417,70.7083,69.125,58.0417,50.0,55.0833,75.7083,54.0833,40.2917,58.3333,54.25,46.5833,48.0833,55.0833,49.125,65.75,75.75,63.0833,75.5,75.2917,59.2083,57.0417,42.4167,42.375,41.5,72.9583,81.75,71.2083,57.8333,57.5417,65.4583,72.2917,67.4167,77.0,47.0,45.5417,60.5,77.1667,76.125,85.0,56.1765,55.4583,54.8333,59.7917,63.9167,72.7083,71.6667,74.2083,79.0417,88.6957,91.7083,93.9565,89.7917,75.375,71.375,69.2174,71.25,69.7083,70.9167,59.0417,71.8333,69.5,69.0,88.125,90.0,90.2083,97.25,86.25,84.5,84.8333,88.5417,84.875,69.9167,64.75,75.375,79.1667,76.0833,71.0,64.7917,62.0833,68.4167,70.125,72.75,73.375,80.875,90.625,89.6667,71.625,48.3333,48.6667,57.9583,70.1667,89.5217,63.625,57.4167,62.9167,74.125,77.2083,62.2917,72.0417,81.2917,58.5833,88.25,62.375,70.3333,68.375,71.875,70.2083,62.25,51.9167,73.4583,75.875,72.1667,75.8333,81.3333,44.625,55.2917,45.8333,58.7083,68.875,93.0,57.5833,41.0,50.2083,68.4583,91.0,96.25,75.7917,54.9167,64.375,68.1667,69.8333,74.3043,83.0833,61.3333,52.4583,62.5833,61.2917,77.5833,82.7083,94.9583,97.0417,58.0,69.5833,50.75,49.0,67.0833,59.0,66.375,63.4167,50.0417,56.0833,58.625,63.75,59.5417,85.8333,75.75,68.625,54.25,68.1304,50.6957,76.25,50.3913,57.4167,63.6667,61.5833,69.25,38.1304,44.125,41.4583,52.4167,54.2083,53.1667,46.5,70.1667,64.6522,84.75,80.2917,50.75,45.75,41.9167,52.25,71.6087,44.3333,49.75,45.0,83.125,79.625,91.125,83.5833,64.375,76.9583,74.125,54.3333,31.125,40.0833,41.6667,50.7917,67.2917,52.6667,77.9583,68.7917,62.2174,49.625,72.2917,56.2083,54.0,73.125,46.4583,41.125,50.875,53.125,75.2917,63.4583,53.4583,51.5833,50.7826,59.4348,56.7917,55.4583,73.75,39.5833,41.0,49.0833,39.5833,61.5417,65.7083,62.125,40.3333,50.625,45.6667,51.3333,56.75,40.7083,35.0417,47.6957,48.9167,61.75,50.7083,57.9583,84.2083,75.5833,81.0,72.875,80.7917,82.125,83.125,69.4167,88.5417,88.0833,47.7917,29.0,48.125,43.9167,58.0833,73.8333,67.625,50.4348,39.6667,46.9583,37.4167,37.7083,25.4167,27.5833,31.75,43.5,46.9565,46.625,40.8333,50.2917,50.7917,56.1667,39.0417,56.9167,61.25,69.4583,68.2917,83.5417,76.6667,45.4167,42.7917,75.6667,40.0833,48.9583,58.7083,57.0,65.9583,79.7083,76.8333,73.5417,75.6667,74.0,66.4167,68.5833,74.4167,55.2083,36.0417,48.0417,57.625,78.9583,79.4583,69.7917,52.0,52.3333,45.625,53.0417,81.125,76.5833,77.4583,71.6667,74.7083,73.25,69.7083,67.625,68.4583,67.0,49.2917,75.5417,54.9167,49.3333,48.7083,61.3333,61.125,56.7083,46.7917,43.7083,53.8333,58.7917,83.3333,58.2083,56.9583,58.9583,50.4167,59.875,77.7917,69.0,59.2083,56.7917,57.375,53.4583,47.9167,50.4167,37.3333,36.0,42.25,48.875,60.125,51.875,44.7083,49.2083,53.875,45.7917,45.0833,49.2083,57.375,68.3333,66.75,63.3333,52.9583,48.5833,69.9167,71.7917,64.5,50.5833,57.7083,60.0417,84.4167,86.5417,76.25,69.4167,65.5,45.0,59.6667,59.4583,61.3333,62.375,66.875,70.4167,67.75,65.9583,64.25,61.3333,65.25,65.4167,70.375,67.2917,62.0417,71.5833,73.2917,53.0417,54.5417,68.6667,61.9583,51.9167,57.0833,60.3333,71.1667,73.4167,67.375,67.7083,63.5833,61.5,71.2917,84.5833,73.0417,62.0,55.2083,59.0417,58.75,63.8333,81.5,79.0833,75.5,74.125,81.0417,73.625,79.9167,54.75,50.375,52.0,57.7083,63.7083,67.25,50.1667,57.0,73.4583,87.25,53.6667,61.8333,66.875,64.6667,46.7083,49.2917,57.0,63.0833,69.0833,69.0,54.2917,58.3333,64.9167,87.1667,79.375,72.2917,62.75,66.4167,70.8333,70.9583,76.1667,63.0833,46.3333,53.9167,49.4583,64.0417,70.75,55.8333,69.2917,72.8333,81.5,57.2917,51.0,56.8333,64.1667,63.625,80.0417,80.7083,72.0,69.4583,88.0,82.5455,66.6667,58.1667,52.2083,49.125,53.2917,49.4167,56.7083,54.75,33.3478,54.0833,64.5417,65.9167,74.1667,66.2917,55.2083,62.0417,52.4583,54.5417,69.2917,62.3333,68.5,61.375,58.0417,56.875,40.4583,46.8333,53.5417,78.6667,50.625,55.5652,64.9583,80.6667,82.3333,76.75,73.375,48.5,50.875,76.4167,91.125,90.5417,92.5,59.6667,53.8333,48.5833,64.2917,65.0417,83.875,90.7083,66.625,62.5417,66.7917,55.6667,44.125,51.5417,79.1304,73.4783,82.3333,65.2917,59.0,75.2917,48.3333,57.75],\"xaxis\":\"x\",\"y\":[985,801,1349,1562,1600,1606,1510,959,822,1321,1263,1162,1406,1421,1248,1204,1000,683,1650,1927,1543,981,986,1416,1985,506,431,1167,1098,1096,1501,1360,1526,1550,1708,1005,1623,1712,1530,1605,1538,1746,1472,1589,1913,1815,2115,2475,2927,1635,1812,1107,1450,1917,1807,1461,1969,2402,1446,1851,2134,1685,1944,2077,605,1872,2133,1891,623,1977,2132,2417,2046,2056,2192,2744,3239,3117,2471,2077,2703,2121,1865,2210,2496,1693,2028,2425,1536,1685,2227,2252,3249,3115,1795,2808,3141,1471,2455,2895,3348,2034,2162,3267,3126,795,3744,3429,3204,3944,4189,1683,4036,4191,4073,4400,3872,4058,4595,5312,3351,4401,4451,2633,4433,4608,4714,4333,4362,4803,4182,4864,4105,3409,4553,3958,4123,3855,4575,4917,5805,4660,4274,4492,4978,4677,4679,4758,4788,4098,3982,3974,4968,5312,5342,4906,4548,4833,4401,3915,4586,4966,4460,5020,4891,5180,3767,4844,5119,4744,4010,4835,4507,4790,4991,5202,5305,4708,4648,5225,5515,5362,5119,4649,6043,4665,4629,4592,4040,5336,4881,4086,4258,4342,5084,5538,5923,5302,4458,4541,4332,3784,3387,3285,3606,3840,4590,4656,4390,3846,4475,4302,4266,4845,3574,4576,4866,4294,3785,4326,4602,4780,4792,4905,4150,3820,4338,4725,4694,3805,4153,5191,3873,4758,5895,5130,3542,4661,1115,4334,4634,5204,5058,5115,4727,4484,4940,3351,2710,1996,1842,3544,5345,5046,4713,4763,4785,3659,4760,4511,4274,4539,3641,4352,4795,2395,5423,5010,4630,4120,3907,4839,5202,2429,2918,3570,4456,4826,4765,4985,5409,5511,5117,4563,2416,2913,3644,5217,5041,4570,4748,2424,4195,4304,4308,4381,4187,4687,3894,2659,3747,627,3331,3669,4068,4186,3974,4046,3926,3649,4035,4205,4109,2933,3368,4067,3717,4486,4195,1817,3053,3392,3663,3520,2765,1607,2566,1495,2792,3068,3071,3867,2914,3613,3727,3940,3614,3485,3811,2594,705,3322,3620,3190,2743,3310,3523,3740,3709,3577,2739,2431,3403,3750,2660,3068,2209,1011,754,1317,1162,2302,2423,2999,2485,2294,1951,2236,2368,3272,4098,4521,3425,2376,3598,2177,4097,3214,2493,2311,2298,2935,3376,3292,3163,1301,1977,2432,4339,4270,4075,3456,4023,3243,3624,4509,4579,3761,4151,2832,2947,3784,4375,2802,3830,3831,2169,1529,3422,3922,4169,3005,4154,4318,2689,3129,3777,4773,5062,3487,2732,3389,4322,4363,4990,3194,4066,3423,3333,3956,4916,5382,4569,4118,4911,5298,5847,6312,6192,4378,7836,5892,6153,6093,6230,6871,8362,3372,4996,5558,5102,5698,6133,5459,6235,6041,5936,6772,6436,6457,6460,6857,5169,5585,5918,4862,5409,6398,7460,7132,6370,6691,4367,6565,7290,6624,1027,3214,5633,6196,5026,6233,4220,6304,5572,5740,6169,6421,6296,6883,6359,6273,5728,4717,6572,7030,7429,6118,2843,5115,7424,7384,7639,8294,7129,4359,6073,5260,6770,6734,6536,6591,6043,5743,6855,7338,4127,8120,7641,6998,7001,7055,7494,7736,7498,6598,6664,4972,7421,7363,7665,7702,6978,5099,6825,6211,5905,5823,7458,6891,6779,7442,7335,6879,5463,5687,5531,6227,6660,7403,6241,6207,4840,4672,6569,6290,7264,7446,7499,6969,6031,6830,6786,5713,6591,5870,4459,7410,6966,7592,8173,6861,6904,6685,6597,7105,7216,7580,7261,7175,6824,5464,7013,7273,7534,7286,5786,6299,6544,6883,6784,7347,7605,7148,7865,4549,6530,7006,7375,7765,7582,6053,5255,6917,7040,7697,7713,7350,6140,5810,6034,6864,7112,6203,7504,5976,8227,7525,7767,7870,7804,8009,8714,7333,6869,4073,7591,7720,8167,8395,7907,7436,7538,7733,7393,7415,8555,6889,6778,4639,7572,7328,8156,7965,3510,5478,6392,7691,7570,7282,7109,6639,5875,7534,7461,7509,5424,8090,6824,7058,7466,7693,7359,7444,7852,4459,22,1096,5566,5986,5847,5138,5107,5259,5686,5035,5315,5992,6536,6852,6269,4094,5495,5445,5698,5629,4669,5499,5634,5146,2425,3910,2277,2424,5087,3959,5260,5323,5668,5191,4649,6234,6606,5729,5375,5008,5582,3228,5170,5501,5319,5532,5611,5047,3786,4585,5557,5267,4128,3623,1749,1787,920,1013,441,2114,3095,1341,1796,2729],\"yaxis\":\"y\",\"type\":\"histogram\"}],                        {\"template\":{\"data\":{\"bar\":[{\"error_x\":{\"color\":\"#2a3f5f\"},\"error_y\":{\"color\":\"#2a3f5f\"},\"marker\":{\"line\":{\"color\":\"#E5ECF6\",\"width\":0.5},\"pattern\":{\"fillmode\":\"overlay\",\"size\":10,\"solidity\":0.2}},\"type\":\"bar\"}],\"barpolar\":[{\"marker\":{\"line\":{\"color\":\"#E5ECF6\",\"width\":0.5},\"pattern\":{\"fillmode\":\"overlay\",\"size\":10,\"solidity\":0.2}},\"type\":\"barpolar\"}],\"carpet\":[{\"aaxis\":{\"endlinecolor\":\"#2a3f5f\",\"gridcolor\":\"white\",\"linecolor\":\"white\",\"minorgridcolor\":\"white\",\"startlinecolor\":\"#2a3f5f\"},\"baxis\":{\"endlinecolor\":\"#2a3f5f\",\"gridcolor\":\"white\",\"linecolor\":\"white\",\"minorgridcolor\":\"white\",\"startlinecolor\":\"#2a3f5f\"},\"type\":\"carpet\"}],\"choropleth\":[{\"colorbar\":{\"outlinewidth\":0,\"ticks\":\"\"},\"type\":\"choropleth\"}],\"contour\":[{\"colorbar\":{\"outlinewidth\":0,\"ticks\":\"\"},\"colorscale\":[[0.0,\"#0d0887\"],[0.1111111111111111,\"#46039f\"],[0.2222222222222222,\"#7201a8\"],[0.3333333333333333,\"#9c179e\"],[0.4444444444444444,\"#bd3786\"],[0.5555555555555556,\"#d8576b\"],[0.6666666666666666,\"#ed7953\"],[0.7777777777777778,\"#fb9f3a\"],[0.8888888888888888,\"#fdca26\"],[1.0,\"#f0f921\"]],\"type\":\"contour\"}],\"contourcarpet\":[{\"colorbar\":{\"outlinewidth\":0,\"ticks\":\"\"},\"type\":\"contourcarpet\"}],\"heatmap\":[{\"colorbar\":{\"outlinewidth\":0,\"ticks\":\"\"},\"colorscale\":[[0.0,\"#0d0887\"],[0.1111111111111111,\"#46039f\"],[0.2222222222222222,\"#7201a8\"],[0.3333333333333333,\"#9c179e\"],[0.4444444444444444,\"#bd3786\"],[0.5555555555555556,\"#d8576b\"],[0.6666666666666666,\"#ed7953\"],[0.7777777777777778,\"#fb9f3a\"],[0.8888888888888888,\"#fdca26\"],[1.0,\"#f0f921\"]],\"type\":\"heatmap\"}],\"heatmapgl\":[{\"colorbar\":{\"outlinewidth\":0,\"ticks\":\"\"},\"colorscale\":[[0.0,\"#0d0887\"],[0.1111111111111111,\"#46039f\"],[0.2222222222222222,\"#7201a8\"],[0.3333333333333333,\"#9c179e\"],[0.4444444444444444,\"#bd3786\"],[0.5555555555555556,\"#d8576b\"],[0.6666666666666666,\"#ed7953\"],[0.7777777777777778,\"#fb9f3a\"],[0.8888888888888888,\"#fdca26\"],[1.0,\"#f0f921\"]],\"type\":\"heatmapgl\"}],\"histogram\":[{\"marker\":{\"pattern\":{\"fillmode\":\"overlay\",\"size\":10,\"solidity\":0.2}},\"type\":\"histogram\"}],\"histogram2d\":[{\"colorbar\":{\"outlinewidth\":0,\"ticks\":\"\"},\"colorscale\":[[0.0,\"#0d0887\"],[0.1111111111111111,\"#46039f\"],[0.2222222222222222,\"#7201a8\"],[0.3333333333333333,\"#9c179e\"],[0.4444444444444444,\"#bd3786\"],[0.5555555555555556,\"#d8576b\"],[0.6666666666666666,\"#ed7953\"],[0.7777777777777778,\"#fb9f3a\"],[0.8888888888888888,\"#fdca26\"],[1.0,\"#f0f921\"]],\"type\":\"histogram2d\"}],\"histogram2dcontour\":[{\"colorbar\":{\"outlinewidth\":0,\"ticks\":\"\"},\"colorscale\":[[0.0,\"#0d0887\"],[0.1111111111111111,\"#46039f\"],[0.2222222222222222,\"#7201a8\"],[0.3333333333333333,\"#9c179e\"],[0.4444444444444444,\"#bd3786\"],[0.5555555555555556,\"#d8576b\"],[0.6666666666666666,\"#ed7953\"],[0.7777777777777778,\"#fb9f3a\"],[0.8888888888888888,\"#fdca26\"],[1.0,\"#f0f921\"]],\"type\":\"histogram2dcontour\"}],\"mesh3d\":[{\"colorbar\":{\"outlinewidth\":0,\"ticks\":\"\"},\"type\":\"mesh3d\"}],\"parcoords\":[{\"line\":{\"colorbar\":{\"outlinewidth\":0,\"ticks\":\"\"}},\"type\":\"parcoords\"}],\"pie\":[{\"automargin\":true,\"type\":\"pie\"}],\"scatter\":[{\"marker\":{\"colorbar\":{\"outlinewidth\":0,\"ticks\":\"\"}},\"type\":\"scatter\"}],\"scatter3d\":[{\"line\":{\"colorbar\":{\"outlinewidth\":0,\"ticks\":\"\"}},\"marker\":{\"colorbar\":{\"outlinewidth\":0,\"ticks\":\"\"}},\"type\":\"scatter3d\"}],\"scattercarpet\":[{\"marker\":{\"colorbar\":{\"outlinewidth\":0,\"ticks\":\"\"}},\"type\":\"scattercarpet\"}],\"scattergeo\":[{\"marker\":{\"colorbar\":{\"outlinewidth\":0,\"ticks\":\"\"}},\"type\":\"scattergeo\"}],\"scattergl\":[{\"marker\":{\"colorbar\":{\"outlinewidth\":0,\"ticks\":\"\"}},\"type\":\"scattergl\"}],\"scattermapbox\":[{\"marker\":{\"colorbar\":{\"outlinewidth\":0,\"ticks\":\"\"}},\"type\":\"scattermapbox\"}],\"scatterpolar\":[{\"marker\":{\"colorbar\":{\"outlinewidth\":0,\"ticks\":\"\"}},\"type\":\"scatterpolar\"}],\"scatterpolargl\":[{\"marker\":{\"colorbar\":{\"outlinewidth\":0,\"ticks\":\"\"}},\"type\":\"scatterpolargl\"}],\"scatterternary\":[{\"marker\":{\"colorbar\":{\"outlinewidth\":0,\"ticks\":\"\"}},\"type\":\"scatterternary\"}],\"surface\":[{\"colorbar\":{\"outlinewidth\":0,\"ticks\":\"\"},\"colorscale\":[[0.0,\"#0d0887\"],[0.1111111111111111,\"#46039f\"],[0.2222222222222222,\"#7201a8\"],[0.3333333333333333,\"#9c179e\"],[0.4444444444444444,\"#bd3786\"],[0.5555555555555556,\"#d8576b\"],[0.6666666666666666,\"#ed7953\"],[0.7777777777777778,\"#fb9f3a\"],[0.8888888888888888,\"#fdca26\"],[1.0,\"#f0f921\"]],\"type\":\"surface\"}],\"table\":[{\"cells\":{\"fill\":{\"color\":\"#EBF0F8\"},\"line\":{\"color\":\"white\"}},\"header\":{\"fill\":{\"color\":\"#C8D4E3\"},\"line\":{\"color\":\"white\"}},\"type\":\"table\"}]},\"layout\":{\"annotationdefaults\":{\"arrowcolor\":\"#2a3f5f\",\"arrowhead\":0,\"arrowwidth\":1},\"autotypenumbers\":\"strict\",\"coloraxis\":{\"colorbar\":{\"outlinewidth\":0,\"ticks\":\"\"}},\"colorscale\":{\"diverging\":[[0,\"#8e0152\"],[0.1,\"#c51b7d\"],[0.2,\"#de77ae\"],[0.3,\"#f1b6da\"],[0.4,\"#fde0ef\"],[0.5,\"#f7f7f7\"],[0.6,\"#e6f5d0\"],[0.7,\"#b8e186\"],[0.8,\"#7fbc41\"],[0.9,\"#4d9221\"],[1,\"#276419\"]],\"sequential\":[[0.0,\"#0d0887\"],[0.1111111111111111,\"#46039f\"],[0.2222222222222222,\"#7201a8\"],[0.3333333333333333,\"#9c179e\"],[0.4444444444444444,\"#bd3786\"],[0.5555555555555556,\"#d8576b\"],[0.6666666666666666,\"#ed7953\"],[0.7777777777777778,\"#fb9f3a\"],[0.8888888888888888,\"#fdca26\"],[1.0,\"#f0f921\"]],\"sequentialminus\":[[0.0,\"#0d0887\"],[0.1111111111111111,\"#46039f\"],[0.2222222222222222,\"#7201a8\"],[0.3333333333333333,\"#9c179e\"],[0.4444444444444444,\"#bd3786\"],[0.5555555555555556,\"#d8576b\"],[0.6666666666666666,\"#ed7953\"],[0.7777777777777778,\"#fb9f3a\"],[0.8888888888888888,\"#fdca26\"],[1.0,\"#f0f921\"]]},\"colorway\":[\"#636efa\",\"#EF553B\",\"#00cc96\",\"#ab63fa\",\"#FFA15A\",\"#19d3f3\",\"#FF6692\",\"#B6E880\",\"#FF97FF\",\"#FECB52\"],\"font\":{\"color\":\"#2a3f5f\"},\"geo\":{\"bgcolor\":\"white\",\"lakecolor\":\"white\",\"landcolor\":\"#E5ECF6\",\"showlakes\":true,\"showland\":true,\"subunitcolor\":\"white\"},\"hoverlabel\":{\"align\":\"left\"},\"hovermode\":\"closest\",\"mapbox\":{\"style\":\"light\"},\"paper_bgcolor\":\"white\",\"plot_bgcolor\":\"#E5ECF6\",\"polar\":{\"angularaxis\":{\"gridcolor\":\"white\",\"linecolor\":\"white\",\"ticks\":\"\"},\"bgcolor\":\"#E5ECF6\",\"radialaxis\":{\"gridcolor\":\"white\",\"linecolor\":\"white\",\"ticks\":\"\"}},\"scene\":{\"xaxis\":{\"backgroundcolor\":\"#E5ECF6\",\"gridcolor\":\"white\",\"gridwidth\":2,\"linecolor\":\"white\",\"showbackground\":true,\"ticks\":\"\",\"zerolinecolor\":\"white\"},\"yaxis\":{\"backgroundcolor\":\"#E5ECF6\",\"gridcolor\":\"white\",\"gridwidth\":2,\"linecolor\":\"white\",\"showbackground\":true,\"ticks\":\"\",\"zerolinecolor\":\"white\"},\"zaxis\":{\"backgroundcolor\":\"#E5ECF6\",\"gridcolor\":\"white\",\"gridwidth\":2,\"linecolor\":\"white\",\"showbackground\":true,\"ticks\":\"\",\"zerolinecolor\":\"white\"}},\"shapedefaults\":{\"line\":{\"color\":\"#2a3f5f\"}},\"ternary\":{\"aaxis\":{\"gridcolor\":\"white\",\"linecolor\":\"white\",\"ticks\":\"\"},\"baxis\":{\"gridcolor\":\"white\",\"linecolor\":\"white\",\"ticks\":\"\"},\"bgcolor\":\"#E5ECF6\",\"caxis\":{\"gridcolor\":\"white\",\"linecolor\":\"white\",\"ticks\":\"\"}},\"title\":{\"x\":0.05},\"xaxis\":{\"automargin\":true,\"gridcolor\":\"white\",\"linecolor\":\"white\",\"ticks\":\"\",\"title\":{\"standoff\":15},\"zerolinecolor\":\"white\",\"zerolinewidth\":2},\"yaxis\":{\"automargin\":true,\"gridcolor\":\"white\",\"linecolor\":\"white\",\"ticks\":\"\",\"title\":{\"standoff\":15},\"zerolinecolor\":\"white\",\"zerolinewidth\":2}}},\"xaxis\":{\"anchor\":\"y\",\"domain\":[0.0,1.0],\"title\":{\"text\":\"humidity\"}},\"yaxis\":{\"anchor\":\"x\",\"domain\":[0.0,1.0],\"title\":{\"text\":\"sum of cnt\"}},\"legend\":{\"tracegroupgap\":0},\"margin\":{\"t\":60},\"barmode\":\"relative\",\"bargap\":0.2,\"title\":{\"text\":\"Distribution of count by Humidity\"}},                        {\"responsive\": true}                    ).then(function(){\n",
              "                            \n",
              "var gd = document.getElementById('8c9b7f6d-9eda-4f85-9303-0e52855d3ef8');\n",
              "var x = new MutationObserver(function (mutations, observer) {{\n",
              "        var display = window.getComputedStyle(gd).display;\n",
              "        if (!display || display === 'none') {{\n",
              "            console.log([gd, 'removed!']);\n",
              "            Plotly.purge(gd);\n",
              "            observer.disconnect();\n",
              "        }}\n",
              "}});\n",
              "\n",
              "// Listen for the removal of the full notebook cells\n",
              "var notebookContainer = gd.closest('#notebook-container');\n",
              "if (notebookContainer) {{\n",
              "    x.observe(notebookContainer, {childList: true});\n",
              "}}\n",
              "\n",
              "// Listen for the clearing of the current output cell\n",
              "var outputEl = gd.closest('.output');\n",
              "if (outputEl) {{\n",
              "    x.observe(outputEl, {childList: true});\n",
              "}}\n",
              "\n",
              "                        })                };                            </script>        </div>\n",
              "</body>\n",
              "</html>"
            ]
          },
          "metadata": {}
        }
      ]
    },
    {
      "cell_type": "markdown",
      "source": [
        "During humidity of 47 to 72,bikesharing count is more"
      ],
      "metadata": {
        "id": "F58Enb4_jL7c"
      }
    },
    {
      "cell_type": "code",
      "source": [
        "hist_wind = px.histogram(rides, x='windspeed', y='cnt')\n",
        "hist_wind.update_layout(bargap=0.2,title=\"Distribution of count by Windspeed\")\n",
        "hist_wind .show()"
      ],
      "metadata": {
        "colab": {
          "base_uri": "https://localhost:8080/",
          "height": 542
        },
        "id": "x57hO0_Ujda9",
        "outputId": "3500e4b9-4349-41da-80a2-9fd61f27b425"
      },
      "execution_count": 1258,
      "outputs": [
        {
          "output_type": "display_data",
          "data": {
            "text/html": [
              "<html>\n",
              "<head><meta charset=\"utf-8\" /></head>\n",
              "<body>\n",
              "    <div>            <script src=\"https://cdnjs.cloudflare.com/ajax/libs/mathjax/2.7.5/MathJax.js?config=TeX-AMS-MML_SVG\"></script><script type=\"text/javascript\">if (window.MathJax) {MathJax.Hub.Config({SVG: {font: \"STIX-Web\"}});}</script>                <script type=\"text/javascript\">window.PlotlyConfig = {MathJaxConfig: 'local'};</script>\n",
              "        <script src=\"https://cdn.plot.ly/plotly-2.8.3.min.js\"></script>                <div id=\"e3c12cc5-e37f-42d5-86fa-e3452b4038b4\" class=\"plotly-graph-div\" style=\"height:525px; width:100%;\"></div>            <script type=\"text/javascript\">                                    window.PLOTLYENV=window.PLOTLYENV || {};                                    if (document.getElementById(\"e3c12cc5-e37f-42d5-86fa-e3452b4038b4\")) {                    Plotly.newPlot(                        \"e3c12cc5-e37f-42d5-86fa-e3452b4038b4\",                        [{\"alignmentgroup\":\"True\",\"bingroup\":\"x\",\"histfunc\":\"sum\",\"hovertemplate\":\"windspeed=%{x}<br>sum of cnt=%{y}<extra></extra>\",\"legendgroup\":\"\",\"marker\":{\"color\":\"#636efa\",\"pattern\":{\"shape\":\"\"}},\"name\":\"\",\"offsetgroup\":\"\",\"orientation\":\"v\",\"showlegend\":false,\"x\":[10.749882,16.652113,16.636703,10.739832,12.5223,6.0008684,11.304642,17.875868,24.25065,14.958889,8.182844,20.410009,20.167,8.478716,10.583521,12.625011,12.999139,9.833925,13.957239,13.125568,23.667214,11.52199,16.5222,10.60811,8.696332,19.68795,7.627079,8.2611,9.739455,4.9568342,12.541864,3.565271,17.708636,18.609384,8.565213,10.792293,9.5006,3.0423561,24.25065,12.652213,14.869645,7.27285,13.625589,17.479161,27.999836,19.522058,16.869997,15.416968,17.749975,34.000021,14.956745,20.625682,13.110761,6.305571,16.783232,23.218113,12.500257,8.391616,19.408962,14.500475,20.624811,15.125518,13.624182,16.875357,23.000229,22.870584,8.08355,14.75005,17.545759,15.60899,14.791925,18.130468,9.174042,12.348703,13.608839,14.041793,15.478139,24.667189,13.917307,19.348461,15.12525,15.695487,16.333729,15.458575,14.041257,12.3481,14.217668,15.208732,11.583496,14.582282,17.333436,13.208782,12.208271,25.833257,26.000489,17.625221,10.874904,15.208464,8.916561,9.833389,21.739758,18.416893,16.791339,7.4169,15.167125,22.834136,20.334232,10.958989,10.584057,16.208975,21.792286,14.707907,15.458575,12.875725,12.417311,21.8755,20.9174,21.500836,16.084221,15.750025,7.125718,12.291418,22.958689,22.042732,19.791264,15.292482,10.75015,5.0007125,11.792,7.749957,8.083014,12.707689,12.041575,9.04165,10.249593,8.500357,18.582718,13.499964,7.250271,8.375871,8.08355,9.916536,15.667414,13.875164,10.333611,13.376014,16.125493,15.416164,14.333846,8.792075,7.459043,13.875164,19.583229,16.959107,8.250514,9.292364,8.167032,12.583136,9.166739,10.042161,9.417118,10.37495,10.958989,20.45845,18.041961,11.250104,13.833557,9.582943,8.000336,6.834,10.416825,11.458675,11.541554,15.999868,14.875675,14.041257,6.3337311,7.208396,9.666961,17.542007,12.415904,6.874736,7.709154,15.333486,5.4591064,8.459286,10.042161,10.6664,15.083643,11.250104,12.292557,18.916579,13.417018,9.790911,16.124689,12.249811,13.958914,16.417211,14.458868,8.7502,7.625739,14.875407,8.9177,8.791807,11.334457,6.0841561,13.417286,12.292021,11.958093,11.667246,11.291979,11.042471,10.500039,13.79195,9.084061,13.20905,12.374632,15.29275,13.499629,12.875725,10.125107,13.417286,11.041332,8.416607,14.167418,14.916411,13.999918,15.834043,9.625689,15.624936,9.333636,6.999289,16.666518,18.54225,9.833121,16.958236,14.125811,5.6254875,25.166339,20.412153,10.708275,8.375536,5.5833311,9.500332,9.375243,12.416775,13.833289,14.250632,23.044181,6.5003936,12.914116,8.333393,10.291736,7.708618,5.957171,9.500868,11.2091,18.166782,11.000261,12.708225,11.958361,10.166714,9.041918,6.4590814,8.584375,5.2505689,5.2516811,3.3754064,7.4169,7.917457,9.958143,11.583161,13.833825,19.583832,14.874871,5.5841686,13.792218,11.87575,9.041918,1.5002439,3.0420814,4.25115,2.8343814,9.583814,16.62605,9.499729,15.000161,17.291561,18.875039,11.750393,7.375829,16.303713,28.292425,14.833532,6.2086689,6.6673375,7.959064,11.166086,9.959014,13.250121,15.375093,23.541857,11.833339,7.12545,9.083257,5.5001439,9.166739,18.209193,12.667154,6.1676314,3.834075,4.6255125,4.1671186,12.667489,21.083225,14.208154,18.875307,20.541932,13.375411,9.167543,20.459254,11.291711,15.041232,12.45865,9.249618,7.959064,22.500275,11.209368,6.6260186,4.5841936,13.999918,9.522174,17.292164,18.167586,14.750586,6.750518,6.4174811,5.6252061,4.1679561,15.583061,17.833725,16.083886,5.5420189,15.625807,4.4582939,4.25115,9.41685,4.0842061,17.958814,17.458525,16.292189,11.375193,11.584032,4.1252436,14.8338,3.167425,18.374482,12.750368,10.391097,16.044155,12.62615,19.695387,8.000604,9.000579,14.750318,12.875189,22.087555,24.499957,12.3749,8.709129,11.249836,11.708786,12.833314,6.6263,12.565984,8.791807,12.124789,25.333236,12.541261,16.834286,15.500986,23.39171,27.833743,14.750586,13.58425,14.917014,13.375746,7.417436,8.292389,10.791757,4.9175186,22.958689,14.125543,16.08335,14.458064,17.541739,12.667489,12.541529,11.959232,8.167032,11.791732,10.3046,9.874393,8.959307,13.000479,7.834243,19.416332,27.417204,11.207961,9.458993,12.1672,6.125475,13.791682,12.792243,16.958504,15.348561,13.783039,15.709557,12.791171,15.916989,28.250014,13.750343,17.958211,12.958939,15.208129,9.708568,10.792293,22.416257,15.333486,13.458625,23.167193,29.584721,27.7916,15.12525,14.913329,13.916771,15.87565,7.709154,10.042161,7.583864,7.417168,8.501161,10.875239,8.125157,6.0004061,7.876654,7.7921,12.916461,14.791925,25.917007,12.541864,19.541957,21.41655,9.250489,16.791339,11.541889,20.913313,6.708911,12.125325,14.708443,20.125996,18.416357,15.583932,23.999132,16.708125,19.783358,19.458743,10.416557,12.791439,15.083643,19.083543,18.333143,11.250104,4.4172564,10.041357,19.000329,23.084582,20.334232,16.708661,7.959064,11.833875,23.291411,8.708325,7.832836,11.499746,10.458432,9.249886,8.957632,10.916846,10.250464,10.041893,15.458307,19.833943,14.499604,21.042221,15.874779,8.249911,15.082839,14.250364,9.875264,8.208304,15.374825,9.166739,5.626325,17.042589,15.624668,7.917189,6.834,11.584032,9.41685,13.332464,14.416457,13.166907,19.7918,9.000043,13.083693,15.916721,12.499654,12.333829,19.083811,14.041525,5.167375,10.54245,11.750661,9.667229,8.959307,13.916771,14.374582,22.999693,17.000111,11.833339,11.166689,9.708568,11.707982,9.917139,7.625404,7.958729,12.250414,12.041307,9.750175,20.125661,23.292014,18.208925,11.50055,11.082939,10.791757,11.291443,13.082889,8.457879,9.04165,12.999943,9.791514,10.958118,8.417143,12.125325,10.166379,10.166111,9.833925,5.41695,9.626493,11.166689,11.000529,7.666743,9.208614,11.083743,14.000789,14.2911,6.2926936,9.291761,14.167418,11.0416,19.082471,10.250464,10.54245,11.416532,10.292339,11.083475,9.458993,8.666718,14.458064,17.249686,19.458207,8.666718,7.832836,7.4169,10.4587,16.000471,13.834093,8.208304,9.126204,11.333586,11.374657,9.500332,15.500718,11.917089,5.79215,8.708593,4.8756436,4.7089811,5.6679186,4.8337686,16.375336,15.333486,8.625111,12.791975,7.541654,5.1668189,11.291711,7.583529,4.2927436,10.125107,15.833507,12.583136,9.542207,11.500282,18.833968,15.041232,17.333771,6.1676314,8.833682,5.5422936,6.958821,16.583907,6.0422811,10.166714,23.958329,14.416725,7.917189,10.333343,19.000061,14.958286,9.541068,15.833507,16.3748,9.000914,10.999993,15.249468,9.042186,6.0838814,6.999825,4.4585686,7.875582,7.12545,17.957675,9.457854,12.708493,12.7501,12.584007,12.166932,15.751164,9.791514,18.667004,19.834479,12.208807,6.791857,15.874779,9.041918,7.874979,11.125618,5.4593811,6.3345686,4.8762064,8.333125,8.875289,15.791364,26.666536,23.9994,14.271603,11.166689,10.542182,17.833725,18.125443,12.000236,15.833775,11.625371,20.375236,23.304945,14.375386,3.8756686,8.5425,11.625639,22.917082,13.374875,10.250129,11.458675,12.041843,15.250004,15.749489,5.542575,6.917482,3.5423436,9.917407,25.250357,10.0835,3.12555,15.916654,14.125007,7.739974,3.9175436,4.0001814,8.333393,5.5422936,11.666643,21.709407,11.708518,8.7502,6.792393,10.584325,12.750636,19.834479,10.916779,11.666643,8.792343,7.12545,6.749714,6.5833061,14.834068,12.334164,8.875021,25.083661,27.292182,8.916561,5.1744368,11.304642,21.208582,23.458911,10.416557,8.333661,23.500518,10.374682],\"xaxis\":\"x\",\"y\":[985,801,1349,1562,1600,1606,1510,959,822,1321,1263,1162,1406,1421,1248,1204,1000,683,1650,1927,1543,981,986,1416,1985,506,431,1167,1098,1096,1501,1360,1526,1550,1708,1005,1623,1712,1530,1605,1538,1746,1472,1589,1913,1815,2115,2475,2927,1635,1812,1107,1450,1917,1807,1461,1969,2402,1446,1851,2134,1685,1944,2077,605,1872,2133,1891,623,1977,2132,2417,2046,2056,2192,2744,3239,3117,2471,2077,2703,2121,1865,2210,2496,1693,2028,2425,1536,1685,2227,2252,3249,3115,1795,2808,3141,1471,2455,2895,3348,2034,2162,3267,3126,795,3744,3429,3204,3944,4189,1683,4036,4191,4073,4400,3872,4058,4595,5312,3351,4401,4451,2633,4433,4608,4714,4333,4362,4803,4182,4864,4105,3409,4553,3958,4123,3855,4575,4917,5805,4660,4274,4492,4978,4677,4679,4758,4788,4098,3982,3974,4968,5312,5342,4906,4548,4833,4401,3915,4586,4966,4460,5020,4891,5180,3767,4844,5119,4744,4010,4835,4507,4790,4991,5202,5305,4708,4648,5225,5515,5362,5119,4649,6043,4665,4629,4592,4040,5336,4881,4086,4258,4342,5084,5538,5923,5302,4458,4541,4332,3784,3387,3285,3606,3840,4590,4656,4390,3846,4475,4302,4266,4845,3574,4576,4866,4294,3785,4326,4602,4780,4792,4905,4150,3820,4338,4725,4694,3805,4153,5191,3873,4758,5895,5130,3542,4661,1115,4334,4634,5204,5058,5115,4727,4484,4940,3351,2710,1996,1842,3544,5345,5046,4713,4763,4785,3659,4760,4511,4274,4539,3641,4352,4795,2395,5423,5010,4630,4120,3907,4839,5202,2429,2918,3570,4456,4826,4765,4985,5409,5511,5117,4563,2416,2913,3644,5217,5041,4570,4748,2424,4195,4304,4308,4381,4187,4687,3894,2659,3747,627,3331,3669,4068,4186,3974,4046,3926,3649,4035,4205,4109,2933,3368,4067,3717,4486,4195,1817,3053,3392,3663,3520,2765,1607,2566,1495,2792,3068,3071,3867,2914,3613,3727,3940,3614,3485,3811,2594,705,3322,3620,3190,2743,3310,3523,3740,3709,3577,2739,2431,3403,3750,2660,3068,2209,1011,754,1317,1162,2302,2423,2999,2485,2294,1951,2236,2368,3272,4098,4521,3425,2376,3598,2177,4097,3214,2493,2311,2298,2935,3376,3292,3163,1301,1977,2432,4339,4270,4075,3456,4023,3243,3624,4509,4579,3761,4151,2832,2947,3784,4375,2802,3830,3831,2169,1529,3422,3922,4169,3005,4154,4318,2689,3129,3777,4773,5062,3487,2732,3389,4322,4363,4990,3194,4066,3423,3333,3956,4916,5382,4569,4118,4911,5298,5847,6312,6192,4378,7836,5892,6153,6093,6230,6871,8362,3372,4996,5558,5102,5698,6133,5459,6235,6041,5936,6772,6436,6457,6460,6857,5169,5585,5918,4862,5409,6398,7460,7132,6370,6691,4367,6565,7290,6624,1027,3214,5633,6196,5026,6233,4220,6304,5572,5740,6169,6421,6296,6883,6359,6273,5728,4717,6572,7030,7429,6118,2843,5115,7424,7384,7639,8294,7129,4359,6073,5260,6770,6734,6536,6591,6043,5743,6855,7338,4127,8120,7641,6998,7001,7055,7494,7736,7498,6598,6664,4972,7421,7363,7665,7702,6978,5099,6825,6211,5905,5823,7458,6891,6779,7442,7335,6879,5463,5687,5531,6227,6660,7403,6241,6207,4840,4672,6569,6290,7264,7446,7499,6969,6031,6830,6786,5713,6591,5870,4459,7410,6966,7592,8173,6861,6904,6685,6597,7105,7216,7580,7261,7175,6824,5464,7013,7273,7534,7286,5786,6299,6544,6883,6784,7347,7605,7148,7865,4549,6530,7006,7375,7765,7582,6053,5255,6917,7040,7697,7713,7350,6140,5810,6034,6864,7112,6203,7504,5976,8227,7525,7767,7870,7804,8009,8714,7333,6869,4073,7591,7720,8167,8395,7907,7436,7538,7733,7393,7415,8555,6889,6778,4639,7572,7328,8156,7965,3510,5478,6392,7691,7570,7282,7109,6639,5875,7534,7461,7509,5424,8090,6824,7058,7466,7693,7359,7444,7852,4459,22,1096,5566,5986,5847,5138,5107,5259,5686,5035,5315,5992,6536,6852,6269,4094,5495,5445,5698,5629,4669,5499,5634,5146,2425,3910,2277,2424,5087,3959,5260,5323,5668,5191,4649,6234,6606,5729,5375,5008,5582,3228,5170,5501,5319,5532,5611,5047,3786,4585,5557,5267,4128,3623,1749,1787,920,1013,441,2114,3095,1341,1796,2729],\"yaxis\":\"y\",\"type\":\"histogram\"}],                        {\"template\":{\"data\":{\"bar\":[{\"error_x\":{\"color\":\"#2a3f5f\"},\"error_y\":{\"color\":\"#2a3f5f\"},\"marker\":{\"line\":{\"color\":\"#E5ECF6\",\"width\":0.5},\"pattern\":{\"fillmode\":\"overlay\",\"size\":10,\"solidity\":0.2}},\"type\":\"bar\"}],\"barpolar\":[{\"marker\":{\"line\":{\"color\":\"#E5ECF6\",\"width\":0.5},\"pattern\":{\"fillmode\":\"overlay\",\"size\":10,\"solidity\":0.2}},\"type\":\"barpolar\"}],\"carpet\":[{\"aaxis\":{\"endlinecolor\":\"#2a3f5f\",\"gridcolor\":\"white\",\"linecolor\":\"white\",\"minorgridcolor\":\"white\",\"startlinecolor\":\"#2a3f5f\"},\"baxis\":{\"endlinecolor\":\"#2a3f5f\",\"gridcolor\":\"white\",\"linecolor\":\"white\",\"minorgridcolor\":\"white\",\"startlinecolor\":\"#2a3f5f\"},\"type\":\"carpet\"}],\"choropleth\":[{\"colorbar\":{\"outlinewidth\":0,\"ticks\":\"\"},\"type\":\"choropleth\"}],\"contour\":[{\"colorbar\":{\"outlinewidth\":0,\"ticks\":\"\"},\"colorscale\":[[0.0,\"#0d0887\"],[0.1111111111111111,\"#46039f\"],[0.2222222222222222,\"#7201a8\"],[0.3333333333333333,\"#9c179e\"],[0.4444444444444444,\"#bd3786\"],[0.5555555555555556,\"#d8576b\"],[0.6666666666666666,\"#ed7953\"],[0.7777777777777778,\"#fb9f3a\"],[0.8888888888888888,\"#fdca26\"],[1.0,\"#f0f921\"]],\"type\":\"contour\"}],\"contourcarpet\":[{\"colorbar\":{\"outlinewidth\":0,\"ticks\":\"\"},\"type\":\"contourcarpet\"}],\"heatmap\":[{\"colorbar\":{\"outlinewidth\":0,\"ticks\":\"\"},\"colorscale\":[[0.0,\"#0d0887\"],[0.1111111111111111,\"#46039f\"],[0.2222222222222222,\"#7201a8\"],[0.3333333333333333,\"#9c179e\"],[0.4444444444444444,\"#bd3786\"],[0.5555555555555556,\"#d8576b\"],[0.6666666666666666,\"#ed7953\"],[0.7777777777777778,\"#fb9f3a\"],[0.8888888888888888,\"#fdca26\"],[1.0,\"#f0f921\"]],\"type\":\"heatmap\"}],\"heatmapgl\":[{\"colorbar\":{\"outlinewidth\":0,\"ticks\":\"\"},\"colorscale\":[[0.0,\"#0d0887\"],[0.1111111111111111,\"#46039f\"],[0.2222222222222222,\"#7201a8\"],[0.3333333333333333,\"#9c179e\"],[0.4444444444444444,\"#bd3786\"],[0.5555555555555556,\"#d8576b\"],[0.6666666666666666,\"#ed7953\"],[0.7777777777777778,\"#fb9f3a\"],[0.8888888888888888,\"#fdca26\"],[1.0,\"#f0f921\"]],\"type\":\"heatmapgl\"}],\"histogram\":[{\"marker\":{\"pattern\":{\"fillmode\":\"overlay\",\"size\":10,\"solidity\":0.2}},\"type\":\"histogram\"}],\"histogram2d\":[{\"colorbar\":{\"outlinewidth\":0,\"ticks\":\"\"},\"colorscale\":[[0.0,\"#0d0887\"],[0.1111111111111111,\"#46039f\"],[0.2222222222222222,\"#7201a8\"],[0.3333333333333333,\"#9c179e\"],[0.4444444444444444,\"#bd3786\"],[0.5555555555555556,\"#d8576b\"],[0.6666666666666666,\"#ed7953\"],[0.7777777777777778,\"#fb9f3a\"],[0.8888888888888888,\"#fdca26\"],[1.0,\"#f0f921\"]],\"type\":\"histogram2d\"}],\"histogram2dcontour\":[{\"colorbar\":{\"outlinewidth\":0,\"ticks\":\"\"},\"colorscale\":[[0.0,\"#0d0887\"],[0.1111111111111111,\"#46039f\"],[0.2222222222222222,\"#7201a8\"],[0.3333333333333333,\"#9c179e\"],[0.4444444444444444,\"#bd3786\"],[0.5555555555555556,\"#d8576b\"],[0.6666666666666666,\"#ed7953\"],[0.7777777777777778,\"#fb9f3a\"],[0.8888888888888888,\"#fdca26\"],[1.0,\"#f0f921\"]],\"type\":\"histogram2dcontour\"}],\"mesh3d\":[{\"colorbar\":{\"outlinewidth\":0,\"ticks\":\"\"},\"type\":\"mesh3d\"}],\"parcoords\":[{\"line\":{\"colorbar\":{\"outlinewidth\":0,\"ticks\":\"\"}},\"type\":\"parcoords\"}],\"pie\":[{\"automargin\":true,\"type\":\"pie\"}],\"scatter\":[{\"marker\":{\"colorbar\":{\"outlinewidth\":0,\"ticks\":\"\"}},\"type\":\"scatter\"}],\"scatter3d\":[{\"line\":{\"colorbar\":{\"outlinewidth\":0,\"ticks\":\"\"}},\"marker\":{\"colorbar\":{\"outlinewidth\":0,\"ticks\":\"\"}},\"type\":\"scatter3d\"}],\"scattercarpet\":[{\"marker\":{\"colorbar\":{\"outlinewidth\":0,\"ticks\":\"\"}},\"type\":\"scattercarpet\"}],\"scattergeo\":[{\"marker\":{\"colorbar\":{\"outlinewidth\":0,\"ticks\":\"\"}},\"type\":\"scattergeo\"}],\"scattergl\":[{\"marker\":{\"colorbar\":{\"outlinewidth\":0,\"ticks\":\"\"}},\"type\":\"scattergl\"}],\"scattermapbox\":[{\"marker\":{\"colorbar\":{\"outlinewidth\":0,\"ticks\":\"\"}},\"type\":\"scattermapbox\"}],\"scatterpolar\":[{\"marker\":{\"colorbar\":{\"outlinewidth\":0,\"ticks\":\"\"}},\"type\":\"scatterpolar\"}],\"scatterpolargl\":[{\"marker\":{\"colorbar\":{\"outlinewidth\":0,\"ticks\":\"\"}},\"type\":\"scatterpolargl\"}],\"scatterternary\":[{\"marker\":{\"colorbar\":{\"outlinewidth\":0,\"ticks\":\"\"}},\"type\":\"scatterternary\"}],\"surface\":[{\"colorbar\":{\"outlinewidth\":0,\"ticks\":\"\"},\"colorscale\":[[0.0,\"#0d0887\"],[0.1111111111111111,\"#46039f\"],[0.2222222222222222,\"#7201a8\"],[0.3333333333333333,\"#9c179e\"],[0.4444444444444444,\"#bd3786\"],[0.5555555555555556,\"#d8576b\"],[0.6666666666666666,\"#ed7953\"],[0.7777777777777778,\"#fb9f3a\"],[0.8888888888888888,\"#fdca26\"],[1.0,\"#f0f921\"]],\"type\":\"surface\"}],\"table\":[{\"cells\":{\"fill\":{\"color\":\"#EBF0F8\"},\"line\":{\"color\":\"white\"}},\"header\":{\"fill\":{\"color\":\"#C8D4E3\"},\"line\":{\"color\":\"white\"}},\"type\":\"table\"}]},\"layout\":{\"annotationdefaults\":{\"arrowcolor\":\"#2a3f5f\",\"arrowhead\":0,\"arrowwidth\":1},\"autotypenumbers\":\"strict\",\"coloraxis\":{\"colorbar\":{\"outlinewidth\":0,\"ticks\":\"\"}},\"colorscale\":{\"diverging\":[[0,\"#8e0152\"],[0.1,\"#c51b7d\"],[0.2,\"#de77ae\"],[0.3,\"#f1b6da\"],[0.4,\"#fde0ef\"],[0.5,\"#f7f7f7\"],[0.6,\"#e6f5d0\"],[0.7,\"#b8e186\"],[0.8,\"#7fbc41\"],[0.9,\"#4d9221\"],[1,\"#276419\"]],\"sequential\":[[0.0,\"#0d0887\"],[0.1111111111111111,\"#46039f\"],[0.2222222222222222,\"#7201a8\"],[0.3333333333333333,\"#9c179e\"],[0.4444444444444444,\"#bd3786\"],[0.5555555555555556,\"#d8576b\"],[0.6666666666666666,\"#ed7953\"],[0.7777777777777778,\"#fb9f3a\"],[0.8888888888888888,\"#fdca26\"],[1.0,\"#f0f921\"]],\"sequentialminus\":[[0.0,\"#0d0887\"],[0.1111111111111111,\"#46039f\"],[0.2222222222222222,\"#7201a8\"],[0.3333333333333333,\"#9c179e\"],[0.4444444444444444,\"#bd3786\"],[0.5555555555555556,\"#d8576b\"],[0.6666666666666666,\"#ed7953\"],[0.7777777777777778,\"#fb9f3a\"],[0.8888888888888888,\"#fdca26\"],[1.0,\"#f0f921\"]]},\"colorway\":[\"#636efa\",\"#EF553B\",\"#00cc96\",\"#ab63fa\",\"#FFA15A\",\"#19d3f3\",\"#FF6692\",\"#B6E880\",\"#FF97FF\",\"#FECB52\"],\"font\":{\"color\":\"#2a3f5f\"},\"geo\":{\"bgcolor\":\"white\",\"lakecolor\":\"white\",\"landcolor\":\"#E5ECF6\",\"showlakes\":true,\"showland\":true,\"subunitcolor\":\"white\"},\"hoverlabel\":{\"align\":\"left\"},\"hovermode\":\"closest\",\"mapbox\":{\"style\":\"light\"},\"paper_bgcolor\":\"white\",\"plot_bgcolor\":\"#E5ECF6\",\"polar\":{\"angularaxis\":{\"gridcolor\":\"white\",\"linecolor\":\"white\",\"ticks\":\"\"},\"bgcolor\":\"#E5ECF6\",\"radialaxis\":{\"gridcolor\":\"white\",\"linecolor\":\"white\",\"ticks\":\"\"}},\"scene\":{\"xaxis\":{\"backgroundcolor\":\"#E5ECF6\",\"gridcolor\":\"white\",\"gridwidth\":2,\"linecolor\":\"white\",\"showbackground\":true,\"ticks\":\"\",\"zerolinecolor\":\"white\"},\"yaxis\":{\"backgroundcolor\":\"#E5ECF6\",\"gridcolor\":\"white\",\"gridwidth\":2,\"linecolor\":\"white\",\"showbackground\":true,\"ticks\":\"\",\"zerolinecolor\":\"white\"},\"zaxis\":{\"backgroundcolor\":\"#E5ECF6\",\"gridcolor\":\"white\",\"gridwidth\":2,\"linecolor\":\"white\",\"showbackground\":true,\"ticks\":\"\",\"zerolinecolor\":\"white\"}},\"shapedefaults\":{\"line\":{\"color\":\"#2a3f5f\"}},\"ternary\":{\"aaxis\":{\"gridcolor\":\"white\",\"linecolor\":\"white\",\"ticks\":\"\"},\"baxis\":{\"gridcolor\":\"white\",\"linecolor\":\"white\",\"ticks\":\"\"},\"bgcolor\":\"#E5ECF6\",\"caxis\":{\"gridcolor\":\"white\",\"linecolor\":\"white\",\"ticks\":\"\"}},\"title\":{\"x\":0.05},\"xaxis\":{\"automargin\":true,\"gridcolor\":\"white\",\"linecolor\":\"white\",\"ticks\":\"\",\"title\":{\"standoff\":15},\"zerolinecolor\":\"white\",\"zerolinewidth\":2},\"yaxis\":{\"automargin\":true,\"gridcolor\":\"white\",\"linecolor\":\"white\",\"ticks\":\"\",\"title\":{\"standoff\":15},\"zerolinecolor\":\"white\",\"zerolinewidth\":2}}},\"xaxis\":{\"anchor\":\"y\",\"domain\":[0.0,1.0],\"title\":{\"text\":\"windspeed\"}},\"yaxis\":{\"anchor\":\"x\",\"domain\":[0.0,1.0],\"title\":{\"text\":\"sum of cnt\"}},\"legend\":{\"tracegroupgap\":0},\"margin\":{\"t\":60},\"barmode\":\"relative\",\"bargap\":0.2,\"title\":{\"text\":\"Distribution of count by Windspeed\"}},                        {\"responsive\": true}                    ).then(function(){\n",
              "                            \n",
              "var gd = document.getElementById('e3c12cc5-e37f-42d5-86fa-e3452b4038b4');\n",
              "var x = new MutationObserver(function (mutations, observer) {{\n",
              "        var display = window.getComputedStyle(gd).display;\n",
              "        if (!display || display === 'none') {{\n",
              "            console.log([gd, 'removed!']);\n",
              "            Plotly.purge(gd);\n",
              "            observer.disconnect();\n",
              "        }}\n",
              "}});\n",
              "\n",
              "// Listen for the removal of the full notebook cells\n",
              "var notebookContainer = gd.closest('#notebook-container');\n",
              "if (notebookContainer) {{\n",
              "    x.observe(notebookContainer, {childList: true});\n",
              "}}\n",
              "\n",
              "// Listen for the clearing of the current output cell\n",
              "var outputEl = gd.closest('.output');\n",
              "if (outputEl) {{\n",
              "    x.observe(outputEl, {childList: true});\n",
              "}}\n",
              "\n",
              "                        })                };                            </script>        </div>\n",
              "</body>\n",
              "</html>"
            ]
          },
          "metadata": {}
        }
      ]
    },
    {
      "cell_type": "markdown",
      "source": [
        "During Windspeed of 7.5 to 12.5,bikesharing count is more"
      ],
      "metadata": {
        "id": "02lL7kDGn0hu"
      }
    },
    {
      "cell_type": "code",
      "source": [
        "hist_holiday = px.histogram(rides, x='holiday', y='cnt')\n",
        "hist_holiday.update_layout(bargap=0.2,title=\"Distribution of count by Holiday\")\n",
        "hist_holiday.show()"
      ],
      "metadata": {
        "colab": {
          "base_uri": "https://localhost:8080/",
          "height": 542
        },
        "id": "S59CS7Xo1uk7",
        "outputId": "1c64631b-cd7b-466d-9121-4152ff2071ef"
      },
      "execution_count": 1259,
      "outputs": [
        {
          "output_type": "display_data",
          "data": {
            "text/html": [
              "<html>\n",
              "<head><meta charset=\"utf-8\" /></head>\n",
              "<body>\n",
              "    <div>            <script src=\"https://cdnjs.cloudflare.com/ajax/libs/mathjax/2.7.5/MathJax.js?config=TeX-AMS-MML_SVG\"></script><script type=\"text/javascript\">if (window.MathJax) {MathJax.Hub.Config({SVG: {font: \"STIX-Web\"}});}</script>                <script type=\"text/javascript\">window.PlotlyConfig = {MathJaxConfig: 'local'};</script>\n",
              "        <script src=\"https://cdn.plot.ly/plotly-2.8.3.min.js\"></script>                <div id=\"5f73865f-1924-46af-84b3-44c4ed25c6ce\" class=\"plotly-graph-div\" style=\"height:525px; width:100%;\"></div>            <script type=\"text/javascript\">                                    window.PLOTLYENV=window.PLOTLYENV || {};                                    if (document.getElementById(\"5f73865f-1924-46af-84b3-44c4ed25c6ce\")) {                    Plotly.newPlot(                        \"5f73865f-1924-46af-84b3-44c4ed25c6ce\",                        [{\"alignmentgroup\":\"True\",\"bingroup\":\"x\",\"histfunc\":\"sum\",\"hovertemplate\":\"holiday=%{x}<br>sum of cnt=%{y}<extra></extra>\",\"legendgroup\":\"\",\"marker\":{\"color\":\"#636efa\",\"pattern\":{\"shape\":\"\"}},\"name\":\"\",\"offsetgroup\":\"\",\"orientation\":\"v\",\"showlegend\":false,\"x\":[0,0,0,0,0,0,0,0,0,0,0,0,0,0,0,0,1,0,0,0,0,0,0,0,0,0,0,0,0,0,0,0,0,0,0,0,0,0,0,0,0,0,0,0,0,0,0,0,0,0,0,1,0,0,0,0,0,0,0,0,0,0,0,0,0,0,0,0,0,0,0,0,0,0,0,0,0,0,0,0,0,0,0,0,0,0,0,0,0,0,0,0,0,0,0,0,0,0,0,0,0,0,0,0,1,0,0,0,0,0,0,0,0,0,0,0,0,0,0,0,0,0,0,0,0,0,0,0,0,0,0,0,0,0,0,0,0,0,0,0,0,0,0,0,0,0,0,0,0,1,0,0,0,0,0,0,0,0,0,0,0,0,0,0,0,0,0,0,0,0,0,0,0,0,0,0,0,0,0,0,0,0,0,0,1,0,0,0,0,0,0,0,0,0,0,0,0,0,0,0,0,0,0,0,0,0,0,0,0,0,0,0,0,0,0,0,0,0,0,0,0,0,0,0,0,0,0,0,0,0,0,0,0,0,0,0,0,0,0,0,0,0,0,0,0,0,0,1,0,0,0,0,0,0,0,0,0,0,0,0,0,0,0,0,0,0,0,0,0,0,0,0,0,0,0,0,0,0,0,0,0,0,1,0,0,0,0,0,0,0,0,0,0,0,0,0,0,0,0,0,0,0,0,0,0,0,0,0,0,0,0,0,0,0,1,0,0,0,0,0,0,0,0,0,0,0,0,1,0,0,0,0,0,0,0,0,0,0,0,0,0,0,0,0,0,0,0,0,0,0,0,0,0,0,0,0,0,0,0,1,0,0,0,0,0,0,1,0,0,0,0,0,0,0,0,0,0,0,0,0,1,0,0,0,0,0,0,0,0,0,0,0,0,0,0,0,0,0,0,0,0,0,0,0,0,0,0,0,0,0,0,0,0,0,0,1,0,0,0,0,0,0,0,0,0,0,0,0,0,0,0,0,0,0,0,0,0,0,0,0,0,0,0,0,0,0,0,0,0,0,0,0,0,0,0,0,0,0,0,0,0,0,0,0,0,0,0,0,0,0,1,0,0,0,0,0,0,0,0,0,0,0,0,0,0,0,0,0,0,0,0,0,0,0,0,0,0,0,0,0,0,0,0,0,0,0,0,0,0,0,0,0,1,0,0,0,0,0,0,0,0,0,0,0,0,0,0,0,0,0,0,0,0,0,0,0,0,0,0,0,0,0,0,0,0,0,0,0,0,1,0,0,0,0,0,0,0,0,0,0,0,0,0,0,0,0,0,0,0,0,0,0,0,0,0,0,0,0,0,0,0,0,0,0,0,0,0,0,0,0,0,0,0,0,0,0,0,0,0,0,0,0,0,0,0,0,0,0,0,0,1,0,0,0,0,0,0,0,0,0,0,0,0,0,0,0,0,0,0,0,0,0,0,0,0,0,0,0,0,0,0,0,0,0,0,1,0,0,0,0,0,0,0,0,0,0,0,0,0,0,0,0,0,0,0,0,0,0,0,0,0,0,0,0,0,0,0,0,0,0,1,0,0,0,0,0,0,0,0,0,1,0,0,0,0,0,0,0,0,0,0,0,0,0,0,0,0,0,0,0,0,0,0,0,0,0,0,0,0,0,0,0,0,1,0,0,0,0,0,0],\"xaxis\":\"x\",\"y\":[985,801,1349,1562,1600,1606,1510,959,822,1321,1263,1162,1406,1421,1248,1204,1000,683,1650,1927,1543,981,986,1416,1985,506,431,1167,1098,1096,1501,1360,1526,1550,1708,1005,1623,1712,1530,1605,1538,1746,1472,1589,1913,1815,2115,2475,2927,1635,1812,1107,1450,1917,1807,1461,1969,2402,1446,1851,2134,1685,1944,2077,605,1872,2133,1891,623,1977,2132,2417,2046,2056,2192,2744,3239,3117,2471,2077,2703,2121,1865,2210,2496,1693,2028,2425,1536,1685,2227,2252,3249,3115,1795,2808,3141,1471,2455,2895,3348,2034,2162,3267,3126,795,3744,3429,3204,3944,4189,1683,4036,4191,4073,4400,3872,4058,4595,5312,3351,4401,4451,2633,4433,4608,4714,4333,4362,4803,4182,4864,4105,3409,4553,3958,4123,3855,4575,4917,5805,4660,4274,4492,4978,4677,4679,4758,4788,4098,3982,3974,4968,5312,5342,4906,4548,4833,4401,3915,4586,4966,4460,5020,4891,5180,3767,4844,5119,4744,4010,4835,4507,4790,4991,5202,5305,4708,4648,5225,5515,5362,5119,4649,6043,4665,4629,4592,4040,5336,4881,4086,4258,4342,5084,5538,5923,5302,4458,4541,4332,3784,3387,3285,3606,3840,4590,4656,4390,3846,4475,4302,4266,4845,3574,4576,4866,4294,3785,4326,4602,4780,4792,4905,4150,3820,4338,4725,4694,3805,4153,5191,3873,4758,5895,5130,3542,4661,1115,4334,4634,5204,5058,5115,4727,4484,4940,3351,2710,1996,1842,3544,5345,5046,4713,4763,4785,3659,4760,4511,4274,4539,3641,4352,4795,2395,5423,5010,4630,4120,3907,4839,5202,2429,2918,3570,4456,4826,4765,4985,5409,5511,5117,4563,2416,2913,3644,5217,5041,4570,4748,2424,4195,4304,4308,4381,4187,4687,3894,2659,3747,627,3331,3669,4068,4186,3974,4046,3926,3649,4035,4205,4109,2933,3368,4067,3717,4486,4195,1817,3053,3392,3663,3520,2765,1607,2566,1495,2792,3068,3071,3867,2914,3613,3727,3940,3614,3485,3811,2594,705,3322,3620,3190,2743,3310,3523,3740,3709,3577,2739,2431,3403,3750,2660,3068,2209,1011,754,1317,1162,2302,2423,2999,2485,2294,1951,2236,2368,3272,4098,4521,3425,2376,3598,2177,4097,3214,2493,2311,2298,2935,3376,3292,3163,1301,1977,2432,4339,4270,4075,3456,4023,3243,3624,4509,4579,3761,4151,2832,2947,3784,4375,2802,3830,3831,2169,1529,3422,3922,4169,3005,4154,4318,2689,3129,3777,4773,5062,3487,2732,3389,4322,4363,4990,3194,4066,3423,3333,3956,4916,5382,4569,4118,4911,5298,5847,6312,6192,4378,7836,5892,6153,6093,6230,6871,8362,3372,4996,5558,5102,5698,6133,5459,6235,6041,5936,6772,6436,6457,6460,6857,5169,5585,5918,4862,5409,6398,7460,7132,6370,6691,4367,6565,7290,6624,1027,3214,5633,6196,5026,6233,4220,6304,5572,5740,6169,6421,6296,6883,6359,6273,5728,4717,6572,7030,7429,6118,2843,5115,7424,7384,7639,8294,7129,4359,6073,5260,6770,6734,6536,6591,6043,5743,6855,7338,4127,8120,7641,6998,7001,7055,7494,7736,7498,6598,6664,4972,7421,7363,7665,7702,6978,5099,6825,6211,5905,5823,7458,6891,6779,7442,7335,6879,5463,5687,5531,6227,6660,7403,6241,6207,4840,4672,6569,6290,7264,7446,7499,6969,6031,6830,6786,5713,6591,5870,4459,7410,6966,7592,8173,6861,6904,6685,6597,7105,7216,7580,7261,7175,6824,5464,7013,7273,7534,7286,5786,6299,6544,6883,6784,7347,7605,7148,7865,4549,6530,7006,7375,7765,7582,6053,5255,6917,7040,7697,7713,7350,6140,5810,6034,6864,7112,6203,7504,5976,8227,7525,7767,7870,7804,8009,8714,7333,6869,4073,7591,7720,8167,8395,7907,7436,7538,7733,7393,7415,8555,6889,6778,4639,7572,7328,8156,7965,3510,5478,6392,7691,7570,7282,7109,6639,5875,7534,7461,7509,5424,8090,6824,7058,7466,7693,7359,7444,7852,4459,22,1096,5566,5986,5847,5138,5107,5259,5686,5035,5315,5992,6536,6852,6269,4094,5495,5445,5698,5629,4669,5499,5634,5146,2425,3910,2277,2424,5087,3959,5260,5323,5668,5191,4649,6234,6606,5729,5375,5008,5582,3228,5170,5501,5319,5532,5611,5047,3786,4585,5557,5267,4128,3623,1749,1787,920,1013,441,2114,3095,1341,1796,2729],\"yaxis\":\"y\",\"type\":\"histogram\"}],                        {\"template\":{\"data\":{\"bar\":[{\"error_x\":{\"color\":\"#2a3f5f\"},\"error_y\":{\"color\":\"#2a3f5f\"},\"marker\":{\"line\":{\"color\":\"#E5ECF6\",\"width\":0.5},\"pattern\":{\"fillmode\":\"overlay\",\"size\":10,\"solidity\":0.2}},\"type\":\"bar\"}],\"barpolar\":[{\"marker\":{\"line\":{\"color\":\"#E5ECF6\",\"width\":0.5},\"pattern\":{\"fillmode\":\"overlay\",\"size\":10,\"solidity\":0.2}},\"type\":\"barpolar\"}],\"carpet\":[{\"aaxis\":{\"endlinecolor\":\"#2a3f5f\",\"gridcolor\":\"white\",\"linecolor\":\"white\",\"minorgridcolor\":\"white\",\"startlinecolor\":\"#2a3f5f\"},\"baxis\":{\"endlinecolor\":\"#2a3f5f\",\"gridcolor\":\"white\",\"linecolor\":\"white\",\"minorgridcolor\":\"white\",\"startlinecolor\":\"#2a3f5f\"},\"type\":\"carpet\"}],\"choropleth\":[{\"colorbar\":{\"outlinewidth\":0,\"ticks\":\"\"},\"type\":\"choropleth\"}],\"contour\":[{\"colorbar\":{\"outlinewidth\":0,\"ticks\":\"\"},\"colorscale\":[[0.0,\"#0d0887\"],[0.1111111111111111,\"#46039f\"],[0.2222222222222222,\"#7201a8\"],[0.3333333333333333,\"#9c179e\"],[0.4444444444444444,\"#bd3786\"],[0.5555555555555556,\"#d8576b\"],[0.6666666666666666,\"#ed7953\"],[0.7777777777777778,\"#fb9f3a\"],[0.8888888888888888,\"#fdca26\"],[1.0,\"#f0f921\"]],\"type\":\"contour\"}],\"contourcarpet\":[{\"colorbar\":{\"outlinewidth\":0,\"ticks\":\"\"},\"type\":\"contourcarpet\"}],\"heatmap\":[{\"colorbar\":{\"outlinewidth\":0,\"ticks\":\"\"},\"colorscale\":[[0.0,\"#0d0887\"],[0.1111111111111111,\"#46039f\"],[0.2222222222222222,\"#7201a8\"],[0.3333333333333333,\"#9c179e\"],[0.4444444444444444,\"#bd3786\"],[0.5555555555555556,\"#d8576b\"],[0.6666666666666666,\"#ed7953\"],[0.7777777777777778,\"#fb9f3a\"],[0.8888888888888888,\"#fdca26\"],[1.0,\"#f0f921\"]],\"type\":\"heatmap\"}],\"heatmapgl\":[{\"colorbar\":{\"outlinewidth\":0,\"ticks\":\"\"},\"colorscale\":[[0.0,\"#0d0887\"],[0.1111111111111111,\"#46039f\"],[0.2222222222222222,\"#7201a8\"],[0.3333333333333333,\"#9c179e\"],[0.4444444444444444,\"#bd3786\"],[0.5555555555555556,\"#d8576b\"],[0.6666666666666666,\"#ed7953\"],[0.7777777777777778,\"#fb9f3a\"],[0.8888888888888888,\"#fdca26\"],[1.0,\"#f0f921\"]],\"type\":\"heatmapgl\"}],\"histogram\":[{\"marker\":{\"pattern\":{\"fillmode\":\"overlay\",\"size\":10,\"solidity\":0.2}},\"type\":\"histogram\"}],\"histogram2d\":[{\"colorbar\":{\"outlinewidth\":0,\"ticks\":\"\"},\"colorscale\":[[0.0,\"#0d0887\"],[0.1111111111111111,\"#46039f\"],[0.2222222222222222,\"#7201a8\"],[0.3333333333333333,\"#9c179e\"],[0.4444444444444444,\"#bd3786\"],[0.5555555555555556,\"#d8576b\"],[0.6666666666666666,\"#ed7953\"],[0.7777777777777778,\"#fb9f3a\"],[0.8888888888888888,\"#fdca26\"],[1.0,\"#f0f921\"]],\"type\":\"histogram2d\"}],\"histogram2dcontour\":[{\"colorbar\":{\"outlinewidth\":0,\"ticks\":\"\"},\"colorscale\":[[0.0,\"#0d0887\"],[0.1111111111111111,\"#46039f\"],[0.2222222222222222,\"#7201a8\"],[0.3333333333333333,\"#9c179e\"],[0.4444444444444444,\"#bd3786\"],[0.5555555555555556,\"#d8576b\"],[0.6666666666666666,\"#ed7953\"],[0.7777777777777778,\"#fb9f3a\"],[0.8888888888888888,\"#fdca26\"],[1.0,\"#f0f921\"]],\"type\":\"histogram2dcontour\"}],\"mesh3d\":[{\"colorbar\":{\"outlinewidth\":0,\"ticks\":\"\"},\"type\":\"mesh3d\"}],\"parcoords\":[{\"line\":{\"colorbar\":{\"outlinewidth\":0,\"ticks\":\"\"}},\"type\":\"parcoords\"}],\"pie\":[{\"automargin\":true,\"type\":\"pie\"}],\"scatter\":[{\"marker\":{\"colorbar\":{\"outlinewidth\":0,\"ticks\":\"\"}},\"type\":\"scatter\"}],\"scatter3d\":[{\"line\":{\"colorbar\":{\"outlinewidth\":0,\"ticks\":\"\"}},\"marker\":{\"colorbar\":{\"outlinewidth\":0,\"ticks\":\"\"}},\"type\":\"scatter3d\"}],\"scattercarpet\":[{\"marker\":{\"colorbar\":{\"outlinewidth\":0,\"ticks\":\"\"}},\"type\":\"scattercarpet\"}],\"scattergeo\":[{\"marker\":{\"colorbar\":{\"outlinewidth\":0,\"ticks\":\"\"}},\"type\":\"scattergeo\"}],\"scattergl\":[{\"marker\":{\"colorbar\":{\"outlinewidth\":0,\"ticks\":\"\"}},\"type\":\"scattergl\"}],\"scattermapbox\":[{\"marker\":{\"colorbar\":{\"outlinewidth\":0,\"ticks\":\"\"}},\"type\":\"scattermapbox\"}],\"scatterpolar\":[{\"marker\":{\"colorbar\":{\"outlinewidth\":0,\"ticks\":\"\"}},\"type\":\"scatterpolar\"}],\"scatterpolargl\":[{\"marker\":{\"colorbar\":{\"outlinewidth\":0,\"ticks\":\"\"}},\"type\":\"scatterpolargl\"}],\"scatterternary\":[{\"marker\":{\"colorbar\":{\"outlinewidth\":0,\"ticks\":\"\"}},\"type\":\"scatterternary\"}],\"surface\":[{\"colorbar\":{\"outlinewidth\":0,\"ticks\":\"\"},\"colorscale\":[[0.0,\"#0d0887\"],[0.1111111111111111,\"#46039f\"],[0.2222222222222222,\"#7201a8\"],[0.3333333333333333,\"#9c179e\"],[0.4444444444444444,\"#bd3786\"],[0.5555555555555556,\"#d8576b\"],[0.6666666666666666,\"#ed7953\"],[0.7777777777777778,\"#fb9f3a\"],[0.8888888888888888,\"#fdca26\"],[1.0,\"#f0f921\"]],\"type\":\"surface\"}],\"table\":[{\"cells\":{\"fill\":{\"color\":\"#EBF0F8\"},\"line\":{\"color\":\"white\"}},\"header\":{\"fill\":{\"color\":\"#C8D4E3\"},\"line\":{\"color\":\"white\"}},\"type\":\"table\"}]},\"layout\":{\"annotationdefaults\":{\"arrowcolor\":\"#2a3f5f\",\"arrowhead\":0,\"arrowwidth\":1},\"autotypenumbers\":\"strict\",\"coloraxis\":{\"colorbar\":{\"outlinewidth\":0,\"ticks\":\"\"}},\"colorscale\":{\"diverging\":[[0,\"#8e0152\"],[0.1,\"#c51b7d\"],[0.2,\"#de77ae\"],[0.3,\"#f1b6da\"],[0.4,\"#fde0ef\"],[0.5,\"#f7f7f7\"],[0.6,\"#e6f5d0\"],[0.7,\"#b8e186\"],[0.8,\"#7fbc41\"],[0.9,\"#4d9221\"],[1,\"#276419\"]],\"sequential\":[[0.0,\"#0d0887\"],[0.1111111111111111,\"#46039f\"],[0.2222222222222222,\"#7201a8\"],[0.3333333333333333,\"#9c179e\"],[0.4444444444444444,\"#bd3786\"],[0.5555555555555556,\"#d8576b\"],[0.6666666666666666,\"#ed7953\"],[0.7777777777777778,\"#fb9f3a\"],[0.8888888888888888,\"#fdca26\"],[1.0,\"#f0f921\"]],\"sequentialminus\":[[0.0,\"#0d0887\"],[0.1111111111111111,\"#46039f\"],[0.2222222222222222,\"#7201a8\"],[0.3333333333333333,\"#9c179e\"],[0.4444444444444444,\"#bd3786\"],[0.5555555555555556,\"#d8576b\"],[0.6666666666666666,\"#ed7953\"],[0.7777777777777778,\"#fb9f3a\"],[0.8888888888888888,\"#fdca26\"],[1.0,\"#f0f921\"]]},\"colorway\":[\"#636efa\",\"#EF553B\",\"#00cc96\",\"#ab63fa\",\"#FFA15A\",\"#19d3f3\",\"#FF6692\",\"#B6E880\",\"#FF97FF\",\"#FECB52\"],\"font\":{\"color\":\"#2a3f5f\"},\"geo\":{\"bgcolor\":\"white\",\"lakecolor\":\"white\",\"landcolor\":\"#E5ECF6\",\"showlakes\":true,\"showland\":true,\"subunitcolor\":\"white\"},\"hoverlabel\":{\"align\":\"left\"},\"hovermode\":\"closest\",\"mapbox\":{\"style\":\"light\"},\"paper_bgcolor\":\"white\",\"plot_bgcolor\":\"#E5ECF6\",\"polar\":{\"angularaxis\":{\"gridcolor\":\"white\",\"linecolor\":\"white\",\"ticks\":\"\"},\"bgcolor\":\"#E5ECF6\",\"radialaxis\":{\"gridcolor\":\"white\",\"linecolor\":\"white\",\"ticks\":\"\"}},\"scene\":{\"xaxis\":{\"backgroundcolor\":\"#E5ECF6\",\"gridcolor\":\"white\",\"gridwidth\":2,\"linecolor\":\"white\",\"showbackground\":true,\"ticks\":\"\",\"zerolinecolor\":\"white\"},\"yaxis\":{\"backgroundcolor\":\"#E5ECF6\",\"gridcolor\":\"white\",\"gridwidth\":2,\"linecolor\":\"white\",\"showbackground\":true,\"ticks\":\"\",\"zerolinecolor\":\"white\"},\"zaxis\":{\"backgroundcolor\":\"#E5ECF6\",\"gridcolor\":\"white\",\"gridwidth\":2,\"linecolor\":\"white\",\"showbackground\":true,\"ticks\":\"\",\"zerolinecolor\":\"white\"}},\"shapedefaults\":{\"line\":{\"color\":\"#2a3f5f\"}},\"ternary\":{\"aaxis\":{\"gridcolor\":\"white\",\"linecolor\":\"white\",\"ticks\":\"\"},\"baxis\":{\"gridcolor\":\"white\",\"linecolor\":\"white\",\"ticks\":\"\"},\"bgcolor\":\"#E5ECF6\",\"caxis\":{\"gridcolor\":\"white\",\"linecolor\":\"white\",\"ticks\":\"\"}},\"title\":{\"x\":0.05},\"xaxis\":{\"automargin\":true,\"gridcolor\":\"white\",\"linecolor\":\"white\",\"ticks\":\"\",\"title\":{\"standoff\":15},\"zerolinecolor\":\"white\",\"zerolinewidth\":2},\"yaxis\":{\"automargin\":true,\"gridcolor\":\"white\",\"linecolor\":\"white\",\"ticks\":\"\",\"title\":{\"standoff\":15},\"zerolinecolor\":\"white\",\"zerolinewidth\":2}}},\"xaxis\":{\"anchor\":\"y\",\"domain\":[0.0,1.0],\"title\":{\"text\":\"holiday\"}},\"yaxis\":{\"anchor\":\"x\",\"domain\":[0.0,1.0],\"title\":{\"text\":\"sum of cnt\"}},\"legend\":{\"tracegroupgap\":0},\"margin\":{\"t\":60},\"barmode\":\"relative\",\"bargap\":0.2,\"title\":{\"text\":\"Distribution of count by Holiday\"}},                        {\"responsive\": true}                    ).then(function(){\n",
              "                            \n",
              "var gd = document.getElementById('5f73865f-1924-46af-84b3-44c4ed25c6ce');\n",
              "var x = new MutationObserver(function (mutations, observer) {{\n",
              "        var display = window.getComputedStyle(gd).display;\n",
              "        if (!display || display === 'none') {{\n",
              "            console.log([gd, 'removed!']);\n",
              "            Plotly.purge(gd);\n",
              "            observer.disconnect();\n",
              "        }}\n",
              "}});\n",
              "\n",
              "// Listen for the removal of the full notebook cells\n",
              "var notebookContainer = gd.closest('#notebook-container');\n",
              "if (notebookContainer) {{\n",
              "    x.observe(notebookContainer, {childList: true});\n",
              "}}\n",
              "\n",
              "// Listen for the clearing of the current output cell\n",
              "var outputEl = gd.closest('.output');\n",
              "if (outputEl) {{\n",
              "    x.observe(outputEl, {childList: true});\n",
              "}}\n",
              "\n",
              "                        })                };                            </script>        </div>\n",
              "</body>\n",
              "</html>"
            ]
          },
          "metadata": {}
        }
      ]
    },
    {
      "cell_type": "markdown",
      "source": [
        "Bike rental count is more in holidays"
      ],
      "metadata": {
        "id": "hHeTI2Ol2i0c"
      }
    },
    {
      "cell_type": "code",
      "source": [
        "hist_holiday = px.histogram(rides, x='workingday', y='cnt')\n",
        "hist_holiday.update_layout(bargap=0.2,title=\"Distribution of count by Holiday\")\n",
        "hist_holiday.show()"
      ],
      "metadata": {
        "colab": {
          "base_uri": "https://localhost:8080/",
          "height": 542
        },
        "id": "3_fRSOJp2uH5",
        "outputId": "97c00ed0-25c5-4a84-9569-1ca293d21648"
      },
      "execution_count": 1260,
      "outputs": [
        {
          "output_type": "display_data",
          "data": {
            "text/html": [
              "<html>\n",
              "<head><meta charset=\"utf-8\" /></head>\n",
              "<body>\n",
              "    <div>            <script src=\"https://cdnjs.cloudflare.com/ajax/libs/mathjax/2.7.5/MathJax.js?config=TeX-AMS-MML_SVG\"></script><script type=\"text/javascript\">if (window.MathJax) {MathJax.Hub.Config({SVG: {font: \"STIX-Web\"}});}</script>                <script type=\"text/javascript\">window.PlotlyConfig = {MathJaxConfig: 'local'};</script>\n",
              "        <script src=\"https://cdn.plot.ly/plotly-2.8.3.min.js\"></script>                <div id=\"26deb46f-c64a-4746-ab77-1b52bd8d691d\" class=\"plotly-graph-div\" style=\"height:525px; width:100%;\"></div>            <script type=\"text/javascript\">                                    window.PLOTLYENV=window.PLOTLYENV || {};                                    if (document.getElementById(\"26deb46f-c64a-4746-ab77-1b52bd8d691d\")) {                    Plotly.newPlot(                        \"26deb46f-c64a-4746-ab77-1b52bd8d691d\",                        [{\"alignmentgroup\":\"True\",\"bingroup\":\"x\",\"histfunc\":\"sum\",\"hovertemplate\":\"workingday=%{x}<br>sum of cnt=%{y}<extra></extra>\",\"legendgroup\":\"\",\"marker\":{\"color\":\"#636efa\",\"pattern\":{\"shape\":\"\"}},\"name\":\"\",\"offsetgroup\":\"\",\"orientation\":\"v\",\"showlegend\":false,\"x\":[0,0,1,1,1,1,1,0,0,1,1,1,1,1,0,0,0,1,1,1,1,0,0,1,1,1,1,1,0,0,1,1,1,1,1,0,0,1,1,1,1,1,0,0,1,1,1,1,1,0,0,0,1,1,1,1,0,0,1,1,1,1,1,0,0,1,1,1,1,1,0,0,1,1,1,1,1,0,0,1,1,1,1,1,0,0,1,1,1,1,1,0,0,1,1,1,1,1,0,0,1,1,1,1,0,0,0,1,1,1,1,1,0,0,1,1,1,1,1,0,0,1,1,1,1,1,0,0,1,1,1,1,1,0,0,1,1,1,1,1,0,0,1,1,1,1,1,0,0,0,1,1,1,1,0,0,1,1,1,1,1,0,0,1,1,1,1,1,0,0,1,1,1,1,1,0,0,1,1,1,1,1,0,0,0,1,1,1,1,0,0,1,1,1,1,1,0,0,1,1,1,1,1,0,0,1,1,1,1,1,0,0,1,1,1,1,1,0,0,1,1,1,1,1,0,0,1,1,1,1,1,0,0,1,1,1,1,1,0,0,1,1,1,1,1,0,0,0,1,1,1,1,0,0,1,1,1,1,1,0,0,1,1,1,1,1,0,0,1,1,1,1,1,0,0,1,1,1,1,1,0,0,0,1,1,1,1,0,0,1,1,1,1,1,0,0,1,1,1,1,1,0,0,1,1,1,1,1,0,0,1,1,1,1,0,0,0,1,1,1,1,1,0,0,1,1,1,0,1,0,0,1,1,1,1,1,0,0,1,1,1,1,1,0,0,1,1,1,1,1,0,0,1,1,1,1,1,0,0,0,1,1,1,1,0,0,0,1,1,1,1,0,0,1,1,1,1,1,0,0,0,1,1,1,1,0,0,1,1,1,1,1,0,0,1,1,1,1,1,0,0,1,1,1,1,1,0,0,1,1,1,1,1,0,0,0,1,1,1,1,0,0,1,1,1,1,0,0,1,1,1,1,1,0,0,1,1,1,1,1,0,0,1,1,1,1,1,0,0,1,1,1,1,1,0,0,1,1,1,1,1,0,0,1,1,1,1,1,0,0,0,1,1,1,1,0,0,1,1,1,1,1,0,0,1,1,1,1,1,0,0,1,1,1,1,1,0,0,1,1,1,1,1,0,0,1,1,1,1,1,0,0,0,1,1,1,1,0,0,1,1,1,1,1,0,0,1,1,1,1,1,0,0,1,1,1,1,1,0,0,1,1,1,1,1,0,0,1,1,0,1,1,0,0,1,1,1,1,1,0,0,1,1,1,1,1,0,0,1,1,1,1,1,0,0,1,1,1,1,1,0,0,1,1,1,1,1,0,0,1,1,1,1,1,0,0,1,1,1,1,1,0,0,1,1,1,1,1,0,0,0,1,1,1,1,0,0,1,1,1,1,1,0,0,1,1,1,1,1,0,0,1,1,1,1,1,0,0,1,1,1,1,1,0,0,0,1,1,1,1,0,0,1,1,1,1,1,0,0,1,1,1,1,1,0,0,1,1,1,1,1,0,0,1,1,1,1,1,0,0,0,1,1,1,1,0,0,1,1,1,0,1,0,0,1,1,1,1,1,0,0,1,1,1,1,1,0,0,1,1,1,1,1,0,0,1,1,1,1,1,0,0,1,0,1,1,1,0,0,1],\"xaxis\":\"x\",\"y\":[985,801,1349,1562,1600,1606,1510,959,822,1321,1263,1162,1406,1421,1248,1204,1000,683,1650,1927,1543,981,986,1416,1985,506,431,1167,1098,1096,1501,1360,1526,1550,1708,1005,1623,1712,1530,1605,1538,1746,1472,1589,1913,1815,2115,2475,2927,1635,1812,1107,1450,1917,1807,1461,1969,2402,1446,1851,2134,1685,1944,2077,605,1872,2133,1891,623,1977,2132,2417,2046,2056,2192,2744,3239,3117,2471,2077,2703,2121,1865,2210,2496,1693,2028,2425,1536,1685,2227,2252,3249,3115,1795,2808,3141,1471,2455,2895,3348,2034,2162,3267,3126,795,3744,3429,3204,3944,4189,1683,4036,4191,4073,4400,3872,4058,4595,5312,3351,4401,4451,2633,4433,4608,4714,4333,4362,4803,4182,4864,4105,3409,4553,3958,4123,3855,4575,4917,5805,4660,4274,4492,4978,4677,4679,4758,4788,4098,3982,3974,4968,5312,5342,4906,4548,4833,4401,3915,4586,4966,4460,5020,4891,5180,3767,4844,5119,4744,4010,4835,4507,4790,4991,5202,5305,4708,4648,5225,5515,5362,5119,4649,6043,4665,4629,4592,4040,5336,4881,4086,4258,4342,5084,5538,5923,5302,4458,4541,4332,3784,3387,3285,3606,3840,4590,4656,4390,3846,4475,4302,4266,4845,3574,4576,4866,4294,3785,4326,4602,4780,4792,4905,4150,3820,4338,4725,4694,3805,4153,5191,3873,4758,5895,5130,3542,4661,1115,4334,4634,5204,5058,5115,4727,4484,4940,3351,2710,1996,1842,3544,5345,5046,4713,4763,4785,3659,4760,4511,4274,4539,3641,4352,4795,2395,5423,5010,4630,4120,3907,4839,5202,2429,2918,3570,4456,4826,4765,4985,5409,5511,5117,4563,2416,2913,3644,5217,5041,4570,4748,2424,4195,4304,4308,4381,4187,4687,3894,2659,3747,627,3331,3669,4068,4186,3974,4046,3926,3649,4035,4205,4109,2933,3368,4067,3717,4486,4195,1817,3053,3392,3663,3520,2765,1607,2566,1495,2792,3068,3071,3867,2914,3613,3727,3940,3614,3485,3811,2594,705,3322,3620,3190,2743,3310,3523,3740,3709,3577,2739,2431,3403,3750,2660,3068,2209,1011,754,1317,1162,2302,2423,2999,2485,2294,1951,2236,2368,3272,4098,4521,3425,2376,3598,2177,4097,3214,2493,2311,2298,2935,3376,3292,3163,1301,1977,2432,4339,4270,4075,3456,4023,3243,3624,4509,4579,3761,4151,2832,2947,3784,4375,2802,3830,3831,2169,1529,3422,3922,4169,3005,4154,4318,2689,3129,3777,4773,5062,3487,2732,3389,4322,4363,4990,3194,4066,3423,3333,3956,4916,5382,4569,4118,4911,5298,5847,6312,6192,4378,7836,5892,6153,6093,6230,6871,8362,3372,4996,5558,5102,5698,6133,5459,6235,6041,5936,6772,6436,6457,6460,6857,5169,5585,5918,4862,5409,6398,7460,7132,6370,6691,4367,6565,7290,6624,1027,3214,5633,6196,5026,6233,4220,6304,5572,5740,6169,6421,6296,6883,6359,6273,5728,4717,6572,7030,7429,6118,2843,5115,7424,7384,7639,8294,7129,4359,6073,5260,6770,6734,6536,6591,6043,5743,6855,7338,4127,8120,7641,6998,7001,7055,7494,7736,7498,6598,6664,4972,7421,7363,7665,7702,6978,5099,6825,6211,5905,5823,7458,6891,6779,7442,7335,6879,5463,5687,5531,6227,6660,7403,6241,6207,4840,4672,6569,6290,7264,7446,7499,6969,6031,6830,6786,5713,6591,5870,4459,7410,6966,7592,8173,6861,6904,6685,6597,7105,7216,7580,7261,7175,6824,5464,7013,7273,7534,7286,5786,6299,6544,6883,6784,7347,7605,7148,7865,4549,6530,7006,7375,7765,7582,6053,5255,6917,7040,7697,7713,7350,6140,5810,6034,6864,7112,6203,7504,5976,8227,7525,7767,7870,7804,8009,8714,7333,6869,4073,7591,7720,8167,8395,7907,7436,7538,7733,7393,7415,8555,6889,6778,4639,7572,7328,8156,7965,3510,5478,6392,7691,7570,7282,7109,6639,5875,7534,7461,7509,5424,8090,6824,7058,7466,7693,7359,7444,7852,4459,22,1096,5566,5986,5847,5138,5107,5259,5686,5035,5315,5992,6536,6852,6269,4094,5495,5445,5698,5629,4669,5499,5634,5146,2425,3910,2277,2424,5087,3959,5260,5323,5668,5191,4649,6234,6606,5729,5375,5008,5582,3228,5170,5501,5319,5532,5611,5047,3786,4585,5557,5267,4128,3623,1749,1787,920,1013,441,2114,3095,1341,1796,2729],\"yaxis\":\"y\",\"type\":\"histogram\"}],                        {\"template\":{\"data\":{\"bar\":[{\"error_x\":{\"color\":\"#2a3f5f\"},\"error_y\":{\"color\":\"#2a3f5f\"},\"marker\":{\"line\":{\"color\":\"#E5ECF6\",\"width\":0.5},\"pattern\":{\"fillmode\":\"overlay\",\"size\":10,\"solidity\":0.2}},\"type\":\"bar\"}],\"barpolar\":[{\"marker\":{\"line\":{\"color\":\"#E5ECF6\",\"width\":0.5},\"pattern\":{\"fillmode\":\"overlay\",\"size\":10,\"solidity\":0.2}},\"type\":\"barpolar\"}],\"carpet\":[{\"aaxis\":{\"endlinecolor\":\"#2a3f5f\",\"gridcolor\":\"white\",\"linecolor\":\"white\",\"minorgridcolor\":\"white\",\"startlinecolor\":\"#2a3f5f\"},\"baxis\":{\"endlinecolor\":\"#2a3f5f\",\"gridcolor\":\"white\",\"linecolor\":\"white\",\"minorgridcolor\":\"white\",\"startlinecolor\":\"#2a3f5f\"},\"type\":\"carpet\"}],\"choropleth\":[{\"colorbar\":{\"outlinewidth\":0,\"ticks\":\"\"},\"type\":\"choropleth\"}],\"contour\":[{\"colorbar\":{\"outlinewidth\":0,\"ticks\":\"\"},\"colorscale\":[[0.0,\"#0d0887\"],[0.1111111111111111,\"#46039f\"],[0.2222222222222222,\"#7201a8\"],[0.3333333333333333,\"#9c179e\"],[0.4444444444444444,\"#bd3786\"],[0.5555555555555556,\"#d8576b\"],[0.6666666666666666,\"#ed7953\"],[0.7777777777777778,\"#fb9f3a\"],[0.8888888888888888,\"#fdca26\"],[1.0,\"#f0f921\"]],\"type\":\"contour\"}],\"contourcarpet\":[{\"colorbar\":{\"outlinewidth\":0,\"ticks\":\"\"},\"type\":\"contourcarpet\"}],\"heatmap\":[{\"colorbar\":{\"outlinewidth\":0,\"ticks\":\"\"},\"colorscale\":[[0.0,\"#0d0887\"],[0.1111111111111111,\"#46039f\"],[0.2222222222222222,\"#7201a8\"],[0.3333333333333333,\"#9c179e\"],[0.4444444444444444,\"#bd3786\"],[0.5555555555555556,\"#d8576b\"],[0.6666666666666666,\"#ed7953\"],[0.7777777777777778,\"#fb9f3a\"],[0.8888888888888888,\"#fdca26\"],[1.0,\"#f0f921\"]],\"type\":\"heatmap\"}],\"heatmapgl\":[{\"colorbar\":{\"outlinewidth\":0,\"ticks\":\"\"},\"colorscale\":[[0.0,\"#0d0887\"],[0.1111111111111111,\"#46039f\"],[0.2222222222222222,\"#7201a8\"],[0.3333333333333333,\"#9c179e\"],[0.4444444444444444,\"#bd3786\"],[0.5555555555555556,\"#d8576b\"],[0.6666666666666666,\"#ed7953\"],[0.7777777777777778,\"#fb9f3a\"],[0.8888888888888888,\"#fdca26\"],[1.0,\"#f0f921\"]],\"type\":\"heatmapgl\"}],\"histogram\":[{\"marker\":{\"pattern\":{\"fillmode\":\"overlay\",\"size\":10,\"solidity\":0.2}},\"type\":\"histogram\"}],\"histogram2d\":[{\"colorbar\":{\"outlinewidth\":0,\"ticks\":\"\"},\"colorscale\":[[0.0,\"#0d0887\"],[0.1111111111111111,\"#46039f\"],[0.2222222222222222,\"#7201a8\"],[0.3333333333333333,\"#9c179e\"],[0.4444444444444444,\"#bd3786\"],[0.5555555555555556,\"#d8576b\"],[0.6666666666666666,\"#ed7953\"],[0.7777777777777778,\"#fb9f3a\"],[0.8888888888888888,\"#fdca26\"],[1.0,\"#f0f921\"]],\"type\":\"histogram2d\"}],\"histogram2dcontour\":[{\"colorbar\":{\"outlinewidth\":0,\"ticks\":\"\"},\"colorscale\":[[0.0,\"#0d0887\"],[0.1111111111111111,\"#46039f\"],[0.2222222222222222,\"#7201a8\"],[0.3333333333333333,\"#9c179e\"],[0.4444444444444444,\"#bd3786\"],[0.5555555555555556,\"#d8576b\"],[0.6666666666666666,\"#ed7953\"],[0.7777777777777778,\"#fb9f3a\"],[0.8888888888888888,\"#fdca26\"],[1.0,\"#f0f921\"]],\"type\":\"histogram2dcontour\"}],\"mesh3d\":[{\"colorbar\":{\"outlinewidth\":0,\"ticks\":\"\"},\"type\":\"mesh3d\"}],\"parcoords\":[{\"line\":{\"colorbar\":{\"outlinewidth\":0,\"ticks\":\"\"}},\"type\":\"parcoords\"}],\"pie\":[{\"automargin\":true,\"type\":\"pie\"}],\"scatter\":[{\"marker\":{\"colorbar\":{\"outlinewidth\":0,\"ticks\":\"\"}},\"type\":\"scatter\"}],\"scatter3d\":[{\"line\":{\"colorbar\":{\"outlinewidth\":0,\"ticks\":\"\"}},\"marker\":{\"colorbar\":{\"outlinewidth\":0,\"ticks\":\"\"}},\"type\":\"scatter3d\"}],\"scattercarpet\":[{\"marker\":{\"colorbar\":{\"outlinewidth\":0,\"ticks\":\"\"}},\"type\":\"scattercarpet\"}],\"scattergeo\":[{\"marker\":{\"colorbar\":{\"outlinewidth\":0,\"ticks\":\"\"}},\"type\":\"scattergeo\"}],\"scattergl\":[{\"marker\":{\"colorbar\":{\"outlinewidth\":0,\"ticks\":\"\"}},\"type\":\"scattergl\"}],\"scattermapbox\":[{\"marker\":{\"colorbar\":{\"outlinewidth\":0,\"ticks\":\"\"}},\"type\":\"scattermapbox\"}],\"scatterpolar\":[{\"marker\":{\"colorbar\":{\"outlinewidth\":0,\"ticks\":\"\"}},\"type\":\"scatterpolar\"}],\"scatterpolargl\":[{\"marker\":{\"colorbar\":{\"outlinewidth\":0,\"ticks\":\"\"}},\"type\":\"scatterpolargl\"}],\"scatterternary\":[{\"marker\":{\"colorbar\":{\"outlinewidth\":0,\"ticks\":\"\"}},\"type\":\"scatterternary\"}],\"surface\":[{\"colorbar\":{\"outlinewidth\":0,\"ticks\":\"\"},\"colorscale\":[[0.0,\"#0d0887\"],[0.1111111111111111,\"#46039f\"],[0.2222222222222222,\"#7201a8\"],[0.3333333333333333,\"#9c179e\"],[0.4444444444444444,\"#bd3786\"],[0.5555555555555556,\"#d8576b\"],[0.6666666666666666,\"#ed7953\"],[0.7777777777777778,\"#fb9f3a\"],[0.8888888888888888,\"#fdca26\"],[1.0,\"#f0f921\"]],\"type\":\"surface\"}],\"table\":[{\"cells\":{\"fill\":{\"color\":\"#EBF0F8\"},\"line\":{\"color\":\"white\"}},\"header\":{\"fill\":{\"color\":\"#C8D4E3\"},\"line\":{\"color\":\"white\"}},\"type\":\"table\"}]},\"layout\":{\"annotationdefaults\":{\"arrowcolor\":\"#2a3f5f\",\"arrowhead\":0,\"arrowwidth\":1},\"autotypenumbers\":\"strict\",\"coloraxis\":{\"colorbar\":{\"outlinewidth\":0,\"ticks\":\"\"}},\"colorscale\":{\"diverging\":[[0,\"#8e0152\"],[0.1,\"#c51b7d\"],[0.2,\"#de77ae\"],[0.3,\"#f1b6da\"],[0.4,\"#fde0ef\"],[0.5,\"#f7f7f7\"],[0.6,\"#e6f5d0\"],[0.7,\"#b8e186\"],[0.8,\"#7fbc41\"],[0.9,\"#4d9221\"],[1,\"#276419\"]],\"sequential\":[[0.0,\"#0d0887\"],[0.1111111111111111,\"#46039f\"],[0.2222222222222222,\"#7201a8\"],[0.3333333333333333,\"#9c179e\"],[0.4444444444444444,\"#bd3786\"],[0.5555555555555556,\"#d8576b\"],[0.6666666666666666,\"#ed7953\"],[0.7777777777777778,\"#fb9f3a\"],[0.8888888888888888,\"#fdca26\"],[1.0,\"#f0f921\"]],\"sequentialminus\":[[0.0,\"#0d0887\"],[0.1111111111111111,\"#46039f\"],[0.2222222222222222,\"#7201a8\"],[0.3333333333333333,\"#9c179e\"],[0.4444444444444444,\"#bd3786\"],[0.5555555555555556,\"#d8576b\"],[0.6666666666666666,\"#ed7953\"],[0.7777777777777778,\"#fb9f3a\"],[0.8888888888888888,\"#fdca26\"],[1.0,\"#f0f921\"]]},\"colorway\":[\"#636efa\",\"#EF553B\",\"#00cc96\",\"#ab63fa\",\"#FFA15A\",\"#19d3f3\",\"#FF6692\",\"#B6E880\",\"#FF97FF\",\"#FECB52\"],\"font\":{\"color\":\"#2a3f5f\"},\"geo\":{\"bgcolor\":\"white\",\"lakecolor\":\"white\",\"landcolor\":\"#E5ECF6\",\"showlakes\":true,\"showland\":true,\"subunitcolor\":\"white\"},\"hoverlabel\":{\"align\":\"left\"},\"hovermode\":\"closest\",\"mapbox\":{\"style\":\"light\"},\"paper_bgcolor\":\"white\",\"plot_bgcolor\":\"#E5ECF6\",\"polar\":{\"angularaxis\":{\"gridcolor\":\"white\",\"linecolor\":\"white\",\"ticks\":\"\"},\"bgcolor\":\"#E5ECF6\",\"radialaxis\":{\"gridcolor\":\"white\",\"linecolor\":\"white\",\"ticks\":\"\"}},\"scene\":{\"xaxis\":{\"backgroundcolor\":\"#E5ECF6\",\"gridcolor\":\"white\",\"gridwidth\":2,\"linecolor\":\"white\",\"showbackground\":true,\"ticks\":\"\",\"zerolinecolor\":\"white\"},\"yaxis\":{\"backgroundcolor\":\"#E5ECF6\",\"gridcolor\":\"white\",\"gridwidth\":2,\"linecolor\":\"white\",\"showbackground\":true,\"ticks\":\"\",\"zerolinecolor\":\"white\"},\"zaxis\":{\"backgroundcolor\":\"#E5ECF6\",\"gridcolor\":\"white\",\"gridwidth\":2,\"linecolor\":\"white\",\"showbackground\":true,\"ticks\":\"\",\"zerolinecolor\":\"white\"}},\"shapedefaults\":{\"line\":{\"color\":\"#2a3f5f\"}},\"ternary\":{\"aaxis\":{\"gridcolor\":\"white\",\"linecolor\":\"white\",\"ticks\":\"\"},\"baxis\":{\"gridcolor\":\"white\",\"linecolor\":\"white\",\"ticks\":\"\"},\"bgcolor\":\"#E5ECF6\",\"caxis\":{\"gridcolor\":\"white\",\"linecolor\":\"white\",\"ticks\":\"\"}},\"title\":{\"x\":0.05},\"xaxis\":{\"automargin\":true,\"gridcolor\":\"white\",\"linecolor\":\"white\",\"ticks\":\"\",\"title\":{\"standoff\":15},\"zerolinecolor\":\"white\",\"zerolinewidth\":2},\"yaxis\":{\"automargin\":true,\"gridcolor\":\"white\",\"linecolor\":\"white\",\"ticks\":\"\",\"title\":{\"standoff\":15},\"zerolinecolor\":\"white\",\"zerolinewidth\":2}}},\"xaxis\":{\"anchor\":\"y\",\"domain\":[0.0,1.0],\"title\":{\"text\":\"workingday\"}},\"yaxis\":{\"anchor\":\"x\",\"domain\":[0.0,1.0],\"title\":{\"text\":\"sum of cnt\"}},\"legend\":{\"tracegroupgap\":0},\"margin\":{\"t\":60},\"barmode\":\"relative\",\"bargap\":0.2,\"title\":{\"text\":\"Distribution of count by Holiday\"}},                        {\"responsive\": true}                    ).then(function(){\n",
              "                            \n",
              "var gd = document.getElementById('26deb46f-c64a-4746-ab77-1b52bd8d691d');\n",
              "var x = new MutationObserver(function (mutations, observer) {{\n",
              "        var display = window.getComputedStyle(gd).display;\n",
              "        if (!display || display === 'none') {{\n",
              "            console.log([gd, 'removed!']);\n",
              "            Plotly.purge(gd);\n",
              "            observer.disconnect();\n",
              "        }}\n",
              "}});\n",
              "\n",
              "// Listen for the removal of the full notebook cells\n",
              "var notebookContainer = gd.closest('#notebook-container');\n",
              "if (notebookContainer) {{\n",
              "    x.observe(notebookContainer, {childList: true});\n",
              "}}\n",
              "\n",
              "// Listen for the clearing of the current output cell\n",
              "var outputEl = gd.closest('.output');\n",
              "if (outputEl) {{\n",
              "    x.observe(outputEl, {childList: true});\n",
              "}}\n",
              "\n",
              "                        })                };                            </script>        </div>\n",
              "</body>\n",
              "</html>"
            ]
          },
          "metadata": {}
        }
      ]
    },
    {
      "cell_type": "markdown",
      "source": [
        "Bike rental is more in weekend and holiday"
      ],
      "metadata": {
        "id": "-27vIM9s29i-"
      }
    },
    {
      "cell_type": "markdown",
      "source": [
        "**Observations made from above visualizations:**\n",
        "\n",
        "1.   The count has increased in 2019 compared to 2018\n",
        "2.   More number of bikes are rented in the months of August to October.\n",
        "3.   In Summer, Fall and Clear days more bikes are rented.\n",
        "4.   Bike rentals are more in moderate temperature (26 - 30)\n",
        "6. Bike rentals are more in thursday, friday and saturday \n",
        "7.   More number of bikes are rented in holidays.\n",
        "\n",
        "\n"
      ],
      "metadata": {
        "id": "TBdecnXYrZbu"
      }
    },
    {
      "cell_type": "code",
      "source": [
        "fig_heatmap = px.imshow(rides.corr(), text_auto = True, aspect = \"auto\",height=500)\n",
        "fig_heatmap.update_layout(title=\"Heatmap for corelation\")\n",
        "fig_heatmap.show()"
      ],
      "metadata": {
        "id": "5xZRAVXslqqy",
        "colab": {
          "base_uri": "https://localhost:8080/",
          "height": 517
        },
        "outputId": "42b72822-575b-4066-e1d8-80d96e0fa076"
      },
      "execution_count": 1261,
      "outputs": [
        {
          "output_type": "display_data",
          "data": {
            "text/html": [
              "<html>\n",
              "<head><meta charset=\"utf-8\" /></head>\n",
              "<body>\n",
              "    <div>            <script src=\"https://cdnjs.cloudflare.com/ajax/libs/mathjax/2.7.5/MathJax.js?config=TeX-AMS-MML_SVG\"></script><script type=\"text/javascript\">if (window.MathJax) {MathJax.Hub.Config({SVG: {font: \"STIX-Web\"}});}</script>                <script type=\"text/javascript\">window.PlotlyConfig = {MathJaxConfig: 'local'};</script>\n",
              "        <script src=\"https://cdn.plot.ly/plotly-2.8.3.min.js\"></script>                <div id=\"fc73bf5f-05d2-4772-8960-b29d5927cd3a\" class=\"plotly-graph-div\" style=\"height:500px; width:100%;\"></div>            <script type=\"text/javascript\">                                    window.PLOTLYENV=window.PLOTLYENV || {};                                    if (document.getElementById(\"fc73bf5f-05d2-4772-8960-b29d5927cd3a\")) {                    Plotly.newPlot(                        \"fc73bf5f-05d2-4772-8960-b29d5927cd3a\",                        [{\"coloraxis\":\"coloraxis\",\"name\":\"0\",\"texttemplate\":\"%{z}\",\"x\":[\"year\",\"holiday\",\"workingday\",\"temp\",\"atemp\",\"humidity\",\"windspeed\",\"cnt\"],\"y\":[\"year\",\"holiday\",\"workingday\",\"temp\",\"atemp\",\"humidity\",\"windspeed\",\"cnt\"],\"z\":[[1.0,0.00819534489103433,-0.002945396302156467,0.048789192952589856,0.04721519160299868,-0.11254712339969726,-0.011624347793381586,0.5697284652110445],[0.00819534489103433,1.0,-0.25294774532876485,-0.02876407228678619,-0.032702854831218674,-0.01566158225535676,0.006257140056584132,-0.06876375304749031],[-0.002945396302156467,-0.25294774532876485,1.0,0.05347048551426394,0.05294044491690086,0.02320176883687175,-0.0186659798263423,0.06254174970317232],[0.048789192952589856,-0.02876407228678619,0.05347048551426394,1.0,0.9916961786905638,0.12856467549038136,-0.15818637936955832,0.6270440344135135],[0.04721519160299868,-0.032702854831218674,0.05294044491690086,0.9916961786905638,1.0,0.1415117247488017,-0.1838764039224192,0.6306853489531029],[-0.11254712339969726,-0.01566158225535676,0.02320176883687175,0.12856467549038136,0.1415117247488017,1.0,-0.24850586960205132,-0.09854287912248184],[-0.011624347793381586,0.006257140056584132,-0.0186659798263423,-0.15818637936955832,-0.1838764039224192,-0.24850586960205132,1.0,-0.23513249514103576],[0.5697284652110445,-0.06876375304749031,0.06254174970317232,0.6270440344135135,0.6306853489531029,-0.09854287912248184,-0.23513249514103576,1.0]],\"type\":\"heatmap\",\"xaxis\":\"x\",\"yaxis\":\"y\",\"hovertemplate\":\"x: %{x}<br>y: %{y}<br>color: %{z}<extra></extra>\"}],                        {\"template\":{\"data\":{\"bar\":[{\"error_x\":{\"color\":\"#2a3f5f\"},\"error_y\":{\"color\":\"#2a3f5f\"},\"marker\":{\"line\":{\"color\":\"#E5ECF6\",\"width\":0.5},\"pattern\":{\"fillmode\":\"overlay\",\"size\":10,\"solidity\":0.2}},\"type\":\"bar\"}],\"barpolar\":[{\"marker\":{\"line\":{\"color\":\"#E5ECF6\",\"width\":0.5},\"pattern\":{\"fillmode\":\"overlay\",\"size\":10,\"solidity\":0.2}},\"type\":\"barpolar\"}],\"carpet\":[{\"aaxis\":{\"endlinecolor\":\"#2a3f5f\",\"gridcolor\":\"white\",\"linecolor\":\"white\",\"minorgridcolor\":\"white\",\"startlinecolor\":\"#2a3f5f\"},\"baxis\":{\"endlinecolor\":\"#2a3f5f\",\"gridcolor\":\"white\",\"linecolor\":\"white\",\"minorgridcolor\":\"white\",\"startlinecolor\":\"#2a3f5f\"},\"type\":\"carpet\"}],\"choropleth\":[{\"colorbar\":{\"outlinewidth\":0,\"ticks\":\"\"},\"type\":\"choropleth\"}],\"contour\":[{\"colorbar\":{\"outlinewidth\":0,\"ticks\":\"\"},\"colorscale\":[[0.0,\"#0d0887\"],[0.1111111111111111,\"#46039f\"],[0.2222222222222222,\"#7201a8\"],[0.3333333333333333,\"#9c179e\"],[0.4444444444444444,\"#bd3786\"],[0.5555555555555556,\"#d8576b\"],[0.6666666666666666,\"#ed7953\"],[0.7777777777777778,\"#fb9f3a\"],[0.8888888888888888,\"#fdca26\"],[1.0,\"#f0f921\"]],\"type\":\"contour\"}],\"contourcarpet\":[{\"colorbar\":{\"outlinewidth\":0,\"ticks\":\"\"},\"type\":\"contourcarpet\"}],\"heatmap\":[{\"colorbar\":{\"outlinewidth\":0,\"ticks\":\"\"},\"colorscale\":[[0.0,\"#0d0887\"],[0.1111111111111111,\"#46039f\"],[0.2222222222222222,\"#7201a8\"],[0.3333333333333333,\"#9c179e\"],[0.4444444444444444,\"#bd3786\"],[0.5555555555555556,\"#d8576b\"],[0.6666666666666666,\"#ed7953\"],[0.7777777777777778,\"#fb9f3a\"],[0.8888888888888888,\"#fdca26\"],[1.0,\"#f0f921\"]],\"type\":\"heatmap\"}],\"heatmapgl\":[{\"colorbar\":{\"outlinewidth\":0,\"ticks\":\"\"},\"colorscale\":[[0.0,\"#0d0887\"],[0.1111111111111111,\"#46039f\"],[0.2222222222222222,\"#7201a8\"],[0.3333333333333333,\"#9c179e\"],[0.4444444444444444,\"#bd3786\"],[0.5555555555555556,\"#d8576b\"],[0.6666666666666666,\"#ed7953\"],[0.7777777777777778,\"#fb9f3a\"],[0.8888888888888888,\"#fdca26\"],[1.0,\"#f0f921\"]],\"type\":\"heatmapgl\"}],\"histogram\":[{\"marker\":{\"pattern\":{\"fillmode\":\"overlay\",\"size\":10,\"solidity\":0.2}},\"type\":\"histogram\"}],\"histogram2d\":[{\"colorbar\":{\"outlinewidth\":0,\"ticks\":\"\"},\"colorscale\":[[0.0,\"#0d0887\"],[0.1111111111111111,\"#46039f\"],[0.2222222222222222,\"#7201a8\"],[0.3333333333333333,\"#9c179e\"],[0.4444444444444444,\"#bd3786\"],[0.5555555555555556,\"#d8576b\"],[0.6666666666666666,\"#ed7953\"],[0.7777777777777778,\"#fb9f3a\"],[0.8888888888888888,\"#fdca26\"],[1.0,\"#f0f921\"]],\"type\":\"histogram2d\"}],\"histogram2dcontour\":[{\"colorbar\":{\"outlinewidth\":0,\"ticks\":\"\"},\"colorscale\":[[0.0,\"#0d0887\"],[0.1111111111111111,\"#46039f\"],[0.2222222222222222,\"#7201a8\"],[0.3333333333333333,\"#9c179e\"],[0.4444444444444444,\"#bd3786\"],[0.5555555555555556,\"#d8576b\"],[0.6666666666666666,\"#ed7953\"],[0.7777777777777778,\"#fb9f3a\"],[0.8888888888888888,\"#fdca26\"],[1.0,\"#f0f921\"]],\"type\":\"histogram2dcontour\"}],\"mesh3d\":[{\"colorbar\":{\"outlinewidth\":0,\"ticks\":\"\"},\"type\":\"mesh3d\"}],\"parcoords\":[{\"line\":{\"colorbar\":{\"outlinewidth\":0,\"ticks\":\"\"}},\"type\":\"parcoords\"}],\"pie\":[{\"automargin\":true,\"type\":\"pie\"}],\"scatter\":[{\"marker\":{\"colorbar\":{\"outlinewidth\":0,\"ticks\":\"\"}},\"type\":\"scatter\"}],\"scatter3d\":[{\"line\":{\"colorbar\":{\"outlinewidth\":0,\"ticks\":\"\"}},\"marker\":{\"colorbar\":{\"outlinewidth\":0,\"ticks\":\"\"}},\"type\":\"scatter3d\"}],\"scattercarpet\":[{\"marker\":{\"colorbar\":{\"outlinewidth\":0,\"ticks\":\"\"}},\"type\":\"scattercarpet\"}],\"scattergeo\":[{\"marker\":{\"colorbar\":{\"outlinewidth\":0,\"ticks\":\"\"}},\"type\":\"scattergeo\"}],\"scattergl\":[{\"marker\":{\"colorbar\":{\"outlinewidth\":0,\"ticks\":\"\"}},\"type\":\"scattergl\"}],\"scattermapbox\":[{\"marker\":{\"colorbar\":{\"outlinewidth\":0,\"ticks\":\"\"}},\"type\":\"scattermapbox\"}],\"scatterpolar\":[{\"marker\":{\"colorbar\":{\"outlinewidth\":0,\"ticks\":\"\"}},\"type\":\"scatterpolar\"}],\"scatterpolargl\":[{\"marker\":{\"colorbar\":{\"outlinewidth\":0,\"ticks\":\"\"}},\"type\":\"scatterpolargl\"}],\"scatterternary\":[{\"marker\":{\"colorbar\":{\"outlinewidth\":0,\"ticks\":\"\"}},\"type\":\"scatterternary\"}],\"surface\":[{\"colorbar\":{\"outlinewidth\":0,\"ticks\":\"\"},\"colorscale\":[[0.0,\"#0d0887\"],[0.1111111111111111,\"#46039f\"],[0.2222222222222222,\"#7201a8\"],[0.3333333333333333,\"#9c179e\"],[0.4444444444444444,\"#bd3786\"],[0.5555555555555556,\"#d8576b\"],[0.6666666666666666,\"#ed7953\"],[0.7777777777777778,\"#fb9f3a\"],[0.8888888888888888,\"#fdca26\"],[1.0,\"#f0f921\"]],\"type\":\"surface\"}],\"table\":[{\"cells\":{\"fill\":{\"color\":\"#EBF0F8\"},\"line\":{\"color\":\"white\"}},\"header\":{\"fill\":{\"color\":\"#C8D4E3\"},\"line\":{\"color\":\"white\"}},\"type\":\"table\"}]},\"layout\":{\"annotationdefaults\":{\"arrowcolor\":\"#2a3f5f\",\"arrowhead\":0,\"arrowwidth\":1},\"autotypenumbers\":\"strict\",\"coloraxis\":{\"colorbar\":{\"outlinewidth\":0,\"ticks\":\"\"}},\"colorscale\":{\"diverging\":[[0,\"#8e0152\"],[0.1,\"#c51b7d\"],[0.2,\"#de77ae\"],[0.3,\"#f1b6da\"],[0.4,\"#fde0ef\"],[0.5,\"#f7f7f7\"],[0.6,\"#e6f5d0\"],[0.7,\"#b8e186\"],[0.8,\"#7fbc41\"],[0.9,\"#4d9221\"],[1,\"#276419\"]],\"sequential\":[[0.0,\"#0d0887\"],[0.1111111111111111,\"#46039f\"],[0.2222222222222222,\"#7201a8\"],[0.3333333333333333,\"#9c179e\"],[0.4444444444444444,\"#bd3786\"],[0.5555555555555556,\"#d8576b\"],[0.6666666666666666,\"#ed7953\"],[0.7777777777777778,\"#fb9f3a\"],[0.8888888888888888,\"#fdca26\"],[1.0,\"#f0f921\"]],\"sequentialminus\":[[0.0,\"#0d0887\"],[0.1111111111111111,\"#46039f\"],[0.2222222222222222,\"#7201a8\"],[0.3333333333333333,\"#9c179e\"],[0.4444444444444444,\"#bd3786\"],[0.5555555555555556,\"#d8576b\"],[0.6666666666666666,\"#ed7953\"],[0.7777777777777778,\"#fb9f3a\"],[0.8888888888888888,\"#fdca26\"],[1.0,\"#f0f921\"]]},\"colorway\":[\"#636efa\",\"#EF553B\",\"#00cc96\",\"#ab63fa\",\"#FFA15A\",\"#19d3f3\",\"#FF6692\",\"#B6E880\",\"#FF97FF\",\"#FECB52\"],\"font\":{\"color\":\"#2a3f5f\"},\"geo\":{\"bgcolor\":\"white\",\"lakecolor\":\"white\",\"landcolor\":\"#E5ECF6\",\"showlakes\":true,\"showland\":true,\"subunitcolor\":\"white\"},\"hoverlabel\":{\"align\":\"left\"},\"hovermode\":\"closest\",\"mapbox\":{\"style\":\"light\"},\"paper_bgcolor\":\"white\",\"plot_bgcolor\":\"#E5ECF6\",\"polar\":{\"angularaxis\":{\"gridcolor\":\"white\",\"linecolor\":\"white\",\"ticks\":\"\"},\"bgcolor\":\"#E5ECF6\",\"radialaxis\":{\"gridcolor\":\"white\",\"linecolor\":\"white\",\"ticks\":\"\"}},\"scene\":{\"xaxis\":{\"backgroundcolor\":\"#E5ECF6\",\"gridcolor\":\"white\",\"gridwidth\":2,\"linecolor\":\"white\",\"showbackground\":true,\"ticks\":\"\",\"zerolinecolor\":\"white\"},\"yaxis\":{\"backgroundcolor\":\"#E5ECF6\",\"gridcolor\":\"white\",\"gridwidth\":2,\"linecolor\":\"white\",\"showbackground\":true,\"ticks\":\"\",\"zerolinecolor\":\"white\"},\"zaxis\":{\"backgroundcolor\":\"#E5ECF6\",\"gridcolor\":\"white\",\"gridwidth\":2,\"linecolor\":\"white\",\"showbackground\":true,\"ticks\":\"\",\"zerolinecolor\":\"white\"}},\"shapedefaults\":{\"line\":{\"color\":\"#2a3f5f\"}},\"ternary\":{\"aaxis\":{\"gridcolor\":\"white\",\"linecolor\":\"white\",\"ticks\":\"\"},\"baxis\":{\"gridcolor\":\"white\",\"linecolor\":\"white\",\"ticks\":\"\"},\"bgcolor\":\"#E5ECF6\",\"caxis\":{\"gridcolor\":\"white\",\"linecolor\":\"white\",\"ticks\":\"\"}},\"title\":{\"x\":0.05},\"xaxis\":{\"automargin\":true,\"gridcolor\":\"white\",\"linecolor\":\"white\",\"ticks\":\"\",\"title\":{\"standoff\":15},\"zerolinecolor\":\"white\",\"zerolinewidth\":2},\"yaxis\":{\"automargin\":true,\"gridcolor\":\"white\",\"linecolor\":\"white\",\"ticks\":\"\",\"title\":{\"standoff\":15},\"zerolinecolor\":\"white\",\"zerolinewidth\":2}}},\"xaxis\":{\"anchor\":\"y\",\"domain\":[0.0,1.0]},\"yaxis\":{\"anchor\":\"x\",\"domain\":[0.0,1.0],\"autorange\":\"reversed\"},\"coloraxis\":{\"colorscale\":[[0.0,\"#0d0887\"],[0.1111111111111111,\"#46039f\"],[0.2222222222222222,\"#7201a8\"],[0.3333333333333333,\"#9c179e\"],[0.4444444444444444,\"#bd3786\"],[0.5555555555555556,\"#d8576b\"],[0.6666666666666666,\"#ed7953\"],[0.7777777777777778,\"#fb9f3a\"],[0.8888888888888888,\"#fdca26\"],[1.0,\"#f0f921\"]]},\"margin\":{\"t\":60},\"height\":500,\"title\":{\"text\":\"Heatmap for corelation\"}},                        {\"responsive\": true}                    ).then(function(){\n",
              "                            \n",
              "var gd = document.getElementById('fc73bf5f-05d2-4772-8960-b29d5927cd3a');\n",
              "var x = new MutationObserver(function (mutations, observer) {{\n",
              "        var display = window.getComputedStyle(gd).display;\n",
              "        if (!display || display === 'none') {{\n",
              "            console.log([gd, 'removed!']);\n",
              "            Plotly.purge(gd);\n",
              "            observer.disconnect();\n",
              "        }}\n",
              "}});\n",
              "\n",
              "// Listen for the removal of the full notebook cells\n",
              "var notebookContainer = gd.closest('#notebook-container');\n",
              "if (notebookContainer) {{\n",
              "    x.observe(notebookContainer, {childList: true});\n",
              "}}\n",
              "\n",
              "// Listen for the clearing of the current output cell\n",
              "var outputEl = gd.closest('.output');\n",
              "if (outputEl) {{\n",
              "    x.observe(outputEl, {childList: true});\n",
              "}}\n",
              "\n",
              "                        })                };                            </script>        </div>\n",
              "</body>\n",
              "</html>"
            ]
          },
          "metadata": {}
        }
      ]
    },
    {
      "cell_type": "markdown",
      "source": [
        "corelation between temp and atemp is more so we will drop one"
      ],
      "metadata": {
        "id": "3PGpSUcZ7JyP"
      }
    },
    {
      "cell_type": "code",
      "source": [
        "rides.drop(['atemp'], axis=1, inplace=True)\n",
        "rides.columns"
      ],
      "metadata": {
        "colab": {
          "base_uri": "https://localhost:8080/"
        },
        "id": "gJv3i_QL7JZm",
        "outputId": "d5a8207a-5640-4453-93ac-2618a443fbc3"
      },
      "execution_count": 1262,
      "outputs": [
        {
          "output_type": "execute_result",
          "data": {
            "text/plain": [
              "Index(['season', 'year', 'month', 'holiday', 'weekday', 'workingday',\n",
              "       'weathersit', 'temp', 'humidity', 'windspeed', 'cnt'],\n",
              "      dtype='object')"
            ]
          },
          "metadata": {},
          "execution_count": 1262
        }
      ]
    },
    {
      "cell_type": "markdown",
      "source": [
        "We will now convert all categorical variables into dummy variables"
      ],
      "metadata": {
        "id": "x5xriXeYVI7V"
      }
    },
    {
      "cell_type": "code",
      "source": [
        "rides.info()"
      ],
      "metadata": {
        "colab": {
          "base_uri": "https://localhost:8080/"
        },
        "id": "S3QMQ-uw7t1P",
        "outputId": "65c49497-6201-4bf6-e6b8-bdbe00330fce"
      },
      "execution_count": 1263,
      "outputs": [
        {
          "output_type": "stream",
          "name": "stdout",
          "text": [
            "<class 'pandas.core.frame.DataFrame'>\n",
            "RangeIndex: 730 entries, 0 to 729\n",
            "Data columns (total 11 columns):\n",
            " #   Column      Non-Null Count  Dtype  \n",
            "---  ------      --------------  -----  \n",
            " 0   season      730 non-null    object \n",
            " 1   year        730 non-null    int64  \n",
            " 2   month       730 non-null    object \n",
            " 3   holiday     730 non-null    int64  \n",
            " 4   weekday     730 non-null    object \n",
            " 5   workingday  730 non-null    int64  \n",
            " 6   weathersit  730 non-null    object \n",
            " 7   temp        730 non-null    float64\n",
            " 8   humidity    730 non-null    float64\n",
            " 9   windspeed   730 non-null    float64\n",
            " 10  cnt         730 non-null    int64  \n",
            "dtypes: float64(3), int64(4), object(4)\n",
            "memory usage: 62.9+ KB\n"
          ]
        }
      ]
    },
    {
      "cell_type": "code",
      "source": [
        "seasons = pd.get_dummies(rides['season'], drop_first=True)\n",
        "months = pd.get_dummies(rides['month'], drop_first=True)\n",
        "weekdays = pd.get_dummies(rides['weekday'], drop_first=True)\n",
        "weathersits = pd.get_dummies(rides['weathersit'], drop_first=True)\n"
      ],
      "metadata": {
        "id": "wJds3_KWU7W_"
      },
      "execution_count": 1264,
      "outputs": []
    },
    {
      "cell_type": "markdown",
      "source": [
        "Now we will concat all the dummy variables"
      ],
      "metadata": {
        "id": "pEFgcXbGeRZ5"
      }
    },
    {
      "cell_type": "code",
      "source": [
        "rides=pd.concat([rides,seasons,months,weekdays,weathersits], axis=1)\n",
        "rides.info()"
      ],
      "metadata": {
        "colab": {
          "base_uri": "https://localhost:8080/"
        },
        "id": "8MT6L2z4eTsb",
        "outputId": "c0c6adab-99a6-48d2-91b2-1a0c7aa9ccd2"
      },
      "execution_count": 1265,
      "outputs": [
        {
          "output_type": "stream",
          "name": "stdout",
          "text": [
            "<class 'pandas.core.frame.DataFrame'>\n",
            "RangeIndex: 730 entries, 0 to 729\n",
            "Data columns (total 33 columns):\n",
            " #   Column         Non-Null Count  Dtype  \n",
            "---  ------         --------------  -----  \n",
            " 0   season         730 non-null    object \n",
            " 1   year           730 non-null    int64  \n",
            " 2   month          730 non-null    object \n",
            " 3   holiday        730 non-null    int64  \n",
            " 4   weekday        730 non-null    object \n",
            " 5   workingday     730 non-null    int64  \n",
            " 6   weathersit     730 non-null    object \n",
            " 7   temp           730 non-null    float64\n",
            " 8   humidity       730 non-null    float64\n",
            " 9   windspeed      730 non-null    float64\n",
            " 10  cnt            730 non-null    int64  \n",
            " 11  spring         730 non-null    uint8  \n",
            " 12  summer         730 non-null    uint8  \n",
            " 13  winter         730 non-null    uint8  \n",
            " 14  Aug            730 non-null    uint8  \n",
            " 15  Dec            730 non-null    uint8  \n",
            " 16  Feb            730 non-null    uint8  \n",
            " 17  Jan            730 non-null    uint8  \n",
            " 18  Jul            730 non-null    uint8  \n",
            " 19  Jun            730 non-null    uint8  \n",
            " 20  Mar            730 non-null    uint8  \n",
            " 21  May            730 non-null    uint8  \n",
            " 22  Nov            730 non-null    uint8  \n",
            " 23  Oct            730 non-null    uint8  \n",
            " 24  Sep            730 non-null    uint8  \n",
            " 25  Mon            730 non-null    uint8  \n",
            " 26  Sat            730 non-null    uint8  \n",
            " 27  Sun            730 non-null    uint8  \n",
            " 28  Thu            730 non-null    uint8  \n",
            " 29  Tue            730 non-null    uint8  \n",
            " 30  Wed            730 non-null    uint8  \n",
            " 31  Light Snow     730 non-null    uint8  \n",
            " 32  Mist + Cloudy  730 non-null    uint8  \n",
            "dtypes: float64(3), int64(4), object(4), uint8(22)\n",
            "memory usage: 78.5+ KB\n"
          ]
        }
      ]
    },
    {
      "cell_type": "markdown",
      "source": [
        "we will now prepare the data to train the model"
      ],
      "metadata": {
        "id": "Tg7yp9-KjqIx"
      }
    },
    {
      "cell_type": "markdown",
      "source": [
        "We will drop the categorical variables which were converted to dummy variables"
      ],
      "metadata": {
        "id": "nlBdzA9JeN1z"
      }
    },
    {
      "cell_type": "code",
      "source": [
        "rides.drop(['season', 'month', 'weathersit', 'weekday'], axis=1, inplace=True)\n",
        "rides.columns"
      ],
      "metadata": {
        "colab": {
          "base_uri": "https://localhost:8080/"
        },
        "id": "SrVrYz2UeM7o",
        "outputId": "86060cfe-32a1-4c03-fa31-8b1a76b768aa"
      },
      "execution_count": 1266,
      "outputs": [
        {
          "output_type": "execute_result",
          "data": {
            "text/plain": [
              "Index(['year', 'holiday', 'workingday', 'temp', 'humidity', 'windspeed', 'cnt',\n",
              "       'spring', 'summer', 'winter', 'Aug', 'Dec', 'Feb', 'Jan', 'Jul', 'Jun',\n",
              "       'Mar', 'May', 'Nov', 'Oct', 'Sep', 'Mon', 'Sat', 'Sun', 'Thu', 'Tue',\n",
              "       'Wed', 'Light Snow', 'Mist + Cloudy'],\n",
              "      dtype='object')"
            ]
          },
          "metadata": {},
          "execution_count": 1266
        }
      ]
    },
    {
      "cell_type": "code",
      "source": [
        "rides.head()"
      ],
      "metadata": {
        "colab": {
          "base_uri": "https://localhost:8080/",
          "height": 317
        },
        "id": "fcv37SRKch-t",
        "outputId": "14cdeb4c-fe5a-4a46-807a-5e12775d6fe3"
      },
      "execution_count": 1267,
      "outputs": [
        {
          "output_type": "execute_result",
          "data": {
            "text/plain": [
              "   year  holiday  workingday       temp  humidity  windspeed   cnt  spring  \\\n",
              "0     0        0           0  14.110847   80.5833  10.749882   985       1   \n",
              "1     0        0           0  14.902598   69.6087  16.652113   801       1   \n",
              "2     0        0           1   8.050924   43.7273  16.636703  1349       1   \n",
              "3     0        0           1   8.200000   59.0435  10.739832  1562       1   \n",
              "4     0        0           1   9.305237   43.6957  12.522300  1600       1   \n",
              "\n",
              "   summer  winter  ...  Oct  Sep  Mon  Sat  Sun  Thu  Tue  Wed  Light Snow  \\\n",
              "0       0       0  ...    0    0    0    1    0    0    0    0           0   \n",
              "1       0       0  ...    0    0    0    0    1    0    0    0           0   \n",
              "2       0       0  ...    0    0    1    0    0    0    0    0           0   \n",
              "3       0       0  ...    0    0    0    0    0    0    1    0           0   \n",
              "4       0       0  ...    0    0    0    0    0    0    0    1           0   \n",
              "\n",
              "   Mist + Cloudy  \n",
              "0              1  \n",
              "1              1  \n",
              "2              0  \n",
              "3              0  \n",
              "4              0  \n",
              "\n",
              "[5 rows x 29 columns]"
            ],
            "text/html": [
              "\n",
              "  <div id=\"df-c490b837-8ea4-47f9-a3a9-8261ba65f666\">\n",
              "    <div class=\"colab-df-container\">\n",
              "      <div>\n",
              "<style scoped>\n",
              "    .dataframe tbody tr th:only-of-type {\n",
              "        vertical-align: middle;\n",
              "    }\n",
              "\n",
              "    .dataframe tbody tr th {\n",
              "        vertical-align: top;\n",
              "    }\n",
              "\n",
              "    .dataframe thead th {\n",
              "        text-align: right;\n",
              "    }\n",
              "</style>\n",
              "<table border=\"1\" class=\"dataframe\">\n",
              "  <thead>\n",
              "    <tr style=\"text-align: right;\">\n",
              "      <th></th>\n",
              "      <th>year</th>\n",
              "      <th>holiday</th>\n",
              "      <th>workingday</th>\n",
              "      <th>temp</th>\n",
              "      <th>humidity</th>\n",
              "      <th>windspeed</th>\n",
              "      <th>cnt</th>\n",
              "      <th>spring</th>\n",
              "      <th>summer</th>\n",
              "      <th>winter</th>\n",
              "      <th>...</th>\n",
              "      <th>Oct</th>\n",
              "      <th>Sep</th>\n",
              "      <th>Mon</th>\n",
              "      <th>Sat</th>\n",
              "      <th>Sun</th>\n",
              "      <th>Thu</th>\n",
              "      <th>Tue</th>\n",
              "      <th>Wed</th>\n",
              "      <th>Light Snow</th>\n",
              "      <th>Mist + Cloudy</th>\n",
              "    </tr>\n",
              "  </thead>\n",
              "  <tbody>\n",
              "    <tr>\n",
              "      <th>0</th>\n",
              "      <td>0</td>\n",
              "      <td>0</td>\n",
              "      <td>0</td>\n",
              "      <td>14.110847</td>\n",
              "      <td>80.5833</td>\n",
              "      <td>10.749882</td>\n",
              "      <td>985</td>\n",
              "      <td>1</td>\n",
              "      <td>0</td>\n",
              "      <td>0</td>\n",
              "      <td>...</td>\n",
              "      <td>0</td>\n",
              "      <td>0</td>\n",
              "      <td>0</td>\n",
              "      <td>1</td>\n",
              "      <td>0</td>\n",
              "      <td>0</td>\n",
              "      <td>0</td>\n",
              "      <td>0</td>\n",
              "      <td>0</td>\n",
              "      <td>1</td>\n",
              "    </tr>\n",
              "    <tr>\n",
              "      <th>1</th>\n",
              "      <td>0</td>\n",
              "      <td>0</td>\n",
              "      <td>0</td>\n",
              "      <td>14.902598</td>\n",
              "      <td>69.6087</td>\n",
              "      <td>16.652113</td>\n",
              "      <td>801</td>\n",
              "      <td>1</td>\n",
              "      <td>0</td>\n",
              "      <td>0</td>\n",
              "      <td>...</td>\n",
              "      <td>0</td>\n",
              "      <td>0</td>\n",
              "      <td>0</td>\n",
              "      <td>0</td>\n",
              "      <td>1</td>\n",
              "      <td>0</td>\n",
              "      <td>0</td>\n",
              "      <td>0</td>\n",
              "      <td>0</td>\n",
              "      <td>1</td>\n",
              "    </tr>\n",
              "    <tr>\n",
              "      <th>2</th>\n",
              "      <td>0</td>\n",
              "      <td>0</td>\n",
              "      <td>1</td>\n",
              "      <td>8.050924</td>\n",
              "      <td>43.7273</td>\n",
              "      <td>16.636703</td>\n",
              "      <td>1349</td>\n",
              "      <td>1</td>\n",
              "      <td>0</td>\n",
              "      <td>0</td>\n",
              "      <td>...</td>\n",
              "      <td>0</td>\n",
              "      <td>0</td>\n",
              "      <td>1</td>\n",
              "      <td>0</td>\n",
              "      <td>0</td>\n",
              "      <td>0</td>\n",
              "      <td>0</td>\n",
              "      <td>0</td>\n",
              "      <td>0</td>\n",
              "      <td>0</td>\n",
              "    </tr>\n",
              "    <tr>\n",
              "      <th>3</th>\n",
              "      <td>0</td>\n",
              "      <td>0</td>\n",
              "      <td>1</td>\n",
              "      <td>8.200000</td>\n",
              "      <td>59.0435</td>\n",
              "      <td>10.739832</td>\n",
              "      <td>1562</td>\n",
              "      <td>1</td>\n",
              "      <td>0</td>\n",
              "      <td>0</td>\n",
              "      <td>...</td>\n",
              "      <td>0</td>\n",
              "      <td>0</td>\n",
              "      <td>0</td>\n",
              "      <td>0</td>\n",
              "      <td>0</td>\n",
              "      <td>0</td>\n",
              "      <td>1</td>\n",
              "      <td>0</td>\n",
              "      <td>0</td>\n",
              "      <td>0</td>\n",
              "    </tr>\n",
              "    <tr>\n",
              "      <th>4</th>\n",
              "      <td>0</td>\n",
              "      <td>0</td>\n",
              "      <td>1</td>\n",
              "      <td>9.305237</td>\n",
              "      <td>43.6957</td>\n",
              "      <td>12.522300</td>\n",
              "      <td>1600</td>\n",
              "      <td>1</td>\n",
              "      <td>0</td>\n",
              "      <td>0</td>\n",
              "      <td>...</td>\n",
              "      <td>0</td>\n",
              "      <td>0</td>\n",
              "      <td>0</td>\n",
              "      <td>0</td>\n",
              "      <td>0</td>\n",
              "      <td>0</td>\n",
              "      <td>0</td>\n",
              "      <td>1</td>\n",
              "      <td>0</td>\n",
              "      <td>0</td>\n",
              "    </tr>\n",
              "  </tbody>\n",
              "</table>\n",
              "<p>5 rows × 29 columns</p>\n",
              "</div>\n",
              "      <button class=\"colab-df-convert\" onclick=\"convertToInteractive('df-c490b837-8ea4-47f9-a3a9-8261ba65f666')\"\n",
              "              title=\"Convert this dataframe to an interactive table.\"\n",
              "              style=\"display:none;\">\n",
              "        \n",
              "  <svg xmlns=\"http://www.w3.org/2000/svg\" height=\"24px\"viewBox=\"0 0 24 24\"\n",
              "       width=\"24px\">\n",
              "    <path d=\"M0 0h24v24H0V0z\" fill=\"none\"/>\n",
              "    <path d=\"M18.56 5.44l.94 2.06.94-2.06 2.06-.94-2.06-.94-.94-2.06-.94 2.06-2.06.94zm-11 1L8.5 8.5l.94-2.06 2.06-.94-2.06-.94L8.5 2.5l-.94 2.06-2.06.94zm10 10l.94 2.06.94-2.06 2.06-.94-2.06-.94-.94-2.06-.94 2.06-2.06.94z\"/><path d=\"M17.41 7.96l-1.37-1.37c-.4-.4-.92-.59-1.43-.59-.52 0-1.04.2-1.43.59L10.3 9.45l-7.72 7.72c-.78.78-.78 2.05 0 2.83L4 21.41c.39.39.9.59 1.41.59.51 0 1.02-.2 1.41-.59l7.78-7.78 2.81-2.81c.8-.78.8-2.07 0-2.86zM5.41 20L4 18.59l7.72-7.72 1.47 1.35L5.41 20z\"/>\n",
              "  </svg>\n",
              "      </button>\n",
              "      \n",
              "  <style>\n",
              "    .colab-df-container {\n",
              "      display:flex;\n",
              "      flex-wrap:wrap;\n",
              "      gap: 12px;\n",
              "    }\n",
              "\n",
              "    .colab-df-convert {\n",
              "      background-color: #E8F0FE;\n",
              "      border: none;\n",
              "      border-radius: 50%;\n",
              "      cursor: pointer;\n",
              "      display: none;\n",
              "      fill: #1967D2;\n",
              "      height: 32px;\n",
              "      padding: 0 0 0 0;\n",
              "      width: 32px;\n",
              "    }\n",
              "\n",
              "    .colab-df-convert:hover {\n",
              "      background-color: #E2EBFA;\n",
              "      box-shadow: 0px 1px 2px rgba(60, 64, 67, 0.3), 0px 1px 3px 1px rgba(60, 64, 67, 0.15);\n",
              "      fill: #174EA6;\n",
              "    }\n",
              "\n",
              "    [theme=dark] .colab-df-convert {\n",
              "      background-color: #3B4455;\n",
              "      fill: #D2E3FC;\n",
              "    }\n",
              "\n",
              "    [theme=dark] .colab-df-convert:hover {\n",
              "      background-color: #434B5C;\n",
              "      box-shadow: 0px 1px 3px 1px rgba(0, 0, 0, 0.15);\n",
              "      filter: drop-shadow(0px 1px 2px rgba(0, 0, 0, 0.3));\n",
              "      fill: #FFFFFF;\n",
              "    }\n",
              "  </style>\n",
              "\n",
              "      <script>\n",
              "        const buttonEl =\n",
              "          document.querySelector('#df-c490b837-8ea4-47f9-a3a9-8261ba65f666 button.colab-df-convert');\n",
              "        buttonEl.style.display =\n",
              "          google.colab.kernel.accessAllowed ? 'block' : 'none';\n",
              "\n",
              "        async function convertToInteractive(key) {\n",
              "          const element = document.querySelector('#df-c490b837-8ea4-47f9-a3a9-8261ba65f666');\n",
              "          const dataTable =\n",
              "            await google.colab.kernel.invokeFunction('convertToInteractive',\n",
              "                                                     [key], {});\n",
              "          if (!dataTable) return;\n",
              "\n",
              "          const docLinkHtml = 'Like what you see? Visit the ' +\n",
              "            '<a target=\"_blank\" href=https://colab.research.google.com/notebooks/data_table.ipynb>data table notebook</a>'\n",
              "            + ' to learn more about interactive tables.';\n",
              "          element.innerHTML = '';\n",
              "          dataTable['output_type'] = 'display_data';\n",
              "          await google.colab.output.renderOutput(dataTable, element);\n",
              "          const docLink = document.createElement('div');\n",
              "          docLink.innerHTML = docLinkHtml;\n",
              "          element.appendChild(docLink);\n",
              "        }\n",
              "      </script>\n",
              "    </div>\n",
              "  </div>\n",
              "  "
            ]
          },
          "metadata": {},
          "execution_count": 1267
        }
      ]
    },
    {
      "cell_type": "code",
      "source": [
        "fig_heatmap2 = px.imshow(rides.corr(),text_auto = True, aspect=\"auto\", height=800)\n",
        "fig_heatmap2.update_layout(title=\"Heatmap for corelation\")\n",
        "fig_heatmap2.show()"
      ],
      "metadata": {
        "colab": {
          "base_uri": "https://localhost:8080/",
          "height": 817
        },
        "id": "TMbUHHUZcql7",
        "outputId": "4c118dcb-6dbd-42f4-ef20-e1866120b445"
      },
      "execution_count": 1268,
      "outputs": [
        {
          "output_type": "display_data",
          "data": {
            "text/html": [
              "<html>\n",
              "<head><meta charset=\"utf-8\" /></head>\n",
              "<body>\n",
              "    <div>            <script src=\"https://cdnjs.cloudflare.com/ajax/libs/mathjax/2.7.5/MathJax.js?config=TeX-AMS-MML_SVG\"></script><script type=\"text/javascript\">if (window.MathJax) {MathJax.Hub.Config({SVG: {font: \"STIX-Web\"}});}</script>                <script type=\"text/javascript\">window.PlotlyConfig = {MathJaxConfig: 'local'};</script>\n",
              "        <script src=\"https://cdn.plot.ly/plotly-2.8.3.min.js\"></script>                <div id=\"0500519c-adb5-4966-9e27-c88b3f7a258e\" class=\"plotly-graph-div\" style=\"height:800px; width:100%;\"></div>            <script type=\"text/javascript\">                                    window.PLOTLYENV=window.PLOTLYENV || {};                                    if (document.getElementById(\"0500519c-adb5-4966-9e27-c88b3f7a258e\")) {                    Plotly.newPlot(                        \"0500519c-adb5-4966-9e27-c88b3f7a258e\",                        [{\"coloraxis\":\"coloraxis\",\"name\":\"0\",\"texttemplate\":\"%{z}\",\"x\":[\"year\",\"holiday\",\"workingday\",\"temp\",\"humidity\",\"windspeed\",\"cnt\",\"spring\",\"summer\",\"winter\",\"Aug\",\"Dec\",\"Feb\",\"Jan\",\"Jul\",\"Jun\",\"Mar\",\"May\",\"Nov\",\"Oct\",\"Sep\",\"Mon\",\"Sat\",\"Sun\",\"Thu\",\"Tue\",\"Wed\",\"Light Snow\",\"Mist + Cloudy\"],\"y\":[\"year\",\"holiday\",\"workingday\",\"temp\",\"humidity\",\"windspeed\",\"cnt\",\"spring\",\"summer\",\"winter\",\"Aug\",\"Dec\",\"Feb\",\"Jan\",\"Jul\",\"Jun\",\"Mar\",\"May\",\"Nov\",\"Oct\",\"Sep\",\"Mon\",\"Sat\",\"Sun\",\"Thu\",\"Tue\",\"Wed\",\"Light Snow\",\"Mist + Cloudy\"],\"z\":[[1.0,0.00819534489103433,-0.002945396302156467,0.048789192952589856,-0.11254712339969726,-0.011624347793381586,0.5697284652110445,3.2250676446834855e-16,-1.7513582854184525e-17,-1.0962039007664686e-16,4.139280503507643e-17,3.7096681942473764e-17,-2.8015854315243063e-16,5.51676759034215e-17,1.4654553215877967e-16,-2.0896344971800145e-16,1.599112484468769e-16,7.671648379647611e-17,-2.983214535556763e-17,8.57178845619293e-17,-2.1387779384850103e-17,0.0039036002917938895,-0.0039036002917941285,0.0039036002917940205,-1.086705563428018e-16,-1.9504134887151516e-16,-0.003935026099688392,-0.07375810401930835,-0.005796151936939653],[0.00819534489103433,1.0,-0.25294774532876485,-0.02876407228678619,-0.01566158225535676,0.006257140056584132,-0.06876375304749031,0.03464186610074315,-0.024408101266769924,0.016785053239212942,-0.05243172464754977,0.006362682407306373,0.011980132277954622,0.035759885934734385,0.006362682407306373,-0.05150207816100042,-0.05243172464754981,0.006362682407306342,0.0678519442438577,0.006362682407306361,0.008174933041428654,0.2797643619414148,-0.07054092831112843,-0.07054092831112846,-0.02325423007325918,-0.04670117476038513,-0.04621266802842428,-0.029619181946403374,-0.018668075416473542],[-0.002945396302156467,-0.25294774532876485,1.0,0.05347048551426394,0.02320176883687175,-0.0186659798263423,0.06254174970317232,-0.027615197648658794,0.015091226219614558,-0.004623057552302509,0.03823776277511565,-0.014588820922526705,-0.0030927865135475293,-0.0251541376620559,-0.01458882092252712,0.02130093724705659,0.02767244603558682,0.006541812556529869,-0.010870823146773463,-0.004023504182998343,-0.010870823146773605,0.15297623144784817,-0.6024193646531385,-0.6024193646531385,0.26046896962719807,0.26889577107321183,0.2673050437403738,0.028990384782884564,0.04887703431140371],[0.048789192952589856,-0.02876407228678619,0.05347048551426394,1.0,0.12856467549038136,-0.15818637936955832,0.6270440344135135,-0.6194080075218313,0.15487561883667458,-0.22559004078426528,0.35464787616176985,-0.28566449358000934,-0.31062605048168523,-0.43150503277260294,0.4327221634157885,0.30831387213950484,-0.17492286117851952,0.1651883981995512,-0.206690064897766,-0.017615838748269212,0.19772936314521378,-0.004799217941749712,-0.030362911160058955,-0.026801851349024887,0.019492159525766346,0.01935952459959575,0.023459158636467546,-0.05846140518881659,-0.09629702440441472],[-0.11254712339969726,-0.01566158225535676,0.02320176883687175,0.12856467549038136,1.0,-0.24850586960205132,-0.09854287912248184,-0.1848839882982234,-0.0028700347336052838,0.16390762066522602,0.021580333558927415,0.08220022142728808,-0.130520574965831,-0.08955481514965176,-0.0637568453949742,-0.10904773285228832,-0.08388742551919014,0.13127310382201626,-0.005837192943654336,0.14155662943141575,0.18311805030776404,0.0285914985264838,-0.02331014542916658,2.022943244937183e-05,-0.05200348344938411,0.04061569856082766,0.04605933831811636,0.26759226613016496,0.4906279423444671],[-0.011624347793381586,0.006257140056584132,-0.0186659798263423,-0.15818637936955832,-0.24850586960205132,1.0,-0.23513249514103576,0.17888008301051345,0.09742066575687483,-0.13561198004354155,-0.06912465491155297,-0.05461551930488281,0.09609291328363556,0.06211669329195837,-0.09608996255812917,-0.01962362998465385,0.12657516120687046,-0.029534489044898152,-0.02587339290917282,-0.06013273802225995,-0.09482530243741609,0.0009988390922283407,0.03218736395572958,-0.010429315074488927,0.005792277822414292,0.0069610949718409525,-0.014024987131069384,0.11733176509348156,-0.037177308285319684],[0.5697284652110445,-0.06876375304749031,0.06254174970317232,0.6270440344135135,-0.09854287912248184,-0.23513249514103576,1.0,-0.5617017727137545,0.14532451548629646,0.06461908891675268,0.18210006179037805,-0.1738782308995132,-0.2738478461573499,-0.36716734752916597,0.16623624797924302,0.19556836683481693,-0.12845580915786473,0.13255294686440602,-0.04034360183915741,0.1088461203973657,0.19466350183493134,-0.03599103736163539,0.009011582608986919,-0.05914607981065166,0.033551055509315544,0.000559689771007373,0.014012385240541462,-0.2406017182852676,-0.17068578312164856],[3.2250676446834855e-16,0.03464186610074315,-0.027615197648658794,-0.6194080075218313,-0.1848839882982234,0.17888008301051345,-0.5617017727137545,1.0,-0.33209894653508026,-0.3248593493158915,-0.17428600750358744,0.07652342623365405,0.5038591589855609,0.5325405784831833,-0.1742860075035873,-0.17119581019233016,0.28173114474594296,-0.17428600750358744,-0.1711958101923304,-0.17428600750358733,-0.17119581019233038,0.0009925164910917878,0.01004922947230352,0.010049229472303562,-0.0058543195536284506,-0.005854319553628367,-0.012756460590776217,-0.022400003644089575,0.029197887476754638],[-1.7513582854184525e-17,-0.024408101266769924,0.015091226219614558,0.15487561883667458,-0.0028700347336052838,0.09742066575687483,0.14532451548629646,-0.33209894653508026,1.0,-0.32964997902185345,-0.17685616510144755,-0.1768561651014476,-0.16733109590115625,-0.17685616510144778,-0.1768561651014475,0.28575746516824274,0.07211911641408962,0.5248014464423394,-0.1737203973269494,-0.17685616510144744,-0.1737203973269492,0.004803134143895953,-0.004187347715191392,-0.004187347715191393,-0.001928925832360415,-0.0019289258323604093,0.00941047596907494,-0.0432830100853525,0.040011224813403835],[-1.0962039007664686e-16,0.016785053239212942,-0.004623057552302509,-0.22559004078426528,0.16390762066522602,-0.13561198004354155,0.06461908891675268,-0.3248593493158915,-0.32964997902185345,1.0,-0.1730007858103557,0.2847396043366529,-0.16368335853490165,-0.17300078581035583,-0.17300078581035574,-0.1699333762643224,-0.17300078581035572,-0.17300078581035574,0.526984402797225,0.5364968189175081,0.015911364818756827,0.003611468237800126,-0.005479469050455337,0.003611468237800179,-0.003275804046505811,0.005851436235743043,-0.0010545018919570714,0.09312828604061746,0.03385700717585217],[4.139280503507643e-17,-0.05243172464754977,0.03823776277511565,0.35464787616176985,0.021580333558927415,-0.06912465491155297,0.18210006179037805,-0.17428600750358744,-0.17685616510144755,-0.1730007858103557,1.0,-0.09281437125748503,-0.08781560116370868,-0.09281437125748501,-0.09281437125748505,-0.09116871579372093,-0.09281437125748498,-0.09281437125748508,-0.09116871579372102,-0.09281437125748504,-0.09116871579372096,0.0011508865540840007,-0.012851566520605092,-0.012851566520605083,0.002349480898038981,0.002349480898038915,0.017672978006079695,-0.05243172464754987,-0.01968039146015634],[3.7096681942473764e-17,0.006362682407306373,-0.014588820922526705,-0.28566449358000934,0.08220022142728808,-0.05461551930488281,-0.1738782308995132,0.07652342623365405,-0.1768561651014476,0.2847396043366529,-0.09281437125748503,1.0,-0.08781560116370875,-0.09281437125748503,-0.09281437125748501,-0.09116871579372099,-0.09281437125748503,-0.09281437125748505,-0.09116871579372099,-0.09281437125748498,-0.09116871579372096,0.0011508865540840098,0.01515333962877318,0.001150886554084039,0.002349480898038922,-0.011708888409899119,-0.01055738073448531,0.03575988593473446,0.06348421499954919],[-2.8015854315243063e-16,0.011980132277954622,-0.0030927865135475293,-0.31062605048168523,-0.130520574965831,0.09609291328363556,-0.2738478461573499,0.5038591589855609,-0.16733109590115625,-0.16368335853490165,-0.08781560116370868,-0.08781560116370875,1.0,-0.08781560116370875,-0.08781560116370861,-0.08625857694535936,-0.08781560116370866,-0.08781560116370864,-0.08625857694535947,-0.08781560116370875,-0.08625857694535938,-0.0008037137000583141,-0.0008037137000583603,-0.0008037137000583196,0.00032276927344094587,0.00032276927344100566,0.0014583311481708417,-0.018813869704111825,-0.009487306243057055],[5.51676759034215e-17,0.035759885934734385,-0.0251541376620559,-0.43150503277260294,-0.08955481514965176,0.06211669329195837,-0.36716734752916597,0.5325405784831833,-0.17685616510144778,-0.17300078581035583,-0.09281437125748501,-0.09281437125748503,-0.08781560116370875,1.0,-0.09281437125748512,-0.09116871579372093,-0.09281437125748514,-0.09281437125748515,-0.09116871579372102,-0.09281437125748508,-0.09116871579372093,0.01515333962877321,0.0011508865540840543,0.015153339628773186,-0.011708888409899075,0.0023494808980390677,-0.010557380734485233,-0.02303452112012165,0.032297487577159605],[1.4654553215877967e-16,0.006362682407306373,-0.01458882092252712,0.4327221634157885,-0.0637568453949742,-0.09608996255812917,0.16623624797924302,-0.1742860075035873,-0.1768561651014475,-0.17300078581035574,-0.09281437125748505,-0.09281437125748501,-0.08781560116370861,-0.09281437125748512,1.0,-0.09116871579372093,-0.09281437125748505,-0.09281437125748515,-0.09116871579372099,-0.09281437125748508,-0.09116871579372093,0.0011508865540839986,0.0011508865540840062,0.01515333962877308,-0.011708888409899074,0.0023494808980389225,-0.01055738073448527,-0.023034521120121745,-0.11324057372732521],[-2.0896344971800145e-16,-0.05150207816100042,0.02130093724705659,0.30831387213950484,-0.10904773285228832,-0.01962362998465385,0.19556836683481693,-0.17119581019233016,0.28575746516824274,-0.1699333762643224,-0.09116871579372093,-0.09116871579372099,-0.08625857694535936,-0.09116871579372093,-0.09116871579372093,1.0,-0.091168715793721,-0.09116871579372099,-0.08955223880597012,-0.09116871579372102,-0.0895522388059701,-0.008955918791643409,0.00525673494292109,-0.008955918791643426,0.006450554918728515,-0.007818854446943649,0.007654189280919114,-0.051502078161000414,-0.06562247286125802],[1.599112484468769e-16,-0.05243172464754981,0.02767244603558682,-0.17492286117851952,-0.08388742551919014,0.12657516120687046,-0.12845580915786473,0.28173114474594296,0.07211911641408962,-0.17300078581035572,-0.09281437125748498,-0.09281437125748503,-0.08781560116370866,-0.09281437125748514,-0.09281437125748505,-0.091168715793721,1.0,-0.09281437125748512,-0.0911687157937211,-0.09281437125748505,-0.09116871579372103,-0.012851566520605037,0.0011508865540840049,-0.012851566520605063,0.01640785020597704,0.0023494808980389966,0.0035577986357972348,0.006362682407306335,0.03229748757715964],[7.671648379647611e-17,0.006362682407306342,0.006541812556529869,0.1651883981995512,0.13127310382201626,-0.029534489044898152,0.13255294686440602,-0.17428600750358744,0.5248014464423394,-0.17300078581035574,-0.09281437125748508,-0.09281437125748505,-0.08781560116370864,-0.09281437125748515,-0.09281437125748515,-0.09116871579372099,-0.09281437125748512,1.0,-0.09116871579372102,-0.09281437125748511,-0.09116871579372099,0.0011508865540840348,-0.012851566520605064,0.0011508865540840174,0.002349480898038966,0.016407850205977004,0.003557798635797271,-0.05243172464754985,0.04269306338462292],[-2.983214535556763e-17,0.0678519442438577,-0.010870823146773463,-0.206690064897766,-0.005837192943654336,-0.02587339290917282,-0.04034360183915741,-0.1711958101923304,-0.1737203973269494,0.526984402797225,-0.09116871579372102,-0.09116871579372099,-0.08625857694535947,-0.09116871579372102,-0.09116871579372099,-0.08955223880597012,-0.0911687157937211,-0.09116871579372102,1.0,-0.09116871579372102,-0.08955223880597017,-0.00895591879164341,-0.008955918791643359,-0.008955918791643373,0.006450554918728463,0.006450554918728478,0.0076541892809191,0.03801343864264308,-0.05507084176242142],[8.57178845619293e-17,0.006362682407306361,-0.004023504182998343,-0.017615838748269212,0.14155662943141575,-0.06013273802225995,0.1088461203973657,-0.17428600750358733,-0.17685616510144744,0.5364968189175081,-0.09281437125748504,-0.09281437125748498,-0.08781560116370875,-0.09281437125748508,-0.09281437125748508,-0.09116871579372102,-0.09281437125748505,-0.09281437125748511,-0.09116871579372102,1.0,-0.09116871579372103,0.015153339628773113,0.001150886554084046,0.0011508865540840528,-0.011708888409899136,0.0023494808980389225,0.003557798635797207,0.0945542929895905,0.04269306338462285],[-2.1387779384850103e-17,0.008174933041428654,-0.010870823146773605,0.19772936314521378,0.18311805030776404,-0.09482530243741609,0.19466350183493134,-0.17119581019233038,-0.1737203973269492,0.015911364818756827,-0.09116871579372096,-0.09116871579372096,-0.08625857694535938,-0.09116871579372093,-0.09116871579372093,-0.0895522388059701,-0.09116871579372103,-0.09116871579372099,-0.08955223880597017,-0.09116871579372103,1.0,-0.008955918791643423,0.005256734942921108,0.005256734942921123,0.006450554918728501,-0.007818854446943664,-0.006672882962852591,0.03801343864264318,0.03989383812710851],[0.0039036002917938895,0.2797643619414148,0.15297623144784817,-0.004799217941749712,0.0285914985264838,0.0009988390922283407,-0.03599103736163539,0.0009925164910917878,0.004803134143895953,0.003611468237800126,0.0011508865540840007,0.0011508865540840098,-0.0008037137000583141,0.01515333962877321,0.0011508865540839986,-0.008955918791643409,-0.012851566520605037,0.0011508865540840348,-0.00895591879164341,0.015153339628773113,-0.008955918791643423,1.0,-0.168,-0.16799999999999995,-0.16706448794100573,-0.1670644879410057,-0.16612671706983786,-0.023833556277456088,0.013349257631468724],[-0.0039036002917941285,-0.07054092831112843,-0.6024193646531385,-0.030362911160058955,-0.02331014542916658,0.03218736395572958,0.009011582608986919,0.01004922947230352,-0.004187347715191392,-0.005479469050455337,-0.012851566520605092,0.01515333962877318,-0.0008037137000583603,0.0011508865540840543,0.0011508865540840062,0.00525673494292109,0.0011508865540840049,-0.012851566520605064,-0.008955918791643359,0.001150886554084046,0.005256734942921108,-0.168,1.0,-0.168,-0.16706448794100562,-0.16706448794100567,-0.16612671706983786,0.022873815756216248,-0.011426059498121538],[0.0039036002917940205,-0.07054092831112846,-0.6024193646531385,-0.026801851349024887,2.022943244937183e-05,-0.010429315074488927,-0.05914607981065166,0.010049229472303562,-0.004187347715191393,0.003611468237800179,-0.012851566520605083,0.001150886554084039,-0.0008037137000583196,0.015153339628773186,0.01515333962877308,-0.008955918791643426,-0.012851566520605063,0.0011508865540840174,-0.008955918791643373,0.0011508865540840528,0.005256734942921123,-0.16799999999999995,-0.168,1.0,-0.16706448794100562,-0.16706448794100556,-0.16612671706983775,-0.04718724229429227,-0.044459815670908634],[-1.086705563428018e-16,-0.02325423007325918,0.26046896962719807,0.019492159525766346,-0.05200348344938411,0.005792277822414292,0.033551055509315544,-0.0058543195536284506,-0.001928925832360415,-0.003275804046505811,0.002349480898038981,0.002349480898038922,0.00032276927344094587,-0.011708888409899075,-0.011708888409899074,0.006450554918728515,0.01640785020597704,0.002349480898038966,0.006450554918728463,-0.011708888409899136,0.006450554918728501,-0.16706448794100573,-0.16706448794100562,-0.16706448794100562,1.0,-0.1661341853035145,-0.16520163643209992,0.0001927146138667716,-0.008677593222446107],[-1.9504134887151516e-16,-0.04670117476038513,0.26889577107321183,0.01935952459959575,0.04061569856082766,0.0069610949718409525,0.000559689771007373,-0.005854319553628367,-0.0019289258323604093,0.005851436235743043,0.002349480898038915,-0.011708888409899119,0.00032276927344100566,0.0023494808980390677,0.0023494808980389225,-0.007818854446943649,0.0023494808980389966,0.016407850205977004,0.006450554918728478,0.0023494808980389225,-0.007818854446943664,-0.1670644879410057,-0.16706448794100567,-0.16706448794100556,-0.1661341853035145,1.0,-0.1652016364320999,0.02363965930099279,0.0244880772088923],[-0.003935026099688392,-0.04621266802842428,0.2673050437403738,0.023459158636467546,0.04605933831811636,-0.014024987131069384,0.014012385240541462,-0.012756460590776217,0.00941047596907494,-0.0010545018919570714,0.017672978006079695,-0.01055738073448531,0.0014583311481708417,-0.010557380734485233,-0.01055738073448527,0.007654189280919114,0.0035577986357972348,0.003557798635797271,0.0076541892809191,0.003557798635797207,-0.006672882962852591,-0.16612671706983786,-0.16612671706983786,-0.16612671706983775,-0.16520163643209992,-0.1652016364320999,1.0,0.09503749663626397,-0.022557121048969415],[-0.07375810401930835,-0.029619181946403374,0.028990384782884564,-0.05846140518881659,0.26759226613016496,0.11733176509348156,-0.2406017182852676,-0.022400003644089575,-0.0432830100853525,0.09312828604061746,-0.05243172464754987,0.03575988593473446,-0.018813869704111825,-0.02303452112012165,-0.023034521120121745,-0.051502078161000414,0.006362682407306335,-0.05243172464754985,0.03801343864264308,0.0945542929895905,0.03801343864264318,-0.023833556277456088,0.022873815756216248,-0.04718724229429227,0.0001927146138667716,0.02363965930099279,0.09503749663626397,1.0,-0.12269628193575348],[-0.005796151936939653,-0.018668075416473542,0.04887703431140371,-0.09629702440441472,0.4906279423444671,-0.037177308285319684,-0.17068578312164856,0.029197887476754638,0.040011224813403835,0.03385700717585217,-0.01968039146015634,0.06348421499954919,-0.009487306243057055,0.032297487577159605,-0.11324057372732521,-0.06562247286125802,0.03229748757715964,0.04269306338462292,-0.05507084176242142,0.04269306338462285,0.03989383812710851,0.013349257631468724,-0.011426059498121538,-0.044459815670908634,-0.008677593222446107,0.0244880772088923,-0.022557121048969415,-0.12269628193575348,1.0]],\"type\":\"heatmap\",\"xaxis\":\"x\",\"yaxis\":\"y\",\"hovertemplate\":\"x: %{x}<br>y: %{y}<br>color: %{z}<extra></extra>\"}],                        {\"template\":{\"data\":{\"bar\":[{\"error_x\":{\"color\":\"#2a3f5f\"},\"error_y\":{\"color\":\"#2a3f5f\"},\"marker\":{\"line\":{\"color\":\"#E5ECF6\",\"width\":0.5},\"pattern\":{\"fillmode\":\"overlay\",\"size\":10,\"solidity\":0.2}},\"type\":\"bar\"}],\"barpolar\":[{\"marker\":{\"line\":{\"color\":\"#E5ECF6\",\"width\":0.5},\"pattern\":{\"fillmode\":\"overlay\",\"size\":10,\"solidity\":0.2}},\"type\":\"barpolar\"}],\"carpet\":[{\"aaxis\":{\"endlinecolor\":\"#2a3f5f\",\"gridcolor\":\"white\",\"linecolor\":\"white\",\"minorgridcolor\":\"white\",\"startlinecolor\":\"#2a3f5f\"},\"baxis\":{\"endlinecolor\":\"#2a3f5f\",\"gridcolor\":\"white\",\"linecolor\":\"white\",\"minorgridcolor\":\"white\",\"startlinecolor\":\"#2a3f5f\"},\"type\":\"carpet\"}],\"choropleth\":[{\"colorbar\":{\"outlinewidth\":0,\"ticks\":\"\"},\"type\":\"choropleth\"}],\"contour\":[{\"colorbar\":{\"outlinewidth\":0,\"ticks\":\"\"},\"colorscale\":[[0.0,\"#0d0887\"],[0.1111111111111111,\"#46039f\"],[0.2222222222222222,\"#7201a8\"],[0.3333333333333333,\"#9c179e\"],[0.4444444444444444,\"#bd3786\"],[0.5555555555555556,\"#d8576b\"],[0.6666666666666666,\"#ed7953\"],[0.7777777777777778,\"#fb9f3a\"],[0.8888888888888888,\"#fdca26\"],[1.0,\"#f0f921\"]],\"type\":\"contour\"}],\"contourcarpet\":[{\"colorbar\":{\"outlinewidth\":0,\"ticks\":\"\"},\"type\":\"contourcarpet\"}],\"heatmap\":[{\"colorbar\":{\"outlinewidth\":0,\"ticks\":\"\"},\"colorscale\":[[0.0,\"#0d0887\"],[0.1111111111111111,\"#46039f\"],[0.2222222222222222,\"#7201a8\"],[0.3333333333333333,\"#9c179e\"],[0.4444444444444444,\"#bd3786\"],[0.5555555555555556,\"#d8576b\"],[0.6666666666666666,\"#ed7953\"],[0.7777777777777778,\"#fb9f3a\"],[0.8888888888888888,\"#fdca26\"],[1.0,\"#f0f921\"]],\"type\":\"heatmap\"}],\"heatmapgl\":[{\"colorbar\":{\"outlinewidth\":0,\"ticks\":\"\"},\"colorscale\":[[0.0,\"#0d0887\"],[0.1111111111111111,\"#46039f\"],[0.2222222222222222,\"#7201a8\"],[0.3333333333333333,\"#9c179e\"],[0.4444444444444444,\"#bd3786\"],[0.5555555555555556,\"#d8576b\"],[0.6666666666666666,\"#ed7953\"],[0.7777777777777778,\"#fb9f3a\"],[0.8888888888888888,\"#fdca26\"],[1.0,\"#f0f921\"]],\"type\":\"heatmapgl\"}],\"histogram\":[{\"marker\":{\"pattern\":{\"fillmode\":\"overlay\",\"size\":10,\"solidity\":0.2}},\"type\":\"histogram\"}],\"histogram2d\":[{\"colorbar\":{\"outlinewidth\":0,\"ticks\":\"\"},\"colorscale\":[[0.0,\"#0d0887\"],[0.1111111111111111,\"#46039f\"],[0.2222222222222222,\"#7201a8\"],[0.3333333333333333,\"#9c179e\"],[0.4444444444444444,\"#bd3786\"],[0.5555555555555556,\"#d8576b\"],[0.6666666666666666,\"#ed7953\"],[0.7777777777777778,\"#fb9f3a\"],[0.8888888888888888,\"#fdca26\"],[1.0,\"#f0f921\"]],\"type\":\"histogram2d\"}],\"histogram2dcontour\":[{\"colorbar\":{\"outlinewidth\":0,\"ticks\":\"\"},\"colorscale\":[[0.0,\"#0d0887\"],[0.1111111111111111,\"#46039f\"],[0.2222222222222222,\"#7201a8\"],[0.3333333333333333,\"#9c179e\"],[0.4444444444444444,\"#bd3786\"],[0.5555555555555556,\"#d8576b\"],[0.6666666666666666,\"#ed7953\"],[0.7777777777777778,\"#fb9f3a\"],[0.8888888888888888,\"#fdca26\"],[1.0,\"#f0f921\"]],\"type\":\"histogram2dcontour\"}],\"mesh3d\":[{\"colorbar\":{\"outlinewidth\":0,\"ticks\":\"\"},\"type\":\"mesh3d\"}],\"parcoords\":[{\"line\":{\"colorbar\":{\"outlinewidth\":0,\"ticks\":\"\"}},\"type\":\"parcoords\"}],\"pie\":[{\"automargin\":true,\"type\":\"pie\"}],\"scatter\":[{\"marker\":{\"colorbar\":{\"outlinewidth\":0,\"ticks\":\"\"}},\"type\":\"scatter\"}],\"scatter3d\":[{\"line\":{\"colorbar\":{\"outlinewidth\":0,\"ticks\":\"\"}},\"marker\":{\"colorbar\":{\"outlinewidth\":0,\"ticks\":\"\"}},\"type\":\"scatter3d\"}],\"scattercarpet\":[{\"marker\":{\"colorbar\":{\"outlinewidth\":0,\"ticks\":\"\"}},\"type\":\"scattercarpet\"}],\"scattergeo\":[{\"marker\":{\"colorbar\":{\"outlinewidth\":0,\"ticks\":\"\"}},\"type\":\"scattergeo\"}],\"scattergl\":[{\"marker\":{\"colorbar\":{\"outlinewidth\":0,\"ticks\":\"\"}},\"type\":\"scattergl\"}],\"scattermapbox\":[{\"marker\":{\"colorbar\":{\"outlinewidth\":0,\"ticks\":\"\"}},\"type\":\"scattermapbox\"}],\"scatterpolar\":[{\"marker\":{\"colorbar\":{\"outlinewidth\":0,\"ticks\":\"\"}},\"type\":\"scatterpolar\"}],\"scatterpolargl\":[{\"marker\":{\"colorbar\":{\"outlinewidth\":0,\"ticks\":\"\"}},\"type\":\"scatterpolargl\"}],\"scatterternary\":[{\"marker\":{\"colorbar\":{\"outlinewidth\":0,\"ticks\":\"\"}},\"type\":\"scatterternary\"}],\"surface\":[{\"colorbar\":{\"outlinewidth\":0,\"ticks\":\"\"},\"colorscale\":[[0.0,\"#0d0887\"],[0.1111111111111111,\"#46039f\"],[0.2222222222222222,\"#7201a8\"],[0.3333333333333333,\"#9c179e\"],[0.4444444444444444,\"#bd3786\"],[0.5555555555555556,\"#d8576b\"],[0.6666666666666666,\"#ed7953\"],[0.7777777777777778,\"#fb9f3a\"],[0.8888888888888888,\"#fdca26\"],[1.0,\"#f0f921\"]],\"type\":\"surface\"}],\"table\":[{\"cells\":{\"fill\":{\"color\":\"#EBF0F8\"},\"line\":{\"color\":\"white\"}},\"header\":{\"fill\":{\"color\":\"#C8D4E3\"},\"line\":{\"color\":\"white\"}},\"type\":\"table\"}]},\"layout\":{\"annotationdefaults\":{\"arrowcolor\":\"#2a3f5f\",\"arrowhead\":0,\"arrowwidth\":1},\"autotypenumbers\":\"strict\",\"coloraxis\":{\"colorbar\":{\"outlinewidth\":0,\"ticks\":\"\"}},\"colorscale\":{\"diverging\":[[0,\"#8e0152\"],[0.1,\"#c51b7d\"],[0.2,\"#de77ae\"],[0.3,\"#f1b6da\"],[0.4,\"#fde0ef\"],[0.5,\"#f7f7f7\"],[0.6,\"#e6f5d0\"],[0.7,\"#b8e186\"],[0.8,\"#7fbc41\"],[0.9,\"#4d9221\"],[1,\"#276419\"]],\"sequential\":[[0.0,\"#0d0887\"],[0.1111111111111111,\"#46039f\"],[0.2222222222222222,\"#7201a8\"],[0.3333333333333333,\"#9c179e\"],[0.4444444444444444,\"#bd3786\"],[0.5555555555555556,\"#d8576b\"],[0.6666666666666666,\"#ed7953\"],[0.7777777777777778,\"#fb9f3a\"],[0.8888888888888888,\"#fdca26\"],[1.0,\"#f0f921\"]],\"sequentialminus\":[[0.0,\"#0d0887\"],[0.1111111111111111,\"#46039f\"],[0.2222222222222222,\"#7201a8\"],[0.3333333333333333,\"#9c179e\"],[0.4444444444444444,\"#bd3786\"],[0.5555555555555556,\"#d8576b\"],[0.6666666666666666,\"#ed7953\"],[0.7777777777777778,\"#fb9f3a\"],[0.8888888888888888,\"#fdca26\"],[1.0,\"#f0f921\"]]},\"colorway\":[\"#636efa\",\"#EF553B\",\"#00cc96\",\"#ab63fa\",\"#FFA15A\",\"#19d3f3\",\"#FF6692\",\"#B6E880\",\"#FF97FF\",\"#FECB52\"],\"font\":{\"color\":\"#2a3f5f\"},\"geo\":{\"bgcolor\":\"white\",\"lakecolor\":\"white\",\"landcolor\":\"#E5ECF6\",\"showlakes\":true,\"showland\":true,\"subunitcolor\":\"white\"},\"hoverlabel\":{\"align\":\"left\"},\"hovermode\":\"closest\",\"mapbox\":{\"style\":\"light\"},\"paper_bgcolor\":\"white\",\"plot_bgcolor\":\"#E5ECF6\",\"polar\":{\"angularaxis\":{\"gridcolor\":\"white\",\"linecolor\":\"white\",\"ticks\":\"\"},\"bgcolor\":\"#E5ECF6\",\"radialaxis\":{\"gridcolor\":\"white\",\"linecolor\":\"white\",\"ticks\":\"\"}},\"scene\":{\"xaxis\":{\"backgroundcolor\":\"#E5ECF6\",\"gridcolor\":\"white\",\"gridwidth\":2,\"linecolor\":\"white\",\"showbackground\":true,\"ticks\":\"\",\"zerolinecolor\":\"white\"},\"yaxis\":{\"backgroundcolor\":\"#E5ECF6\",\"gridcolor\":\"white\",\"gridwidth\":2,\"linecolor\":\"white\",\"showbackground\":true,\"ticks\":\"\",\"zerolinecolor\":\"white\"},\"zaxis\":{\"backgroundcolor\":\"#E5ECF6\",\"gridcolor\":\"white\",\"gridwidth\":2,\"linecolor\":\"white\",\"showbackground\":true,\"ticks\":\"\",\"zerolinecolor\":\"white\"}},\"shapedefaults\":{\"line\":{\"color\":\"#2a3f5f\"}},\"ternary\":{\"aaxis\":{\"gridcolor\":\"white\",\"linecolor\":\"white\",\"ticks\":\"\"},\"baxis\":{\"gridcolor\":\"white\",\"linecolor\":\"white\",\"ticks\":\"\"},\"bgcolor\":\"#E5ECF6\",\"caxis\":{\"gridcolor\":\"white\",\"linecolor\":\"white\",\"ticks\":\"\"}},\"title\":{\"x\":0.05},\"xaxis\":{\"automargin\":true,\"gridcolor\":\"white\",\"linecolor\":\"white\",\"ticks\":\"\",\"title\":{\"standoff\":15},\"zerolinecolor\":\"white\",\"zerolinewidth\":2},\"yaxis\":{\"automargin\":true,\"gridcolor\":\"white\",\"linecolor\":\"white\",\"ticks\":\"\",\"title\":{\"standoff\":15},\"zerolinecolor\":\"white\",\"zerolinewidth\":2}}},\"xaxis\":{\"anchor\":\"y\",\"domain\":[0.0,1.0]},\"yaxis\":{\"anchor\":\"x\",\"domain\":[0.0,1.0],\"autorange\":\"reversed\"},\"coloraxis\":{\"colorscale\":[[0.0,\"#0d0887\"],[0.1111111111111111,\"#46039f\"],[0.2222222222222222,\"#7201a8\"],[0.3333333333333333,\"#9c179e\"],[0.4444444444444444,\"#bd3786\"],[0.5555555555555556,\"#d8576b\"],[0.6666666666666666,\"#ed7953\"],[0.7777777777777778,\"#fb9f3a\"],[0.8888888888888888,\"#fdca26\"],[1.0,\"#f0f921\"]]},\"margin\":{\"t\":60},\"height\":800,\"title\":{\"text\":\"Heatmap for corelation\"}},                        {\"responsive\": true}                    ).then(function(){\n",
              "                            \n",
              "var gd = document.getElementById('0500519c-adb5-4966-9e27-c88b3f7a258e');\n",
              "var x = new MutationObserver(function (mutations, observer) {{\n",
              "        var display = window.getComputedStyle(gd).display;\n",
              "        if (!display || display === 'none') {{\n",
              "            console.log([gd, 'removed!']);\n",
              "            Plotly.purge(gd);\n",
              "            observer.disconnect();\n",
              "        }}\n",
              "}});\n",
              "\n",
              "// Listen for the removal of the full notebook cells\n",
              "var notebookContainer = gd.closest('#notebook-container');\n",
              "if (notebookContainer) {{\n",
              "    x.observe(notebookContainer, {childList: true});\n",
              "}}\n",
              "\n",
              "// Listen for the clearing of the current output cell\n",
              "var outputEl = gd.closest('.output');\n",
              "if (outputEl) {{\n",
              "    x.observe(outputEl, {childList: true});\n",
              "}}\n",
              "\n",
              "                        })                };                            </script>        </div>\n",
              "</body>\n",
              "</html>"
            ]
          },
          "metadata": {}
        }
      ]
    },
    {
      "cell_type": "markdown",
      "source": [
        "Splitting the dataset into Train and Test"
      ],
      "metadata": {
        "id": "l3wNs4MaoWRl"
      }
    },
    {
      "cell_type": "code",
      "source": [
        "ride_train, ride_test = train_test_split(rides, train_size=0.7, random_state=100)\n",
        "print(ride_train.shape)\n",
        "print(ride_test.shape)"
      ],
      "metadata": {
        "colab": {
          "base_uri": "https://localhost:8080/"
        },
        "id": "TwI05JZsocs0",
        "outputId": "829cb50f-cf30-4ad3-ac61-fc6b570ddb36"
      },
      "execution_count": 1269,
      "outputs": [
        {
          "output_type": "stream",
          "name": "stdout",
          "text": [
            "(510, 29)\n",
            "(220, 29)\n"
          ]
        }
      ]
    },
    {
      "cell_type": "code",
      "source": [
        "ride_train.head()"
      ],
      "metadata": {
        "colab": {
          "base_uri": "https://localhost:8080/",
          "height": 317
        },
        "id": "DQ2kjBZJqImU",
        "outputId": "bf8a7c65-1755-45c7-80d4-4a46b97678b7"
      },
      "execution_count": 1270,
      "outputs": [
        {
          "output_type": "execute_result",
          "data": {
            "text/plain": [
              "     year  holiday  workingday       temp  humidity  windspeed   cnt  spring  \\\n",
              "576     1        0           1  29.246653   70.4167  11.083475  7216       0   \n",
              "426     1        0           0  16.980847   62.1250  10.792293  4066       1   \n",
              "728     1        0           0  10.489153   48.3333  23.500518  1796       1   \n",
              "482     1        0           0  15.443347   48.9583   8.708325  4220       0   \n",
              "111     0        0           1  13.803347   72.9583  14.707907  1683       0   \n",
              "\n",
              "     summer  winter  ...  Oct  Sep  Mon  Sat  Sun  Thu  Tue  Wed  Light Snow  \\\n",
              "576       0       0  ...    0    0    0    0    0    0    1    0           0   \n",
              "426       0       0  ...    0    0    0    1    0    0    0    0           0   \n",
              "728       0       0  ...    0    0    0    0    1    0    0    0           0   \n",
              "482       1       0  ...    0    0    0    1    0    0    0    0           0   \n",
              "111       1       0  ...    0    0    0    0    0    0    0    0           0   \n",
              "\n",
              "     Mist + Cloudy  \n",
              "576              0  \n",
              "426              1  \n",
              "728              0  \n",
              "482              1  \n",
              "111              1  \n",
              "\n",
              "[5 rows x 29 columns]"
            ],
            "text/html": [
              "\n",
              "  <div id=\"df-081b96d2-805c-45a1-8765-7f5ded30c0a2\">\n",
              "    <div class=\"colab-df-container\">\n",
              "      <div>\n",
              "<style scoped>\n",
              "    .dataframe tbody tr th:only-of-type {\n",
              "        vertical-align: middle;\n",
              "    }\n",
              "\n",
              "    .dataframe tbody tr th {\n",
              "        vertical-align: top;\n",
              "    }\n",
              "\n",
              "    .dataframe thead th {\n",
              "        text-align: right;\n",
              "    }\n",
              "</style>\n",
              "<table border=\"1\" class=\"dataframe\">\n",
              "  <thead>\n",
              "    <tr style=\"text-align: right;\">\n",
              "      <th></th>\n",
              "      <th>year</th>\n",
              "      <th>holiday</th>\n",
              "      <th>workingday</th>\n",
              "      <th>temp</th>\n",
              "      <th>humidity</th>\n",
              "      <th>windspeed</th>\n",
              "      <th>cnt</th>\n",
              "      <th>spring</th>\n",
              "      <th>summer</th>\n",
              "      <th>winter</th>\n",
              "      <th>...</th>\n",
              "      <th>Oct</th>\n",
              "      <th>Sep</th>\n",
              "      <th>Mon</th>\n",
              "      <th>Sat</th>\n",
              "      <th>Sun</th>\n",
              "      <th>Thu</th>\n",
              "      <th>Tue</th>\n",
              "      <th>Wed</th>\n",
              "      <th>Light Snow</th>\n",
              "      <th>Mist + Cloudy</th>\n",
              "    </tr>\n",
              "  </thead>\n",
              "  <tbody>\n",
              "    <tr>\n",
              "      <th>576</th>\n",
              "      <td>1</td>\n",
              "      <td>0</td>\n",
              "      <td>1</td>\n",
              "      <td>29.246653</td>\n",
              "      <td>70.4167</td>\n",
              "      <td>11.083475</td>\n",
              "      <td>7216</td>\n",
              "      <td>0</td>\n",
              "      <td>0</td>\n",
              "      <td>0</td>\n",
              "      <td>...</td>\n",
              "      <td>0</td>\n",
              "      <td>0</td>\n",
              "      <td>0</td>\n",
              "      <td>0</td>\n",
              "      <td>0</td>\n",
              "      <td>0</td>\n",
              "      <td>1</td>\n",
              "      <td>0</td>\n",
              "      <td>0</td>\n",
              "      <td>0</td>\n",
              "    </tr>\n",
              "    <tr>\n",
              "      <th>426</th>\n",
              "      <td>1</td>\n",
              "      <td>0</td>\n",
              "      <td>0</td>\n",
              "      <td>16.980847</td>\n",
              "      <td>62.1250</td>\n",
              "      <td>10.792293</td>\n",
              "      <td>4066</td>\n",
              "      <td>1</td>\n",
              "      <td>0</td>\n",
              "      <td>0</td>\n",
              "      <td>...</td>\n",
              "      <td>0</td>\n",
              "      <td>0</td>\n",
              "      <td>0</td>\n",
              "      <td>1</td>\n",
              "      <td>0</td>\n",
              "      <td>0</td>\n",
              "      <td>0</td>\n",
              "      <td>0</td>\n",
              "      <td>0</td>\n",
              "      <td>1</td>\n",
              "    </tr>\n",
              "    <tr>\n",
              "      <th>728</th>\n",
              "      <td>1</td>\n",
              "      <td>0</td>\n",
              "      <td>0</td>\n",
              "      <td>10.489153</td>\n",
              "      <td>48.3333</td>\n",
              "      <td>23.500518</td>\n",
              "      <td>1796</td>\n",
              "      <td>1</td>\n",
              "      <td>0</td>\n",
              "      <td>0</td>\n",
              "      <td>...</td>\n",
              "      <td>0</td>\n",
              "      <td>0</td>\n",
              "      <td>0</td>\n",
              "      <td>0</td>\n",
              "      <td>1</td>\n",
              "      <td>0</td>\n",
              "      <td>0</td>\n",
              "      <td>0</td>\n",
              "      <td>0</td>\n",
              "      <td>0</td>\n",
              "    </tr>\n",
              "    <tr>\n",
              "      <th>482</th>\n",
              "      <td>1</td>\n",
              "      <td>0</td>\n",
              "      <td>0</td>\n",
              "      <td>15.443347</td>\n",
              "      <td>48.9583</td>\n",
              "      <td>8.708325</td>\n",
              "      <td>4220</td>\n",
              "      <td>0</td>\n",
              "      <td>1</td>\n",
              "      <td>0</td>\n",
              "      <td>...</td>\n",
              "      <td>0</td>\n",
              "      <td>0</td>\n",
              "      <td>0</td>\n",
              "      <td>1</td>\n",
              "      <td>0</td>\n",
              "      <td>0</td>\n",
              "      <td>0</td>\n",
              "      <td>0</td>\n",
              "      <td>0</td>\n",
              "      <td>1</td>\n",
              "    </tr>\n",
              "    <tr>\n",
              "      <th>111</th>\n",
              "      <td>0</td>\n",
              "      <td>0</td>\n",
              "      <td>1</td>\n",
              "      <td>13.803347</td>\n",
              "      <td>72.9583</td>\n",
              "      <td>14.707907</td>\n",
              "      <td>1683</td>\n",
              "      <td>0</td>\n",
              "      <td>1</td>\n",
              "      <td>0</td>\n",
              "      <td>...</td>\n",
              "      <td>0</td>\n",
              "      <td>0</td>\n",
              "      <td>0</td>\n",
              "      <td>0</td>\n",
              "      <td>0</td>\n",
              "      <td>0</td>\n",
              "      <td>0</td>\n",
              "      <td>0</td>\n",
              "      <td>0</td>\n",
              "      <td>1</td>\n",
              "    </tr>\n",
              "  </tbody>\n",
              "</table>\n",
              "<p>5 rows × 29 columns</p>\n",
              "</div>\n",
              "      <button class=\"colab-df-convert\" onclick=\"convertToInteractive('df-081b96d2-805c-45a1-8765-7f5ded30c0a2')\"\n",
              "              title=\"Convert this dataframe to an interactive table.\"\n",
              "              style=\"display:none;\">\n",
              "        \n",
              "  <svg xmlns=\"http://www.w3.org/2000/svg\" height=\"24px\"viewBox=\"0 0 24 24\"\n",
              "       width=\"24px\">\n",
              "    <path d=\"M0 0h24v24H0V0z\" fill=\"none\"/>\n",
              "    <path d=\"M18.56 5.44l.94 2.06.94-2.06 2.06-.94-2.06-.94-.94-2.06-.94 2.06-2.06.94zm-11 1L8.5 8.5l.94-2.06 2.06-.94-2.06-.94L8.5 2.5l-.94 2.06-2.06.94zm10 10l.94 2.06.94-2.06 2.06-.94-2.06-.94-.94-2.06-.94 2.06-2.06.94z\"/><path d=\"M17.41 7.96l-1.37-1.37c-.4-.4-.92-.59-1.43-.59-.52 0-1.04.2-1.43.59L10.3 9.45l-7.72 7.72c-.78.78-.78 2.05 0 2.83L4 21.41c.39.39.9.59 1.41.59.51 0 1.02-.2 1.41-.59l7.78-7.78 2.81-2.81c.8-.78.8-2.07 0-2.86zM5.41 20L4 18.59l7.72-7.72 1.47 1.35L5.41 20z\"/>\n",
              "  </svg>\n",
              "      </button>\n",
              "      \n",
              "  <style>\n",
              "    .colab-df-container {\n",
              "      display:flex;\n",
              "      flex-wrap:wrap;\n",
              "      gap: 12px;\n",
              "    }\n",
              "\n",
              "    .colab-df-convert {\n",
              "      background-color: #E8F0FE;\n",
              "      border: none;\n",
              "      border-radius: 50%;\n",
              "      cursor: pointer;\n",
              "      display: none;\n",
              "      fill: #1967D2;\n",
              "      height: 32px;\n",
              "      padding: 0 0 0 0;\n",
              "      width: 32px;\n",
              "    }\n",
              "\n",
              "    .colab-df-convert:hover {\n",
              "      background-color: #E2EBFA;\n",
              "      box-shadow: 0px 1px 2px rgba(60, 64, 67, 0.3), 0px 1px 3px 1px rgba(60, 64, 67, 0.15);\n",
              "      fill: #174EA6;\n",
              "    }\n",
              "\n",
              "    [theme=dark] .colab-df-convert {\n",
              "      background-color: #3B4455;\n",
              "      fill: #D2E3FC;\n",
              "    }\n",
              "\n",
              "    [theme=dark] .colab-df-convert:hover {\n",
              "      background-color: #434B5C;\n",
              "      box-shadow: 0px 1px 3px 1px rgba(0, 0, 0, 0.15);\n",
              "      filter: drop-shadow(0px 1px 2px rgba(0, 0, 0, 0.3));\n",
              "      fill: #FFFFFF;\n",
              "    }\n",
              "  </style>\n",
              "\n",
              "      <script>\n",
              "        const buttonEl =\n",
              "          document.querySelector('#df-081b96d2-805c-45a1-8765-7f5ded30c0a2 button.colab-df-convert');\n",
              "        buttonEl.style.display =\n",
              "          google.colab.kernel.accessAllowed ? 'block' : 'none';\n",
              "\n",
              "        async function convertToInteractive(key) {\n",
              "          const element = document.querySelector('#df-081b96d2-805c-45a1-8765-7f5ded30c0a2');\n",
              "          const dataTable =\n",
              "            await google.colab.kernel.invokeFunction('convertToInteractive',\n",
              "                                                     [key], {});\n",
              "          if (!dataTable) return;\n",
              "\n",
              "          const docLinkHtml = 'Like what you see? Visit the ' +\n",
              "            '<a target=\"_blank\" href=https://colab.research.google.com/notebooks/data_table.ipynb>data table notebook</a>'\n",
              "            + ' to learn more about interactive tables.';\n",
              "          element.innerHTML = '';\n",
              "          dataTable['output_type'] = 'display_data';\n",
              "          await google.colab.output.renderOutput(dataTable, element);\n",
              "          const docLink = document.createElement('div');\n",
              "          docLink.innerHTML = docLinkHtml;\n",
              "          element.appendChild(docLink);\n",
              "        }\n",
              "      </script>\n",
              "    </div>\n",
              "  </div>\n",
              "  "
            ]
          },
          "metadata": {},
          "execution_count": 1270
        }
      ]
    },
    {
      "cell_type": "markdown",
      "source": [
        "We will now scale the variables"
      ],
      "metadata": {
        "id": "RVbEw4tSvBUh"
      }
    },
    {
      "cell_type": "code",
      "source": [
        "scaler = MinMaxScaler()\n",
        "scal_var = ['temp','humidity','windspeed','cnt']\n",
        "ride_train[scal_var] = scaler.fit_transform(ride_train[scal_var])"
      ],
      "metadata": {
        "id": "eXuQwwhHu3oN"
      },
      "execution_count": 1271,
      "outputs": []
    },
    {
      "cell_type": "code",
      "source": [
        "ride_train.head()"
      ],
      "metadata": {
        "colab": {
          "base_uri": "https://localhost:8080/",
          "height": 317
        },
        "id": "PqEioOppv8vC",
        "outputId": "4632551a-bb6c-466a-f4ba-abb6faa64b8c"
      },
      "execution_count": 1272,
      "outputs": [
        {
          "output_type": "execute_result",
          "data": {
            "text/plain": [
              "     year  holiday  workingday      temp  humidity  windspeed       cnt  \\\n",
              "576     1        0           1  0.815169  0.725633   0.264686  0.827658   \n",
              "426     1        0           0  0.442393  0.640189   0.255342  0.465255   \n",
              "728     1        0           0  0.245101  0.498067   0.663106  0.204096   \n",
              "482     1        0           0  0.395666  0.504508   0.188475  0.482973   \n",
              "111     0        0           1  0.345824  0.751824   0.380981  0.191095   \n",
              "\n",
              "     spring  summer  winter  ...  Oct  Sep  Mon  Sat  Sun  Thu  Tue  Wed  \\\n",
              "576       0       0       0  ...    0    0    0    0    0    0    1    0   \n",
              "426       1       0       0  ...    0    0    0    1    0    0    0    0   \n",
              "728       1       0       0  ...    0    0    0    0    1    0    0    0   \n",
              "482       0       1       0  ...    0    0    0    1    0    0    0    0   \n",
              "111       0       1       0  ...    0    0    0    0    0    0    0    0   \n",
              "\n",
              "     Light Snow  Mist + Cloudy  \n",
              "576           0              0  \n",
              "426           0              1  \n",
              "728           0              0  \n",
              "482           0              1  \n",
              "111           0              1  \n",
              "\n",
              "[5 rows x 29 columns]"
            ],
            "text/html": [
              "\n",
              "  <div id=\"df-49a9fdd1-8b11-49d3-ac50-726dbc273a3e\">\n",
              "    <div class=\"colab-df-container\">\n",
              "      <div>\n",
              "<style scoped>\n",
              "    .dataframe tbody tr th:only-of-type {\n",
              "        vertical-align: middle;\n",
              "    }\n",
              "\n",
              "    .dataframe tbody tr th {\n",
              "        vertical-align: top;\n",
              "    }\n",
              "\n",
              "    .dataframe thead th {\n",
              "        text-align: right;\n",
              "    }\n",
              "</style>\n",
              "<table border=\"1\" class=\"dataframe\">\n",
              "  <thead>\n",
              "    <tr style=\"text-align: right;\">\n",
              "      <th></th>\n",
              "      <th>year</th>\n",
              "      <th>holiday</th>\n",
              "      <th>workingday</th>\n",
              "      <th>temp</th>\n",
              "      <th>humidity</th>\n",
              "      <th>windspeed</th>\n",
              "      <th>cnt</th>\n",
              "      <th>spring</th>\n",
              "      <th>summer</th>\n",
              "      <th>winter</th>\n",
              "      <th>...</th>\n",
              "      <th>Oct</th>\n",
              "      <th>Sep</th>\n",
              "      <th>Mon</th>\n",
              "      <th>Sat</th>\n",
              "      <th>Sun</th>\n",
              "      <th>Thu</th>\n",
              "      <th>Tue</th>\n",
              "      <th>Wed</th>\n",
              "      <th>Light Snow</th>\n",
              "      <th>Mist + Cloudy</th>\n",
              "    </tr>\n",
              "  </thead>\n",
              "  <tbody>\n",
              "    <tr>\n",
              "      <th>576</th>\n",
              "      <td>1</td>\n",
              "      <td>0</td>\n",
              "      <td>1</td>\n",
              "      <td>0.815169</td>\n",
              "      <td>0.725633</td>\n",
              "      <td>0.264686</td>\n",
              "      <td>0.827658</td>\n",
              "      <td>0</td>\n",
              "      <td>0</td>\n",
              "      <td>0</td>\n",
              "      <td>...</td>\n",
              "      <td>0</td>\n",
              "      <td>0</td>\n",
              "      <td>0</td>\n",
              "      <td>0</td>\n",
              "      <td>0</td>\n",
              "      <td>0</td>\n",
              "      <td>1</td>\n",
              "      <td>0</td>\n",
              "      <td>0</td>\n",
              "      <td>0</td>\n",
              "    </tr>\n",
              "    <tr>\n",
              "      <th>426</th>\n",
              "      <td>1</td>\n",
              "      <td>0</td>\n",
              "      <td>0</td>\n",
              "      <td>0.442393</td>\n",
              "      <td>0.640189</td>\n",
              "      <td>0.255342</td>\n",
              "      <td>0.465255</td>\n",
              "      <td>1</td>\n",
              "      <td>0</td>\n",
              "      <td>0</td>\n",
              "      <td>...</td>\n",
              "      <td>0</td>\n",
              "      <td>0</td>\n",
              "      <td>0</td>\n",
              "      <td>1</td>\n",
              "      <td>0</td>\n",
              "      <td>0</td>\n",
              "      <td>0</td>\n",
              "      <td>0</td>\n",
              "      <td>0</td>\n",
              "      <td>1</td>\n",
              "    </tr>\n",
              "    <tr>\n",
              "      <th>728</th>\n",
              "      <td>1</td>\n",
              "      <td>0</td>\n",
              "      <td>0</td>\n",
              "      <td>0.245101</td>\n",
              "      <td>0.498067</td>\n",
              "      <td>0.663106</td>\n",
              "      <td>0.204096</td>\n",
              "      <td>1</td>\n",
              "      <td>0</td>\n",
              "      <td>0</td>\n",
              "      <td>...</td>\n",
              "      <td>0</td>\n",
              "      <td>0</td>\n",
              "      <td>0</td>\n",
              "      <td>0</td>\n",
              "      <td>1</td>\n",
              "      <td>0</td>\n",
              "      <td>0</td>\n",
              "      <td>0</td>\n",
              "      <td>0</td>\n",
              "      <td>0</td>\n",
              "    </tr>\n",
              "    <tr>\n",
              "      <th>482</th>\n",
              "      <td>1</td>\n",
              "      <td>0</td>\n",
              "      <td>0</td>\n",
              "      <td>0.395666</td>\n",
              "      <td>0.504508</td>\n",
              "      <td>0.188475</td>\n",
              "      <td>0.482973</td>\n",
              "      <td>0</td>\n",
              "      <td>1</td>\n",
              "      <td>0</td>\n",
              "      <td>...</td>\n",
              "      <td>0</td>\n",
              "      <td>0</td>\n",
              "      <td>0</td>\n",
              "      <td>1</td>\n",
              "      <td>0</td>\n",
              "      <td>0</td>\n",
              "      <td>0</td>\n",
              "      <td>0</td>\n",
              "      <td>0</td>\n",
              "      <td>1</td>\n",
              "    </tr>\n",
              "    <tr>\n",
              "      <th>111</th>\n",
              "      <td>0</td>\n",
              "      <td>0</td>\n",
              "      <td>1</td>\n",
              "      <td>0.345824</td>\n",
              "      <td>0.751824</td>\n",
              "      <td>0.380981</td>\n",
              "      <td>0.191095</td>\n",
              "      <td>0</td>\n",
              "      <td>1</td>\n",
              "      <td>0</td>\n",
              "      <td>...</td>\n",
              "      <td>0</td>\n",
              "      <td>0</td>\n",
              "      <td>0</td>\n",
              "      <td>0</td>\n",
              "      <td>0</td>\n",
              "      <td>0</td>\n",
              "      <td>0</td>\n",
              "      <td>0</td>\n",
              "      <td>0</td>\n",
              "      <td>1</td>\n",
              "    </tr>\n",
              "  </tbody>\n",
              "</table>\n",
              "<p>5 rows × 29 columns</p>\n",
              "</div>\n",
              "      <button class=\"colab-df-convert\" onclick=\"convertToInteractive('df-49a9fdd1-8b11-49d3-ac50-726dbc273a3e')\"\n",
              "              title=\"Convert this dataframe to an interactive table.\"\n",
              "              style=\"display:none;\">\n",
              "        \n",
              "  <svg xmlns=\"http://www.w3.org/2000/svg\" height=\"24px\"viewBox=\"0 0 24 24\"\n",
              "       width=\"24px\">\n",
              "    <path d=\"M0 0h24v24H0V0z\" fill=\"none\"/>\n",
              "    <path d=\"M18.56 5.44l.94 2.06.94-2.06 2.06-.94-2.06-.94-.94-2.06-.94 2.06-2.06.94zm-11 1L8.5 8.5l.94-2.06 2.06-.94-2.06-.94L8.5 2.5l-.94 2.06-2.06.94zm10 10l.94 2.06.94-2.06 2.06-.94-2.06-.94-.94-2.06-.94 2.06-2.06.94z\"/><path d=\"M17.41 7.96l-1.37-1.37c-.4-.4-.92-.59-1.43-.59-.52 0-1.04.2-1.43.59L10.3 9.45l-7.72 7.72c-.78.78-.78 2.05 0 2.83L4 21.41c.39.39.9.59 1.41.59.51 0 1.02-.2 1.41-.59l7.78-7.78 2.81-2.81c.8-.78.8-2.07 0-2.86zM5.41 20L4 18.59l7.72-7.72 1.47 1.35L5.41 20z\"/>\n",
              "  </svg>\n",
              "      </button>\n",
              "      \n",
              "  <style>\n",
              "    .colab-df-container {\n",
              "      display:flex;\n",
              "      flex-wrap:wrap;\n",
              "      gap: 12px;\n",
              "    }\n",
              "\n",
              "    .colab-df-convert {\n",
              "      background-color: #E8F0FE;\n",
              "      border: none;\n",
              "      border-radius: 50%;\n",
              "      cursor: pointer;\n",
              "      display: none;\n",
              "      fill: #1967D2;\n",
              "      height: 32px;\n",
              "      padding: 0 0 0 0;\n",
              "      width: 32px;\n",
              "    }\n",
              "\n",
              "    .colab-df-convert:hover {\n",
              "      background-color: #E2EBFA;\n",
              "      box-shadow: 0px 1px 2px rgba(60, 64, 67, 0.3), 0px 1px 3px 1px rgba(60, 64, 67, 0.15);\n",
              "      fill: #174EA6;\n",
              "    }\n",
              "\n",
              "    [theme=dark] .colab-df-convert {\n",
              "      background-color: #3B4455;\n",
              "      fill: #D2E3FC;\n",
              "    }\n",
              "\n",
              "    [theme=dark] .colab-df-convert:hover {\n",
              "      background-color: #434B5C;\n",
              "      box-shadow: 0px 1px 3px 1px rgba(0, 0, 0, 0.15);\n",
              "      filter: drop-shadow(0px 1px 2px rgba(0, 0, 0, 0.3));\n",
              "      fill: #FFFFFF;\n",
              "    }\n",
              "  </style>\n",
              "\n",
              "      <script>\n",
              "        const buttonEl =\n",
              "          document.querySelector('#df-49a9fdd1-8b11-49d3-ac50-726dbc273a3e button.colab-df-convert');\n",
              "        buttonEl.style.display =\n",
              "          google.colab.kernel.accessAllowed ? 'block' : 'none';\n",
              "\n",
              "        async function convertToInteractive(key) {\n",
              "          const element = document.querySelector('#df-49a9fdd1-8b11-49d3-ac50-726dbc273a3e');\n",
              "          const dataTable =\n",
              "            await google.colab.kernel.invokeFunction('convertToInteractive',\n",
              "                                                     [key], {});\n",
              "          if (!dataTable) return;\n",
              "\n",
              "          const docLinkHtml = 'Like what you see? Visit the ' +\n",
              "            '<a target=\"_blank\" href=https://colab.research.google.com/notebooks/data_table.ipynb>data table notebook</a>'\n",
              "            + ' to learn more about interactive tables.';\n",
              "          element.innerHTML = '';\n",
              "          dataTable['output_type'] = 'display_data';\n",
              "          await google.colab.output.renderOutput(dataTable, element);\n",
              "          const docLink = document.createElement('div');\n",
              "          docLink.innerHTML = docLinkHtml;\n",
              "          element.appendChild(docLink);\n",
              "        }\n",
              "      </script>\n",
              "    </div>\n",
              "  </div>\n",
              "  "
            ]
          },
          "metadata": {},
          "execution_count": 1272
        }
      ]
    },
    {
      "cell_type": "code",
      "source": [
        "ride_train.describe()"
      ],
      "metadata": {
        "colab": {
          "base_uri": "https://localhost:8080/",
          "height": 411
        },
        "id": "l002d72cv_B9",
        "outputId": "d00ef897-0b0d-45df-f055-c6183abf64e4"
      },
      "execution_count": 1273,
      "outputs": [
        {
          "output_type": "execute_result",
          "data": {
            "text/plain": [
              "             year     holiday  workingday        temp    humidity   windspeed  \\\n",
              "count  510.000000  510.000000  510.000000  510.000000  510.000000  510.000000   \n",
              "mean     0.507843    0.025490    0.676471    0.537440    0.650480    0.320883   \n",
              "std      0.500429    0.157763    0.468282    0.225858    0.145846    0.169803   \n",
              "min      0.000000    0.000000    0.000000    0.000000    0.000000    0.000000   \n",
              "25%      0.000000    0.000000    0.000000    0.339853    0.538643    0.199179   \n",
              "50%      1.000000    0.000000    1.000000    0.542596    0.653714    0.296763   \n",
              "75%      1.000000    0.000000    1.000000    0.735215    0.754830    0.414447   \n",
              "max      1.000000    1.000000    1.000000    1.000000    1.000000    1.000000   \n",
              "\n",
              "              cnt      spring      summer      winter  ...         Oct  \\\n",
              "count  510.000000  510.000000  510.000000  510.000000  ...  510.000000   \n",
              "mean     0.513499    0.243137    0.247059    0.247059  ...    0.084314   \n",
              "std      0.224421    0.429398    0.431725    0.431725  ...    0.278131   \n",
              "min      0.000000    0.000000    0.000000    0.000000  ...    0.000000   \n",
              "25%      0.356420    0.000000    0.000000    0.000000  ...    0.000000   \n",
              "50%      0.518638    0.000000    0.000000    0.000000  ...    0.000000   \n",
              "75%      0.684710    0.000000    0.000000    0.000000  ...    0.000000   \n",
              "max      1.000000    1.000000    1.000000    1.000000  ...    1.000000   \n",
              "\n",
              "              Sep         Mon         Sat         Sun         Thu         Tue  \\\n",
              "count  510.000000  510.000000  510.000000  510.000000  510.000000  510.000000   \n",
              "mean     0.080392    0.150980    0.154902    0.143137    0.133333    0.131373   \n",
              "std      0.272166    0.358381    0.362166    0.350557    0.340268    0.338139   \n",
              "min      0.000000    0.000000    0.000000    0.000000    0.000000    0.000000   \n",
              "25%      0.000000    0.000000    0.000000    0.000000    0.000000    0.000000   \n",
              "50%      0.000000    0.000000    0.000000    0.000000    0.000000    0.000000   \n",
              "75%      0.000000    0.000000    0.000000    0.000000    0.000000    0.000000   \n",
              "max      1.000000    1.000000    1.000000    1.000000    1.000000    1.000000   \n",
              "\n",
              "              Wed  Light Snow  Mist + Cloudy  \n",
              "count  510.000000  510.000000     510.000000  \n",
              "mean     0.158824    0.029412       0.345098  \n",
              "std      0.365870    0.169124       0.475867  \n",
              "min      0.000000    0.000000       0.000000  \n",
              "25%      0.000000    0.000000       0.000000  \n",
              "50%      0.000000    0.000000       0.000000  \n",
              "75%      0.000000    0.000000       1.000000  \n",
              "max      1.000000    1.000000       1.000000  \n",
              "\n",
              "[8 rows x 29 columns]"
            ],
            "text/html": [
              "\n",
              "  <div id=\"df-a40b9c64-45ae-4103-904a-e8da028e2f4e\">\n",
              "    <div class=\"colab-df-container\">\n",
              "      <div>\n",
              "<style scoped>\n",
              "    .dataframe tbody tr th:only-of-type {\n",
              "        vertical-align: middle;\n",
              "    }\n",
              "\n",
              "    .dataframe tbody tr th {\n",
              "        vertical-align: top;\n",
              "    }\n",
              "\n",
              "    .dataframe thead th {\n",
              "        text-align: right;\n",
              "    }\n",
              "</style>\n",
              "<table border=\"1\" class=\"dataframe\">\n",
              "  <thead>\n",
              "    <tr style=\"text-align: right;\">\n",
              "      <th></th>\n",
              "      <th>year</th>\n",
              "      <th>holiday</th>\n",
              "      <th>workingday</th>\n",
              "      <th>temp</th>\n",
              "      <th>humidity</th>\n",
              "      <th>windspeed</th>\n",
              "      <th>cnt</th>\n",
              "      <th>spring</th>\n",
              "      <th>summer</th>\n",
              "      <th>winter</th>\n",
              "      <th>...</th>\n",
              "      <th>Oct</th>\n",
              "      <th>Sep</th>\n",
              "      <th>Mon</th>\n",
              "      <th>Sat</th>\n",
              "      <th>Sun</th>\n",
              "      <th>Thu</th>\n",
              "      <th>Tue</th>\n",
              "      <th>Wed</th>\n",
              "      <th>Light Snow</th>\n",
              "      <th>Mist + Cloudy</th>\n",
              "    </tr>\n",
              "  </thead>\n",
              "  <tbody>\n",
              "    <tr>\n",
              "      <th>count</th>\n",
              "      <td>510.000000</td>\n",
              "      <td>510.000000</td>\n",
              "      <td>510.000000</td>\n",
              "      <td>510.000000</td>\n",
              "      <td>510.000000</td>\n",
              "      <td>510.000000</td>\n",
              "      <td>510.000000</td>\n",
              "      <td>510.000000</td>\n",
              "      <td>510.000000</td>\n",
              "      <td>510.000000</td>\n",
              "      <td>...</td>\n",
              "      <td>510.000000</td>\n",
              "      <td>510.000000</td>\n",
              "      <td>510.000000</td>\n",
              "      <td>510.000000</td>\n",
              "      <td>510.000000</td>\n",
              "      <td>510.000000</td>\n",
              "      <td>510.000000</td>\n",
              "      <td>510.000000</td>\n",
              "      <td>510.000000</td>\n",
              "      <td>510.000000</td>\n",
              "    </tr>\n",
              "    <tr>\n",
              "      <th>mean</th>\n",
              "      <td>0.507843</td>\n",
              "      <td>0.025490</td>\n",
              "      <td>0.676471</td>\n",
              "      <td>0.537440</td>\n",
              "      <td>0.650480</td>\n",
              "      <td>0.320883</td>\n",
              "      <td>0.513499</td>\n",
              "      <td>0.243137</td>\n",
              "      <td>0.247059</td>\n",
              "      <td>0.247059</td>\n",
              "      <td>...</td>\n",
              "      <td>0.084314</td>\n",
              "      <td>0.080392</td>\n",
              "      <td>0.150980</td>\n",
              "      <td>0.154902</td>\n",
              "      <td>0.143137</td>\n",
              "      <td>0.133333</td>\n",
              "      <td>0.131373</td>\n",
              "      <td>0.158824</td>\n",
              "      <td>0.029412</td>\n",
              "      <td>0.345098</td>\n",
              "    </tr>\n",
              "    <tr>\n",
              "      <th>std</th>\n",
              "      <td>0.500429</td>\n",
              "      <td>0.157763</td>\n",
              "      <td>0.468282</td>\n",
              "      <td>0.225858</td>\n",
              "      <td>0.145846</td>\n",
              "      <td>0.169803</td>\n",
              "      <td>0.224421</td>\n",
              "      <td>0.429398</td>\n",
              "      <td>0.431725</td>\n",
              "      <td>0.431725</td>\n",
              "      <td>...</td>\n",
              "      <td>0.278131</td>\n",
              "      <td>0.272166</td>\n",
              "      <td>0.358381</td>\n",
              "      <td>0.362166</td>\n",
              "      <td>0.350557</td>\n",
              "      <td>0.340268</td>\n",
              "      <td>0.338139</td>\n",
              "      <td>0.365870</td>\n",
              "      <td>0.169124</td>\n",
              "      <td>0.475867</td>\n",
              "    </tr>\n",
              "    <tr>\n",
              "      <th>min</th>\n",
              "      <td>0.000000</td>\n",
              "      <td>0.000000</td>\n",
              "      <td>0.000000</td>\n",
              "      <td>0.000000</td>\n",
              "      <td>0.000000</td>\n",
              "      <td>0.000000</td>\n",
              "      <td>0.000000</td>\n",
              "      <td>0.000000</td>\n",
              "      <td>0.000000</td>\n",
              "      <td>0.000000</td>\n",
              "      <td>...</td>\n",
              "      <td>0.000000</td>\n",
              "      <td>0.000000</td>\n",
              "      <td>0.000000</td>\n",
              "      <td>0.000000</td>\n",
              "      <td>0.000000</td>\n",
              "      <td>0.000000</td>\n",
              "      <td>0.000000</td>\n",
              "      <td>0.000000</td>\n",
              "      <td>0.000000</td>\n",
              "      <td>0.000000</td>\n",
              "    </tr>\n",
              "    <tr>\n",
              "      <th>25%</th>\n",
              "      <td>0.000000</td>\n",
              "      <td>0.000000</td>\n",
              "      <td>0.000000</td>\n",
              "      <td>0.339853</td>\n",
              "      <td>0.538643</td>\n",
              "      <td>0.199179</td>\n",
              "      <td>0.356420</td>\n",
              "      <td>0.000000</td>\n",
              "      <td>0.000000</td>\n",
              "      <td>0.000000</td>\n",
              "      <td>...</td>\n",
              "      <td>0.000000</td>\n",
              "      <td>0.000000</td>\n",
              "      <td>0.000000</td>\n",
              "      <td>0.000000</td>\n",
              "      <td>0.000000</td>\n",
              "      <td>0.000000</td>\n",
              "      <td>0.000000</td>\n",
              "      <td>0.000000</td>\n",
              "      <td>0.000000</td>\n",
              "      <td>0.000000</td>\n",
              "    </tr>\n",
              "    <tr>\n",
              "      <th>50%</th>\n",
              "      <td>1.000000</td>\n",
              "      <td>0.000000</td>\n",
              "      <td>1.000000</td>\n",
              "      <td>0.542596</td>\n",
              "      <td>0.653714</td>\n",
              "      <td>0.296763</td>\n",
              "      <td>0.518638</td>\n",
              "      <td>0.000000</td>\n",
              "      <td>0.000000</td>\n",
              "      <td>0.000000</td>\n",
              "      <td>...</td>\n",
              "      <td>0.000000</td>\n",
              "      <td>0.000000</td>\n",
              "      <td>0.000000</td>\n",
              "      <td>0.000000</td>\n",
              "      <td>0.000000</td>\n",
              "      <td>0.000000</td>\n",
              "      <td>0.000000</td>\n",
              "      <td>0.000000</td>\n",
              "      <td>0.000000</td>\n",
              "      <td>0.000000</td>\n",
              "    </tr>\n",
              "    <tr>\n",
              "      <th>75%</th>\n",
              "      <td>1.000000</td>\n",
              "      <td>0.000000</td>\n",
              "      <td>1.000000</td>\n",
              "      <td>0.735215</td>\n",
              "      <td>0.754830</td>\n",
              "      <td>0.414447</td>\n",
              "      <td>0.684710</td>\n",
              "      <td>0.000000</td>\n",
              "      <td>0.000000</td>\n",
              "      <td>0.000000</td>\n",
              "      <td>...</td>\n",
              "      <td>0.000000</td>\n",
              "      <td>0.000000</td>\n",
              "      <td>0.000000</td>\n",
              "      <td>0.000000</td>\n",
              "      <td>0.000000</td>\n",
              "      <td>0.000000</td>\n",
              "      <td>0.000000</td>\n",
              "      <td>0.000000</td>\n",
              "      <td>0.000000</td>\n",
              "      <td>1.000000</td>\n",
              "    </tr>\n",
              "    <tr>\n",
              "      <th>max</th>\n",
              "      <td>1.000000</td>\n",
              "      <td>1.000000</td>\n",
              "      <td>1.000000</td>\n",
              "      <td>1.000000</td>\n",
              "      <td>1.000000</td>\n",
              "      <td>1.000000</td>\n",
              "      <td>1.000000</td>\n",
              "      <td>1.000000</td>\n",
              "      <td>1.000000</td>\n",
              "      <td>1.000000</td>\n",
              "      <td>...</td>\n",
              "      <td>1.000000</td>\n",
              "      <td>1.000000</td>\n",
              "      <td>1.000000</td>\n",
              "      <td>1.000000</td>\n",
              "      <td>1.000000</td>\n",
              "      <td>1.000000</td>\n",
              "      <td>1.000000</td>\n",
              "      <td>1.000000</td>\n",
              "      <td>1.000000</td>\n",
              "      <td>1.000000</td>\n",
              "    </tr>\n",
              "  </tbody>\n",
              "</table>\n",
              "<p>8 rows × 29 columns</p>\n",
              "</div>\n",
              "      <button class=\"colab-df-convert\" onclick=\"convertToInteractive('df-a40b9c64-45ae-4103-904a-e8da028e2f4e')\"\n",
              "              title=\"Convert this dataframe to an interactive table.\"\n",
              "              style=\"display:none;\">\n",
              "        \n",
              "  <svg xmlns=\"http://www.w3.org/2000/svg\" height=\"24px\"viewBox=\"0 0 24 24\"\n",
              "       width=\"24px\">\n",
              "    <path d=\"M0 0h24v24H0V0z\" fill=\"none\"/>\n",
              "    <path d=\"M18.56 5.44l.94 2.06.94-2.06 2.06-.94-2.06-.94-.94-2.06-.94 2.06-2.06.94zm-11 1L8.5 8.5l.94-2.06 2.06-.94-2.06-.94L8.5 2.5l-.94 2.06-2.06.94zm10 10l.94 2.06.94-2.06 2.06-.94-2.06-.94-.94-2.06-.94 2.06-2.06.94z\"/><path d=\"M17.41 7.96l-1.37-1.37c-.4-.4-.92-.59-1.43-.59-.52 0-1.04.2-1.43.59L10.3 9.45l-7.72 7.72c-.78.78-.78 2.05 0 2.83L4 21.41c.39.39.9.59 1.41.59.51 0 1.02-.2 1.41-.59l7.78-7.78 2.81-2.81c.8-.78.8-2.07 0-2.86zM5.41 20L4 18.59l7.72-7.72 1.47 1.35L5.41 20z\"/>\n",
              "  </svg>\n",
              "      </button>\n",
              "      \n",
              "  <style>\n",
              "    .colab-df-container {\n",
              "      display:flex;\n",
              "      flex-wrap:wrap;\n",
              "      gap: 12px;\n",
              "    }\n",
              "\n",
              "    .colab-df-convert {\n",
              "      background-color: #E8F0FE;\n",
              "      border: none;\n",
              "      border-radius: 50%;\n",
              "      cursor: pointer;\n",
              "      display: none;\n",
              "      fill: #1967D2;\n",
              "      height: 32px;\n",
              "      padding: 0 0 0 0;\n",
              "      width: 32px;\n",
              "    }\n",
              "\n",
              "    .colab-df-convert:hover {\n",
              "      background-color: #E2EBFA;\n",
              "      box-shadow: 0px 1px 2px rgba(60, 64, 67, 0.3), 0px 1px 3px 1px rgba(60, 64, 67, 0.15);\n",
              "      fill: #174EA6;\n",
              "    }\n",
              "\n",
              "    [theme=dark] .colab-df-convert {\n",
              "      background-color: #3B4455;\n",
              "      fill: #D2E3FC;\n",
              "    }\n",
              "\n",
              "    [theme=dark] .colab-df-convert:hover {\n",
              "      background-color: #434B5C;\n",
              "      box-shadow: 0px 1px 3px 1px rgba(0, 0, 0, 0.15);\n",
              "      filter: drop-shadow(0px 1px 2px rgba(0, 0, 0, 0.3));\n",
              "      fill: #FFFFFF;\n",
              "    }\n",
              "  </style>\n",
              "\n",
              "      <script>\n",
              "        const buttonEl =\n",
              "          document.querySelector('#df-a40b9c64-45ae-4103-904a-e8da028e2f4e button.colab-df-convert');\n",
              "        buttonEl.style.display =\n",
              "          google.colab.kernel.accessAllowed ? 'block' : 'none';\n",
              "\n",
              "        async function convertToInteractive(key) {\n",
              "          const element = document.querySelector('#df-a40b9c64-45ae-4103-904a-e8da028e2f4e');\n",
              "          const dataTable =\n",
              "            await google.colab.kernel.invokeFunction('convertToInteractive',\n",
              "                                                     [key], {});\n",
              "          if (!dataTable) return;\n",
              "\n",
              "          const docLinkHtml = 'Like what you see? Visit the ' +\n",
              "            '<a target=\"_blank\" href=https://colab.research.google.com/notebooks/data_table.ipynb>data table notebook</a>'\n",
              "            + ' to learn more about interactive tables.';\n",
              "          element.innerHTML = '';\n",
              "          dataTable['output_type'] = 'display_data';\n",
              "          await google.colab.output.renderOutput(dataTable, element);\n",
              "          const docLink = document.createElement('div');\n",
              "          docLink.innerHTML = docLinkHtml;\n",
              "          element.appendChild(docLink);\n",
              "        }\n",
              "      </script>\n",
              "    </div>\n",
              "  </div>\n",
              "  "
            ]
          },
          "metadata": {},
          "execution_count": 1273
        }
      ]
    },
    {
      "cell_type": "markdown",
      "source": [
        "We will see the which variables are highly co-related "
      ],
      "metadata": {
        "id": "DCLOUR1m9V4p"
      }
    },
    {
      "cell_type": "code",
      "source": [
        "model_heatmap = px.imshow(ride_train.corr(),text_auto = True, aspect=\"auto\", height=800)\n",
        "model_heatmap.update_layout(title=\"Heatmap for corelation\")\n",
        "model_heatmap.show()"
      ],
      "metadata": {
        "colab": {
          "base_uri": "https://localhost:8080/",
          "height": 817
        },
        "id": "4JAAW4Kb9i8E",
        "outputId": "7ed12eb0-d5fb-41e6-e4cb-3979a527afa6"
      },
      "execution_count": 1274,
      "outputs": [
        {
          "output_type": "display_data",
          "data": {
            "text/html": [
              "<html>\n",
              "<head><meta charset=\"utf-8\" /></head>\n",
              "<body>\n",
              "    <div>            <script src=\"https://cdnjs.cloudflare.com/ajax/libs/mathjax/2.7.5/MathJax.js?config=TeX-AMS-MML_SVG\"></script><script type=\"text/javascript\">if (window.MathJax) {MathJax.Hub.Config({SVG: {font: \"STIX-Web\"}});}</script>                <script type=\"text/javascript\">window.PlotlyConfig = {MathJaxConfig: 'local'};</script>\n",
              "        <script src=\"https://cdn.plot.ly/plotly-2.8.3.min.js\"></script>                <div id=\"1e1b4a21-04d5-4406-adfc-014ba05da9ae\" class=\"plotly-graph-div\" style=\"height:800px; width:100%;\"></div>            <script type=\"text/javascript\">                                    window.PLOTLYENV=window.PLOTLYENV || {};                                    if (document.getElementById(\"1e1b4a21-04d5-4406-adfc-014ba05da9ae\")) {                    Plotly.newPlot(                        \"1e1b4a21-04d5-4406-adfc-014ba05da9ae\",                        [{\"coloraxis\":\"coloraxis\",\"name\":\"0\",\"texttemplate\":\"%{z}\",\"x\":[\"year\",\"holiday\",\"workingday\",\"temp\",\"humidity\",\"windspeed\",\"cnt\",\"spring\",\"summer\",\"winter\",\"Aug\",\"Dec\",\"Feb\",\"Jan\",\"Jul\",\"Jun\",\"Mar\",\"May\",\"Nov\",\"Oct\",\"Sep\",\"Mon\",\"Sat\",\"Sun\",\"Thu\",\"Tue\",\"Wed\",\"Light Snow\",\"Mist + Cloudy\"],\"y\":[\"year\",\"holiday\",\"workingday\",\"temp\",\"humidity\",\"windspeed\",\"cnt\",\"spring\",\"summer\",\"winter\",\"Aug\",\"Dec\",\"Feb\",\"Jan\",\"Jul\",\"Jun\",\"Mar\",\"May\",\"Nov\",\"Oct\",\"Sep\",\"Mon\",\"Sat\",\"Sun\",\"Thu\",\"Tue\",\"Wed\",\"Light Snow\",\"Mist + Cloudy\"],\"z\":[[1.0,-0.014979653311168902,0.03180846465752778,0.10805400875540157,-0.08406141653195026,-0.0004392466302552859,0.5914327211680822,-0.03632019765786695,0.018294044587900057,-0.027173610089629385,0.05477434502374349,-0.04004876427640879,-0.01991603314314634,-0.011794235108633496,0.017623322664595147,0.017623322664595154,-0.0051722479348096885,-0.025933443073251582,-0.018789623430471695,-0.02593344307325161,0.0025738089090455054,0.05363428418502812,-0.033816702445231744,-0.0008124802872560141,-0.006153420162580202,-0.00029594931906585907,-0.0014517478529990449,-0.06076399144564227,-0.011388233129565476],[-0.014979653311168902,1.0,-0.23386275266949474,-0.06640503571534971,-0.029223511782718363,0.017457982350161407,-0.09594770356498437,0.05333944259567072,-0.06379818805090798,0.05158151374328727,-0.05272797091899539,-0.0043018329470628355,0.05652427921405267,0.037411631944073175,-0.046538816169958884,-0.046538816169958884,-0.05332115744721605,-0.04907601260016583,0.12754307648918894,-0.004301832947062832,0.04369188088393217,0.27927929341761326,-0.06924180687864201,-0.06610193813549829,0.009759407379931508,-0.06289686801217527,-0.07027605032002299,-0.028153766985103388,-0.03889464104667382],[0.03180846465752778,-0.23386275266949474,1.0,0.06832566368217646,0.032524787416793384,-0.0427042629502434,0.09201946404427157,-0.037932299916170316,0.04630243910143346,-0.0605933153673079,0.04057541505059284,-0.03149962764532731,-0.016802570317748754,-0.021296247533309796,-0.006030319666417636,0.009741285614982317,0.030676622436597262,0.05900634474406388,-0.041271314020655425,-0.04658395637689253,0.019495296527094266,0.17456548846157946,-0.6190738876580795,-0.591001096996205,0.24659431554869699,0.2689477793886396,0.3005012534823797,0.021158725693862526,0.04356316788330399],[0.10805400875540157,-0.06640503571534971,0.06832566368217646,1.0,0.15525158818334825,-0.18728095261006536,0.6450483314857688,-0.606395864437207,0.12605657368984216,-0.23420025123349525,0.38717642021112314,-0.273090725920397,-0.2962130103181148,-0.4469406023766137,0.41367772146623216,0.3012191236416621,-0.1799414230377867,0.15516750327646334,-0.19499384738046555,-0.018285778688770734,0.20721200834409925,-0.03245488556942876,-0.04260783022338604,-0.01736747291609438,0.0025184820541877366,0.048661837023296975,0.02902031074152276,-0.036227090332391985,-0.08945197192083955],[-0.08406141653195026,-0.029223511782718363,0.032524787416793384,0.15525158818334825,1.0,-0.2671257615679636,-0.05879322228978381,-0.20161555685330818,-0.014192452685923921,0.1739797364720163,0.05294926108321458,0.05761480881093611,-0.12977969328866348,-0.0719063955198075,-0.05407027624445598,-0.0950774628341671,-0.1110397628099966,0.14540862161542,0.004676377764421028,0.16715282179540486,0.15243944282468072,0.022296263365998107,-0.040857611135611156,0.011914985508349699,-0.03853025213374185,0.012087003726988333,0.04686558379508943,0.24496525014545412,0.4794355049446684],[-0.0004392466302552859,0.017457982350161407,-0.0427042629502434,-0.18728095261006536,-0.2671257615679636,1.0,-0.2530378990088006,0.180350558998644,0.11044089102587326,-0.09074011276645486,-0.11146004852208743,-0.06117905043537385,0.13293614316205582,0.006581661771471152,-0.08567054096743305,-0.03310269582545447,0.14194368460379597,-0.03434200122255386,0.009742267287076004,-0.018546443421193652,-0.12193008218358274,-0.004657977081767985,0.049063022953108944,-0.0014992369267001066,-0.004619726966089156,-0.004101017146970502,-0.019862003234370616,0.08677831590463236,-0.029892243745153018],[0.5914327211680822,-0.09594770356498437,0.09201946404427157,0.6450483314857688,-0.05879322228978381,-0.2530378990088006,1.0,-0.5489868292709098,0.14025858529735996,0.02594513749123264,0.22757816278403842,-0.14354555293306265,-0.2703505252239444,-0.3782956845892011,0.15808730809377164,0.19541140618209563,-0.13746515757088756,0.11327606136410505,-0.04800223665374663,0.05555800899273147,0.2016392756091721,-0.009332945451590417,-0.0159977357264839,-0.06321432535090617,0.009927716456589726,0.030528299209360718,0.025467881655738767,-0.22667839669539924,-0.169714753048423],[-0.03632019765786695,0.05333944259567072,-0.037932299916170316,-0.606395864437207,-0.20161555685330818,0.180350558998644,-0.5489868292709098,1.0,-0.3246660300802703,-0.32466603008027023,-0.1847841717081169,0.04186754824828182,0.4715402744355425,0.5488612750701145,-0.16309439654815364,-0.1630943965481538,0.3050086103403451,-0.17198595320480678,-0.17416086383961876,-0.17198595320480667,-0.16758019724112497,-0.009212001775425345,0.022640682793777428,0.0032756940072395154,0.006274900896406505,-0.03098839501732729,-0.00868015762249284,-0.044558089567942966,0.011613059466953735],[0.018294044587900057,-0.06379818805090798,0.04630243910143346,0.12605657368984216,-0.014192452685923921,0.11044089102587326,0.14025858529735996,-0.3246660300802703,1.0,-0.3281249999999999,-0.18675284977222614,-0.1738182799148243,-0.1530931089239487,-0.1781966112418094,-0.16483199321509515,0.2628456448582592,0.08633316946034324,0.529731900692798,-0.17601636190039954,-0.17381827991482418,-0.1693655853251696,-0.00029877279543750774,-0.01906943805169956,-0.013439431227227615,-0.024072777703738838,0.0329324799540596,0.037167463767411514,-0.04590078774068756,0.043201817970751163],[-0.027173610089629385,0.05158151374328727,-0.0605933153673079,-0.23420025123349525,0.1739797364720163,-0.09074011276645486,0.02594513749123264,-0.32466603008027023,-0.3281249999999999,1.0,-0.18675284977222642,0.3170306832997953,-0.1530931089239486,-0.17819661124180936,-0.16483199321509504,-0.16483199321509504,-0.1888538081945006,-0.17381827991482426,0.5364308172202655,0.5297319006927974,-0.018883967701761064,0.037794758622847625,0.01862596274817166,0.03848564396887909,-0.010699012312772852,-0.020899458432384013,-0.025022190174123462,0.11554336224379952,0.024076013139949823],[0.05477434502374349,-0.05272797091899539,0.04057541505059284,0.38717642021112314,0.05294926108321458,-0.11146004852208743,0.22757816278403842,-0.1847841717081169,-0.18675284977222614,-0.18675284977222642,1.0,-0.09892894206963793,-0.08713317903858978,-0.10142087609649197,-0.09381438313616852,-0.09381438313616842,-0.10748643617725068,-0.09892894206963793,-0.10017998382152864,-0.09892894206963798,-0.09639468407715523,-0.025980751941506723,0.007536081779863712,-0.0382577823701622,0.00913403903615298,0.011083939065537618,0.003961898275625646,-0.05675323310806156,0.015257968766961161],[-0.04004876427640879,-0.0043018329470628355,-0.03149962764532731,-0.273090725920397,0.05761480881093611,-0.06117905043537385,-0.14354555293306265,0.04186754824828182,-0.1738182799148243,0.3170306832997953,-0.09892894206963793,1.0,-0.08109830357325294,-0.09439642957013918,-0.08731676506081466,-0.08731676506081464,-0.10004188676794579,-0.0920770877944326,-0.09324148194252993,-0.09207708779443256,-0.08971835342625023,0.010009624489353199,0.04562423493040658,-0.0031212767306058797,0.02629506561702716,-0.055337994580275024,-0.03531976620399899,-0.011055868676269445,0.017230563131048905],[-0.01991603314314634,0.05652427921405267,-0.016802570317748754,-0.2962130103181148,-0.12977969328866348,0.13293614316205582,-0.2703505252239444,0.4715402744355425,-0.1530931089239487,-0.1530931089239486,-0.08713317903858978,-0.08109830357325294,1.0,-0.083141099321054,-0.07690557650721558,-0.0769055765072156,-0.08811342210628015,-0.08109830357325286,-0.08212386153086484,-0.08109830357325283,-0.07902081219704242,-0.0029273635913875653,-0.027519301248287407,0.025437987817221744,-0.03545669300677073,0.035679976011409174,-0.008602329568208495,-3.0708876592370535e-17,-0.012125484477899472],[-0.011794235108633496,0.037411631944073175,-0.021296247533309796,-0.4469406023766137,-0.0719063955198075,0.006581661771471152,-0.3782956845892011,0.5488612750701145,-0.1781966112418094,-0.17819661124180936,-0.10142087609649197,-0.09439642957013918,-0.083141099321054,1.0,-0.08951619844621049,-0.08951619844621052,-0.10256185490398669,-0.09439642957013913,-0.09559015379432559,-0.09439642957013918,-0.09197828073426505,0.02328375772593731,0.019668642624239244,-0.008708585824397517,-6.526402223974608e-18,-0.039123042184014925,-0.0027813610884222465,-0.05415303610738825,0.06500885941137492],[0.017623322664595147,-0.046538816169958884,-0.006030319666417636,0.41367772146623216,-0.05407027624445598,-0.08567054096743305,0.15808730809377164,-0.16309439654815364,-0.16483199321509515,-0.16483199321509504,-0.09381438313616852,-0.08731676506081466,-0.07690557650721558,-0.08951619844621049,1.0,-0.08280254777070079,-0.09486978935149962,-0.08731676506081468,-0.08842096082441865,-0.08731676506081476,-0.08507997565314739,-0.018304848305113905,-0.0008397003939367573,0.029867123081596086,-0.02604612221460465,0.040985469671897624,-0.044291070169420396,-0.006421999646421657,-0.11576257641144487],[0.017623322664595154,-0.046538816169958884,0.009741285614982317,0.3012191236416621,-0.0950774628341671,-0.03310269582545447,0.19541140618209563,-0.1630943965481538,0.2628456448582592,-0.16483199321509504,-0.09381438313616842,-0.08731676506081464,-0.0769055765072156,-0.08951619844621052,-0.08280254777070079,1.0,-0.09486978935149953,-0.08731676506081457,-0.08842096082441873,-0.08731676506081477,-0.0850799756531473,0.0023032590582593654,-0.0008397003939368085,0.008799027961798028,-0.004341020369100762,-0.024539889364678533,0.03645404434855773,-0.050091597242089,-0.08472213794149909],[-0.0051722479348096885,-0.05332115744721605,0.030676622436597262,-0.1799414230377867,-0.1110397628099966,0.14194368460379597,-0.13746515757088756,0.3050086103403451,0.08633316946034324,-0.1888538081945006,-0.10748643617725068,-0.10004188676794579,-0.08811342210628015,-0.10256185490398669,-0.09486978935149962,-0.09486978935149953,1.0,-0.10004188676794583,-0.10130700266493513,-0.10004188676794584,-0.09747911852418721,-0.010111248932430351,0.022869879442488125,-0.04060940427568044,0.04526030250978879,-0.011099280204663548,0.0010611729748772438,0.02066101329450546,-0.00353549206603748],[-0.025933443073251582,-0.04907601260016583,0.05900634474406388,0.15516750327646334,0.14540862161542,-0.03434200122255386,0.11327606136410505,-0.17198595320480678,0.529731900692798,-0.17381827991482426,-0.09892894206963793,-0.0920770877944326,-0.08109830357325286,-0.09439642957013913,-0.08731676506081468,-0.08731676506081457,-0.10004188676794583,1.0,-0.09324148194252992,-0.09207708779443256,-0.0897183534262503,-0.029410518287250376,-0.051896133110278145,-0.0031212767306058762,-0.015223459041436767,0.049111958180421716,0.041906732248474673,-0.052822483675509575,0.07660615229885274],[-0.018789623430471695,0.12754307648918894,-0.041271314020655425,-0.19499384738046555,0.004676377764421028,0.009742267287076004,-0.04800223665374663,-0.17416086383961876,-0.17601636190039954,0.5364308172202655,-0.10017998382152864,-0.09324148194252993,-0.08212386153086484,-0.09559015379432559,-0.08842096082441865,-0.08842096082441873,-0.10130700266493513,-0.09324148194252992,1.0,-0.09324148194253004,-0.09085291934496931,0.00696085810092087,-0.015744245507964542,0.013997857934620666,0.043827228467708486,0.00454003772521395,0.0002247816207325753,0.02917661973599678,-0.017397549255014133],[-0.02593344307325161,-0.004301832947062832,-0.04658395637689253,-0.018285778688770734,0.16715282179540486,-0.018546443421193652,0.05555800899273147,-0.17198595320480667,-0.17381827991482418,0.5297319006927974,-0.09892894206963798,-0.09207708779443256,-0.08109830357325283,-0.09439642957013918,-0.08731676506081476,-0.08731676506081477,-0.10004188676794584,-0.09207708779443256,-0.09324148194253004,1.0,-0.0897183534262503,0.029719695877655102,0.006616087714132737,0.05732876627986236,-0.056741983699900723,-0.013558013475996347,-0.016013141590880554,0.15601059132069128,0.017230563131048964],[0.0025738089090455054,0.04369188088393217,0.019495296527094266,0.20721200834409925,0.15243944282468072,-0.12193008218358274,0.2016392756091721,-0.16758019724112497,-0.1693655853251696,-0.018883967701761064,-0.09639468407715523,-0.08971835342625023,-0.07902081219704242,-0.09197828073426505,-0.08507997565314739,-0.0850799756531473,-0.09747911852418721,-0.0897183534262503,-0.09085291934496931,-0.0897183534262503,1.0,-0.0038309287412416995,-0.006995560236907931,-0.03847799220990935,0.032528408275778506,-0.008246100281387322,0.029362448674900274,0.03389443856092156,0.043247050109577405],[0.05363428418502812,0.27927929341761326,0.17456548846157946,-0.03245488556942876,0.022296263365998107,-0.004657977081767985,-0.009332945451590417,-0.009212001775425345,-0.00029877279543750774,0.037794758622847625,-0.025980751941506723,0.010009624489353199,-0.0029273635913875653,0.02328375772593731,-0.018304848305113905,0.0023032590582593654,-0.010111248932430351,-0.029410518287250376,0.00696085810092087,0.029719695877655102,-0.0038309287412416995,1.0,-0.18054120009297234,-0.17235430121531717,-0.16540351559242067,-0.16399739615272893,-0.18323788812744932,-0.008580176639626676,0.004924221902664428],[-0.033816702445231744,-0.06924180687864201,-0.6190738876580795,-0.04260783022338604,-0.040857611135611156,0.049063022953108944,-0.0159977357264839,0.022640682793777428,-0.01906943805169956,0.01862596274817166,0.007536081779863712,0.04562423493040658,-0.027519301248287407,0.019668642624239244,-0.0008397003939367573,-0.0008397003939368085,0.022869879442488125,-0.051896133110278145,-0.015744245507964542,0.006616087714132737,-0.006995560236907931,-0.18054120009297234,1.0,-0.17498290495669291,-0.1679261117612267,-0.16649854736313266,-0.18603247923946317,0.02169794906383998,0.008404388056065696],[-0.0008124802872560141,-0.06610193813549829,-0.591001096996205,-0.01736747291609438,0.011914985508349699,-0.0014992369267001066,-0.06321432535090617,0.0032756940072395154,-0.013439431227227615,0.03848564396887909,-0.0382577823701622,-0.0031212767306058797,0.025437987817221744,-0.008708585824397517,0.029867123081596086,0.008799027961798028,-0.04060940427568044,-0.0031212767306058762,0.013997857934620666,0.05732876627986236,-0.03847799220990935,-0.17235430121531717,-0.17498290495669291,1.0,-0.16031126210253924,-0.15894843265337924,-0.17759657045682145,-0.03801066682498668,-0.04937146167809906],[-0.006153420162580202,0.009759407379931508,0.24659431554869699,0.0025184820541877366,-0.03853025213374185,-0.004619726966089156,0.009927716456589726,0.006274900896406505,-0.024072777703738838,-0.010699012312772852,0.00913403903615298,0.02629506561702716,-0.03545669300677073,-6.526402223974608e-18,-0.02604612221460465,-0.004341020369100762,0.04526030250978879,-0.015223459041436767,0.043827228467708486,-0.056741983699900723,0.032528408275778506,-0.16540351559242067,-0.1679261117612267,-0.16031126210253924,1.0,-0.1525382852263721,-0.17043437212522988,0.034139437099945935,-0.054194917736779424],[-0.00029594931906585907,-0.06289686801217527,0.2689477793886396,0.048661837023296975,0.012087003726988333,-0.004101017146970502,0.030528299209360718,-0.03098839501732729,0.0329324799540596,-0.020899458432384013,0.011083939065537618,-0.055337994580275024,0.035679976011409174,-0.039123042184014925,0.040985469671897624,-0.024539889364678533,-0.011099280204663548,0.049111958180421716,0.00454003772521395,-0.013558013475996347,-0.008246100281387322,-0.16399739615272893,-0.16649854736313266,-0.15894843265337924,-0.1525382852263721,1.0,-0.16898548463950386,-0.03334400062908208,0.010725293417035984],[-0.0014517478529990449,-0.07027605032002299,0.3005012534823797,0.02902031074152276,0.04686558379508943,-0.019862003234370616,0.025467881655738767,-0.00868015762249284,0.037167463767411514,-0.025022190174123462,0.003961898275625646,-0.03531976620399899,-0.008602329568208495,-0.0027813610884222465,-0.044291070169420396,0.03645404434855773,0.0010611729748772438,0.041906732248474673,0.0002247816207325753,-0.016013141590880554,0.029362448674900274,-0.18323788812744932,-0.18603247923946317,-0.17759657045682145,-0.17043437212522988,-0.16898548463950386,1.0,0.08311164556236597,0.0005310195604157468],[-0.06076399144564227,-0.028153766985103388,0.021158725693862526,-0.036227090332391985,0.24496525014545412,0.08677831590463236,-0.22667839669539924,-0.044558089567942966,-0.04590078774068756,0.11554336224379952,-0.05675323310806156,-0.011055868676269445,-3.0708876592370535e-17,-0.05415303610738825,-0.006421999646421657,-0.050091597242089,0.02066101329450546,-0.052822483675509575,0.02917661973599678,0.15601059132069128,0.03389443856092156,-0.008580176639626676,0.02169794906383998,-0.03801066682498668,0.034139437099945935,-0.03334400062908208,0.08311164556236597,1.0,-0.12636480472131276],[-0.011388233129565476,-0.03889464104667382,0.04356316788330399,-0.08945197192083955,0.4794355049446684,-0.029892243745153018,-0.169714753048423,0.011613059466953735,0.043201817970751163,0.024076013139949823,0.015257968766961161,0.017230563131048905,-0.012125484477899472,0.06500885941137492,-0.11576257641144487,-0.08472213794149909,-0.00353549206603748,0.07660615229885274,-0.017397549255014133,0.017230563131048964,0.043247050109577405,0.004924221902664428,0.008404388056065696,-0.04937146167809906,-0.054194917736779424,0.010725293417035984,0.0005310195604157468,-0.12636480472131276,1.0]],\"type\":\"heatmap\",\"xaxis\":\"x\",\"yaxis\":\"y\",\"hovertemplate\":\"x: %{x}<br>y: %{y}<br>color: %{z}<extra></extra>\"}],                        {\"template\":{\"data\":{\"bar\":[{\"error_x\":{\"color\":\"#2a3f5f\"},\"error_y\":{\"color\":\"#2a3f5f\"},\"marker\":{\"line\":{\"color\":\"#E5ECF6\",\"width\":0.5},\"pattern\":{\"fillmode\":\"overlay\",\"size\":10,\"solidity\":0.2}},\"type\":\"bar\"}],\"barpolar\":[{\"marker\":{\"line\":{\"color\":\"#E5ECF6\",\"width\":0.5},\"pattern\":{\"fillmode\":\"overlay\",\"size\":10,\"solidity\":0.2}},\"type\":\"barpolar\"}],\"carpet\":[{\"aaxis\":{\"endlinecolor\":\"#2a3f5f\",\"gridcolor\":\"white\",\"linecolor\":\"white\",\"minorgridcolor\":\"white\",\"startlinecolor\":\"#2a3f5f\"},\"baxis\":{\"endlinecolor\":\"#2a3f5f\",\"gridcolor\":\"white\",\"linecolor\":\"white\",\"minorgridcolor\":\"white\",\"startlinecolor\":\"#2a3f5f\"},\"type\":\"carpet\"}],\"choropleth\":[{\"colorbar\":{\"outlinewidth\":0,\"ticks\":\"\"},\"type\":\"choropleth\"}],\"contour\":[{\"colorbar\":{\"outlinewidth\":0,\"ticks\":\"\"},\"colorscale\":[[0.0,\"#0d0887\"],[0.1111111111111111,\"#46039f\"],[0.2222222222222222,\"#7201a8\"],[0.3333333333333333,\"#9c179e\"],[0.4444444444444444,\"#bd3786\"],[0.5555555555555556,\"#d8576b\"],[0.6666666666666666,\"#ed7953\"],[0.7777777777777778,\"#fb9f3a\"],[0.8888888888888888,\"#fdca26\"],[1.0,\"#f0f921\"]],\"type\":\"contour\"}],\"contourcarpet\":[{\"colorbar\":{\"outlinewidth\":0,\"ticks\":\"\"},\"type\":\"contourcarpet\"}],\"heatmap\":[{\"colorbar\":{\"outlinewidth\":0,\"ticks\":\"\"},\"colorscale\":[[0.0,\"#0d0887\"],[0.1111111111111111,\"#46039f\"],[0.2222222222222222,\"#7201a8\"],[0.3333333333333333,\"#9c179e\"],[0.4444444444444444,\"#bd3786\"],[0.5555555555555556,\"#d8576b\"],[0.6666666666666666,\"#ed7953\"],[0.7777777777777778,\"#fb9f3a\"],[0.8888888888888888,\"#fdca26\"],[1.0,\"#f0f921\"]],\"type\":\"heatmap\"}],\"heatmapgl\":[{\"colorbar\":{\"outlinewidth\":0,\"ticks\":\"\"},\"colorscale\":[[0.0,\"#0d0887\"],[0.1111111111111111,\"#46039f\"],[0.2222222222222222,\"#7201a8\"],[0.3333333333333333,\"#9c179e\"],[0.4444444444444444,\"#bd3786\"],[0.5555555555555556,\"#d8576b\"],[0.6666666666666666,\"#ed7953\"],[0.7777777777777778,\"#fb9f3a\"],[0.8888888888888888,\"#fdca26\"],[1.0,\"#f0f921\"]],\"type\":\"heatmapgl\"}],\"histogram\":[{\"marker\":{\"pattern\":{\"fillmode\":\"overlay\",\"size\":10,\"solidity\":0.2}},\"type\":\"histogram\"}],\"histogram2d\":[{\"colorbar\":{\"outlinewidth\":0,\"ticks\":\"\"},\"colorscale\":[[0.0,\"#0d0887\"],[0.1111111111111111,\"#46039f\"],[0.2222222222222222,\"#7201a8\"],[0.3333333333333333,\"#9c179e\"],[0.4444444444444444,\"#bd3786\"],[0.5555555555555556,\"#d8576b\"],[0.6666666666666666,\"#ed7953\"],[0.7777777777777778,\"#fb9f3a\"],[0.8888888888888888,\"#fdca26\"],[1.0,\"#f0f921\"]],\"type\":\"histogram2d\"}],\"histogram2dcontour\":[{\"colorbar\":{\"outlinewidth\":0,\"ticks\":\"\"},\"colorscale\":[[0.0,\"#0d0887\"],[0.1111111111111111,\"#46039f\"],[0.2222222222222222,\"#7201a8\"],[0.3333333333333333,\"#9c179e\"],[0.4444444444444444,\"#bd3786\"],[0.5555555555555556,\"#d8576b\"],[0.6666666666666666,\"#ed7953\"],[0.7777777777777778,\"#fb9f3a\"],[0.8888888888888888,\"#fdca26\"],[1.0,\"#f0f921\"]],\"type\":\"histogram2dcontour\"}],\"mesh3d\":[{\"colorbar\":{\"outlinewidth\":0,\"ticks\":\"\"},\"type\":\"mesh3d\"}],\"parcoords\":[{\"line\":{\"colorbar\":{\"outlinewidth\":0,\"ticks\":\"\"}},\"type\":\"parcoords\"}],\"pie\":[{\"automargin\":true,\"type\":\"pie\"}],\"scatter\":[{\"marker\":{\"colorbar\":{\"outlinewidth\":0,\"ticks\":\"\"}},\"type\":\"scatter\"}],\"scatter3d\":[{\"line\":{\"colorbar\":{\"outlinewidth\":0,\"ticks\":\"\"}},\"marker\":{\"colorbar\":{\"outlinewidth\":0,\"ticks\":\"\"}},\"type\":\"scatter3d\"}],\"scattercarpet\":[{\"marker\":{\"colorbar\":{\"outlinewidth\":0,\"ticks\":\"\"}},\"type\":\"scattercarpet\"}],\"scattergeo\":[{\"marker\":{\"colorbar\":{\"outlinewidth\":0,\"ticks\":\"\"}},\"type\":\"scattergeo\"}],\"scattergl\":[{\"marker\":{\"colorbar\":{\"outlinewidth\":0,\"ticks\":\"\"}},\"type\":\"scattergl\"}],\"scattermapbox\":[{\"marker\":{\"colorbar\":{\"outlinewidth\":0,\"ticks\":\"\"}},\"type\":\"scattermapbox\"}],\"scatterpolar\":[{\"marker\":{\"colorbar\":{\"outlinewidth\":0,\"ticks\":\"\"}},\"type\":\"scatterpolar\"}],\"scatterpolargl\":[{\"marker\":{\"colorbar\":{\"outlinewidth\":0,\"ticks\":\"\"}},\"type\":\"scatterpolargl\"}],\"scatterternary\":[{\"marker\":{\"colorbar\":{\"outlinewidth\":0,\"ticks\":\"\"}},\"type\":\"scatterternary\"}],\"surface\":[{\"colorbar\":{\"outlinewidth\":0,\"ticks\":\"\"},\"colorscale\":[[0.0,\"#0d0887\"],[0.1111111111111111,\"#46039f\"],[0.2222222222222222,\"#7201a8\"],[0.3333333333333333,\"#9c179e\"],[0.4444444444444444,\"#bd3786\"],[0.5555555555555556,\"#d8576b\"],[0.6666666666666666,\"#ed7953\"],[0.7777777777777778,\"#fb9f3a\"],[0.8888888888888888,\"#fdca26\"],[1.0,\"#f0f921\"]],\"type\":\"surface\"}],\"table\":[{\"cells\":{\"fill\":{\"color\":\"#EBF0F8\"},\"line\":{\"color\":\"white\"}},\"header\":{\"fill\":{\"color\":\"#C8D4E3\"},\"line\":{\"color\":\"white\"}},\"type\":\"table\"}]},\"layout\":{\"annotationdefaults\":{\"arrowcolor\":\"#2a3f5f\",\"arrowhead\":0,\"arrowwidth\":1},\"autotypenumbers\":\"strict\",\"coloraxis\":{\"colorbar\":{\"outlinewidth\":0,\"ticks\":\"\"}},\"colorscale\":{\"diverging\":[[0,\"#8e0152\"],[0.1,\"#c51b7d\"],[0.2,\"#de77ae\"],[0.3,\"#f1b6da\"],[0.4,\"#fde0ef\"],[0.5,\"#f7f7f7\"],[0.6,\"#e6f5d0\"],[0.7,\"#b8e186\"],[0.8,\"#7fbc41\"],[0.9,\"#4d9221\"],[1,\"#276419\"]],\"sequential\":[[0.0,\"#0d0887\"],[0.1111111111111111,\"#46039f\"],[0.2222222222222222,\"#7201a8\"],[0.3333333333333333,\"#9c179e\"],[0.4444444444444444,\"#bd3786\"],[0.5555555555555556,\"#d8576b\"],[0.6666666666666666,\"#ed7953\"],[0.7777777777777778,\"#fb9f3a\"],[0.8888888888888888,\"#fdca26\"],[1.0,\"#f0f921\"]],\"sequentialminus\":[[0.0,\"#0d0887\"],[0.1111111111111111,\"#46039f\"],[0.2222222222222222,\"#7201a8\"],[0.3333333333333333,\"#9c179e\"],[0.4444444444444444,\"#bd3786\"],[0.5555555555555556,\"#d8576b\"],[0.6666666666666666,\"#ed7953\"],[0.7777777777777778,\"#fb9f3a\"],[0.8888888888888888,\"#fdca26\"],[1.0,\"#f0f921\"]]},\"colorway\":[\"#636efa\",\"#EF553B\",\"#00cc96\",\"#ab63fa\",\"#FFA15A\",\"#19d3f3\",\"#FF6692\",\"#B6E880\",\"#FF97FF\",\"#FECB52\"],\"font\":{\"color\":\"#2a3f5f\"},\"geo\":{\"bgcolor\":\"white\",\"lakecolor\":\"white\",\"landcolor\":\"#E5ECF6\",\"showlakes\":true,\"showland\":true,\"subunitcolor\":\"white\"},\"hoverlabel\":{\"align\":\"left\"},\"hovermode\":\"closest\",\"mapbox\":{\"style\":\"light\"},\"paper_bgcolor\":\"white\",\"plot_bgcolor\":\"#E5ECF6\",\"polar\":{\"angularaxis\":{\"gridcolor\":\"white\",\"linecolor\":\"white\",\"ticks\":\"\"},\"bgcolor\":\"#E5ECF6\",\"radialaxis\":{\"gridcolor\":\"white\",\"linecolor\":\"white\",\"ticks\":\"\"}},\"scene\":{\"xaxis\":{\"backgroundcolor\":\"#E5ECF6\",\"gridcolor\":\"white\",\"gridwidth\":2,\"linecolor\":\"white\",\"showbackground\":true,\"ticks\":\"\",\"zerolinecolor\":\"white\"},\"yaxis\":{\"backgroundcolor\":\"#E5ECF6\",\"gridcolor\":\"white\",\"gridwidth\":2,\"linecolor\":\"white\",\"showbackground\":true,\"ticks\":\"\",\"zerolinecolor\":\"white\"},\"zaxis\":{\"backgroundcolor\":\"#E5ECF6\",\"gridcolor\":\"white\",\"gridwidth\":2,\"linecolor\":\"white\",\"showbackground\":true,\"ticks\":\"\",\"zerolinecolor\":\"white\"}},\"shapedefaults\":{\"line\":{\"color\":\"#2a3f5f\"}},\"ternary\":{\"aaxis\":{\"gridcolor\":\"white\",\"linecolor\":\"white\",\"ticks\":\"\"},\"baxis\":{\"gridcolor\":\"white\",\"linecolor\":\"white\",\"ticks\":\"\"},\"bgcolor\":\"#E5ECF6\",\"caxis\":{\"gridcolor\":\"white\",\"linecolor\":\"white\",\"ticks\":\"\"}},\"title\":{\"x\":0.05},\"xaxis\":{\"automargin\":true,\"gridcolor\":\"white\",\"linecolor\":\"white\",\"ticks\":\"\",\"title\":{\"standoff\":15},\"zerolinecolor\":\"white\",\"zerolinewidth\":2},\"yaxis\":{\"automargin\":true,\"gridcolor\":\"white\",\"linecolor\":\"white\",\"ticks\":\"\",\"title\":{\"standoff\":15},\"zerolinecolor\":\"white\",\"zerolinewidth\":2}}},\"xaxis\":{\"anchor\":\"y\",\"domain\":[0.0,1.0]},\"yaxis\":{\"anchor\":\"x\",\"domain\":[0.0,1.0],\"autorange\":\"reversed\"},\"coloraxis\":{\"colorscale\":[[0.0,\"#0d0887\"],[0.1111111111111111,\"#46039f\"],[0.2222222222222222,\"#7201a8\"],[0.3333333333333333,\"#9c179e\"],[0.4444444444444444,\"#bd3786\"],[0.5555555555555556,\"#d8576b\"],[0.6666666666666666,\"#ed7953\"],[0.7777777777777778,\"#fb9f3a\"],[0.8888888888888888,\"#fdca26\"],[1.0,\"#f0f921\"]]},\"margin\":{\"t\":60},\"height\":800,\"title\":{\"text\":\"Heatmap for corelation\"}},                        {\"responsive\": true}                    ).then(function(){\n",
              "                            \n",
              "var gd = document.getElementById('1e1b4a21-04d5-4406-adfc-014ba05da9ae');\n",
              "var x = new MutationObserver(function (mutations, observer) {{\n",
              "        var display = window.getComputedStyle(gd).display;\n",
              "        if (!display || display === 'none') {{\n",
              "            console.log([gd, 'removed!']);\n",
              "            Plotly.purge(gd);\n",
              "            observer.disconnect();\n",
              "        }}\n",
              "}});\n",
              "\n",
              "// Listen for the removal of the full notebook cells\n",
              "var notebookContainer = gd.closest('#notebook-container');\n",
              "if (notebookContainer) {{\n",
              "    x.observe(notebookContainer, {childList: true});\n",
              "}}\n",
              "\n",
              "// Listen for the clearing of the current output cell\n",
              "var outputEl = gd.closest('.output');\n",
              "if (outputEl) {{\n",
              "    x.observe(outputEl, {childList: true});\n",
              "}}\n",
              "\n",
              "                        })                };                            </script>        </div>\n",
              "</body>\n",
              "</html>"
            ]
          },
          "metadata": {}
        }
      ]
    },
    {
      "cell_type": "markdown",
      "source": [
        "year and temp show good corelation with count variable"
      ],
      "metadata": {
        "id": "ZSyBjtzm-K9e"
      }
    },
    {
      "cell_type": "markdown",
      "source": [
        "we will divide the data into dependent and independant variable"
      ],
      "metadata": {
        "id": "9sEaT9sK-hAZ"
      }
    },
    {
      "cell_type": "code",
      "source": [
        "y_train = ride_train.pop('cnt')\n",
        "X_train = ride_train"
      ],
      "metadata": {
        "id": "-oQ646-7yJ-l"
      },
      "execution_count": 1275,
      "outputs": []
    },
    {
      "cell_type": "markdown",
      "source": [
        "We will use RFE to select top features to build the model."
      ],
      "metadata": {
        "id": "Ytb6J37aQdiU"
      }
    },
    {
      "cell_type": "code",
      "source": [
        "lmr = LinearRegression()\n",
        "lmr.fit(X_train, y_train)\n",
        "\n",
        "rfe = RFE(lmr, n_features_to_select=15)\n",
        "rfe = rfe.fit(X_train, y_train)"
      ],
      "metadata": {
        "id": "7egLnkLHQaet"
      },
      "execution_count": 1276,
      "outputs": []
    },
    {
      "cell_type": "code",
      "source": [
        "list(zip(X_train.columns,rfe.support_,rfe.ranking_))"
      ],
      "metadata": {
        "colab": {
          "base_uri": "https://localhost:8080/"
        },
        "id": "x8yYj_NHRW1q",
        "outputId": "8f54a7e7-6413-4cb2-c763-54f9d347a71a"
      },
      "execution_count": 1277,
      "outputs": [
        {
          "output_type": "execute_result",
          "data": {
            "text/plain": [
              "[('year', True, 1),\n",
              " ('holiday', True, 1),\n",
              " ('workingday', True, 1),\n",
              " ('temp', True, 1),\n",
              " ('humidity', True, 1),\n",
              " ('windspeed', True, 1),\n",
              " ('spring', True, 1),\n",
              " ('summer', True, 1),\n",
              " ('winter', True, 1),\n",
              " ('Aug', False, 6),\n",
              " ('Dec', False, 3),\n",
              " ('Feb', False, 4),\n",
              " ('Jan', True, 1),\n",
              " ('Jul', True, 1),\n",
              " ('Jun', False, 13),\n",
              " ('Mar', False, 14),\n",
              " ('May', False, 5),\n",
              " ('Nov', False, 2),\n",
              " ('Oct', False, 12),\n",
              " ('Sep', True, 1),\n",
              " ('Mon', False, 8),\n",
              " ('Sat', True, 1),\n",
              " ('Sun', False, 7),\n",
              " ('Thu', False, 10),\n",
              " ('Tue', False, 9),\n",
              " ('Wed', False, 11),\n",
              " ('Light Snow', True, 1),\n",
              " ('Mist + Cloudy', True, 1)]"
            ]
          },
          "metadata": {},
          "execution_count": 1277
        }
      ]
    },
    {
      "cell_type": "code",
      "source": [
        "columns = X_train.columns[rfe.support_]\n",
        "print(columns)"
      ],
      "metadata": {
        "colab": {
          "base_uri": "https://localhost:8080/"
        },
        "id": "FGsNv4NYRhq0",
        "outputId": "cfd1f6de-fd6c-4809-e3b3-d3fc3b8f1d81"
      },
      "execution_count": 1278,
      "outputs": [
        {
          "output_type": "stream",
          "name": "stdout",
          "text": [
            "Index(['year', 'holiday', 'workingday', 'temp', 'humidity', 'windspeed',\n",
            "       'spring', 'summer', 'winter', 'Jan', 'Jul', 'Sep', 'Sat', 'Light Snow',\n",
            "       'Mist + Cloudy'],\n",
            "      dtype='object')\n"
          ]
        }
      ]
    },
    {
      "cell_type": "markdown",
      "source": [
        "We will calculate VIF to decide which variable to remove"
      ],
      "metadata": {
        "id": "g7vT62y6GX-i"
      }
    },
    {
      "cell_type": "code",
      "source": [
        "def check_vif(train_df):\n",
        "  vif = pd.DataFrame()\n",
        "  vif['Features'] = train_df.columns\n",
        "  vif['VIF'] = [variance_inflation_factor(train_df.values, i) for i in range(train_df.shape[1])]\n",
        "  vif['VIF'] = round(vif['VIF'], 2)\n",
        "  vif = vif.sort_values(by='VIF', ascending=False)\n",
        "  print(vif)"
      ],
      "metadata": {
        "id": "_0K5lhfA9DNy"
      },
      "execution_count": 1279,
      "outputs": []
    },
    {
      "cell_type": "markdown",
      "source": [
        "We will select the columns we got from RFE"
      ],
      "metadata": {
        "id": "cYysSLMcYQEW"
      }
    },
    {
      "cell_type": "code",
      "source": [
        "X_train_sel = X_train[columns]"
      ],
      "metadata": {
        "id": "Bii2w6hoFLbp"
      },
      "execution_count": 1280,
      "outputs": []
    },
    {
      "cell_type": "code",
      "source": [
        "check_vif(X_train_sel)"
      ],
      "metadata": {
        "colab": {
          "base_uri": "https://localhost:8080/"
        },
        "id": "fguzKiUUYXjW",
        "outputId": "a5fd0641-6439-472d-bb08-b57e7c85e26d"
      },
      "execution_count": 1281,
      "outputs": [
        {
          "output_type": "stream",
          "name": "stdout",
          "text": [
            "         Features    VIF\n",
            "4        humidity  29.37\n",
            "3            temp  17.78\n",
            "2      workingday   5.31\n",
            "5       windspeed   4.73\n",
            "6          spring   4.53\n",
            "8          winter   3.46\n",
            "7          summer   2.85\n",
            "14  Mist + Cloudy   2.29\n",
            "0            year   2.09\n",
            "12            Sat   1.98\n",
            "9             Jan   1.67\n",
            "10            Jul   1.59\n",
            "11            Sep   1.39\n",
            "13     Light Snow   1.24\n",
            "1         holiday   1.18\n"
          ]
        }
      ]
    },
    {
      "cell_type": "markdown",
      "source": [
        "Here Humidity has high VIF, we will check and drop this"
      ],
      "metadata": {
        "id": "OTY06dJ0ZEob"
      }
    },
    {
      "cell_type": "code",
      "source": [
        "X_train_sel1 = X_train_sel.drop(['humidity'], axis = 1)\n",
        "check_vif(X_train_sel1)"
      ],
      "metadata": {
        "colab": {
          "base_uri": "https://localhost:8080/"
        },
        "id": "88TQdoscZprF",
        "outputId": "f5bab41b-58e9-426d-f9ae-81de725db0fb"
      },
      "execution_count": 1282,
      "outputs": [
        {
          "output_type": "stream",
          "name": "stdout",
          "text": [
            "         Features   VIF\n",
            "3            temp  7.07\n",
            "2      workingday  5.24\n",
            "4       windspeed  4.68\n",
            "5          spring  3.07\n",
            "6          summer  2.34\n",
            "0            year  2.08\n",
            "7          winter  1.98\n",
            "11            Sat  1.97\n",
            "8             Jan  1.62\n",
            "9             Jul  1.59\n",
            "13  Mist + Cloudy  1.58\n",
            "10            Sep  1.35\n",
            "1         holiday  1.17\n",
            "12     Light Snow  1.09\n"
          ]
        }
      ]
    },
    {
      "cell_type": "markdown",
      "source": [
        "VIF Value seems to be ok, we will build the model with rest of the variables"
      ],
      "metadata": {
        "id": "YSeu_x3LaH1a"
      }
    },
    {
      "cell_type": "code",
      "source": [
        "X_train_lmr1 = sm.add_constant(X_train_sel1)\n",
        "lr_1 = sm.OLS(y_train, X_train_lmr1).fit()\n",
        "print(lr_1.summary())"
      ],
      "metadata": {
        "colab": {
          "base_uri": "https://localhost:8080/"
        },
        "id": "YS_EwVeFZKqp",
        "outputId": "aca9764e-920d-4f54-d2ab-6c39065907e9"
      },
      "execution_count": 1283,
      "outputs": [
        {
          "output_type": "stream",
          "name": "stdout",
          "text": [
            "                            OLS Regression Results                            \n",
            "==============================================================================\n",
            "Dep. Variable:                    cnt   R-squared:                       0.843\n",
            "Model:                            OLS   Adj. R-squared:                  0.838\n",
            "Method:                 Least Squares   F-statistic:                     189.6\n",
            "Date:                Wed, 11 May 2022   Prob (F-statistic):          1.60e-188\n",
            "Time:                        18:06:10   Log-Likelihood:                 510.75\n",
            "No. Observations:                 510   AIC:                            -991.5\n",
            "Df Residuals:                     495   BIC:                            -928.0\n",
            "Df Model:                          14                                         \n",
            "Covariance Type:            nonrobust                                         \n",
            "=================================================================================\n",
            "                    coef    std err          t      P>|t|      [0.025      0.975]\n",
            "---------------------------------------------------------------------------------\n",
            "const             0.1737      0.031      5.520      0.000       0.112       0.235\n",
            "year              0.2345      0.008     29.009      0.000       0.219       0.250\n",
            "holiday          -0.0558      0.027     -2.042      0.042      -0.109      -0.002\n",
            "workingday        0.0464      0.012      3.966      0.000       0.023       0.069\n",
            "temp              0.4722      0.034     14.005      0.000       0.406       0.538\n",
            "windspeed        -0.1563      0.025     -6.286      0.000      -0.205      -0.107\n",
            "spring           -0.0599      0.021     -2.867      0.004      -0.101      -0.019\n",
            "summer            0.0445      0.015      2.967      0.003       0.015       0.074\n",
            "winter            0.0784      0.017      4.562      0.000       0.045       0.112\n",
            "Jan              -0.0392      0.018     -2.227      0.026      -0.074      -0.005\n",
            "Jul              -0.0479      0.018     -2.614      0.009      -0.084      -0.012\n",
            "Sep               0.0755      0.017      4.527      0.000       0.043       0.108\n",
            "Sat               0.0583      0.015      3.968      0.000       0.029       0.087\n",
            "Light Snow       -0.2908      0.024    -11.977      0.000      -0.339      -0.243\n",
            "Mist + Cloudy    -0.0813      0.009     -9.437      0.000      -0.098      -0.064\n",
            "==============================================================================\n",
            "Omnibus:                       67.830   Durbin-Watson:                   2.076\n",
            "Prob(Omnibus):                  0.000   Jarque-Bera (JB):              164.565\n",
            "Skew:                          -0.692   Prob(JB):                     1.84e-36\n",
            "Kurtosis:                       5.415   Cond. No.                         20.0\n",
            "==============================================================================\n",
            "\n",
            "Warnings:\n",
            "[1] Standard Errors assume that the covariance matrix of the errors is correctly specified.\n"
          ]
        },
        {
          "output_type": "stream",
          "name": "stderr",
          "text": [
            "/usr/local/lib/python3.7/dist-packages/statsmodels/tsa/tsatools.py:117: FutureWarning:\n",
            "\n",
            "In a future version of pandas all arguments of concat except for the argument 'objs' will be keyword-only\n",
            "\n"
          ]
        }
      ]
    },
    {
      "cell_type": "markdown",
      "source": [
        "We will drop Jan as it has a higher VIF and P value comparitively to holiday"
      ],
      "metadata": {
        "id": "wD0r1Bi_ddUZ"
      }
    },
    {
      "cell_type": "code",
      "source": [
        "X_train_sel2 = X_train_sel1.drop(['Jan'], axis = 1)\n",
        "check_vif(X_train_sel2)"
      ],
      "metadata": {
        "colab": {
          "base_uri": "https://localhost:8080/"
        },
        "id": "1uLvqfWHbMEs",
        "outputId": "f6d506c6-4ab6-4297-ec5a-e0cc236f65b1"
      },
      "execution_count": 1284,
      "outputs": [
        {
          "output_type": "stream",
          "name": "stdout",
          "text": [
            "         Features   VIF\n",
            "3            temp  6.97\n",
            "2      workingday  5.20\n",
            "4       windspeed  4.65\n",
            "5          spring  2.49\n",
            "6          summer  2.34\n",
            "0            year  2.07\n",
            "7          winter  1.98\n",
            "10            Sat  1.96\n",
            "8             Jul  1.58\n",
            "12  Mist + Cloudy  1.57\n",
            "9             Sep  1.35\n",
            "1         holiday  1.17\n",
            "11     Light Snow  1.09\n"
          ]
        }
      ]
    },
    {
      "cell_type": "markdown",
      "source": [
        "We will see how the model has changed"
      ],
      "metadata": {
        "id": "wtGp2JGkd4ZB"
      }
    },
    {
      "cell_type": "code",
      "source": [
        "X_train_lmr2 = sm.add_constant(X_train_sel2)\n",
        "lr_2 = sm.OLS(y_train, X_train_lmr2).fit()\n",
        "print(lr_2.summary())"
      ],
      "metadata": {
        "colab": {
          "base_uri": "https://localhost:8080/"
        },
        "id": "heHvFCEueCE7",
        "outputId": "74ffef79-39ac-4c52-e083-21caf5a10b4c"
      },
      "execution_count": 1285,
      "outputs": [
        {
          "output_type": "stream",
          "name": "stdout",
          "text": [
            "                            OLS Regression Results                            \n",
            "==============================================================================\n",
            "Dep. Variable:                    cnt   R-squared:                       0.841\n",
            "Model:                            OLS   Adj. R-squared:                  0.837\n",
            "Method:                 Least Squares   F-statistic:                     202.2\n",
            "Date:                Wed, 11 May 2022   Prob (F-statistic):          1.28e-188\n",
            "Time:                        18:06:10   Log-Likelihood:                 508.20\n",
            "No. Observations:                 510   AIC:                            -988.4\n",
            "Df Residuals:                     496   BIC:                            -929.1\n",
            "Df Model:                          13                                         \n",
            "Covariance Type:            nonrobust                                         \n",
            "=================================================================================\n",
            "                    coef    std err          t      P>|t|      [0.025      0.975]\n",
            "---------------------------------------------------------------------------------\n",
            "const             0.1576      0.031      5.126      0.000       0.097       0.218\n",
            "year              0.2337      0.008     28.828      0.000       0.218       0.250\n",
            "holiday          -0.0567      0.027     -2.069      0.039      -0.111      -0.003\n",
            "workingday        0.0461      0.012      3.931      0.000       0.023       0.069\n",
            "temp              0.4915      0.033     15.027      0.000       0.427       0.556\n",
            "windspeed        -0.1491      0.025     -6.024      0.000      -0.198      -0.100\n",
            "spring           -0.0655      0.021     -3.147      0.002      -0.106      -0.025\n",
            "summer            0.0477      0.015      3.180      0.002       0.018       0.077\n",
            "winter            0.0846      0.017      4.971      0.000       0.051       0.118\n",
            "Jul              -0.0496      0.018     -2.702      0.007      -0.086      -0.014\n",
            "Sep               0.0759      0.017      4.537      0.000       0.043       0.109\n",
            "Sat               0.0579      0.015      3.924      0.000       0.029       0.087\n",
            "Light Snow       -0.2895      0.024    -11.880      0.000      -0.337      -0.242\n",
            "Mist + Cloudy    -0.0822      0.009     -9.514      0.000      -0.099      -0.065\n",
            "==============================================================================\n",
            "Omnibus:                       66.828   Durbin-Watson:                   2.069\n",
            "Prob(Omnibus):                  0.000   Jarque-Bera (JB):              162.148\n",
            "Skew:                          -0.682   Prob(JB):                     6.17e-36\n",
            "Kurtosis:                       5.402   Cond. No.                         19.5\n",
            "==============================================================================\n",
            "\n",
            "Warnings:\n",
            "[1] Standard Errors assume that the covariance matrix of the errors is correctly specified.\n"
          ]
        },
        {
          "output_type": "stream",
          "name": "stderr",
          "text": [
            "/usr/local/lib/python3.7/dist-packages/statsmodels/tsa/tsatools.py:117: FutureWarning:\n",
            "\n",
            "In a future version of pandas all arguments of concat except for the argument 'objs' will be keyword-only\n",
            "\n"
          ]
        }
      ]
    },
    {
      "cell_type": "markdown",
      "source": [
        "VIF is changed only a bit also the the model, we will proceed further to heck with other variables"
      ],
      "metadata": {
        "id": "tRGtfpYpeTGR"
      }
    },
    {
      "cell_type": "markdown",
      "source": [
        "We will try dropping holiday and build the model"
      ],
      "metadata": {
        "id": "Q5XQLvR2e1Ik"
      }
    },
    {
      "cell_type": "code",
      "source": [
        "X_train_sel3 = X_train_sel2.drop(['holiday'], axis = 1)\n",
        "check_vif(X_train_sel3)"
      ],
      "metadata": {
        "colab": {
          "base_uri": "https://localhost:8080/"
        },
        "id": "1iNcmU9MeEg7",
        "outputId": "52485c23-a59e-4791-c88a-25e1cea5e6dd"
      },
      "execution_count": 1286,
      "outputs": [
        {
          "output_type": "stream",
          "name": "stdout",
          "text": [
            "         Features   VIF\n",
            "2            temp  6.73\n",
            "1      workingday  4.66\n",
            "3       windspeed  4.64\n",
            "4          spring  2.38\n",
            "5          summer  2.32\n",
            "0            year  2.07\n",
            "6          winter  1.91\n",
            "9             Sat  1.83\n",
            "7             Jul  1.58\n",
            "11  Mist + Cloudy  1.57\n",
            "8             Sep  1.34\n",
            "10     Light Snow  1.08\n"
          ]
        }
      ]
    },
    {
      "cell_type": "code",
      "source": [
        "X_train_lmr3 = sm.add_constant(X_train_sel3)\n",
        "lr_3 = sm.OLS(y_train, X_train_lmr3).fit()\n",
        "print(lr_3.summary())"
      ],
      "metadata": {
        "colab": {
          "base_uri": "https://localhost:8080/"
        },
        "id": "CyUAPs_jfWNR",
        "outputId": "813424cc-e93f-4e4d-df38-6755be155a41"
      },
      "execution_count": 1287,
      "outputs": [
        {
          "output_type": "stream",
          "name": "stdout",
          "text": [
            "                            OLS Regression Results                            \n",
            "==============================================================================\n",
            "Dep. Variable:                    cnt   R-squared:                       0.840\n",
            "Model:                            OLS   Adj. R-squared:                  0.836\n",
            "Method:                 Least Squares   F-statistic:                     217.2\n",
            "Date:                Wed, 11 May 2022   Prob (F-statistic):          7.12e-189\n",
            "Time:                        18:06:10   Log-Likelihood:                 506.01\n",
            "No. Observations:                 510   AIC:                            -986.0\n",
            "Df Residuals:                     497   BIC:                            -931.0\n",
            "Df Model:                          12                                         \n",
            "Covariance Type:            nonrobust                                         \n",
            "=================================================================================\n",
            "                    coef    std err          t      P>|t|      [0.025      0.975]\n",
            "---------------------------------------------------------------------------------\n",
            "const             0.1492      0.031      4.881      0.000       0.089       0.209\n",
            "year              0.2339      0.008     28.756      0.000       0.218       0.250\n",
            "workingday        0.0545      0.011      4.938      0.000       0.033       0.076\n",
            "temp              0.4920      0.033     14.991      0.000       0.427       0.556\n",
            "windspeed        -0.1499      0.025     -6.040      0.000      -0.199      -0.101\n",
            "spring           -0.0664      0.021     -3.182      0.002      -0.107      -0.025\n",
            "summer            0.0481      0.015      3.196      0.001       0.019       0.078\n",
            "winter            0.0838      0.017      4.910      0.000       0.050       0.117\n",
            "Jul              -0.0486      0.018     -2.637      0.009      -0.085      -0.012\n",
            "Sep               0.0740      0.017      4.414      0.000       0.041       0.107\n",
            "Sat               0.0664      0.014      4.671      0.000       0.038       0.094\n",
            "Light Snow       -0.2883      0.024    -11.795      0.000      -0.336      -0.240\n",
            "Mist + Cloudy    -0.0817      0.009     -9.428      0.000      -0.099      -0.065\n",
            "==============================================================================\n",
            "Omnibus:                       72.429   Durbin-Watson:                   2.051\n",
            "Prob(Omnibus):                  0.000   Jarque-Bera (JB):              183.537\n",
            "Skew:                          -0.721   Prob(JB):                     1.40e-40\n",
            "Kurtosis:                       5.560   Cond. No.                         19.5\n",
            "==============================================================================\n",
            "\n",
            "Warnings:\n",
            "[1] Standard Errors assume that the covariance matrix of the errors is correctly specified.\n"
          ]
        },
        {
          "output_type": "stream",
          "name": "stderr",
          "text": [
            "/usr/local/lib/python3.7/dist-packages/statsmodels/tsa/tsatools.py:117: FutureWarning:\n",
            "\n",
            "In a future version of pandas all arguments of concat except for the argument 'objs' will be keyword-only\n",
            "\n"
          ]
        }
      ]
    },
    {
      "cell_type": "markdown",
      "source": [
        "Dropping Holiday has made little difference in VIF, we will continue with other variables and observe"
      ],
      "metadata": {
        "id": "F5YAh4PWffsS"
      }
    },
    {
      "cell_type": "code",
      "source": [
        "X_train_sel4 = X_train_sel3.drop(['Jul'], axis = 1)\n",
        "check_vif(X_train_sel4)"
      ],
      "metadata": {
        "colab": {
          "base_uri": "https://localhost:8080/"
        },
        "id": "2LJR1LEygCUf",
        "outputId": "2f5b40e5-d04e-44a5-db16-d53055e6d2dd"
      },
      "execution_count": 1288,
      "outputs": [
        {
          "output_type": "stream",
          "name": "stdout",
          "text": [
            "         Features   VIF\n",
            "2            temp  5.48\n",
            "1      workingday  4.66\n",
            "3       windspeed  4.64\n",
            "4          spring  2.30\n",
            "0            year  2.07\n",
            "5          summer  2.00\n",
            "8             Sat  1.83\n",
            "6          winter  1.76\n",
            "10  Mist + Cloudy  1.57\n",
            "7             Sep  1.23\n",
            "9      Light Snow  1.08\n"
          ]
        }
      ]
    },
    {
      "cell_type": "code",
      "source": [
        "X_train_lmr4 = sm.add_constant(X_train_sel4)\n",
        "lr_4 = sm.OLS(y_train, X_train_lmr4).fit()\n",
        "print(lr_4.summary())"
      ],
      "metadata": {
        "colab": {
          "base_uri": "https://localhost:8080/"
        },
        "id": "RjO3t5hdgdtG",
        "outputId": "17a07fb9-bba6-49e0-e7e5-f58c90e46a54"
      },
      "execution_count": 1289,
      "outputs": [
        {
          "output_type": "stream",
          "name": "stderr",
          "text": [
            "/usr/local/lib/python3.7/dist-packages/statsmodels/tsa/tsatools.py:117: FutureWarning:\n",
            "\n",
            "In a future version of pandas all arguments of concat except for the argument 'objs' will be keyword-only\n",
            "\n"
          ]
        },
        {
          "output_type": "stream",
          "name": "stdout",
          "text": [
            "                            OLS Regression Results                            \n",
            "==============================================================================\n",
            "Dep. Variable:                    cnt   R-squared:                       0.838\n",
            "Model:                            OLS   Adj. R-squared:                  0.834\n",
            "Method:                 Least Squares   F-statistic:                     233.6\n",
            "Date:                Wed, 11 May 2022   Prob (F-statistic):          1.42e-188\n",
            "Time:                        18:06:10   Log-Likelihood:                 502.47\n",
            "No. Observations:                 510   AIC:                            -980.9\n",
            "Df Residuals:                     498   BIC:                            -930.1\n",
            "Df Model:                          11                                         \n",
            "Covariance Type:            nonrobust                                         \n",
            "=================================================================================\n",
            "                    coef    std err          t      P>|t|      [0.025      0.975]\n",
            "---------------------------------------------------------------------------------\n",
            "const             0.1406      0.031      4.597      0.000       0.080       0.201\n",
            "year              0.2344      0.008     28.655      0.000       0.218       0.250\n",
            "workingday        0.0555      0.011      4.996      0.000       0.034       0.077\n",
            "temp              0.4796      0.033     14.678      0.000       0.415       0.544\n",
            "windspeed        -0.1500      0.025     -6.007      0.000      -0.199      -0.101\n",
            "spring           -0.0554      0.021     -2.692      0.007      -0.096      -0.015\n",
            "summer            0.0626      0.014      4.447      0.000       0.035       0.090\n",
            "winter            0.0958      0.017      5.788      0.000       0.063       0.128\n",
            "Sep               0.0873      0.016      5.423      0.000       0.056       0.119\n",
            "Sat               0.0667      0.014      4.665      0.000       0.039       0.095\n",
            "Light Snow       -0.2893      0.025    -11.765      0.000      -0.338      -0.241\n",
            "Mist + Cloudy    -0.0804      0.009     -9.241      0.000      -0.097      -0.063\n",
            "==============================================================================\n",
            "Omnibus:                       76.073   Durbin-Watson:                   2.083\n",
            "Prob(Omnibus):                  0.000   Jarque-Bera (JB):              187.745\n",
            "Skew:                          -0.765   Prob(JB):                     1.71e-41\n",
            "Kurtosis:                       5.548   Cond. No.                         19.4\n",
            "==============================================================================\n",
            "\n",
            "Warnings:\n",
            "[1] Standard Errors assume that the covariance matrix of the errors is correctly specified.\n"
          ]
        }
      ]
    },
    {
      "cell_type": "markdown",
      "source": [
        "VIF values are dropped and atlast to make it acceptable we will drop Spring"
      ],
      "metadata": {
        "id": "i8iXG5Dxgt2y"
      }
    },
    {
      "cell_type": "code",
      "source": [
        "X_train_sel5 = X_train_sel4.drop(['spring'], axis = 1)\n",
        "check_vif(X_train_sel5)"
      ],
      "metadata": {
        "colab": {
          "base_uri": "https://localhost:8080/"
        },
        "id": "leL-bZWQgizM",
        "outputId": "885da74d-cdfd-4a19-f06e-958afc8af541"
      },
      "execution_count": 1290,
      "outputs": [
        {
          "output_type": "stream",
          "name": "stdout",
          "text": [
            "        Features   VIF\n",
            "2           temp  4.76\n",
            "1     workingday  4.04\n",
            "3      windspeed  3.44\n",
            "0           year  2.02\n",
            "7            Sat  1.69\n",
            "4         summer  1.57\n",
            "9  Mist + Cloudy  1.53\n",
            "5         winter  1.40\n",
            "6            Sep  1.20\n",
            "8     Light Snow  1.08\n"
          ]
        }
      ]
    },
    {
      "cell_type": "code",
      "source": [
        "X_train_lmr5 = sm.add_constant(X_train_sel5)\n",
        "lr_5 = sm.OLS(y_train, X_train_lmr5).fit()\n",
        "print(lr_5.summary())"
      ],
      "metadata": {
        "colab": {
          "base_uri": "https://localhost:8080/"
        },
        "id": "oC5gU2hZhkuB",
        "outputId": "77927172-01d9-4671-9539-4f1bed15b956"
      },
      "execution_count": 1291,
      "outputs": [
        {
          "output_type": "stream",
          "name": "stdout",
          "text": [
            "                            OLS Regression Results                            \n",
            "==============================================================================\n",
            "Dep. Variable:                    cnt   R-squared:                       0.835\n",
            "Model:                            OLS   Adj. R-squared:                  0.832\n",
            "Method:                 Least Squares   F-statistic:                     253.0\n",
            "Date:                Wed, 11 May 2022   Prob (F-statistic):          3.13e-188\n",
            "Time:                        18:06:11   Log-Likelihood:                 498.79\n",
            "No. Observations:                 510   AIC:                            -975.6\n",
            "Df Residuals:                     499   BIC:                            -929.0\n",
            "Df Model:                          10                                         \n",
            "Covariance Type:            nonrobust                                         \n",
            "=================================================================================\n",
            "                    coef    std err          t      P>|t|      [0.025      0.975]\n",
            "---------------------------------------------------------------------------------\n",
            "const             0.0750      0.019      4.031      0.000       0.038       0.112\n",
            "year              0.2331      0.008     28.370      0.000       0.217       0.249\n",
            "workingday        0.0561      0.011      5.024      0.000       0.034       0.078\n",
            "temp              0.5499      0.020     27.861      0.000       0.511       0.589\n",
            "windspeed        -0.1552      0.025     -6.195      0.000      -0.204      -0.106\n",
            "summer            0.0886      0.010      8.608      0.000       0.068       0.109\n",
            "winter            0.1307      0.010     12.600      0.000       0.110       0.151\n",
            "Sep               0.0974      0.016      6.184      0.000       0.066       0.128\n",
            "Sat               0.0675      0.014      4.693      0.000       0.039       0.096\n",
            "Light Snow       -0.2871      0.025    -11.611      0.000      -0.336      -0.239\n",
            "Mist + Cloudy    -0.0800      0.009     -9.143      0.000      -0.097      -0.063\n",
            "==============================================================================\n",
            "Omnibus:                       68.639   Durbin-Watson:                   2.089\n",
            "Prob(Omnibus):                  0.000   Jarque-Bera (JB):              151.839\n",
            "Skew:                          -0.731   Prob(JB):                     1.07e-33\n",
            "Kurtosis:                       5.238   Cond. No.                         11.6\n",
            "==============================================================================\n",
            "\n",
            "Warnings:\n",
            "[1] Standard Errors assume that the covariance matrix of the errors is correctly specified.\n"
          ]
        },
        {
          "output_type": "stream",
          "name": "stderr",
          "text": [
            "/usr/local/lib/python3.7/dist-packages/statsmodels/tsa/tsatools.py:117: FutureWarning:\n",
            "\n",
            "In a future version of pandas all arguments of concat except for the argument 'objs' will be keyword-only\n",
            "\n"
          ]
        }
      ]
    },
    {
      "cell_type": "markdown",
      "source": [
        "VIF values are less than 5 so we can proceed further"
      ],
      "metadata": {
        "id": "7kNGUQQYiWNS"
      }
    },
    {
      "cell_type": "markdown",
      "source": [
        "**Residual analysis**"
      ],
      "metadata": {
        "id": "XqPoaRjsiwas"
      }
    },
    {
      "cell_type": "code",
      "source": [
        "y_train_pred = lr_5.predict(X_train_lmr5)"
      ],
      "metadata": {
        "id": "gw87rSF7jKGM"
      },
      "execution_count": 1292,
      "outputs": []
    },
    {
      "cell_type": "code",
      "source": [
        "residual = y_train - y_train_pred\n",
        "res_hist= px.histogram(residual, nbins=20)\n",
        "res_hist.update_layout(title=\"Error terms\")\n",
        "res_hist.show()"
      ],
      "metadata": {
        "colab": {
          "base_uri": "https://localhost:8080/",
          "height": 542
        },
        "id": "jotVuhGUjePc",
        "outputId": "e26c2aee-1802-49e8-d76f-b045ad6de9e0"
      },
      "execution_count": 1293,
      "outputs": [
        {
          "output_type": "display_data",
          "data": {
            "text/html": [
              "<html>\n",
              "<head><meta charset=\"utf-8\" /></head>\n",
              "<body>\n",
              "    <div>            <script src=\"https://cdnjs.cloudflare.com/ajax/libs/mathjax/2.7.5/MathJax.js?config=TeX-AMS-MML_SVG\"></script><script type=\"text/javascript\">if (window.MathJax) {MathJax.Hub.Config({SVG: {font: \"STIX-Web\"}});}</script>                <script type=\"text/javascript\">window.PlotlyConfig = {MathJaxConfig: 'local'};</script>\n",
              "        <script src=\"https://cdn.plot.ly/plotly-2.8.3.min.js\"></script>                <div id=\"5568bee1-77d4-4ba2-a9dc-3c9ffcf8f043\" class=\"plotly-graph-div\" style=\"height:525px; width:100%;\"></div>            <script type=\"text/javascript\">                                    window.PLOTLYENV=window.PLOTLYENV || {};                                    if (document.getElementById(\"5568bee1-77d4-4ba2-a9dc-3c9ffcf8f043\")) {                    Plotly.newPlot(                        \"5568bee1-77d4-4ba2-a9dc-3c9ffcf8f043\",                        [{\"alignmentgroup\":\"True\",\"bingroup\":\"x\",\"hovertemplate\":\"variable=0<br>value=%{x}<br>count=%{y}<extra></extra>\",\"legendgroup\":\"0\",\"marker\":{\"color\":\"#636efa\",\"pattern\":{\"shape\":\"\"}},\"name\":\"0\",\"nbinsx\":20,\"offsetgroup\":\"0\",\"orientation\":\"v\",\"showlegend\":true,\"x\":[0.05621652931778298,-0.0340106688216219,-0.13591623721893537,-0.08959716658459344,-0.07966737325576725,-0.02437344309708578,0.029738770479621146,-0.0031508878691515196,-0.10802718981827708,0.16782878692341763,0.10866327169671397,0.03945687479920784,0.0006708704633022755,0.02511350271990942,0.11526620547313193,-0.0877265032032194,0.08802156719177612,0.1499314096641623,-0.04656609700122505,0.035509669035624136,0.028377653325077468,0.03411563457923672,0.0011704344032006375,0.06113001240559701,-0.06606646837023988,0.06617841014017978,-0.0008824266111863155,0.09882200731321089,-0.04110896014004051,-0.002095677536650964,0.14156971058251788,-0.25242179090912303,0.10939865904720347,0.04483476436360678,-0.04046368389422095,-0.20978068367208183,-0.03055887338944019,-0.0013751720078384322,-0.089165702217754,0.030346205463715026,0.009272494664168518,-0.20976204040687263,-0.008486556045787796,-0.10797121252392583,-0.02022835218590191,-8.971032272442336e-05,-0.02286483723880628,0.03188033230552678,0.07730542291564568,0.042963522597762815,0.045107883428824325,-0.09802683668665446,-0.013540426545179951,0.028457738751061057,0.013316892579182227,0.015243641569274491,0.09521119602238326,-0.33078288259642785,0.0843897738294348,0.022142225924810466,0.04497658093942647,0.03127778591471764,0.059173526859308545,0.09852427861810409,-0.07392701162913973,-0.08492892318434753,0.027683786211936845,-0.17913972962218022,-0.04585282053775619,-0.12179433825748709,0.05020726320390495,0.14763306965891632,0.008743840155489332,0.04371986452825172,-0.08012663928996788,-0.03262341974290306,-0.19126843344419697,-0.07341407385514953,-0.03443658122682347,0.08266503112471218,-0.044108376680826955,-0.02465036755060157,0.03764308765070207,0.058365816622967734,-0.073380630327609,0.038206016238683305,-0.07652425668961371,-0.032322468907469926,-0.08128800094298175,0.06812825526024997,-0.008868507946887705,0.05850998174596722,0.03400489845539778,-0.03226239437756906,0.051113081331149765,-0.040175686421400264,0.02989183566717668,-0.029053329981289067,0.05179451093999288,-0.009030794814731485,-0.17405567051690451,-0.10092582564764607,0.021117845810482705,0.07416910232406537,-0.14509829999759505,0.08497348571881874,0.0363826201346506,-0.03973201828625461,0.08517381778768485,0.03574784774017592,0.03374296460950632,-0.01820726329932143,-0.0450907489028983,-0.04320449848989005,0.03559675410185753,0.0018383439342275765,-0.08666521995548804,-0.04436677154613067,0.0007643216346779891,0.0005655223791489195,0.04174713996948802,0.03694481452510434,0.06650183564967015,0.22222140905221222,-0.00585190393502355,0.04554327745633824,-0.05527965092476672,0.030428304990215427,0.05944536506688641,0.04767664015043714,0.04270033394092787,-0.022022469768850472,-0.01817525565361633,0.03190469906488347,0.010218900519561314,-0.09347688059554093,-0.041145618134030504,0.0267589235169286,-0.07539106197131029,-0.09606078485893921,0.00031947444926899715,-0.09796345923332117,0.003342470638360684,0.019997309624554704,-0.012554571892067545,0.015739839778114217,0.00682599091949726,-0.03458474214364082,-0.04433625087756787,0.08908896209488304,0.02602698779116641,-0.36339996874019737,-0.03628952803907548,0.0514414268554374,-0.0505723287665219,-0.05978337019882851,0.1355874702744584,-0.009617332686495561,-0.034269722098641986,0.056583979493508796,-0.005030954035599278,0.04166953018095321,-0.014847091644207333,-0.12584389516983252,0.0465858944637606,0.05251826738563048,-0.12809142677177332,0.01741234588317797,-0.029128166687801244,-0.07847064784394656,0.03334270337708467,0.12969728959648597,0.06604946162379044,-0.10025767105785044,0.3143942997359943,-0.06606969975665353,0.006885111314879178,0.02171489720148756,0.035639643331169535,0.08217971519354983,-0.24315745948731227,0.10439981999753634,0.037838905558259084,-0.13101578914428635,0.08700329232581311,0.01108536631642254,0.11119102313812201,-0.08701486624955926,-0.1422012797767036,-0.07289081340796127,-0.16891911672527676,0.15464533366097744,0.020477416910987256,-0.07931636071676212,0.020993875535124884,0.012097287757949493,-0.09057990566822355,-0.08666373628101431,-0.004964465130968154,-0.06183160995405004,0.11235369753249347,0.0028063070346531216,0.03373052664674214,0.03231176358274768,0.04776768832288403,-0.17966358871287802,0.01802782649848983,0.01645318367058321,-0.044964677146316814,0.08714910529621378,0.0719477747138631,0.04050067167996163,-0.04284584761144883,-0.15398929952540394,-0.09323918978556883,-0.1411392059670279,0.08527620265158065,0.2191478934682689,-0.18109907005873038,-0.031362208626884436,0.0753964956036855,-0.11220655943139979,-0.19679339937232807,0.06361988764975546,0.10712959611041206,0.09051779340184996,0.0008115752330223325,0.0530135044133799,0.009119764537599995,-0.035665974348984664,-0.1344425151348548,-0.08578229739242471,-0.052682216993221564,-0.1304550753379995,-0.004170640148672522,-0.09857509488479543,0.07996576772328795,-0.1754957035356035,0.04925692200346088,-0.03233051373503265,0.11333030879732253,0.12414934800282573,-0.12074518625149394,0.06074259714567798,-0.03229980261183374,0.15477736919131135,0.05070405082741525,0.09059307282380413,-0.0011718153894021976,0.04774757089620485,0.09888977818669797,0.037067104145029894,0.016776967077224425,-0.25445073703812915,0.07732533329449798,-0.2684277365831469,0.09859063198148421,-0.0038638783038487112,-0.10761911680976638,0.023147286173261256,-0.14341082324705834,-0.09443128684443713,0.01142653095328261,-0.06655570065280059,0.14239053850803507,-0.01560640303666816,0.028991216583555524,0.07227863571231619,0.04296050038586936,-0.06707615858643623,2.7556355967572888e-05,0.10283207782037906,0.0946833312776526,-0.07335237776973957,-0.28543578299726735,0.05280826621825585,-0.02345912189817112,0.06941170477713213,-0.0048096415480131105,0.1808267311922827,-0.11315867832541443,0.0046716457684801704,-0.005507684716034911,0.01781084936490268,-0.08102909314723061,-0.03872851468327054,-0.047310619900394035,0.04163647878863436,-0.12448921339299274,-0.0021318410187515235,0.09948277419824147,0.06172444874827665,0.15634420777117652,0.0652219623207323,-0.15330159030525045,0.03805045478917746,0.05957271800187064,0.1280717903362104,-0.14854093959511816,0.0473283747975487,0.029268089567681455,0.007096678262265177,0.11121896823176636,-0.16792987175462792,0.04266559610931914,0.01181283661751964,0.020792537564230273,0.0214885402632381,-0.1461010854246208,-0.00017889616864308344,0.026709455502835544,0.15577585099911595,-0.04807201644809156,-0.017968165748075027,0.11624021198082146,-0.013603263618733652,-0.03404155566448469,-0.012241992988668904,0.06799513175193217,0.0006906629936649367,0.0130530203239696,-0.34379096109088547,-0.03935487980527608,0.053867919657040575,0.15855637436231523,0.10672490502537596,-0.021224664202845855,-0.18085321934465537,0.025273973895503454,-3.5805276583367185e-06,0.029021958934102532,0.012410305335911476,0.0438056248530021,0.0472036074915152,0.030055706474771904,-0.025237140249567275,0.08992136039266752,-0.010056309684398745,0.028193671661930986,0.1563399015784484,0.08799466819315455,0.06870314298856428,-0.017416838061236783,0.2164345268908664,-0.04564368975251576,0.14904588637339589,0.002782785751470951,-0.02450468357404889,-0.35126670697562495,0.00795514519154783,-0.03227361733702505,-0.04841800531863333,-0.017743765606701656,0.10751670387893675,0.009718185230473547,-0.004781142994096488,-0.04021848794829924,0.09144641851781166,-0.047378988444223835,-0.015230226404265634,-0.001196645147251374,0.0591083935369342,0.04247732831638182,0.06353889307247096,-0.07565494117717567,-0.02263744733850348,-0.07652992813227,-0.01629395295915137,-0.04621002983512479,0.027515483302140598,0.03453677462968707,0.010308236838732276,0.04822375419145164,-0.09837099403739535,-0.1735531992057605,-0.05583854869035143,0.02510614243209086,-0.019632440092340997,-0.0022110956747709853,-0.1665606677447584,-0.0884179149749843,0.0390528536971565,-0.007901854022089094,0.0671371238491624,0.020731541234039752,0.018677291680882724,0.0030410444812826176,0.03203787145427617,-0.018387007140800937,0.03164719024778315,-0.09680235245228519,0.05488600293771828,0.0341983477010237,0.08363236152520753,-0.0022943952004284562,0.006818582359061742,0.08287265129157267,0.013624221057953245,-0.05840696324639816,0.06107236971675667,0.01781840169187232,-0.016683243241842338,0.08818533462314206,0.004749904476502198,0.17382718427632374,-0.05678726841304327,-0.03650788051097731,-0.01755583247241821,-0.017640510598680326,-0.07449227145794743,-0.04138143024043761,0.10111489656578876,0.06651163797858861,-0.018028109986216845,0.1427524607649433,0.08802069251583983,-0.045531939281683476,0.03999705275087195,0.019258877381876705,0.06881478679814879,0.028670735375202816,-0.05919642877688536,-0.059151898970914996,0.044627585199038644,0.23958473091354004,0.16180620952363245,0.005317046642152823,-0.059658547140937435,0.12794456912522004,-0.06614411331810738,0.08856417655021154,-0.027539725065169218,-0.017706765216943032,0.12879550294531683,-0.05284569451681076,-0.03773491695650549,-0.06364810272407484,-0.07214795939140367,0.038220212699381806,-0.012954834254657321,0.11171339363744504,0.12480181866049589,0.05998219658197279,0.09339200519333846,0.108923594046892,0.07851870768391594,-0.035892378235629574,-0.09291231396103922,0.14364246437157924,0.07401102583660457,0.060422449103049725,0.0411913961109229,0.13806033165491993,-0.04004102512907992,-0.011777020394929949,-0.1075830164979234,0.02574053231639084,0.07518060661233156,-0.08026620982686727,0.0722819065097571,-0.026008482765418506,-0.04814399218406311,0.0840040972612467,0.09083423949674785,-0.06710128382214797,0.12944017179872114,-0.07322389260611739,0.03190673509498565,-0.09472317928628249,0.06362801609878604,-0.03373280469581752,0.12756645208654094,-0.013281021879856691,-0.1027342714664905,-0.25094414398066356,0.026525578815373818,0.0488157583057951,0.021146492140395518,-0.06925908311039175,0.019045337541289897,0.11460245554583615,-0.0037545010050968053,-0.006538749712808822,-0.056137631225468665,0.017339985732982843,0.0646843653942396,-0.034724610664340405,-0.09388426742250089,0.016426520500763653,-0.01632893776162539,-0.061633731669823444,0.03177737176903117,-0.039712094454933455,-0.41188110995582594,-0.021540522410744528,-0.0728861391595722,-0.10169810111670108,0.1453985090601665,-0.13577029329850454,0.15868585628501886,0.037782029108714976,-0.014907720537211122,0.1939102185276994,0.030708277484216118,-0.006918565870488336,0.022521459258424303,-0.007242184459335749,0.04997008581758977,-0.0754778574987762,0.1558087222662038],\"xaxis\":\"x\",\"yaxis\":\"y\",\"type\":\"histogram\"}],                        {\"template\":{\"data\":{\"bar\":[{\"error_x\":{\"color\":\"#2a3f5f\"},\"error_y\":{\"color\":\"#2a3f5f\"},\"marker\":{\"line\":{\"color\":\"#E5ECF6\",\"width\":0.5},\"pattern\":{\"fillmode\":\"overlay\",\"size\":10,\"solidity\":0.2}},\"type\":\"bar\"}],\"barpolar\":[{\"marker\":{\"line\":{\"color\":\"#E5ECF6\",\"width\":0.5},\"pattern\":{\"fillmode\":\"overlay\",\"size\":10,\"solidity\":0.2}},\"type\":\"barpolar\"}],\"carpet\":[{\"aaxis\":{\"endlinecolor\":\"#2a3f5f\",\"gridcolor\":\"white\",\"linecolor\":\"white\",\"minorgridcolor\":\"white\",\"startlinecolor\":\"#2a3f5f\"},\"baxis\":{\"endlinecolor\":\"#2a3f5f\",\"gridcolor\":\"white\",\"linecolor\":\"white\",\"minorgridcolor\":\"white\",\"startlinecolor\":\"#2a3f5f\"},\"type\":\"carpet\"}],\"choropleth\":[{\"colorbar\":{\"outlinewidth\":0,\"ticks\":\"\"},\"type\":\"choropleth\"}],\"contour\":[{\"colorbar\":{\"outlinewidth\":0,\"ticks\":\"\"},\"colorscale\":[[0.0,\"#0d0887\"],[0.1111111111111111,\"#46039f\"],[0.2222222222222222,\"#7201a8\"],[0.3333333333333333,\"#9c179e\"],[0.4444444444444444,\"#bd3786\"],[0.5555555555555556,\"#d8576b\"],[0.6666666666666666,\"#ed7953\"],[0.7777777777777778,\"#fb9f3a\"],[0.8888888888888888,\"#fdca26\"],[1.0,\"#f0f921\"]],\"type\":\"contour\"}],\"contourcarpet\":[{\"colorbar\":{\"outlinewidth\":0,\"ticks\":\"\"},\"type\":\"contourcarpet\"}],\"heatmap\":[{\"colorbar\":{\"outlinewidth\":0,\"ticks\":\"\"},\"colorscale\":[[0.0,\"#0d0887\"],[0.1111111111111111,\"#46039f\"],[0.2222222222222222,\"#7201a8\"],[0.3333333333333333,\"#9c179e\"],[0.4444444444444444,\"#bd3786\"],[0.5555555555555556,\"#d8576b\"],[0.6666666666666666,\"#ed7953\"],[0.7777777777777778,\"#fb9f3a\"],[0.8888888888888888,\"#fdca26\"],[1.0,\"#f0f921\"]],\"type\":\"heatmap\"}],\"heatmapgl\":[{\"colorbar\":{\"outlinewidth\":0,\"ticks\":\"\"},\"colorscale\":[[0.0,\"#0d0887\"],[0.1111111111111111,\"#46039f\"],[0.2222222222222222,\"#7201a8\"],[0.3333333333333333,\"#9c179e\"],[0.4444444444444444,\"#bd3786\"],[0.5555555555555556,\"#d8576b\"],[0.6666666666666666,\"#ed7953\"],[0.7777777777777778,\"#fb9f3a\"],[0.8888888888888888,\"#fdca26\"],[1.0,\"#f0f921\"]],\"type\":\"heatmapgl\"}],\"histogram\":[{\"marker\":{\"pattern\":{\"fillmode\":\"overlay\",\"size\":10,\"solidity\":0.2}},\"type\":\"histogram\"}],\"histogram2d\":[{\"colorbar\":{\"outlinewidth\":0,\"ticks\":\"\"},\"colorscale\":[[0.0,\"#0d0887\"],[0.1111111111111111,\"#46039f\"],[0.2222222222222222,\"#7201a8\"],[0.3333333333333333,\"#9c179e\"],[0.4444444444444444,\"#bd3786\"],[0.5555555555555556,\"#d8576b\"],[0.6666666666666666,\"#ed7953\"],[0.7777777777777778,\"#fb9f3a\"],[0.8888888888888888,\"#fdca26\"],[1.0,\"#f0f921\"]],\"type\":\"histogram2d\"}],\"histogram2dcontour\":[{\"colorbar\":{\"outlinewidth\":0,\"ticks\":\"\"},\"colorscale\":[[0.0,\"#0d0887\"],[0.1111111111111111,\"#46039f\"],[0.2222222222222222,\"#7201a8\"],[0.3333333333333333,\"#9c179e\"],[0.4444444444444444,\"#bd3786\"],[0.5555555555555556,\"#d8576b\"],[0.6666666666666666,\"#ed7953\"],[0.7777777777777778,\"#fb9f3a\"],[0.8888888888888888,\"#fdca26\"],[1.0,\"#f0f921\"]],\"type\":\"histogram2dcontour\"}],\"mesh3d\":[{\"colorbar\":{\"outlinewidth\":0,\"ticks\":\"\"},\"type\":\"mesh3d\"}],\"parcoords\":[{\"line\":{\"colorbar\":{\"outlinewidth\":0,\"ticks\":\"\"}},\"type\":\"parcoords\"}],\"pie\":[{\"automargin\":true,\"type\":\"pie\"}],\"scatter\":[{\"marker\":{\"colorbar\":{\"outlinewidth\":0,\"ticks\":\"\"}},\"type\":\"scatter\"}],\"scatter3d\":[{\"line\":{\"colorbar\":{\"outlinewidth\":0,\"ticks\":\"\"}},\"marker\":{\"colorbar\":{\"outlinewidth\":0,\"ticks\":\"\"}},\"type\":\"scatter3d\"}],\"scattercarpet\":[{\"marker\":{\"colorbar\":{\"outlinewidth\":0,\"ticks\":\"\"}},\"type\":\"scattercarpet\"}],\"scattergeo\":[{\"marker\":{\"colorbar\":{\"outlinewidth\":0,\"ticks\":\"\"}},\"type\":\"scattergeo\"}],\"scattergl\":[{\"marker\":{\"colorbar\":{\"outlinewidth\":0,\"ticks\":\"\"}},\"type\":\"scattergl\"}],\"scattermapbox\":[{\"marker\":{\"colorbar\":{\"outlinewidth\":0,\"ticks\":\"\"}},\"type\":\"scattermapbox\"}],\"scatterpolar\":[{\"marker\":{\"colorbar\":{\"outlinewidth\":0,\"ticks\":\"\"}},\"type\":\"scatterpolar\"}],\"scatterpolargl\":[{\"marker\":{\"colorbar\":{\"outlinewidth\":0,\"ticks\":\"\"}},\"type\":\"scatterpolargl\"}],\"scatterternary\":[{\"marker\":{\"colorbar\":{\"outlinewidth\":0,\"ticks\":\"\"}},\"type\":\"scatterternary\"}],\"surface\":[{\"colorbar\":{\"outlinewidth\":0,\"ticks\":\"\"},\"colorscale\":[[0.0,\"#0d0887\"],[0.1111111111111111,\"#46039f\"],[0.2222222222222222,\"#7201a8\"],[0.3333333333333333,\"#9c179e\"],[0.4444444444444444,\"#bd3786\"],[0.5555555555555556,\"#d8576b\"],[0.6666666666666666,\"#ed7953\"],[0.7777777777777778,\"#fb9f3a\"],[0.8888888888888888,\"#fdca26\"],[1.0,\"#f0f921\"]],\"type\":\"surface\"}],\"table\":[{\"cells\":{\"fill\":{\"color\":\"#EBF0F8\"},\"line\":{\"color\":\"white\"}},\"header\":{\"fill\":{\"color\":\"#C8D4E3\"},\"line\":{\"color\":\"white\"}},\"type\":\"table\"}]},\"layout\":{\"annotationdefaults\":{\"arrowcolor\":\"#2a3f5f\",\"arrowhead\":0,\"arrowwidth\":1},\"autotypenumbers\":\"strict\",\"coloraxis\":{\"colorbar\":{\"outlinewidth\":0,\"ticks\":\"\"}},\"colorscale\":{\"diverging\":[[0,\"#8e0152\"],[0.1,\"#c51b7d\"],[0.2,\"#de77ae\"],[0.3,\"#f1b6da\"],[0.4,\"#fde0ef\"],[0.5,\"#f7f7f7\"],[0.6,\"#e6f5d0\"],[0.7,\"#b8e186\"],[0.8,\"#7fbc41\"],[0.9,\"#4d9221\"],[1,\"#276419\"]],\"sequential\":[[0.0,\"#0d0887\"],[0.1111111111111111,\"#46039f\"],[0.2222222222222222,\"#7201a8\"],[0.3333333333333333,\"#9c179e\"],[0.4444444444444444,\"#bd3786\"],[0.5555555555555556,\"#d8576b\"],[0.6666666666666666,\"#ed7953\"],[0.7777777777777778,\"#fb9f3a\"],[0.8888888888888888,\"#fdca26\"],[1.0,\"#f0f921\"]],\"sequentialminus\":[[0.0,\"#0d0887\"],[0.1111111111111111,\"#46039f\"],[0.2222222222222222,\"#7201a8\"],[0.3333333333333333,\"#9c179e\"],[0.4444444444444444,\"#bd3786\"],[0.5555555555555556,\"#d8576b\"],[0.6666666666666666,\"#ed7953\"],[0.7777777777777778,\"#fb9f3a\"],[0.8888888888888888,\"#fdca26\"],[1.0,\"#f0f921\"]]},\"colorway\":[\"#636efa\",\"#EF553B\",\"#00cc96\",\"#ab63fa\",\"#FFA15A\",\"#19d3f3\",\"#FF6692\",\"#B6E880\",\"#FF97FF\",\"#FECB52\"],\"font\":{\"color\":\"#2a3f5f\"},\"geo\":{\"bgcolor\":\"white\",\"lakecolor\":\"white\",\"landcolor\":\"#E5ECF6\",\"showlakes\":true,\"showland\":true,\"subunitcolor\":\"white\"},\"hoverlabel\":{\"align\":\"left\"},\"hovermode\":\"closest\",\"mapbox\":{\"style\":\"light\"},\"paper_bgcolor\":\"white\",\"plot_bgcolor\":\"#E5ECF6\",\"polar\":{\"angularaxis\":{\"gridcolor\":\"white\",\"linecolor\":\"white\",\"ticks\":\"\"},\"bgcolor\":\"#E5ECF6\",\"radialaxis\":{\"gridcolor\":\"white\",\"linecolor\":\"white\",\"ticks\":\"\"}},\"scene\":{\"xaxis\":{\"backgroundcolor\":\"#E5ECF6\",\"gridcolor\":\"white\",\"gridwidth\":2,\"linecolor\":\"white\",\"showbackground\":true,\"ticks\":\"\",\"zerolinecolor\":\"white\"},\"yaxis\":{\"backgroundcolor\":\"#E5ECF6\",\"gridcolor\":\"white\",\"gridwidth\":2,\"linecolor\":\"white\",\"showbackground\":true,\"ticks\":\"\",\"zerolinecolor\":\"white\"},\"zaxis\":{\"backgroundcolor\":\"#E5ECF6\",\"gridcolor\":\"white\",\"gridwidth\":2,\"linecolor\":\"white\",\"showbackground\":true,\"ticks\":\"\",\"zerolinecolor\":\"white\"}},\"shapedefaults\":{\"line\":{\"color\":\"#2a3f5f\"}},\"ternary\":{\"aaxis\":{\"gridcolor\":\"white\",\"linecolor\":\"white\",\"ticks\":\"\"},\"baxis\":{\"gridcolor\":\"white\",\"linecolor\":\"white\",\"ticks\":\"\"},\"bgcolor\":\"#E5ECF6\",\"caxis\":{\"gridcolor\":\"white\",\"linecolor\":\"white\",\"ticks\":\"\"}},\"title\":{\"x\":0.05},\"xaxis\":{\"automargin\":true,\"gridcolor\":\"white\",\"linecolor\":\"white\",\"ticks\":\"\",\"title\":{\"standoff\":15},\"zerolinecolor\":\"white\",\"zerolinewidth\":2},\"yaxis\":{\"automargin\":true,\"gridcolor\":\"white\",\"linecolor\":\"white\",\"ticks\":\"\",\"title\":{\"standoff\":15},\"zerolinecolor\":\"white\",\"zerolinewidth\":2}}},\"xaxis\":{\"anchor\":\"y\",\"domain\":[0.0,1.0],\"title\":{\"text\":\"value\"}},\"yaxis\":{\"anchor\":\"x\",\"domain\":[0.0,1.0],\"title\":{\"text\":\"count\"}},\"legend\":{\"title\":{\"text\":\"variable\"},\"tracegroupgap\":0},\"margin\":{\"t\":60},\"barmode\":\"relative\",\"title\":{\"text\":\"Error terms\"}},                        {\"responsive\": true}                    ).then(function(){\n",
              "                            \n",
              "var gd = document.getElementById('5568bee1-77d4-4ba2-a9dc-3c9ffcf8f043');\n",
              "var x = new MutationObserver(function (mutations, observer) {{\n",
              "        var display = window.getComputedStyle(gd).display;\n",
              "        if (!display || display === 'none') {{\n",
              "            console.log([gd, 'removed!']);\n",
              "            Plotly.purge(gd);\n",
              "            observer.disconnect();\n",
              "        }}\n",
              "}});\n",
              "\n",
              "// Listen for the removal of the full notebook cells\n",
              "var notebookContainer = gd.closest('#notebook-container');\n",
              "if (notebookContainer) {{\n",
              "    x.observe(notebookContainer, {childList: true});\n",
              "}}\n",
              "\n",
              "// Listen for the clearing of the current output cell\n",
              "var outputEl = gd.closest('.output');\n",
              "if (outputEl) {{\n",
              "    x.observe(outputEl, {childList: true});\n",
              "}}\n",
              "\n",
              "                        })                };                            </script>        </div>\n",
              "</body>\n",
              "</html>"
            ]
          },
          "metadata": {}
        }
      ]
    },
    {
      "cell_type": "markdown",
      "source": [
        "As we see above error terms are follwing normal distribution"
      ],
      "metadata": {
        "id": "hy2fB75OkGiZ"
      }
    },
    {
      "cell_type": "code",
      "source": [
        "model_heatmap = px.imshow(X_train_sel5.corr(),text_auto = True, aspect=\"auto\", height=800)\n",
        "model_heatmap.update_layout(title=\"Heatmap for corelation\")\n",
        "model_heatmap.show()"
      ],
      "metadata": {
        "colab": {
          "base_uri": "https://localhost:8080/",
          "height": 817
        },
        "id": "tPLn12WeqE0K",
        "outputId": "67a9b534-a6f8-4d99-e120-5b7f4d5230a9"
      },
      "execution_count": 1294,
      "outputs": [
        {
          "output_type": "display_data",
          "data": {
            "text/html": [
              "<html>\n",
              "<head><meta charset=\"utf-8\" /></head>\n",
              "<body>\n",
              "    <div>            <script src=\"https://cdnjs.cloudflare.com/ajax/libs/mathjax/2.7.5/MathJax.js?config=TeX-AMS-MML_SVG\"></script><script type=\"text/javascript\">if (window.MathJax) {MathJax.Hub.Config({SVG: {font: \"STIX-Web\"}});}</script>                <script type=\"text/javascript\">window.PlotlyConfig = {MathJaxConfig: 'local'};</script>\n",
              "        <script src=\"https://cdn.plot.ly/plotly-2.8.3.min.js\"></script>                <div id=\"0e480abb-3d3b-4c89-bbe7-1e77a12ac3a8\" class=\"plotly-graph-div\" style=\"height:800px; width:100%;\"></div>            <script type=\"text/javascript\">                                    window.PLOTLYENV=window.PLOTLYENV || {};                                    if (document.getElementById(\"0e480abb-3d3b-4c89-bbe7-1e77a12ac3a8\")) {                    Plotly.newPlot(                        \"0e480abb-3d3b-4c89-bbe7-1e77a12ac3a8\",                        [{\"coloraxis\":\"coloraxis\",\"name\":\"0\",\"texttemplate\":\"%{z}\",\"x\":[\"year\",\"workingday\",\"temp\",\"windspeed\",\"summer\",\"winter\",\"Sep\",\"Sat\",\"Light Snow\",\"Mist + Cloudy\"],\"y\":[\"year\",\"workingday\",\"temp\",\"windspeed\",\"summer\",\"winter\",\"Sep\",\"Sat\",\"Light Snow\",\"Mist + Cloudy\"],\"z\":[[1.0,0.03180846465752778,0.10805400875540157,-0.0004392466302552859,0.018294044587900057,-0.027173610089629385,0.0025738089090455054,-0.033816702445231744,-0.06076399144564227,-0.011388233129565476],[0.03180846465752778,1.0,0.06832566368217646,-0.0427042629502434,0.04630243910143346,-0.0605933153673079,0.019495296527094266,-0.6190738876580795,0.021158725693862526,0.04356316788330399],[0.10805400875540157,0.06832566368217646,1.0,-0.18728095261006536,0.12605657368984216,-0.23420025123349525,0.20721200834409925,-0.04260783022338604,-0.036227090332391985,-0.08945197192083955],[-0.0004392466302552859,-0.0427042629502434,-0.18728095261006536,1.0,0.11044089102587326,-0.09074011276645486,-0.12193008218358274,0.049063022953108944,0.08677831590463236,-0.029892243745153018],[0.018294044587900057,0.04630243910143346,0.12605657368984216,0.11044089102587326,1.0,-0.3281249999999999,-0.1693655853251696,-0.01906943805169956,-0.04590078774068756,0.043201817970751163],[-0.027173610089629385,-0.0605933153673079,-0.23420025123349525,-0.09074011276645486,-0.3281249999999999,1.0,-0.018883967701761064,0.01862596274817166,0.11554336224379952,0.024076013139949823],[0.0025738089090455054,0.019495296527094266,0.20721200834409925,-0.12193008218358274,-0.1693655853251696,-0.018883967701761064,1.0,-0.006995560236907931,0.03389443856092156,0.043247050109577405],[-0.033816702445231744,-0.6190738876580795,-0.04260783022338604,0.049063022953108944,-0.01906943805169956,0.01862596274817166,-0.006995560236907931,1.0,0.02169794906383998,0.008404388056065696],[-0.06076399144564227,0.021158725693862526,-0.036227090332391985,0.08677831590463236,-0.04590078774068756,0.11554336224379952,0.03389443856092156,0.02169794906383998,1.0,-0.12636480472131276],[-0.011388233129565476,0.04356316788330399,-0.08945197192083955,-0.029892243745153018,0.043201817970751163,0.024076013139949823,0.043247050109577405,0.008404388056065696,-0.12636480472131276,1.0]],\"type\":\"heatmap\",\"xaxis\":\"x\",\"yaxis\":\"y\",\"hovertemplate\":\"x: %{x}<br>y: %{y}<br>color: %{z}<extra></extra>\"}],                        {\"template\":{\"data\":{\"bar\":[{\"error_x\":{\"color\":\"#2a3f5f\"},\"error_y\":{\"color\":\"#2a3f5f\"},\"marker\":{\"line\":{\"color\":\"#E5ECF6\",\"width\":0.5},\"pattern\":{\"fillmode\":\"overlay\",\"size\":10,\"solidity\":0.2}},\"type\":\"bar\"}],\"barpolar\":[{\"marker\":{\"line\":{\"color\":\"#E5ECF6\",\"width\":0.5},\"pattern\":{\"fillmode\":\"overlay\",\"size\":10,\"solidity\":0.2}},\"type\":\"barpolar\"}],\"carpet\":[{\"aaxis\":{\"endlinecolor\":\"#2a3f5f\",\"gridcolor\":\"white\",\"linecolor\":\"white\",\"minorgridcolor\":\"white\",\"startlinecolor\":\"#2a3f5f\"},\"baxis\":{\"endlinecolor\":\"#2a3f5f\",\"gridcolor\":\"white\",\"linecolor\":\"white\",\"minorgridcolor\":\"white\",\"startlinecolor\":\"#2a3f5f\"},\"type\":\"carpet\"}],\"choropleth\":[{\"colorbar\":{\"outlinewidth\":0,\"ticks\":\"\"},\"type\":\"choropleth\"}],\"contour\":[{\"colorbar\":{\"outlinewidth\":0,\"ticks\":\"\"},\"colorscale\":[[0.0,\"#0d0887\"],[0.1111111111111111,\"#46039f\"],[0.2222222222222222,\"#7201a8\"],[0.3333333333333333,\"#9c179e\"],[0.4444444444444444,\"#bd3786\"],[0.5555555555555556,\"#d8576b\"],[0.6666666666666666,\"#ed7953\"],[0.7777777777777778,\"#fb9f3a\"],[0.8888888888888888,\"#fdca26\"],[1.0,\"#f0f921\"]],\"type\":\"contour\"}],\"contourcarpet\":[{\"colorbar\":{\"outlinewidth\":0,\"ticks\":\"\"},\"type\":\"contourcarpet\"}],\"heatmap\":[{\"colorbar\":{\"outlinewidth\":0,\"ticks\":\"\"},\"colorscale\":[[0.0,\"#0d0887\"],[0.1111111111111111,\"#46039f\"],[0.2222222222222222,\"#7201a8\"],[0.3333333333333333,\"#9c179e\"],[0.4444444444444444,\"#bd3786\"],[0.5555555555555556,\"#d8576b\"],[0.6666666666666666,\"#ed7953\"],[0.7777777777777778,\"#fb9f3a\"],[0.8888888888888888,\"#fdca26\"],[1.0,\"#f0f921\"]],\"type\":\"heatmap\"}],\"heatmapgl\":[{\"colorbar\":{\"outlinewidth\":0,\"ticks\":\"\"},\"colorscale\":[[0.0,\"#0d0887\"],[0.1111111111111111,\"#46039f\"],[0.2222222222222222,\"#7201a8\"],[0.3333333333333333,\"#9c179e\"],[0.4444444444444444,\"#bd3786\"],[0.5555555555555556,\"#d8576b\"],[0.6666666666666666,\"#ed7953\"],[0.7777777777777778,\"#fb9f3a\"],[0.8888888888888888,\"#fdca26\"],[1.0,\"#f0f921\"]],\"type\":\"heatmapgl\"}],\"histogram\":[{\"marker\":{\"pattern\":{\"fillmode\":\"overlay\",\"size\":10,\"solidity\":0.2}},\"type\":\"histogram\"}],\"histogram2d\":[{\"colorbar\":{\"outlinewidth\":0,\"ticks\":\"\"},\"colorscale\":[[0.0,\"#0d0887\"],[0.1111111111111111,\"#46039f\"],[0.2222222222222222,\"#7201a8\"],[0.3333333333333333,\"#9c179e\"],[0.4444444444444444,\"#bd3786\"],[0.5555555555555556,\"#d8576b\"],[0.6666666666666666,\"#ed7953\"],[0.7777777777777778,\"#fb9f3a\"],[0.8888888888888888,\"#fdca26\"],[1.0,\"#f0f921\"]],\"type\":\"histogram2d\"}],\"histogram2dcontour\":[{\"colorbar\":{\"outlinewidth\":0,\"ticks\":\"\"},\"colorscale\":[[0.0,\"#0d0887\"],[0.1111111111111111,\"#46039f\"],[0.2222222222222222,\"#7201a8\"],[0.3333333333333333,\"#9c179e\"],[0.4444444444444444,\"#bd3786\"],[0.5555555555555556,\"#d8576b\"],[0.6666666666666666,\"#ed7953\"],[0.7777777777777778,\"#fb9f3a\"],[0.8888888888888888,\"#fdca26\"],[1.0,\"#f0f921\"]],\"type\":\"histogram2dcontour\"}],\"mesh3d\":[{\"colorbar\":{\"outlinewidth\":0,\"ticks\":\"\"},\"type\":\"mesh3d\"}],\"parcoords\":[{\"line\":{\"colorbar\":{\"outlinewidth\":0,\"ticks\":\"\"}},\"type\":\"parcoords\"}],\"pie\":[{\"automargin\":true,\"type\":\"pie\"}],\"scatter\":[{\"marker\":{\"colorbar\":{\"outlinewidth\":0,\"ticks\":\"\"}},\"type\":\"scatter\"}],\"scatter3d\":[{\"line\":{\"colorbar\":{\"outlinewidth\":0,\"ticks\":\"\"}},\"marker\":{\"colorbar\":{\"outlinewidth\":0,\"ticks\":\"\"}},\"type\":\"scatter3d\"}],\"scattercarpet\":[{\"marker\":{\"colorbar\":{\"outlinewidth\":0,\"ticks\":\"\"}},\"type\":\"scattercarpet\"}],\"scattergeo\":[{\"marker\":{\"colorbar\":{\"outlinewidth\":0,\"ticks\":\"\"}},\"type\":\"scattergeo\"}],\"scattergl\":[{\"marker\":{\"colorbar\":{\"outlinewidth\":0,\"ticks\":\"\"}},\"type\":\"scattergl\"}],\"scattermapbox\":[{\"marker\":{\"colorbar\":{\"outlinewidth\":0,\"ticks\":\"\"}},\"type\":\"scattermapbox\"}],\"scatterpolar\":[{\"marker\":{\"colorbar\":{\"outlinewidth\":0,\"ticks\":\"\"}},\"type\":\"scatterpolar\"}],\"scatterpolargl\":[{\"marker\":{\"colorbar\":{\"outlinewidth\":0,\"ticks\":\"\"}},\"type\":\"scatterpolargl\"}],\"scatterternary\":[{\"marker\":{\"colorbar\":{\"outlinewidth\":0,\"ticks\":\"\"}},\"type\":\"scatterternary\"}],\"surface\":[{\"colorbar\":{\"outlinewidth\":0,\"ticks\":\"\"},\"colorscale\":[[0.0,\"#0d0887\"],[0.1111111111111111,\"#46039f\"],[0.2222222222222222,\"#7201a8\"],[0.3333333333333333,\"#9c179e\"],[0.4444444444444444,\"#bd3786\"],[0.5555555555555556,\"#d8576b\"],[0.6666666666666666,\"#ed7953\"],[0.7777777777777778,\"#fb9f3a\"],[0.8888888888888888,\"#fdca26\"],[1.0,\"#f0f921\"]],\"type\":\"surface\"}],\"table\":[{\"cells\":{\"fill\":{\"color\":\"#EBF0F8\"},\"line\":{\"color\":\"white\"}},\"header\":{\"fill\":{\"color\":\"#C8D4E3\"},\"line\":{\"color\":\"white\"}},\"type\":\"table\"}]},\"layout\":{\"annotationdefaults\":{\"arrowcolor\":\"#2a3f5f\",\"arrowhead\":0,\"arrowwidth\":1},\"autotypenumbers\":\"strict\",\"coloraxis\":{\"colorbar\":{\"outlinewidth\":0,\"ticks\":\"\"}},\"colorscale\":{\"diverging\":[[0,\"#8e0152\"],[0.1,\"#c51b7d\"],[0.2,\"#de77ae\"],[0.3,\"#f1b6da\"],[0.4,\"#fde0ef\"],[0.5,\"#f7f7f7\"],[0.6,\"#e6f5d0\"],[0.7,\"#b8e186\"],[0.8,\"#7fbc41\"],[0.9,\"#4d9221\"],[1,\"#276419\"]],\"sequential\":[[0.0,\"#0d0887\"],[0.1111111111111111,\"#46039f\"],[0.2222222222222222,\"#7201a8\"],[0.3333333333333333,\"#9c179e\"],[0.4444444444444444,\"#bd3786\"],[0.5555555555555556,\"#d8576b\"],[0.6666666666666666,\"#ed7953\"],[0.7777777777777778,\"#fb9f3a\"],[0.8888888888888888,\"#fdca26\"],[1.0,\"#f0f921\"]],\"sequentialminus\":[[0.0,\"#0d0887\"],[0.1111111111111111,\"#46039f\"],[0.2222222222222222,\"#7201a8\"],[0.3333333333333333,\"#9c179e\"],[0.4444444444444444,\"#bd3786\"],[0.5555555555555556,\"#d8576b\"],[0.6666666666666666,\"#ed7953\"],[0.7777777777777778,\"#fb9f3a\"],[0.8888888888888888,\"#fdca26\"],[1.0,\"#f0f921\"]]},\"colorway\":[\"#636efa\",\"#EF553B\",\"#00cc96\",\"#ab63fa\",\"#FFA15A\",\"#19d3f3\",\"#FF6692\",\"#B6E880\",\"#FF97FF\",\"#FECB52\"],\"font\":{\"color\":\"#2a3f5f\"},\"geo\":{\"bgcolor\":\"white\",\"lakecolor\":\"white\",\"landcolor\":\"#E5ECF6\",\"showlakes\":true,\"showland\":true,\"subunitcolor\":\"white\"},\"hoverlabel\":{\"align\":\"left\"},\"hovermode\":\"closest\",\"mapbox\":{\"style\":\"light\"},\"paper_bgcolor\":\"white\",\"plot_bgcolor\":\"#E5ECF6\",\"polar\":{\"angularaxis\":{\"gridcolor\":\"white\",\"linecolor\":\"white\",\"ticks\":\"\"},\"bgcolor\":\"#E5ECF6\",\"radialaxis\":{\"gridcolor\":\"white\",\"linecolor\":\"white\",\"ticks\":\"\"}},\"scene\":{\"xaxis\":{\"backgroundcolor\":\"#E5ECF6\",\"gridcolor\":\"white\",\"gridwidth\":2,\"linecolor\":\"white\",\"showbackground\":true,\"ticks\":\"\",\"zerolinecolor\":\"white\"},\"yaxis\":{\"backgroundcolor\":\"#E5ECF6\",\"gridcolor\":\"white\",\"gridwidth\":2,\"linecolor\":\"white\",\"showbackground\":true,\"ticks\":\"\",\"zerolinecolor\":\"white\"},\"zaxis\":{\"backgroundcolor\":\"#E5ECF6\",\"gridcolor\":\"white\",\"gridwidth\":2,\"linecolor\":\"white\",\"showbackground\":true,\"ticks\":\"\",\"zerolinecolor\":\"white\"}},\"shapedefaults\":{\"line\":{\"color\":\"#2a3f5f\"}},\"ternary\":{\"aaxis\":{\"gridcolor\":\"white\",\"linecolor\":\"white\",\"ticks\":\"\"},\"baxis\":{\"gridcolor\":\"white\",\"linecolor\":\"white\",\"ticks\":\"\"},\"bgcolor\":\"#E5ECF6\",\"caxis\":{\"gridcolor\":\"white\",\"linecolor\":\"white\",\"ticks\":\"\"}},\"title\":{\"x\":0.05},\"xaxis\":{\"automargin\":true,\"gridcolor\":\"white\",\"linecolor\":\"white\",\"ticks\":\"\",\"title\":{\"standoff\":15},\"zerolinecolor\":\"white\",\"zerolinewidth\":2},\"yaxis\":{\"automargin\":true,\"gridcolor\":\"white\",\"linecolor\":\"white\",\"ticks\":\"\",\"title\":{\"standoff\":15},\"zerolinecolor\":\"white\",\"zerolinewidth\":2}}},\"xaxis\":{\"anchor\":\"y\",\"domain\":[0.0,1.0]},\"yaxis\":{\"anchor\":\"x\",\"domain\":[0.0,1.0],\"autorange\":\"reversed\"},\"coloraxis\":{\"colorscale\":[[0.0,\"#0d0887\"],[0.1111111111111111,\"#46039f\"],[0.2222222222222222,\"#7201a8\"],[0.3333333333333333,\"#9c179e\"],[0.4444444444444444,\"#bd3786\"],[0.5555555555555556,\"#d8576b\"],[0.6666666666666666,\"#ed7953\"],[0.7777777777777778,\"#fb9f3a\"],[0.8888888888888888,\"#fdca26\"],[1.0,\"#f0f921\"]]},\"margin\":{\"t\":60},\"height\":800,\"title\":{\"text\":\"Heatmap for corelation\"}},                        {\"responsive\": true}                    ).then(function(){\n",
              "                            \n",
              "var gd = document.getElementById('0e480abb-3d3b-4c89-bbe7-1e77a12ac3a8');\n",
              "var x = new MutationObserver(function (mutations, observer) {{\n",
              "        var display = window.getComputedStyle(gd).display;\n",
              "        if (!display || display === 'none') {{\n",
              "            console.log([gd, 'removed!']);\n",
              "            Plotly.purge(gd);\n",
              "            observer.disconnect();\n",
              "        }}\n",
              "}});\n",
              "\n",
              "// Listen for the removal of the full notebook cells\n",
              "var notebookContainer = gd.closest('#notebook-container');\n",
              "if (notebookContainer) {{\n",
              "    x.observe(notebookContainer, {childList: true});\n",
              "}}\n",
              "\n",
              "// Listen for the clearing of the current output cell\n",
              "var outputEl = gd.closest('.output');\n",
              "if (outputEl) {{\n",
              "    x.observe(outputEl, {childList: true});\n",
              "}}\n",
              "\n",
              "                        })                };                            </script>        </div>\n",
              "</body>\n",
              "</html>"
            ]
          },
          "metadata": {}
        }
      ]
    },
    {
      "cell_type": "markdown",
      "source": [
        "There is insignificant multicolinearity as seen in the heatmap"
      ],
      "metadata": {
        "id": "qaXWKNyFq77I"
      }
    },
    {
      "cell_type": "code",
      "source": [
        "scatter_homoscedasticity = px.scatter(x=y_train_pred, y=residual, labels={'x':'y_pred','y':'residual'}, trendline=\"ols\", trendline_color_override=\"red\")\n",
        "scatter_homoscedasticity.update_layout(title=\"y_pred vs residual\")\n",
        "scatter_homoscedasticity.show()"
      ],
      "metadata": {
        "colab": {
          "base_uri": "https://localhost:8080/",
          "height": 542
        },
        "id": "USOvQPkDkNxk",
        "outputId": "02898575-c5e1-4bd1-bf7f-367d72781bcd"
      },
      "execution_count": 1295,
      "outputs": [
        {
          "output_type": "display_data",
          "data": {
            "text/html": [
              "<html>\n",
              "<head><meta charset=\"utf-8\" /></head>\n",
              "<body>\n",
              "    <div>            <script src=\"https://cdnjs.cloudflare.com/ajax/libs/mathjax/2.7.5/MathJax.js?config=TeX-AMS-MML_SVG\"></script><script type=\"text/javascript\">if (window.MathJax) {MathJax.Hub.Config({SVG: {font: \"STIX-Web\"}});}</script>                <script type=\"text/javascript\">window.PlotlyConfig = {MathJaxConfig: 'local'};</script>\n",
              "        <script src=\"https://cdn.plot.ly/plotly-2.8.3.min.js\"></script>                <div id=\"54d33cd3-49e6-4f58-b309-2708f175615b\" class=\"plotly-graph-div\" style=\"height:525px; width:100%;\"></div>            <script type=\"text/javascript\">                                    window.PLOTLYENV=window.PLOTLYENV || {};                                    if (document.getElementById(\"54d33cd3-49e6-4f58-b309-2708f175615b\")) {                    Plotly.newPlot(                        \"54d33cd3-49e6-4f58-b309-2708f175615b\",                        [{\"hovertemplate\":\"y_pred=%{x}<br>residual=%{y}<extra></extra>\",\"legendgroup\":\"\",\"marker\":{\"color\":\"#636efa\",\"symbol\":\"circle\"},\"mode\":\"markers\",\"name\":\"\",\"orientation\":\"v\",\"showlegend\":false,\"x\":[0.7714410868810205,0.49926607609267576,0.34001195742142043,0.5725700151810039,0.27076263326497113,0.806932117740436,0.8218488963404433,0.7134592173675408,0.6079121414979826,0.5246470529293206,0.8730440453764567,0.435462591376586,0.7372490559057727,0.5161888442658246,0.7703757641541116,0.6085502491765282,0.5773028690714544,0.5648638043257135,0.5571505424683212,0.5591750985667688,0.6172735201677896,0.775364347013032,0.6014526672995145,0.2875814464071043,0.8487401913338847,0.4056347513876619,0.7997779627363589,0.7373491845873874,0.5666496872454247,0.39337501485832604,0.4358578089756966,0.6378336638957774,0.4070532507549134,0.5268403391798815,0.6143247055233052,0.37924685946591524,0.5313642116315018,0.7793319138394077,0.7550653800824572,0.5855074530728703,0.45954941053601556,0.47115182411603046,0.14447367063391484,0.7294622387549429,0.5514064469857178,0.7304164475523609,0.8061138018039237,0.6868265245743628,0.7654235232417405,0.4876393306005805,0.7583895855081292,0.5704152398159688,0.5172219727946047,0.6443448383313135,0.5987401713876839,0.7520136064749041,0.5009691997438386,0.885085689775443,0.6768849615594286,0.33922454812028846,0.4203938746519219,0.6072403917198889,0.24432394207764496,0.5318254682755913,0.7850406793695908,0.6676486654761101,0.44758082492474055,0.5117444235936482,0.7371781771875491,0.8134648398681635,0.37604676348730537,0.7546909064110331,0.12298648658174031,0.5448673420985315,0.4389623502885873,0.21485995908942862,0.6382311577884215,0.5933174332661021,0.46644302393275994,0.4564513977754259,0.4749643361838182,0.3952210072192624,0.23778259113438766,0.11466685709999593,0.42416295890561173,0.45443089126246716,0.5790553197360933,0.31695201331612155,0.2757196622407268,0.10306364533800132,0.4272992488580704,0.7860597375361312,0.6029026026950854,0.6536383722882916,0.07371434618840846,0.18916326120280846,0.5562793562334216,0.504432989438261,0.3312013473204765,0.21554252974340155,0.5429005853811475,0.18514119610323743,0.23256370043894203,0.7717811968015674,0.8566721610192242,0.13614938588725584,0.16955387319254683,0.5655028420322279,0.7025620312689189,0.8467878172391154,0.5029574495644468,0.27476501755610927,0.13471339041233227,0.6353582030458036,0.33566417548857047,0.17844237396729107,0.6761728131446275,0.32658030122859727,0.37751455549371593,0.49759370449613866,0.11863021852107804,0.39897327107084596,0.10848665951830043,0.6277555812837289,0.6083599573174442,0.36759524072129635,0.6007237374411036,0.5196177143379024,0.49957442324420426,0.060123635965531566,0.517469937573108,0.26488947391059003,0.42314534309033974,0.15539396637460112,0.6462468150809909,0.6775772027308378,0.509622378373331,0.43550522742646763,0.486803855344527,0.4078417328570984,0.4709184454771001,0.4899330864767634,0.5289861073644004,0.7011255619815199,0.6224257177733377,0.5308547299411679,0.15872854198432235,0.5312483408550996,0.5801162784891647,0.7833224506984902,0.1652983688586265,0.36339996874019737,0.7509696937086567,0.2989957567616818,0.38329207105828444,0.7669853950492657,0.7183011629514965,0.45266841414070635,0.5664832517811086,0.7327625460472184,0.7939172862951484,0.33902536167362574,0.469518053448165,0.4101282946176006,0.8098338018086738,0.5268650736175908,0.6682432905545621,0.3907790945217921,0.14222066553731805,0.20226264048085407,0.6808772690113185,0.39158664965800094,0.5578575793334116,0.6252231565617621,0.5845932750454139,0.2931750840180433,0.4070587451048171,0.3672634737142971,0.1401541900788627,0.516416695298857,0.715430814296332,0.7864193240429607,0.8052351855600106,0.48145297276140553,0.48973393731063425,0.09924597284602568,0.7230243473174693,0.26119802317546814,0.8095965858052356,0.3347407903982972,0.5702076579125754,0.7151199677656218,0.3779349162689483,0.5145441563909453,0.7669720701620679,0.6275713730796023,0.5329406972006672,0.45159700825524346,0.4996722423974201,0.14040961271520974,0.7105869375342346,0.5630013321738144,0.4170287922672017,0.5074949552391576,0.3546713360673599,0.6786281538302273,0.4229523851904195,0.1898284546174978,0.11203784787802414,0.7823860994897963,0.4477254880565004,0.45098575261824364,0.560448240616511,0.40191842976010256,0.3705056416953709,0.8450048295289239,0.6682902952775496,0.7808521065317313,0.621043846864989,0.6236309615030925,0.42840009896603376,0.4206511061410178,0.3954818485209705,0.4994265918716435,0.4553416418095143,0.7564679406064335,0.8638916001006178,0.016590729364806933,0.575900944160053,0.590428974809178,0.3659197355674365,0.7118752564352226,0.34536514382248984,0.7163961705980088,0.6607514040695193,0.6108852651563095,0.3994405829439923,0.6792922981053228,0.7281245782266358,0.3995647521151523,0.7696655494631469,0.7581562203358766,0.5259453703288064,0.6196531690761352,0.919437400402906,0.7217757831326648,0.2116061194440988,0.6239720445254826,0.46746265754310673,0.7425193412068785,0.3629141794755202,0.7193756017914634,0.681681385430829,0.6415883348292014,0.6454082147956999,0.8034024259526821,0.6501438364952761,0.6534266946867295,0.37844286278307515,0.16909845703888787,0.697598582105779,0.8083061142719568,0.23155552150875147,0.8537163081079318,0.7133388678426322,0.7713588190513944,0.6493336798729562,0.7279974802563907,0.09981446509963456,0.8307669087014846,0.26987580305498504,0.5286681522762615,0.7464349383956101,0.45634823603020896,0.5448697452614183,0.6410481534780166,0.5950191771213649,0.022626951458486838,0.21523301936669698,0.49485205389745496,0.5678296401293721,0.3083748337529188,0.6686462028936695,0.4964551423516183,0.6498279886833558,0.46889418426449464,0.428235608395562,0.40751216364118614,0.24011277528898906,0.6421456468171869,0.5866654080382979,0.7408526336263207,0.7753170899738764,0.404520329441808,0.20035635330571064,0.23829561055826848,0.42052392258717675,0.054049700690020644,0.5608741195306911,0.6748299316911766,0.7210770553932021,0.3573764004307859,0.39925042891503526,0.8196786062231047,0.17017379643554972,0.775002625876728,0.6131237072585953,0.3974023939291227,0.25988387419590475,0.49948860624687597,0.5667097805763177,0.7724339971371013,0.8146389745705029,0.4930026802441634,0.7251081543330303,0.7149378241341502,0.5132178096911759,0.5053390937709975,0.8273108967800513,0.46479484091797796,0.28733814396503177,0.6683422726417368,0.6761473326354648,0.22167280744834367,0.45004923999571517,0.20885263754250255,0.40709673047067835,0.8355932101407898,0.6177310882305895,0.1642925819082382,0.57302590116714,0.46665090037048523,0.5193559029886914,0.6229528582240854,0.38722455123346555,0.2679890960710123,0.7613211614665134,0.5668901799098934,0.4519029689271164,0.38875903997700484,0.39164177911471476,0.6845182099796824,0.2690275145453601,0.6843938210152541,0.2973694145569336,0.38328269162936524,0.5836185027897164,0.5946841589537084,0.6277278206433654,0.43751195098884793,0.728431003439188,0.3248791189863738,0.3526494259840601,0.6750419707644135,0.12143689990528347,0.8553333749315102,0.3235825008337111,0.4909281788130673,0.480190769392222,0.22726428070707283,0.6745744638310986,0.5710112567161721,0.20717752672273465,0.756295437346305,0.2850428841132088,0.556346605184799,0.6120798591032778,0.526763350105953,0.5248110422603434,0.7873717693439708,0.7515883979427934,0.5843765307636607,0.6571374975342732,0.465605232417515,0.8503824674984435,0.6422398372315388,0.5232141520916092,0.5428722007918347,0.14326033635585705,0.3137074694014542,0.6665357244549659,0.31702169761439436,0.6609161200138056,0.12683434416740458,0.38205262811708773,0.5883176461930243,0.48568422012985407,0.803673127165144,0.39459501450389345,0.24216781205318325,0.6101479576064499,0.7782939326352224,0.7732107641259437,0.32536441712182423,0.30912826542592314,0.7459425773280068,0.4409423510093938,0.548156726940206,0.5853282701953167,0.15395294091370815,0.6019468997347268,0.8767844857637015,0.024331922624902122,0.44785018756215406,0.01749817237346918,0.7146335638571298,0.5711374249196289,0.5187063156753634,0.6035816058586896,0.31517335751409103,0.45808644634720247,0.8017843211056332,0.43498399018524025,0.5480557215830876,0.7943161080339523,0.42152831806860563,0.4618918104275647,0.6698510834663393,0.4294295717667657,0.7833481216233883,0.7804641012561824,0.23257424746073257,0.4577943287914396,0.6584327001207957,0.7199182603427876,0.5170939285343519,0.4912315037490115,0.6076336967037538,0.11906417454712237,0.3123475187483881,0.29638750315526474,0.39765017145265197,0.8706750118805417,0.7420052333639331,0.3733703148573538,0.49654761829106603,0.2676287746062654,0.4807995930775519,0.13527265430475996,0.19714719504618977,0.5202470297403736,0.4829984574554729,0.5778456911308666,0.7128666234306836,0.7673994616364951,0.445411342937345,0.45029642793650393,0.5811773852909978,0.7701863437278226,0.7302917813424107,0.496641517763034,0.23503962091622851,0.6026207544012236,0.5742103762565535,0.17272962048696863,0.21837454894154973,0.7338084782680546,0.3525690482427076,0.802079371354709,-0.003137866012748347,0.3795519710304898,0.12419093189874326,0.08615236845435385,0.8002150011843382,0.8236590380789358,0.734802810253741,0.3501451995550359,0.6917471995575685,0.5820678640538849,0.2695519194741546,0.5497245212167563,0.658213575525056,0.43286224599398465,0.4766413124236925,0.376691958062578,0.4959088436420583,0.5655422720669615,0.2152778060648507,0.38909341352916765,0.6264907876312826,0.7486050916239751,0.15642362203592977,0.4197923162107379,0.5090828682250085,0.4962357160617709,0.5519746313844074,0.22029755129940715,0.5467144561017462,0.7768316479299773,0.1978751871863838,0.8773263225579965,0.5018167377569698,0.3971672256100186,0.5354430059521444,0.2464599885865384,0.30367306967038676,0.4575425557876629,0.6898522962780755,0.7383933950012197,0.7790730024356438,0.3873215143795501,0.5524134729532258,0.6674565555173996,0.589057023942383,0.7710695092667148,0.8103133313536328,0.2252587514174582,0.2626162004226311,0.3119021557040224,0.6471135050692771],\"xaxis\":\"x\",\"y\":[0.05621652931778298,-0.0340106688216219,-0.13591623721893537,-0.08959716658459344,-0.07966737325576725,-0.02437344309708578,0.029738770479621146,-0.0031508878691515196,-0.10802718981827708,0.16782878692341763,0.10866327169671397,0.03945687479920784,0.0006708704633022755,0.02511350271990942,0.11526620547313193,-0.0877265032032194,0.08802156719177612,0.1499314096641623,-0.04656609700122505,0.035509669035624136,0.028377653325077468,0.03411563457923672,0.0011704344032006375,0.06113001240559701,-0.06606646837023988,0.06617841014017978,-0.0008824266111863155,0.09882200731321089,-0.04110896014004051,-0.002095677536650964,0.14156971058251788,-0.25242179090912303,0.10939865904720347,0.04483476436360678,-0.04046368389422095,-0.20978068367208183,-0.03055887338944019,-0.0013751720078384322,-0.089165702217754,0.030346205463715026,0.009272494664168518,-0.20976204040687263,-0.008486556045787796,-0.10797121252392583,-0.02022835218590191,-8.971032272442336e-05,-0.02286483723880628,0.03188033230552678,0.07730542291564568,0.042963522597762815,0.045107883428824325,-0.09802683668665446,-0.013540426545179951,0.028457738751061057,0.013316892579182227,0.015243641569274491,0.09521119602238326,-0.33078288259642785,0.0843897738294348,0.022142225924810466,0.04497658093942647,0.03127778591471764,0.059173526859308545,0.09852427861810409,-0.07392701162913973,-0.08492892318434753,0.027683786211936845,-0.17913972962218022,-0.04585282053775619,-0.12179433825748709,0.05020726320390495,0.14763306965891632,0.008743840155489332,0.04371986452825172,-0.08012663928996788,-0.03262341974290306,-0.19126843344419697,-0.07341407385514953,-0.03443658122682347,0.08266503112471218,-0.044108376680826955,-0.02465036755060157,0.03764308765070207,0.058365816622967734,-0.073380630327609,0.038206016238683305,-0.07652425668961371,-0.032322468907469926,-0.08128800094298175,0.06812825526024997,-0.008868507946887705,0.05850998174596722,0.03400489845539778,-0.03226239437756906,0.051113081331149765,-0.040175686421400264,0.02989183566717668,-0.029053329981289067,0.05179451093999288,-0.009030794814731485,-0.17405567051690451,-0.10092582564764607,0.021117845810482705,0.07416910232406537,-0.14509829999759505,0.08497348571881874,0.0363826201346506,-0.03973201828625461,0.08517381778768485,0.03574784774017592,0.03374296460950632,-0.01820726329932143,-0.0450907489028983,-0.04320449848989005,0.03559675410185753,0.0018383439342275765,-0.08666521995548804,-0.04436677154613067,0.0007643216346779891,0.0005655223791489195,0.04174713996948802,0.03694481452510434,0.06650183564967015,0.22222140905221222,-0.00585190393502355,0.04554327745633824,-0.05527965092476672,0.030428304990215427,0.05944536506688641,0.04767664015043714,0.04270033394092787,-0.022022469768850472,-0.01817525565361633,0.03190469906488347,0.010218900519561314,-0.09347688059554093,-0.041145618134030504,0.0267589235169286,-0.07539106197131029,-0.09606078485893921,0.00031947444926899715,-0.09796345923332117,0.003342470638360684,0.019997309624554704,-0.012554571892067545,0.015739839778114217,0.00682599091949726,-0.03458474214364082,-0.04433625087756787,0.08908896209488304,0.02602698779116641,-0.36339996874019737,-0.03628952803907548,0.0514414268554374,-0.0505723287665219,-0.05978337019882851,0.1355874702744584,-0.009617332686495561,-0.034269722098641986,0.056583979493508796,-0.005030954035599278,0.04166953018095321,-0.014847091644207333,-0.12584389516983252,0.0465858944637606,0.05251826738563048,-0.12809142677177332,0.01741234588317797,-0.029128166687801244,-0.07847064784394656,0.03334270337708467,0.12969728959648597,0.06604946162379044,-0.10025767105785044,0.3143942997359943,-0.06606969975665353,0.006885111314879178,0.02171489720148756,0.035639643331169535,0.08217971519354983,-0.24315745948731227,0.10439981999753634,0.037838905558259084,-0.13101578914428635,0.08700329232581311,0.01108536631642254,0.11119102313812201,-0.08701486624955926,-0.1422012797767036,-0.07289081340796127,-0.16891911672527676,0.15464533366097744,0.020477416910987256,-0.07931636071676212,0.020993875535124884,0.012097287757949493,-0.09057990566822355,-0.08666373628101431,-0.004964465130968154,-0.06183160995405004,0.11235369753249347,0.0028063070346531216,0.03373052664674214,0.03231176358274768,0.04776768832288403,-0.17966358871287802,0.01802782649848983,0.01645318367058321,-0.044964677146316814,0.08714910529621378,0.0719477747138631,0.04050067167996163,-0.04284584761144883,-0.15398929952540394,-0.09323918978556883,-0.1411392059670279,0.08527620265158065,0.2191478934682689,-0.18109907005873038,-0.031362208626884436,0.0753964956036855,-0.11220655943139979,-0.19679339937232807,0.06361988764975546,0.10712959611041206,0.09051779340184996,0.0008115752330223325,0.0530135044133799,0.009119764537599995,-0.035665974348984664,-0.1344425151348548,-0.08578229739242471,-0.052682216993221564,-0.1304550753379995,-0.004170640148672522,-0.09857509488479543,0.07996576772328795,-0.1754957035356035,0.04925692200346088,-0.03233051373503265,0.11333030879732253,0.12414934800282573,-0.12074518625149394,0.06074259714567798,-0.03229980261183374,0.15477736919131135,0.05070405082741525,0.09059307282380413,-0.0011718153894021976,0.04774757089620485,0.09888977818669797,0.037067104145029894,0.016776967077224425,-0.25445073703812915,0.07732533329449798,-0.2684277365831469,0.09859063198148421,-0.0038638783038487112,-0.10761911680976638,0.023147286173261256,-0.14341082324705834,-0.09443128684443713,0.01142653095328261,-0.06655570065280059,0.14239053850803507,-0.01560640303666816,0.028991216583555524,0.07227863571231619,0.04296050038586936,-0.06707615858643623,2.7556355967572888e-05,0.10283207782037906,0.0946833312776526,-0.07335237776973957,-0.28543578299726735,0.05280826621825585,-0.02345912189817112,0.06941170477713213,-0.0048096415480131105,0.1808267311922827,-0.11315867832541443,0.0046716457684801704,-0.005507684716034911,0.01781084936490268,-0.08102909314723061,-0.03872851468327054,-0.047310619900394035,0.04163647878863436,-0.12448921339299274,-0.0021318410187515235,0.09948277419824147,0.06172444874827665,0.15634420777117652,0.0652219623207323,-0.15330159030525045,0.03805045478917746,0.05957271800187064,0.1280717903362104,-0.14854093959511816,0.0473283747975487,0.029268089567681455,0.007096678262265177,0.11121896823176636,-0.16792987175462792,0.04266559610931914,0.01181283661751964,0.020792537564230273,0.0214885402632381,-0.1461010854246208,-0.00017889616864308344,0.026709455502835544,0.15577585099911595,-0.04807201644809156,-0.017968165748075027,0.11624021198082146,-0.013603263618733652,-0.03404155566448469,-0.012241992988668904,0.06799513175193217,0.0006906629936649367,0.0130530203239696,-0.34379096109088547,-0.03935487980527608,0.053867919657040575,0.15855637436231523,0.10672490502537596,-0.021224664202845855,-0.18085321934465537,0.025273973895503454,-3.5805276583367185e-06,0.029021958934102532,0.012410305335911476,0.0438056248530021,0.0472036074915152,0.030055706474771904,-0.025237140249567275,0.08992136039266752,-0.010056309684398745,0.028193671661930986,0.1563399015784484,0.08799466819315455,0.06870314298856428,-0.017416838061236783,0.2164345268908664,-0.04564368975251576,0.14904588637339589,0.002782785751470951,-0.02450468357404889,-0.35126670697562495,0.00795514519154783,-0.03227361733702505,-0.04841800531863333,-0.017743765606701656,0.10751670387893675,0.009718185230473547,-0.004781142994096488,-0.04021848794829924,0.09144641851781166,-0.047378988444223835,-0.015230226404265634,-0.001196645147251374,0.0591083935369342,0.04247732831638182,0.06353889307247096,-0.07565494117717567,-0.02263744733850348,-0.07652992813227,-0.01629395295915137,-0.04621002983512479,0.027515483302140598,0.03453677462968707,0.010308236838732276,0.04822375419145164,-0.09837099403739535,-0.1735531992057605,-0.05583854869035143,0.02510614243209086,-0.019632440092340997,-0.0022110956747709853,-0.1665606677447584,-0.0884179149749843,0.0390528536971565,-0.007901854022089094,0.0671371238491624,0.020731541234039752,0.018677291680882724,0.0030410444812826176,0.03203787145427617,-0.018387007140800937,0.03164719024778315,-0.09680235245228519,0.05488600293771828,0.0341983477010237,0.08363236152520753,-0.0022943952004284562,0.006818582359061742,0.08287265129157267,0.013624221057953245,-0.05840696324639816,0.06107236971675667,0.01781840169187232,-0.016683243241842338,0.08818533462314206,0.004749904476502198,0.17382718427632374,-0.05678726841304327,-0.03650788051097731,-0.01755583247241821,-0.017640510598680326,-0.07449227145794743,-0.04138143024043761,0.10111489656578876,0.06651163797858861,-0.018028109986216845,0.1427524607649433,0.08802069251583983,-0.045531939281683476,0.03999705275087195,0.019258877381876705,0.06881478679814879,0.028670735375202816,-0.05919642877688536,-0.059151898970914996,0.044627585199038644,0.23958473091354004,0.16180620952363245,0.005317046642152823,-0.059658547140937435,0.12794456912522004,-0.06614411331810738,0.08856417655021154,-0.027539725065169218,-0.017706765216943032,0.12879550294531683,-0.05284569451681076,-0.03773491695650549,-0.06364810272407484,-0.07214795939140367,0.038220212699381806,-0.012954834254657321,0.11171339363744504,0.12480181866049589,0.05998219658197279,0.09339200519333846,0.108923594046892,0.07851870768391594,-0.035892378235629574,-0.09291231396103922,0.14364246437157924,0.07401102583660457,0.060422449103049725,0.0411913961109229,0.13806033165491993,-0.04004102512907992,-0.011777020394929949,-0.1075830164979234,0.02574053231639084,0.07518060661233156,-0.08026620982686727,0.0722819065097571,-0.026008482765418506,-0.04814399218406311,0.0840040972612467,0.09083423949674785,-0.06710128382214797,0.12944017179872114,-0.07322389260611739,0.03190673509498565,-0.09472317928628249,0.06362801609878604,-0.03373280469581752,0.12756645208654094,-0.013281021879856691,-0.1027342714664905,-0.25094414398066356,0.026525578815373818,0.0488157583057951,0.021146492140395518,-0.06925908311039175,0.019045337541289897,0.11460245554583615,-0.0037545010050968053,-0.006538749712808822,-0.056137631225468665,0.017339985732982843,0.0646843653942396,-0.034724610664340405,-0.09388426742250089,0.016426520500763653,-0.01632893776162539,-0.061633731669823444,0.03177737176903117,-0.039712094454933455,-0.41188110995582594,-0.021540522410744528,-0.0728861391595722,-0.10169810111670108,0.1453985090601665,-0.13577029329850454,0.15868585628501886,0.037782029108714976,-0.014907720537211122,0.1939102185276994,0.030708277484216118,-0.006918565870488336,0.022521459258424303,-0.007242184459335749,0.04997008581758977,-0.0754778574987762,0.1558087222662038],\"yaxis\":\"y\",\"type\":\"scatter\"},{\"hovertemplate\":\"<b>OLS trendline</b><br>y = 3.01842e-16 * x + 9.41087e-17<br>R<sup>2</sup>=0.000000<br><br>y_pred=%{x}<br>residual=%{y} <b>(trend)</b><extra></extra>\",\"legendgroup\":\"\",\"line\":{\"color\":\"red\"},\"marker\":{\"color\":\"#636efa\",\"symbol\":\"circle\"},\"mode\":\"lines\",\"name\":\"\",\"showlegend\":false,\"x\":[-0.003137866012748347,0.016590729364806933,0.01749817237346918,0.022626951458486838,0.024331922624902122,0.054049700690020644,0.060123635965531566,0.07371434618840846,0.08615236845435385,0.09924597284602568,0.09981446509963456,0.10306364533800132,0.10848665951830043,0.11203784787802414,0.11466685709999593,0.11863021852107804,0.11906417454712237,0.12143689990528347,0.12298648658174031,0.12419093189874326,0.12683434416740458,0.13471339041233227,0.13527265430475996,0.13614938588725584,0.1401541900788627,0.14040961271520974,0.14222066553731805,0.14326033635585705,0.14447367063391484,0.15395294091370815,0.15539396637460112,0.15642362203592977,0.15872854198432235,0.1642925819082382,0.1652983688586265,0.16909845703888787,0.16955387319254683,0.17017379643554972,0.17272962048696863,0.17844237396729107,0.18514119610323743,0.18916326120280846,0.1898284546174978,0.19714719504618977,0.1978751871863838,0.20035635330571064,0.20226264048085407,0.20717752672273465,0.20885263754250255,0.2116061194440988,0.21485995908942862,0.21523301936669698,0.2152778060648507,0.21554252974340155,0.21837454894154973,0.22029755129940715,0.22167280744834367,0.2252587514174582,0.22726428070707283,0.23155552150875147,0.23256370043894203,0.23257424746073257,0.23503962091622851,0.23778259113438766,0.23829561055826848,0.24011277528898906,0.24216781205318325,0.24432394207764496,0.2464599885865384,0.25988387419590475,0.26119802317546814,0.2626162004226311,0.26488947391059003,0.2676287746062654,0.2679890960710123,0.2690275145453601,0.2695519194741546,0.26987580305498504,0.27076263326497113,0.27476501755610927,0.2757196622407268,0.2850428841132088,0.28733814396503177,0.2875814464071043,0.2931750840180433,0.29638750315526474,0.2973694145569336,0.2989957567616818,0.30367306967038676,0.3083748337529188,0.30912826542592314,0.3119021557040224,0.3123475187483881,0.3137074694014542,0.31517335751409103,0.31695201331612155,0.31702169761439436,0.3235825008337111,0.3248791189863738,0.32536441712182423,0.32658030122859727,0.3312013473204765,0.3347407903982972,0.33566417548857047,0.33902536167362574,0.33922454812028846,0.34001195742142043,0.34536514382248984,0.3501451995550359,0.3525690482427076,0.3526494259840601,0.3546713360673599,0.3573764004307859,0.3629141794755202,0.36339996874019737,0.3659197355674365,0.3672634737142971,0.36759524072129635,0.3705056416953709,0.3733703148573538,0.37604676348730537,0.376691958062578,0.37751455549371593,0.3779349162689483,0.37844286278307515,0.37924685946591524,0.3795519710304898,0.38205262811708773,0.38328269162936524,0.38329207105828444,0.38722455123346555,0.3873215143795501,0.38875903997700484,0.38909341352916765,0.3907790945217921,0.39158664965800094,0.39164177911471476,0.39337501485832604,0.39459501450389345,0.3952210072192624,0.3954818485209705,0.3971672256100186,0.3974023939291227,0.39765017145265197,0.39897327107084596,0.39925042891503526,0.3994405829439923,0.3995647521151523,0.40191842976010256,0.404520329441808,0.4056347513876619,0.4070532507549134,0.4070587451048171,0.40709673047067835,0.40751216364118614,0.4078417328570984,0.4101282946176006,0.4170287922672017,0.4197923162107379,0.4203938746519219,0.42052392258717675,0.4206511061410178,0.42152831806860563,0.4229523851904195,0.42314534309033974,0.42416295890561173,0.4272992488580704,0.428235608395562,0.42840009896603376,0.4294295717667657,0.43286224599398465,0.43498399018524025,0.435462591376586,0.43550522742646763,0.4358578089756966,0.43751195098884793,0.4389623502885873,0.4409423510093938,0.445411342937345,0.44758082492474055,0.4477254880565004,0.44785018756215406,0.45004923999571517,0.45029642793650393,0.45098575261824364,0.45159700825524346,0.4519029689271164,0.45266841414070635,0.45443089126246716,0.4553416418095143,0.45634823603020896,0.4564513977754259,0.4575425557876629,0.4577943287914396,0.45808644634720247,0.45954941053601556,0.4618918104275647,0.46479484091797796,0.465605232417515,0.46644302393275994,0.46665090037048523,0.46746265754310673,0.46889418426449464,0.469518053448165,0.4709184454771001,0.47115182411603046,0.4749643361838182,0.4766413124236925,0.480190769392222,0.4807995930775519,0.48145297276140553,0.4829984574554729,0.48568422012985407,0.486803855344527,0.4876393306005805,0.48973393731063425,0.4899330864767634,0.4909281788130673,0.4912315037490115,0.4930026802441634,0.49485205389745496,0.4959088436420583,0.4962357160617709,0.4964551423516183,0.49654761829106603,0.496641517763034,0.49759370449613866,0.49926607609267576,0.4994265918716435,0.49948860624687597,0.49957442324420426,0.4996722423974201,0.5009691997438386,0.5018167377569698,0.5029574495644468,0.504432989438261,0.5053390937709975,0.5074949552391576,0.5090828682250085,0.509622378373331,0.5117444235936482,0.5132178096911759,0.5145441563909453,0.5161888442658246,0.516416695298857,0.5170939285343519,0.5172219727946047,0.517469937573108,0.5187063156753634,0.5193559029886914,0.5196177143379024,0.5202470297403736,0.5232141520916092,0.5246470529293206,0.5248110422603434,0.5259453703288064,0.526763350105953,0.5268403391798815,0.5268650736175908,0.5286681522762615,0.5289861073644004,0.5308547299411679,0.5312483408550996,0.5313642116315018,0.5318254682755913,0.5329406972006672,0.5354430059521444,0.5428722007918347,0.5429005853811475,0.5448673420985315,0.5448697452614183,0.5467144561017462,0.5480557215830876,0.548156726940206,0.5497245212167563,0.5514064469857178,0.5519746313844074,0.5524134729532258,0.5562793562334216,0.556346605184799,0.5571505424683212,0.5578575793334116,0.5591750985667688,0.560448240616511,0.5608741195306911,0.5630013321738144,0.5648638043257135,0.5655028420322279,0.5655422720669615,0.5664832517811086,0.5666496872454247,0.5667097805763177,0.5668901799098934,0.5678296401293721,0.5702076579125754,0.5704152398159688,0.5710112567161721,0.5711374249196289,0.5725700151810039,0.57302590116714,0.5742103762565535,0.575900944160053,0.5773028690714544,0.5778456911308666,0.5790553197360933,0.5801162784891647,0.5811773852909978,0.5820678640538849,0.5836185027897164,0.5843765307636607,0.5845932750454139,0.5853282701953167,0.5855074530728703,0.5866654080382979,0.5883176461930243,0.589057023942383,0.590428974809178,0.5933174332661021,0.5946841589537084,0.5950191771213649,0.5987401713876839,0.6007237374411036,0.6014526672995145,0.6019468997347268,0.6026207544012236,0.6029026026950854,0.6035816058586896,0.6072403917198889,0.6076336967037538,0.6079121414979826,0.6083599573174442,0.6085502491765282,0.6101479576064499,0.6108852651563095,0.6120798591032778,0.6131237072585953,0.6143247055233052,0.6172735201677896,0.6177310882305895,0.6196531690761352,0.621043846864989,0.6224257177733377,0.6229528582240854,0.6236309615030925,0.6239720445254826,0.6252231565617621,0.6264907876312826,0.6275713730796023,0.6277278206433654,0.6277555812837289,0.6353582030458036,0.6378336638957774,0.6382311577884215,0.6410481534780166,0.6415883348292014,0.6421456468171869,0.6422398372315388,0.6443448383313135,0.6454082147956999,0.6462468150809909,0.6471135050692771,0.6493336798729562,0.6498279886833558,0.6501438364952761,0.6534266946867295,0.6536383722882916,0.6571374975342732,0.658213575525056,0.6584327001207957,0.6607514040695193,0.6609161200138056,0.6665357244549659,0.6674565555173996,0.6676486654761101,0.6682432905545621,0.6682902952775496,0.6683422726417368,0.6686462028936695,0.6698510834663393,0.6745744638310986,0.6748299316911766,0.6750419707644135,0.6761473326354648,0.6761728131446275,0.6768849615594286,0.6775772027308378,0.6786281538302273,0.6792922981053228,0.6808772690113185,0.681681385430829,0.6843938210152541,0.6845182099796824,0.6868265245743628,0.6898522962780755,0.6917471995575685,0.697598582105779,0.7011255619815199,0.7025620312689189,0.7105869375342346,0.7118752564352226,0.7128666234306836,0.7133388678426322,0.7134592173675408,0.7146335638571298,0.7149378241341502,0.7151199677656218,0.715430814296332,0.7163961705980088,0.7183011629514965,0.7193756017914634,0.7199182603427876,0.7210770553932021,0.7217757831326648,0.7230243473174693,0.7251081543330303,0.7279974802563907,0.7281245782266358,0.728431003439188,0.7294622387549429,0.7302917813424107,0.7304164475523609,0.7327625460472184,0.7338084782680546,0.734802810253741,0.7371781771875491,0.7372490559057727,0.7373491845873874,0.7383933950012197,0.7408526336263207,0.7420052333639331,0.7425193412068785,0.7459425773280068,0.7464349383956101,0.7486050916239751,0.7509696937086567,0.7515883979427934,0.7520136064749041,0.7546909064110331,0.7550653800824572,0.756295437346305,0.7564679406064335,0.7581562203358766,0.7583895855081292,0.7613211614665134,0.7654235232417405,0.7669720701620679,0.7669853950492657,0.7673994616364951,0.7696655494631469,0.7701863437278226,0.7703757641541116,0.7710695092667148,0.7713588190513944,0.7714410868810205,0.7717811968015674,0.7724339971371013,0.7732107641259437,0.775002625876728,0.7753170899738764,0.775364347013032,0.7768316479299773,0.7782939326352224,0.7790730024356438,0.7793319138394077,0.7804641012561824,0.7808521065317313,0.7823860994897963,0.7833224506984902,0.7833481216233883,0.7850406793695908,0.7860597375361312,0.7864193240429607,0.7873717693439708,0.7939172862951484,0.7943161080339523,0.7997779627363589,0.8002150011843382,0.8017843211056332,0.802079371354709,0.8034024259526821,0.803673127165144,0.8052351855600106,0.8061138018039237,0.806932117740436,0.8083061142719568,0.8095965858052356,0.8098338018086738,0.8103133313536328,0.8134648398681635,0.8146389745705029,0.8196786062231047,0.8218488963404433,0.8236590380789358,0.8273108967800513,0.8307669087014846,0.8355932101407898,0.8450048295289239,0.8467878172391154,0.8487401913338847,0.8503824674984435,0.8537163081079318,0.8553333749315102,0.8566721610192242,0.8638916001006178,0.8706750118805417,0.8730440453764567,0.8767844857637015,0.8773263225579965,0.885085689775443,0.919437400402906],\"xaxis\":\"x\",\"y\":[9.316160918014132e-17,9.911652559375304e-17,9.939042990185436e-17,1.0093851024770129e-16,1.0145314195813577e-16,1.1042321210197255e-16,1.1225658017380723e-16,1.1635882576352234e-16,1.20113141847708e-16,1.2406534007637718e-16,1.2423693484971205e-16,1.2521767353698045e-16,1.2685456635856732e-16,1.2792646374641703e-16,1.2872000884518607e-16,1.2991631732674822e-16,1.3004730343157842e-16,1.307634913258459e-16,1.3123122148895954e-16,1.315947735336063e-16,1.3239266607513525e-16,1.3477089224428788e-16,1.3493970151169e-16,1.3520433582503175e-16,1.3641315347056127e-16,1.3649025072054193e-16,1.3703690231787563e-16,1.3735071851733575e-16,1.3771695362274138e-16,1.4057819443071206e-16,1.4101315627190156e-16,1.4132394947743255e-16,1.420196708590145e-16,1.436991311568628e-16,1.440027197856953e-16,1.4514974556450748e-16,1.4528720923470535e-16,1.4547432803481706e-16,1.4624578278376552e-16,1.4797013106177788e-16,1.4999211616136562e-16,1.5120614387188875e-16,1.514069271059484e-16,1.5361602951145286e-16,1.5383576803118316e-16,1.545846878891922e-16,1.551600852031456e-16,1.5664360373007057e-16,1.5714922233719162e-16,1.579803385041871e-16,1.5896248359563537e-16,1.590750888128775e-16,1.5908860731426309e-16,1.5916851200835334e-16,1.6002333402096872e-16,1.6060377667717764e-16,1.610188865852829e-16,1.6210127467177921e-16,1.6270662741261813e-16,1.6400190362441315e-16,1.6430621425293762e-16,1.6430939778587413e-16,1.6505355075646613e-16,1.6588149405712034e-16,1.6603634480697377e-16,1.6658484123432282e-16,1.6720513740460152e-16,1.6785594775510196e-16,1.6850069605940945e-16,1.725525869933482e-16,1.7294925219827383e-16,1.733773174915663e-16,1.7406348664588307e-16,1.7489032233095436e-16,1.7499908244101465e-16,1.753125206305437e-16,1.7547080800265987e-16,1.7556856963315998e-16,1.7583625213525749e-16,1.770443393534684e-16,1.7733249110440676e-16,1.8014662996699144e-16,1.8083943552681726e-16,1.8091287439451375e-16,1.826012685139994e-16,1.8357091116121003e-16,1.83867293149416e-16,1.8435819134585945e-16,1.8577000029011569e-16,1.8718918962276596e-16,1.874166068590287e-16,1.8825388312885392e-16,1.8838831234959445e-16,1.8879880241797804e-16,1.8924126884883151e-16,1.8977814166856239e-16,1.897991753084954e-16,1.9177950051814684e-16,1.9217087418523834e-16,1.9231735748914234e-16,1.9268436223965333e-16,1.940791875018661e-16,1.9514753967168844e-16,1.954262559677512e-16,1.964408027410791e-16,1.965009255535704e-16,1.9673859866114882e-16,1.983544145342402e-16,1.9979723556609641e-16,2.005288546225016e-16,2.0055311599144902e-16,2.0116341314192873e-16,2.0197991486794453e-16,2.0365144853252365e-16,2.0379808007979913e-16,2.0455865124823982e-16,2.0496424770319268e-16,2.0506438888190641e-16,2.0594286979750296e-16,2.0680754814410902e-16,2.0761541244319743e-16,2.0781015918987332e-16,2.0805845354893605e-16,2.0818533603763659e-16,2.0833865557084837e-16,2.0858133544498582e-16,2.0867343089471738e-16,2.0942823394302448e-16,2.097995186320186e-16,2.098023497365221e-16,2.109893369646159e-16,2.1101860450338815e-16,2.1145250993920082e-16,2.115534378824196e-16,2.1206224701043855e-16,2.1230600097484788e-16,2.1232264135397148e-16,2.1284580449766044e-16,2.1321405149015818e-16,2.134030023112487e-16,2.1348173514139519e-16,2.1399045253858584e-16,2.1406143618727418e-16,2.1413622582199228e-16,2.1453559270455253e-16,2.1461925055063525e-16,2.1467664700114177e-16,2.1471412645780124e-16,2.1542456495441163e-16,2.1620992725845006e-16,2.1654630647907134e-16,2.1697446900169846e-16,2.1697612742662924e-16,2.1698759300105638e-16,2.171129881322592e-16,2.1721246592556878e-16,2.1790264603711602e-16,2.1998550525386734e-16,2.2081965252972943e-16,2.2100122806344577e-16,2.2104048197734004e-16,2.210788713009495e-16,2.2134365060255917e-16,2.217734937067176e-16,2.2183173648292046e-16,2.2213889555862475e-16,2.230855592292168e-16,2.2336819175688243e-16,2.234178419007087e-16,2.237285799112525e-16,2.247647047699692e-16,2.254051360357636e-16,2.2554959792143647e-16,2.2556246726709405e-16,2.2566889114646603e-16,2.2616818048947554e-16,2.2660597174785045e-16,2.272036188973635e-16,2.2855254784414153e-16,2.292073883763e-16,2.2925105376865433e-16,2.2928869330247695e-16,2.29952459433841e-16,2.300270711077934e-16,2.3023513816898265e-16,2.304196407225615e-16,2.3051199246844044e-16,2.3074303589443685e-16,2.3127502531082115e-16,2.3154992797254267e-16,2.3185376026936605e-16,2.3188489880498364e-16,2.322142559960337e-16,2.322902516340404e-16,2.323784249476609e-16,2.3282000881583636e-16,2.335270432141036e-16,2.3440329940901975e-16,2.3464790950668214e-16,2.3490079007672982e-16,2.3496353589250247e-16,2.352085582075027e-16,2.3564065293125655e-16,2.358289627815367e-16,2.362516597510373e-16,2.363221031992888e-16,2.374728790277287e-16,2.3797906069677066e-16,2.3905043547823897e-16,2.3923420396694195e-16,2.394314213222194e-16,2.3989791333523714e-16,2.4070858900305147e-16,2.4104654180655914e-16,2.4129872323256674e-16,2.4193096326988593e-16,2.419910748295507e-16,2.4229143537591054e-16,2.423829915462888e-16,2.429176067979343e-16,2.4347582522718023e-16,2.437948086355497e-16,2.438934724228114e-16,2.43959704467718e-16,2.439876175795814e-16,2.440159603731838e-16,2.443033702114047e-16,2.4480816200622283e-16,2.448566123914898e-16,2.448753309273959e-16,2.4490123409161905e-16,2.449307600091972e-16,2.453222360591713e-16,2.455780585305114e-16,2.459223731325166e-16,2.463677528691557e-16,2.4664125310879243e-16,2.472919823977526e-16,2.4777128104633194e-16,2.4793412780638107e-16,2.485746499353549e-16,2.490193795721001e-16,2.4941972655988327e-16,2.4991616224797736e-16,2.4998493723324606e-16,2.5018935458951055e-16,2.5022800371036565e-16,2.50302849866478e-16,2.5067604056321295e-16,2.50872113222223e-16,2.509511388533361e-16,2.5114109260056426e-16,2.5203669440355263e-16,2.5246920389316754e-16,2.525187027419338e-16,2.528610904641229e-16,2.5310799102180143e-16,2.5313122954898654e-16,2.5313869543828475e-16,2.5368294009909653e-16,2.5377891226218847e-16,2.543429408227771e-16,2.54461749082924e-16,2.5449672373646876e-16,2.5463595031130647e-16,2.5497257311205707e-16,2.557278747020045e-16,2.579703168751114e-16,2.5797888453304937e-16,2.585725340876069e-16,2.585732594628222e-16,2.5913007045981457e-16,2.595349205607466e-16,2.5956540820811614e-16,2.6003863418756e-16,2.6054630983179063e-16,2.607178116816164e-16,2.608502724478859e-16,2.620171579436742e-16,2.620374564939101e-16,2.622801184388455e-16,2.624935317788416e-16,2.628912142675247e-16,2.632755018634624e-16,2.6340404995762364e-16,2.640461318312368e-16,2.646083039359907e-16,2.6480119228179606e-16,2.648130939177986e-16,2.650971210082941e-16,2.6514735820254415e-16,2.65165496886806e-16,2.652199489616728e-16,2.655035174050336e-16,2.6622130277485105e-16,2.662839596878258e-16,2.6646386255236773e-16,2.665019454007035e-16,2.669343611453717e-16,2.6707196663069e-16,2.6742949082420087e-16,2.679397750266093e-16,2.6836293468424274e-16,2.685267811177776e-16,2.688918976959113e-16,2.6921213948565465e-16,2.695324259627152e-16,2.698012097508972e-16,2.702692574695954e-16,2.70498062061997e-16,2.705634845645254e-16,2.7078533688590557e-16,2.708394217833938e-16,2.7118894109269514e-16,2.716876557714892e-16,2.719108309449496e-16,2.723249431804634e-16,2.7319680092532553e-16,2.7360933598290446e-16,2.7371045849807883e-16,2.748336104208288e-16,2.7543233373705794e-16,2.7565235529942224e-16,2.758015353492059e-16,2.7600493291183603e-16,2.7609000653208854e-16,2.7629495812678952e-16,2.7739933294728655e-16,2.7751804886492543e-16,2.7760209516643376e-16,2.7773726473743224e-16,2.777947027908441e-16,2.782769581147244e-16,2.78499508415266e-16,2.788600869038134e-16,2.791751639984803e-16,2.795376755783658e-16,2.8042775134864174e-16,2.805658645551507e-16,2.8114602906034653e-16,2.815657938653114e-16,2.819829003848653e-16,2.8214201345208384e-16,2.8234669342392193e-16,2.824496465662802e-16,2.828272845814318e-16,2.832099087327122e-16,2.83536074681142e-16,2.8358329710866377e-16,2.835916764326749e-16,2.8588646611491284e-16,2.8663366388366697e-16,2.867536441894271e-16,2.8760393147790415e-16,2.8776698083509036e-16,2.8793520093597664e-16,2.879636315481766e-16,2.8859900904768073e-16,2.889199806039643e-16,2.8917310529468713e-16,2.89434708634306e-16,2.9010485038167825e-16,2.902540534846924e-16,2.903493895835587e-16,2.913402936876637e-16,2.9140418685389333e-16,2.9246036941336157e-16,2.927851748223127e-16,2.928513158033012e-16,2.935511977735234e-16,2.936009159446067e-16,2.9529714794106915e-16,2.955750933245549e-16,2.956330801565848e-16,2.958125629110259e-16,2.9582675090520794e-16,2.9584243985078217e-16,2.9593417873087934e-16,2.9629786215391695e-16,2.977235761859375e-16,2.9780068708633436e-16,2.9786468935985566e-16,2.9819833387042193e-16,2.982060249553338e-16,2.9842098117512886e-16,2.98629928555057e-16,2.9894714961575037e-16,2.9914761617553757e-16,2.996260267811881e-16,2.998687427968679e-16,3.006874694661235e-16,3.007250152655973e-16,3.0142176129361307e-16,3.023350659276967e-16,3.029070271051303e-16,3.046732194422848e-16,3.0573780969570057e-16,3.0617139629289505e-16,3.085936491255215e-16,3.089825177308449e-16,3.092817538133032e-16,3.094242969567014e-16,3.09460623484137e-16,3.0981509044198626e-16,3.099069289374779e-16,3.099619075145093e-16,3.1005573401722864e-16,3.1034711898284953e-16,3.1092212546539386e-16,3.1124643610997327e-16,3.1141023318991864e-16,3.117600060720558e-16,3.1197091136991125e-16,3.123477803367713e-16,3.129767605739493e-16,3.138488801565156e-16,3.1388724364741117e-16,3.139797356111243e-16,3.1429100562252464e-16,3.1454139632066436e-16,3.145790258044491e-16,3.152871765961101e-16,3.1560288274904133e-16,3.1590301378973765e-16,3.1661999902217733e-16,3.1664139318807954e-16,3.1667161621806265e-16,3.1698680265752244e-16,3.17729103879345e-16,3.180770067565889e-16,3.1823218603690426e-16,3.1926546207988945e-16,3.194140772725468e-16,3.2006912041334463e-16,3.2078285636343414e-16,3.2096960721561203e-16,3.2109795296038584e-16,3.219060742193354e-16,3.2201910605813347e-16,3.223903888610898e-16,3.224424575702646e-16,3.2295205110590305e-16,3.230224904893471e-16,3.239073629021187e-16,3.2514562751256657e-16,3.2561304383373036e-16,3.2561706584279714e-16,3.2574204848192743e-16,3.264260487026916e-16,3.2658324622514475e-16,3.266404212436392e-16,3.2684982257601203e-16,3.2693714838671655e-16,3.2696198026347094e-16,3.270646396829348e-16,3.2726168216662345e-16,3.2749614297860157e-16,3.280370019067951e-16,3.281319203425866e-16,3.2814618449635635e-16,3.2858907737072517e-16,3.2903045614229974e-16,3.2926561203926527e-16,3.2934376234537873e-16,3.2968550392922743e-16,3.298026201729192e-16,3.302656434986821e-16,3.305482735123677e-16,3.3055602207272406e-16,3.310669068930044e-16,3.3137450133073417e-16,3.3148303959971143e-16,3.3177052748455624e-16,3.337462386582207e-16,3.3386661976356843e-16,3.3551523628155567e-16,3.356471527904325e-16,3.361208392733617e-16,3.3620989779665934e-16,3.3660925109023126e-16,3.3669096005442384e-16,3.371624547045292e-16,3.3742765788762536e-16,3.3767465991228046e-16,3.3808938961509075e-16,3.3847890797500217e-16,3.3855050970058943e-16,3.386952518022667e-16,3.396465090723188e-16,3.400009121039055e-16,3.4152208402072513e-16,3.421771684803488e-16,3.4272354507448664e-16,3.438258289879275e-16,3.448689981402532e-16,3.463257780634024e-16,3.491665989987249e-16,3.4970477936978e-16,3.5029408764641877e-16,3.5078979537932413e-16,3.517960881125814e-16,3.522841866104901e-16,3.5268828832657647e-16,3.5486741742624723e-16,3.569149352234094e-16,3.5763000875901806e-16,3.5875903033556073e-16,3.589225793748155e-16,3.612646814007398e-16,3.7163346648332327e-16],\"yaxis\":\"y\",\"type\":\"scatter\"}],                        {\"template\":{\"data\":{\"bar\":[{\"error_x\":{\"color\":\"#2a3f5f\"},\"error_y\":{\"color\":\"#2a3f5f\"},\"marker\":{\"line\":{\"color\":\"#E5ECF6\",\"width\":0.5},\"pattern\":{\"fillmode\":\"overlay\",\"size\":10,\"solidity\":0.2}},\"type\":\"bar\"}],\"barpolar\":[{\"marker\":{\"line\":{\"color\":\"#E5ECF6\",\"width\":0.5},\"pattern\":{\"fillmode\":\"overlay\",\"size\":10,\"solidity\":0.2}},\"type\":\"barpolar\"}],\"carpet\":[{\"aaxis\":{\"endlinecolor\":\"#2a3f5f\",\"gridcolor\":\"white\",\"linecolor\":\"white\",\"minorgridcolor\":\"white\",\"startlinecolor\":\"#2a3f5f\"},\"baxis\":{\"endlinecolor\":\"#2a3f5f\",\"gridcolor\":\"white\",\"linecolor\":\"white\",\"minorgridcolor\":\"white\",\"startlinecolor\":\"#2a3f5f\"},\"type\":\"carpet\"}],\"choropleth\":[{\"colorbar\":{\"outlinewidth\":0,\"ticks\":\"\"},\"type\":\"choropleth\"}],\"contour\":[{\"colorbar\":{\"outlinewidth\":0,\"ticks\":\"\"},\"colorscale\":[[0.0,\"#0d0887\"],[0.1111111111111111,\"#46039f\"],[0.2222222222222222,\"#7201a8\"],[0.3333333333333333,\"#9c179e\"],[0.4444444444444444,\"#bd3786\"],[0.5555555555555556,\"#d8576b\"],[0.6666666666666666,\"#ed7953\"],[0.7777777777777778,\"#fb9f3a\"],[0.8888888888888888,\"#fdca26\"],[1.0,\"#f0f921\"]],\"type\":\"contour\"}],\"contourcarpet\":[{\"colorbar\":{\"outlinewidth\":0,\"ticks\":\"\"},\"type\":\"contourcarpet\"}],\"heatmap\":[{\"colorbar\":{\"outlinewidth\":0,\"ticks\":\"\"},\"colorscale\":[[0.0,\"#0d0887\"],[0.1111111111111111,\"#46039f\"],[0.2222222222222222,\"#7201a8\"],[0.3333333333333333,\"#9c179e\"],[0.4444444444444444,\"#bd3786\"],[0.5555555555555556,\"#d8576b\"],[0.6666666666666666,\"#ed7953\"],[0.7777777777777778,\"#fb9f3a\"],[0.8888888888888888,\"#fdca26\"],[1.0,\"#f0f921\"]],\"type\":\"heatmap\"}],\"heatmapgl\":[{\"colorbar\":{\"outlinewidth\":0,\"ticks\":\"\"},\"colorscale\":[[0.0,\"#0d0887\"],[0.1111111111111111,\"#46039f\"],[0.2222222222222222,\"#7201a8\"],[0.3333333333333333,\"#9c179e\"],[0.4444444444444444,\"#bd3786\"],[0.5555555555555556,\"#d8576b\"],[0.6666666666666666,\"#ed7953\"],[0.7777777777777778,\"#fb9f3a\"],[0.8888888888888888,\"#fdca26\"],[1.0,\"#f0f921\"]],\"type\":\"heatmapgl\"}],\"histogram\":[{\"marker\":{\"pattern\":{\"fillmode\":\"overlay\",\"size\":10,\"solidity\":0.2}},\"type\":\"histogram\"}],\"histogram2d\":[{\"colorbar\":{\"outlinewidth\":0,\"ticks\":\"\"},\"colorscale\":[[0.0,\"#0d0887\"],[0.1111111111111111,\"#46039f\"],[0.2222222222222222,\"#7201a8\"],[0.3333333333333333,\"#9c179e\"],[0.4444444444444444,\"#bd3786\"],[0.5555555555555556,\"#d8576b\"],[0.6666666666666666,\"#ed7953\"],[0.7777777777777778,\"#fb9f3a\"],[0.8888888888888888,\"#fdca26\"],[1.0,\"#f0f921\"]],\"type\":\"histogram2d\"}],\"histogram2dcontour\":[{\"colorbar\":{\"outlinewidth\":0,\"ticks\":\"\"},\"colorscale\":[[0.0,\"#0d0887\"],[0.1111111111111111,\"#46039f\"],[0.2222222222222222,\"#7201a8\"],[0.3333333333333333,\"#9c179e\"],[0.4444444444444444,\"#bd3786\"],[0.5555555555555556,\"#d8576b\"],[0.6666666666666666,\"#ed7953\"],[0.7777777777777778,\"#fb9f3a\"],[0.8888888888888888,\"#fdca26\"],[1.0,\"#f0f921\"]],\"type\":\"histogram2dcontour\"}],\"mesh3d\":[{\"colorbar\":{\"outlinewidth\":0,\"ticks\":\"\"},\"type\":\"mesh3d\"}],\"parcoords\":[{\"line\":{\"colorbar\":{\"outlinewidth\":0,\"ticks\":\"\"}},\"type\":\"parcoords\"}],\"pie\":[{\"automargin\":true,\"type\":\"pie\"}],\"scatter\":[{\"marker\":{\"colorbar\":{\"outlinewidth\":0,\"ticks\":\"\"}},\"type\":\"scatter\"}],\"scatter3d\":[{\"line\":{\"colorbar\":{\"outlinewidth\":0,\"ticks\":\"\"}},\"marker\":{\"colorbar\":{\"outlinewidth\":0,\"ticks\":\"\"}},\"type\":\"scatter3d\"}],\"scattercarpet\":[{\"marker\":{\"colorbar\":{\"outlinewidth\":0,\"ticks\":\"\"}},\"type\":\"scattercarpet\"}],\"scattergeo\":[{\"marker\":{\"colorbar\":{\"outlinewidth\":0,\"ticks\":\"\"}},\"type\":\"scattergeo\"}],\"scattergl\":[{\"marker\":{\"colorbar\":{\"outlinewidth\":0,\"ticks\":\"\"}},\"type\":\"scattergl\"}],\"scattermapbox\":[{\"marker\":{\"colorbar\":{\"outlinewidth\":0,\"ticks\":\"\"}},\"type\":\"scattermapbox\"}],\"scatterpolar\":[{\"marker\":{\"colorbar\":{\"outlinewidth\":0,\"ticks\":\"\"}},\"type\":\"scatterpolar\"}],\"scatterpolargl\":[{\"marker\":{\"colorbar\":{\"outlinewidth\":0,\"ticks\":\"\"}},\"type\":\"scatterpolargl\"}],\"scatterternary\":[{\"marker\":{\"colorbar\":{\"outlinewidth\":0,\"ticks\":\"\"}},\"type\":\"scatterternary\"}],\"surface\":[{\"colorbar\":{\"outlinewidth\":0,\"ticks\":\"\"},\"colorscale\":[[0.0,\"#0d0887\"],[0.1111111111111111,\"#46039f\"],[0.2222222222222222,\"#7201a8\"],[0.3333333333333333,\"#9c179e\"],[0.4444444444444444,\"#bd3786\"],[0.5555555555555556,\"#d8576b\"],[0.6666666666666666,\"#ed7953\"],[0.7777777777777778,\"#fb9f3a\"],[0.8888888888888888,\"#fdca26\"],[1.0,\"#f0f921\"]],\"type\":\"surface\"}],\"table\":[{\"cells\":{\"fill\":{\"color\":\"#EBF0F8\"},\"line\":{\"color\":\"white\"}},\"header\":{\"fill\":{\"color\":\"#C8D4E3\"},\"line\":{\"color\":\"white\"}},\"type\":\"table\"}]},\"layout\":{\"annotationdefaults\":{\"arrowcolor\":\"#2a3f5f\",\"arrowhead\":0,\"arrowwidth\":1},\"autotypenumbers\":\"strict\",\"coloraxis\":{\"colorbar\":{\"outlinewidth\":0,\"ticks\":\"\"}},\"colorscale\":{\"diverging\":[[0,\"#8e0152\"],[0.1,\"#c51b7d\"],[0.2,\"#de77ae\"],[0.3,\"#f1b6da\"],[0.4,\"#fde0ef\"],[0.5,\"#f7f7f7\"],[0.6,\"#e6f5d0\"],[0.7,\"#b8e186\"],[0.8,\"#7fbc41\"],[0.9,\"#4d9221\"],[1,\"#276419\"]],\"sequential\":[[0.0,\"#0d0887\"],[0.1111111111111111,\"#46039f\"],[0.2222222222222222,\"#7201a8\"],[0.3333333333333333,\"#9c179e\"],[0.4444444444444444,\"#bd3786\"],[0.5555555555555556,\"#d8576b\"],[0.6666666666666666,\"#ed7953\"],[0.7777777777777778,\"#fb9f3a\"],[0.8888888888888888,\"#fdca26\"],[1.0,\"#f0f921\"]],\"sequentialminus\":[[0.0,\"#0d0887\"],[0.1111111111111111,\"#46039f\"],[0.2222222222222222,\"#7201a8\"],[0.3333333333333333,\"#9c179e\"],[0.4444444444444444,\"#bd3786\"],[0.5555555555555556,\"#d8576b\"],[0.6666666666666666,\"#ed7953\"],[0.7777777777777778,\"#fb9f3a\"],[0.8888888888888888,\"#fdca26\"],[1.0,\"#f0f921\"]]},\"colorway\":[\"#636efa\",\"#EF553B\",\"#00cc96\",\"#ab63fa\",\"#FFA15A\",\"#19d3f3\",\"#FF6692\",\"#B6E880\",\"#FF97FF\",\"#FECB52\"],\"font\":{\"color\":\"#2a3f5f\"},\"geo\":{\"bgcolor\":\"white\",\"lakecolor\":\"white\",\"landcolor\":\"#E5ECF6\",\"showlakes\":true,\"showland\":true,\"subunitcolor\":\"white\"},\"hoverlabel\":{\"align\":\"left\"},\"hovermode\":\"closest\",\"mapbox\":{\"style\":\"light\"},\"paper_bgcolor\":\"white\",\"plot_bgcolor\":\"#E5ECF6\",\"polar\":{\"angularaxis\":{\"gridcolor\":\"white\",\"linecolor\":\"white\",\"ticks\":\"\"},\"bgcolor\":\"#E5ECF6\",\"radialaxis\":{\"gridcolor\":\"white\",\"linecolor\":\"white\",\"ticks\":\"\"}},\"scene\":{\"xaxis\":{\"backgroundcolor\":\"#E5ECF6\",\"gridcolor\":\"white\",\"gridwidth\":2,\"linecolor\":\"white\",\"showbackground\":true,\"ticks\":\"\",\"zerolinecolor\":\"white\"},\"yaxis\":{\"backgroundcolor\":\"#E5ECF6\",\"gridcolor\":\"white\",\"gridwidth\":2,\"linecolor\":\"white\",\"showbackground\":true,\"ticks\":\"\",\"zerolinecolor\":\"white\"},\"zaxis\":{\"backgroundcolor\":\"#E5ECF6\",\"gridcolor\":\"white\",\"gridwidth\":2,\"linecolor\":\"white\",\"showbackground\":true,\"ticks\":\"\",\"zerolinecolor\":\"white\"}},\"shapedefaults\":{\"line\":{\"color\":\"#2a3f5f\"}},\"ternary\":{\"aaxis\":{\"gridcolor\":\"white\",\"linecolor\":\"white\",\"ticks\":\"\"},\"baxis\":{\"gridcolor\":\"white\",\"linecolor\":\"white\",\"ticks\":\"\"},\"bgcolor\":\"#E5ECF6\",\"caxis\":{\"gridcolor\":\"white\",\"linecolor\":\"white\",\"ticks\":\"\"}},\"title\":{\"x\":0.05},\"xaxis\":{\"automargin\":true,\"gridcolor\":\"white\",\"linecolor\":\"white\",\"ticks\":\"\",\"title\":{\"standoff\":15},\"zerolinecolor\":\"white\",\"zerolinewidth\":2},\"yaxis\":{\"automargin\":true,\"gridcolor\":\"white\",\"linecolor\":\"white\",\"ticks\":\"\",\"title\":{\"standoff\":15},\"zerolinecolor\":\"white\",\"zerolinewidth\":2}}},\"xaxis\":{\"anchor\":\"y\",\"domain\":[0.0,1.0],\"title\":{\"text\":\"y_pred\"}},\"yaxis\":{\"anchor\":\"x\",\"domain\":[0.0,1.0],\"title\":{\"text\":\"residual\"}},\"legend\":{\"tracegroupgap\":0},\"margin\":{\"t\":60},\"title\":{\"text\":\"y_pred vs residual\"}},                        {\"responsive\": true}                    ).then(function(){\n",
              "                            \n",
              "var gd = document.getElementById('54d33cd3-49e6-4f58-b309-2708f175615b');\n",
              "var x = new MutationObserver(function (mutations, observer) {{\n",
              "        var display = window.getComputedStyle(gd).display;\n",
              "        if (!display || display === 'none') {{\n",
              "            console.log([gd, 'removed!']);\n",
              "            Plotly.purge(gd);\n",
              "            observer.disconnect();\n",
              "        }}\n",
              "}});\n",
              "\n",
              "// Listen for the removal of the full notebook cells\n",
              "var notebookContainer = gd.closest('#notebook-container');\n",
              "if (notebookContainer) {{\n",
              "    x.observe(notebookContainer, {childList: true});\n",
              "}}\n",
              "\n",
              "// Listen for the clearing of the current output cell\n",
              "var outputEl = gd.closest('.output');\n",
              "if (outputEl) {{\n",
              "    x.observe(outputEl, {childList: true});\n",
              "}}\n",
              "\n",
              "                        })                };                            </script>        </div>\n",
              "</body>\n",
              "</html>"
            ]
          },
          "metadata": {}
        }
      ]
    },
    {
      "cell_type": "markdown",
      "source": [
        "We can see the Homoscedasticity in the above graph"
      ],
      "metadata": {
        "id": "cvHY3Y28ppfx"
      }
    },
    {
      "cell_type": "code",
      "source": [
        "from statsmodels.stats.stattools import durbin_watson\n",
        "\n",
        "#perform Durbin-Watson test\n",
        "durbin_watson(lr_5.resid)"
      ],
      "metadata": {
        "colab": {
          "base_uri": "https://localhost:8080/"
        },
        "id": "Pxl-15sjSjy1",
        "outputId": "4c37d8cd-4a6c-404f-ea53-e61d13a0e542"
      },
      "execution_count": 1296,
      "outputs": [
        {
          "output_type": "execute_result",
          "data": {
            "text/plain": [
              "2.0885340299289736"
            ]
          },
          "metadata": {},
          "execution_count": 1296
        }
      ]
    },
    {
      "cell_type": "markdown",
      "source": [
        "**Making predictions using final model**"
      ],
      "metadata": {
        "id": "UA_CKBLMszVC"
      }
    },
    {
      "cell_type": "markdown",
      "source": [
        "Lets apply scaling on test dataset"
      ],
      "metadata": {
        "id": "LIuzHEgntISO"
      }
    },
    {
      "cell_type": "code",
      "source": [
        "ride_test[scal_var] = scaler.transform(ride_test[scal_var])"
      ],
      "metadata": {
        "id": "twRoy0pepyOd"
      },
      "execution_count": 1297,
      "outputs": []
    },
    {
      "cell_type": "code",
      "source": [
        "ride_test.describe()"
      ],
      "metadata": {
        "colab": {
          "base_uri": "https://localhost:8080/",
          "height": 411
        },
        "id": "52XGS3tJtYcr",
        "outputId": "936a48dc-2bee-433b-e8c1-38bdfe2363f7"
      },
      "execution_count": 1298,
      "outputs": [
        {
          "output_type": "execute_result",
          "data": {
            "text/plain": [
              "             year     holiday  workingday        temp    humidity   windspeed  \\\n",
              "count  220.000000  220.000000  220.000000  220.000000  220.000000  220.000000   \n",
              "mean     0.481818    0.036364    0.700000    0.558718    0.638221    0.313293   \n",
              "std      0.500809    0.187620    0.459303    0.233187    0.148694    0.159584   \n",
              "min      0.000000    0.000000    0.000000    0.046591    0.261915   -0.042808   \n",
              "25%      0.000000    0.000000    0.000000    0.355429    0.529197    0.198843   \n",
              "50%      0.000000    0.000000    1.000000    0.558172    0.625590    0.300126   \n",
              "75%      1.000000    0.000000    1.000000    0.755981    0.743798    0.402718   \n",
              "max      1.000000    1.000000    1.000000    0.984424    1.002146    0.807474   \n",
              "\n",
              "              cnt      spring      summer      winter  ...         Oct  \\\n",
              "count  220.000000  220.000000  220.000000  220.000000  ...  220.000000   \n",
              "mean     0.522154    0.254545    0.263636    0.236364  ...    0.086364   \n",
              "std      0.219163    0.436599    0.441609    0.425817  ...    0.281541   \n",
              "min      0.048205    0.000000    0.000000    0.000000  ...    0.000000   \n",
              "25%      0.378595    0.000000    0.000000    0.000000  ...    0.000000   \n",
              "50%      0.524678    0.000000    0.000000    0.000000  ...    0.000000   \n",
              "75%      0.677750    1.000000    1.000000    0.000000  ...    0.000000   \n",
              "max      0.963300    1.000000    1.000000    1.000000  ...    1.000000   \n",
              "\n",
              "              Sep         Mon         Sat         Sun         Thu         Tue  \\\n",
              "count  220.000000  220.000000  220.000000  220.000000  220.000000  220.000000   \n",
              "mean     0.086364    0.127273    0.118182    0.145455    0.163636    0.168182   \n",
              "std      0.281541    0.334038    0.323559    0.353363    0.370789    0.374881   \n",
              "min      0.000000    0.000000    0.000000    0.000000    0.000000    0.000000   \n",
              "25%      0.000000    0.000000    0.000000    0.000000    0.000000    0.000000   \n",
              "50%      0.000000    0.000000    0.000000    0.000000    0.000000    0.000000   \n",
              "75%      0.000000    0.000000    0.000000    0.000000    0.000000    0.000000   \n",
              "max      1.000000    1.000000    1.000000    1.000000    1.000000    1.000000   \n",
              "\n",
              "              Wed  Light Snow  Mist + Cloudy  \n",
              "count  220.000000  220.000000     220.000000  \n",
              "mean     0.100000    0.027273       0.318182  \n",
              "std      0.300684    0.163248       0.466833  \n",
              "min      0.000000    0.000000       0.000000  \n",
              "25%      0.000000    0.000000       0.000000  \n",
              "50%      0.000000    0.000000       0.000000  \n",
              "75%      0.000000    0.000000       1.000000  \n",
              "max      1.000000    1.000000       1.000000  \n",
              "\n",
              "[8 rows x 29 columns]"
            ],
            "text/html": [
              "\n",
              "  <div id=\"df-c5c67749-e7a5-44d3-b2d9-ec84b53718af\">\n",
              "    <div class=\"colab-df-container\">\n",
              "      <div>\n",
              "<style scoped>\n",
              "    .dataframe tbody tr th:only-of-type {\n",
              "        vertical-align: middle;\n",
              "    }\n",
              "\n",
              "    .dataframe tbody tr th {\n",
              "        vertical-align: top;\n",
              "    }\n",
              "\n",
              "    .dataframe thead th {\n",
              "        text-align: right;\n",
              "    }\n",
              "</style>\n",
              "<table border=\"1\" class=\"dataframe\">\n",
              "  <thead>\n",
              "    <tr style=\"text-align: right;\">\n",
              "      <th></th>\n",
              "      <th>year</th>\n",
              "      <th>holiday</th>\n",
              "      <th>workingday</th>\n",
              "      <th>temp</th>\n",
              "      <th>humidity</th>\n",
              "      <th>windspeed</th>\n",
              "      <th>cnt</th>\n",
              "      <th>spring</th>\n",
              "      <th>summer</th>\n",
              "      <th>winter</th>\n",
              "      <th>...</th>\n",
              "      <th>Oct</th>\n",
              "      <th>Sep</th>\n",
              "      <th>Mon</th>\n",
              "      <th>Sat</th>\n",
              "      <th>Sun</th>\n",
              "      <th>Thu</th>\n",
              "      <th>Tue</th>\n",
              "      <th>Wed</th>\n",
              "      <th>Light Snow</th>\n",
              "      <th>Mist + Cloudy</th>\n",
              "    </tr>\n",
              "  </thead>\n",
              "  <tbody>\n",
              "    <tr>\n",
              "      <th>count</th>\n",
              "      <td>220.000000</td>\n",
              "      <td>220.000000</td>\n",
              "      <td>220.000000</td>\n",
              "      <td>220.000000</td>\n",
              "      <td>220.000000</td>\n",
              "      <td>220.000000</td>\n",
              "      <td>220.000000</td>\n",
              "      <td>220.000000</td>\n",
              "      <td>220.000000</td>\n",
              "      <td>220.000000</td>\n",
              "      <td>...</td>\n",
              "      <td>220.000000</td>\n",
              "      <td>220.000000</td>\n",
              "      <td>220.000000</td>\n",
              "      <td>220.000000</td>\n",
              "      <td>220.000000</td>\n",
              "      <td>220.000000</td>\n",
              "      <td>220.000000</td>\n",
              "      <td>220.000000</td>\n",
              "      <td>220.000000</td>\n",
              "      <td>220.000000</td>\n",
              "    </tr>\n",
              "    <tr>\n",
              "      <th>mean</th>\n",
              "      <td>0.481818</td>\n",
              "      <td>0.036364</td>\n",
              "      <td>0.700000</td>\n",
              "      <td>0.558718</td>\n",
              "      <td>0.638221</td>\n",
              "      <td>0.313293</td>\n",
              "      <td>0.522154</td>\n",
              "      <td>0.254545</td>\n",
              "      <td>0.263636</td>\n",
              "      <td>0.236364</td>\n",
              "      <td>...</td>\n",
              "      <td>0.086364</td>\n",
              "      <td>0.086364</td>\n",
              "      <td>0.127273</td>\n",
              "      <td>0.118182</td>\n",
              "      <td>0.145455</td>\n",
              "      <td>0.163636</td>\n",
              "      <td>0.168182</td>\n",
              "      <td>0.100000</td>\n",
              "      <td>0.027273</td>\n",
              "      <td>0.318182</td>\n",
              "    </tr>\n",
              "    <tr>\n",
              "      <th>std</th>\n",
              "      <td>0.500809</td>\n",
              "      <td>0.187620</td>\n",
              "      <td>0.459303</td>\n",
              "      <td>0.233187</td>\n",
              "      <td>0.148694</td>\n",
              "      <td>0.159584</td>\n",
              "      <td>0.219163</td>\n",
              "      <td>0.436599</td>\n",
              "      <td>0.441609</td>\n",
              "      <td>0.425817</td>\n",
              "      <td>...</td>\n",
              "      <td>0.281541</td>\n",
              "      <td>0.281541</td>\n",
              "      <td>0.334038</td>\n",
              "      <td>0.323559</td>\n",
              "      <td>0.353363</td>\n",
              "      <td>0.370789</td>\n",
              "      <td>0.374881</td>\n",
              "      <td>0.300684</td>\n",
              "      <td>0.163248</td>\n",
              "      <td>0.466833</td>\n",
              "    </tr>\n",
              "    <tr>\n",
              "      <th>min</th>\n",
              "      <td>0.000000</td>\n",
              "      <td>0.000000</td>\n",
              "      <td>0.000000</td>\n",
              "      <td>0.046591</td>\n",
              "      <td>0.261915</td>\n",
              "      <td>-0.042808</td>\n",
              "      <td>0.048205</td>\n",
              "      <td>0.000000</td>\n",
              "      <td>0.000000</td>\n",
              "      <td>0.000000</td>\n",
              "      <td>...</td>\n",
              "      <td>0.000000</td>\n",
              "      <td>0.000000</td>\n",
              "      <td>0.000000</td>\n",
              "      <td>0.000000</td>\n",
              "      <td>0.000000</td>\n",
              "      <td>0.000000</td>\n",
              "      <td>0.000000</td>\n",
              "      <td>0.000000</td>\n",
              "      <td>0.000000</td>\n",
              "      <td>0.000000</td>\n",
              "    </tr>\n",
              "    <tr>\n",
              "      <th>25%</th>\n",
              "      <td>0.000000</td>\n",
              "      <td>0.000000</td>\n",
              "      <td>0.000000</td>\n",
              "      <td>0.355429</td>\n",
              "      <td>0.529197</td>\n",
              "      <td>0.198843</td>\n",
              "      <td>0.378595</td>\n",
              "      <td>0.000000</td>\n",
              "      <td>0.000000</td>\n",
              "      <td>0.000000</td>\n",
              "      <td>...</td>\n",
              "      <td>0.000000</td>\n",
              "      <td>0.000000</td>\n",
              "      <td>0.000000</td>\n",
              "      <td>0.000000</td>\n",
              "      <td>0.000000</td>\n",
              "      <td>0.000000</td>\n",
              "      <td>0.000000</td>\n",
              "      <td>0.000000</td>\n",
              "      <td>0.000000</td>\n",
              "      <td>0.000000</td>\n",
              "    </tr>\n",
              "    <tr>\n",
              "      <th>50%</th>\n",
              "      <td>0.000000</td>\n",
              "      <td>0.000000</td>\n",
              "      <td>1.000000</td>\n",
              "      <td>0.558172</td>\n",
              "      <td>0.625590</td>\n",
              "      <td>0.300126</td>\n",
              "      <td>0.524678</td>\n",
              "      <td>0.000000</td>\n",
              "      <td>0.000000</td>\n",
              "      <td>0.000000</td>\n",
              "      <td>...</td>\n",
              "      <td>0.000000</td>\n",
              "      <td>0.000000</td>\n",
              "      <td>0.000000</td>\n",
              "      <td>0.000000</td>\n",
              "      <td>0.000000</td>\n",
              "      <td>0.000000</td>\n",
              "      <td>0.000000</td>\n",
              "      <td>0.000000</td>\n",
              "      <td>0.000000</td>\n",
              "      <td>0.000000</td>\n",
              "    </tr>\n",
              "    <tr>\n",
              "      <th>75%</th>\n",
              "      <td>1.000000</td>\n",
              "      <td>0.000000</td>\n",
              "      <td>1.000000</td>\n",
              "      <td>0.755981</td>\n",
              "      <td>0.743798</td>\n",
              "      <td>0.402718</td>\n",
              "      <td>0.677750</td>\n",
              "      <td>1.000000</td>\n",
              "      <td>1.000000</td>\n",
              "      <td>0.000000</td>\n",
              "      <td>...</td>\n",
              "      <td>0.000000</td>\n",
              "      <td>0.000000</td>\n",
              "      <td>0.000000</td>\n",
              "      <td>0.000000</td>\n",
              "      <td>0.000000</td>\n",
              "      <td>0.000000</td>\n",
              "      <td>0.000000</td>\n",
              "      <td>0.000000</td>\n",
              "      <td>0.000000</td>\n",
              "      <td>1.000000</td>\n",
              "    </tr>\n",
              "    <tr>\n",
              "      <th>max</th>\n",
              "      <td>1.000000</td>\n",
              "      <td>1.000000</td>\n",
              "      <td>1.000000</td>\n",
              "      <td>0.984424</td>\n",
              "      <td>1.002146</td>\n",
              "      <td>0.807474</td>\n",
              "      <td>0.963300</td>\n",
              "      <td>1.000000</td>\n",
              "      <td>1.000000</td>\n",
              "      <td>1.000000</td>\n",
              "      <td>...</td>\n",
              "      <td>1.000000</td>\n",
              "      <td>1.000000</td>\n",
              "      <td>1.000000</td>\n",
              "      <td>1.000000</td>\n",
              "      <td>1.000000</td>\n",
              "      <td>1.000000</td>\n",
              "      <td>1.000000</td>\n",
              "      <td>1.000000</td>\n",
              "      <td>1.000000</td>\n",
              "      <td>1.000000</td>\n",
              "    </tr>\n",
              "  </tbody>\n",
              "</table>\n",
              "<p>8 rows × 29 columns</p>\n",
              "</div>\n",
              "      <button class=\"colab-df-convert\" onclick=\"convertToInteractive('df-c5c67749-e7a5-44d3-b2d9-ec84b53718af')\"\n",
              "              title=\"Convert this dataframe to an interactive table.\"\n",
              "              style=\"display:none;\">\n",
              "        \n",
              "  <svg xmlns=\"http://www.w3.org/2000/svg\" height=\"24px\"viewBox=\"0 0 24 24\"\n",
              "       width=\"24px\">\n",
              "    <path d=\"M0 0h24v24H0V0z\" fill=\"none\"/>\n",
              "    <path d=\"M18.56 5.44l.94 2.06.94-2.06 2.06-.94-2.06-.94-.94-2.06-.94 2.06-2.06.94zm-11 1L8.5 8.5l.94-2.06 2.06-.94-2.06-.94L8.5 2.5l-.94 2.06-2.06.94zm10 10l.94 2.06.94-2.06 2.06-.94-2.06-.94-.94-2.06-.94 2.06-2.06.94z\"/><path d=\"M17.41 7.96l-1.37-1.37c-.4-.4-.92-.59-1.43-.59-.52 0-1.04.2-1.43.59L10.3 9.45l-7.72 7.72c-.78.78-.78 2.05 0 2.83L4 21.41c.39.39.9.59 1.41.59.51 0 1.02-.2 1.41-.59l7.78-7.78 2.81-2.81c.8-.78.8-2.07 0-2.86zM5.41 20L4 18.59l7.72-7.72 1.47 1.35L5.41 20z\"/>\n",
              "  </svg>\n",
              "      </button>\n",
              "      \n",
              "  <style>\n",
              "    .colab-df-container {\n",
              "      display:flex;\n",
              "      flex-wrap:wrap;\n",
              "      gap: 12px;\n",
              "    }\n",
              "\n",
              "    .colab-df-convert {\n",
              "      background-color: #E8F0FE;\n",
              "      border: none;\n",
              "      border-radius: 50%;\n",
              "      cursor: pointer;\n",
              "      display: none;\n",
              "      fill: #1967D2;\n",
              "      height: 32px;\n",
              "      padding: 0 0 0 0;\n",
              "      width: 32px;\n",
              "    }\n",
              "\n",
              "    .colab-df-convert:hover {\n",
              "      background-color: #E2EBFA;\n",
              "      box-shadow: 0px 1px 2px rgba(60, 64, 67, 0.3), 0px 1px 3px 1px rgba(60, 64, 67, 0.15);\n",
              "      fill: #174EA6;\n",
              "    }\n",
              "\n",
              "    [theme=dark] .colab-df-convert {\n",
              "      background-color: #3B4455;\n",
              "      fill: #D2E3FC;\n",
              "    }\n",
              "\n",
              "    [theme=dark] .colab-df-convert:hover {\n",
              "      background-color: #434B5C;\n",
              "      box-shadow: 0px 1px 3px 1px rgba(0, 0, 0, 0.15);\n",
              "      filter: drop-shadow(0px 1px 2px rgba(0, 0, 0, 0.3));\n",
              "      fill: #FFFFFF;\n",
              "    }\n",
              "  </style>\n",
              "\n",
              "      <script>\n",
              "        const buttonEl =\n",
              "          document.querySelector('#df-c5c67749-e7a5-44d3-b2d9-ec84b53718af button.colab-df-convert');\n",
              "        buttonEl.style.display =\n",
              "          google.colab.kernel.accessAllowed ? 'block' : 'none';\n",
              "\n",
              "        async function convertToInteractive(key) {\n",
              "          const element = document.querySelector('#df-c5c67749-e7a5-44d3-b2d9-ec84b53718af');\n",
              "          const dataTable =\n",
              "            await google.colab.kernel.invokeFunction('convertToInteractive',\n",
              "                                                     [key], {});\n",
              "          if (!dataTable) return;\n",
              "\n",
              "          const docLinkHtml = 'Like what you see? Visit the ' +\n",
              "            '<a target=\"_blank\" href=https://colab.research.google.com/notebooks/data_table.ipynb>data table notebook</a>'\n",
              "            + ' to learn more about interactive tables.';\n",
              "          element.innerHTML = '';\n",
              "          dataTable['output_type'] = 'display_data';\n",
              "          await google.colab.output.renderOutput(dataTable, element);\n",
              "          const docLink = document.createElement('div');\n",
              "          docLink.innerHTML = docLinkHtml;\n",
              "          element.appendChild(docLink);\n",
              "        }\n",
              "      </script>\n",
              "    </div>\n",
              "  </div>\n",
              "  "
            ]
          },
          "metadata": {},
          "execution_count": 1298
        }
      ]
    },
    {
      "cell_type": "markdown",
      "source": [
        "We will divide data into X_test and y_test"
      ],
      "metadata": {
        "id": "W08XT1FptjR1"
      }
    },
    {
      "cell_type": "code",
      "source": [
        "y_test = ride_test.pop('cnt')\n",
        "X_test = ride_test"
      ],
      "metadata": {
        "id": "o7di5Mo-tcL8"
      },
      "execution_count": 1299,
      "outputs": []
    },
    {
      "cell_type": "code",
      "source": [
        "X_test = X_test[X_train_sel5.columns]\n",
        "#add constant\n",
        "X_test_lm6 = sm.add_constant(X_test)\n",
        "#prediction for test data\n",
        "y_pred = lr_5.predict(X_test_lm6)"
      ],
      "metadata": {
        "colab": {
          "base_uri": "https://localhost:8080/"
        },
        "id": "F3xibrIPtzGt",
        "outputId": "400bca2e-10dc-470c-c1b3-49a1b6425231"
      },
      "execution_count": 1300,
      "outputs": [
        {
          "output_type": "stream",
          "name": "stderr",
          "text": [
            "/usr/local/lib/python3.7/dist-packages/statsmodels/tsa/tsatools.py:117: FutureWarning:\n",
            "\n",
            "In a future version of pandas all arguments of concat except for the argument 'objs' will be keyword-only\n",
            "\n"
          ]
        }
      ]
    },
    {
      "cell_type": "markdown",
      "source": [
        "Coefficient of determination(R^2) for test data"
      ],
      "metadata": {
        "id": "ILPJORLWwW07"
      }
    },
    {
      "cell_type": "code",
      "source": [
        "from sklearn.metrics import r2_score\n",
        "r2_score(y_test, y_pred)"
      ],
      "metadata": {
        "colab": {
          "base_uri": "https://localhost:8080/"
        },
        "id": "nLE0kT82veBF",
        "outputId": "53c32d15-9ee2-4051-aa64-63fa5f32e902"
      },
      "execution_count": 1301,
      "outputs": [
        {
          "output_type": "execute_result",
          "data": {
            "text/plain": [
              "0.7961390438459766"
            ]
          },
          "metadata": {},
          "execution_count": 1301
        }
      ]
    },
    {
      "cell_type": "markdown",
      "source": [
        "**Model evaluation**"
      ],
      "metadata": {
        "id": "C9uLQh0Hy7Te"
      }
    },
    {
      "cell_type": "code",
      "source": [
        "scatter_pred = px.scatter(x=y_test, y=y_pred, labels={'x':'y_test','y':'y_pred'}, trendline=\"ols\", trendline_color_override=\"red\")\n",
        "scatter_pred.update_layout(title=\"y_pred vs y_pred\")\n",
        "scatter_pred.show()"
      ],
      "metadata": {
        "colab": {
          "base_uri": "https://localhost:8080/",
          "height": 542
        },
        "id": "PHH6whHuy-ku",
        "outputId": "bb2151fd-54c5-4086-91ee-dccbd63546c3"
      },
      "execution_count": 1302,
      "outputs": [
        {
          "output_type": "display_data",
          "data": {
            "text/html": [
              "<html>\n",
              "<head><meta charset=\"utf-8\" /></head>\n",
              "<body>\n",
              "    <div>            <script src=\"https://cdnjs.cloudflare.com/ajax/libs/mathjax/2.7.5/MathJax.js?config=TeX-AMS-MML_SVG\"></script><script type=\"text/javascript\">if (window.MathJax) {MathJax.Hub.Config({SVG: {font: \"STIX-Web\"}});}</script>                <script type=\"text/javascript\">window.PlotlyConfig = {MathJaxConfig: 'local'};</script>\n",
              "        <script src=\"https://cdn.plot.ly/plotly-2.8.3.min.js\"></script>                <div id=\"89833943-048e-4a9a-81fe-135644a1a8bd\" class=\"plotly-graph-div\" style=\"height:525px; width:100%;\"></div>            <script type=\"text/javascript\">                                    window.PLOTLYENV=window.PLOTLYENV || {};                                    if (document.getElementById(\"89833943-048e-4a9a-81fe-135644a1a8bd\")) {                    Plotly.newPlot(                        \"89833943-048e-4a9a-81fe-135644a1a8bd\",                        [{\"hovertemplate\":\"y_test=%{x}<br>y_pred=%{y}<extra></extra>\",\"legendgroup\":\"\",\"marker\":{\"color\":\"#636efa\",\"symbol\":\"circle\"},\"mode\":\"markers\",\"name\":\"\",\"orientation\":\"v\",\"showlegend\":false,\"x\":[0.6927059364933272,0.7120340543028072,0.303382420616659,0.5473999079613437,0.5690289921767142,0.43810400368154623,0.5103543488265071,0.5537275655775425,0.6927059364933272,0.4958582604693971,0.7722043258168431,0.7992406810860562,0.45121951219512196,0.7335480901978831,0.29590427979751494,0.7893465255407272,0.5487804878048781,0.17441325356649795,0.6296594569719283,0.6255177174413253,0.8848366313851818,0.27300966405890476,0.7494247583985274,0.21916705016106766,0.46433502070869764,0.4994247583985274,0.8607915324436264,0.5750115048320295,0.9071560055223193,0.4675563736769443,0.7917625402669122,0.8441095260009204,0.5491256327657617,0.4660607455131155,0.18235158766682008,0.4660607455131155,0.4329268292682927,0.7494247583985274,0.22583985273815005,0.5231247123791992,0.5162218131615278,0.33421537045559135,0.6530142659917165,0.3754026691210308,0.5844454670961804,0.8554993097100783,0.23400828347906122,0.47146801656695814,0.609410952600092,0.27991256327657615,0.8793143120110447,0.548550391164289,0.5798435342843995,0.9516797054763001,0.15174873446847678,0.7154855039116429,0.4330418775885872,0.5722503451449609,0.3092498849516797,0.6450759318913944,0.47710538426138976,0.43281178094799816,0.19834330418775886,0.5250805338242062,0.6277036355269213,0.5301426599171652,0.9358030372756558,0.6516336861481823,0.5261159687068568,0.943971468016567,0.16670501610676486,0.545674183156926,0.8709157846295444,0.7863552692130695,0.4478831109065808,0.48918545789231477,0.3733317993557294,0.7781868384721583,0.5207086976530143,0.6074551311550851,0.6753336401288541,0.6701564657156006,0.43821905200184075,0.3915094339622642,0.8602162908421537,0.46295444086516335,0.8153474459272895,0.4282098481362172,0.39116428900138056,0.3796594569719282,0.1592268752876208,0.49240681086056143,0.6259779107225034,0.3660837551771744,0.4289001380579843,0.9188909341923608,0.7290612057063967,0.05568338702254947,0.5276115968706857,0.2053612517257248,0.6086056143580304,0.5448688449148642,0.24148642429820527,0.4970087436723424,0.608950759318914,0.42855499309710077,0.22399907961343765,0.38966866083755175,0.46168890934192364,0.11090658076392085,0.3431891394385642,0.5694891854578923,0.5709848136217212,0.776576161988035,0.42418315692590886,0.3950759318913944,0.4689369535204786,0.08893235158766682,0.38771283939254486,0.5331339162448229,0.9632995858260469,0.4392544868844915,0.47020248504371837,0.6581914404049701,0.5534974689369535,0.4429360331339162,0.8541187298665439,0.22491946617579386,0.541072250345145,0.81764841233318,0.44730786930510813,0.5396916705016107,0.10331339162448228,0.507478140819144,0.8536585365853658,0.2771514035895076,0.16682006442705938,0.31868384721583065,0.4689369535204786,0.5548780487804879,0.35710998619420153,0.49516797054763,0.41428900138057984,0.1771744132535665,0.46030832949838935,0.13115508513575702,0.25471698113207547,0.8683847215830649,0.21755637367694433,0.5736309249884952,0.2633456051541647,0.15393465255407274,0.7191670501610676,0.8179935572940635,0.7557524160147262,0.27634606534744593,0.04820524620340543,0.543718361711919,0.5959502991256328,0.8491716520938795,0.24079613437643813,0.5959502991256328,0.6868384721583065,0.7361942015646572,0.5448688449148642,0.6034284399447768,0.6124022089277497,0.5101242521859181,0.7772664519098021,0.5526921306948919,0.883571099861942,0.7900368154624943,0.587666820064427,0.5757017947537966,0.776346065347446,0.8558444546709618,0.74033594109526,0.6338011965025311,0.33053382420616656,0.8416935112747355,0.43695352047860103,0.6346065347445927,0.611366774045099,0.48124712379199264,0.8874827427519558,0.3351357570179475,0.4942475839852738,0.5780027611596871,0.5572940635066728,0.5242751955821445,0.4960883571099862,0.31143580303727564,0.22192820984813624,0.5618959963184538,0.4555913483663139,0.2817533364012885,0.1494477680625863,0.48918545789231477,0.34249884951679704,0.3131615278416935,0.12356189599631848,0.5432581684307409,0.11401288541187299,0.3232857800276116,0.38265071329958583,0.8480211688909343,0.8596410492406811,0.3873676944316613,0.20306028531983436,0.6849976990335941,0.16382880809940176,0.732857800276116,0.5976760239300506,0.8405430280717902,0.3365163368614818,0.7574781408191441,0.49597330878969165,0.8686148182236539,0.232857800276116,0.8642429820524621],\"xaxis\":\"x\",\"y\":[0.43930838196202754,0.9246754487081859,0.4114153257175431,0.5632237223151806,0.5857365186027728,0.4546999061247792,0.544332852791569,0.4341430714028373,0.7929983379915864,0.5932067766878738,0.8455218844719063,0.7032061983630389,0.520316923102087,0.6778100752264336,0.18759040306312302,0.7863271150279851,0.5413669333038217,0.12958245620510903,0.6000493278901436,0.5539189756155805,0.7963381483772207,0.6439739765433098,0.8459702136977796,0.13863245078827224,0.42935909580948556,0.5194293405078638,0.8598786412071365,0.5265625367462774,0.7978582360976059,0.5329824059680975,0.8224114043405497,0.7238563031588993,0.5098494200598264,0.6630013982459075,0.19415295617884937,0.5471933068213969,0.4901373192039476,0.7272569660181618,0.1345229195898715,0.40094329582584065,0.5177338534885362,0.3737749346926207,0.6478482577551191,0.6541696415261345,0.585573793686549,0.790616391665045,0.1806828813092784,0.6495358564573526,0.5379786473187521,0.31498280273665846,0.8055094431068968,0.44407489600339606,0.5853581477799469,0.8209659274869419,0.4013075729062958,0.8401236300219944,0.5471506193367145,0.516456234136292,0.17024729827954765,0.6426231766714037,0.5159487678044155,0.5090582582927975,0.19807158505564576,0.6637708016870176,0.5317509176044156,0.6605935096960908,0.854429539273621,0.6030513443113217,0.4626967859965713,0.722176544809817,0.26769844140147897,0.5289525085769138,0.7817779907042813,0.6459285497392948,0.6171799762013341,0.43415753628774406,0.47673877218277305,0.8604014508854128,0.6174644570244211,0.4596203449369459,0.48314492671445214,0.64593963960441,0.4112545318978383,0.44909158681321165,0.7322007866029551,0.3410397127648313,0.7006509592894786,0.34887133193190084,0.4345058258734117,0.3374311161657302,0.11735258252712898,0.5457691316982063,0.8542383654019712,0.4072104915093711,0.3991859765094912,0.8345313090428381,0.625760204103294,-0.1313787858619473,0.4455130387651316,0.14370380844812924,0.5337111397673133,0.48631226496880464,0.27289518569434584,0.5675789714046722,0.5937701873635174,0.30547685273463115,0.2474255507925157,0.43655238853112405,0.4869386910869836,0.03246531427106543,0.4443172895280841,0.7225391140617282,0.5779289755042369,0.7128329671614547,0.3554196776683789,0.43471800353495643,0.5959201167604624,0.09913125971981829,0.3670062305884835,0.5745371811025093,0.7973697547937044,0.5837539334110157,0.488706120810298,0.8229760182625648,0.6154575735983349,0.43397755115260445,0.7793767461002352,0.16385143393786616,0.5060794364836027,0.7108881112784665,0.6715112788916885,0.6139276387389468,0.3905632682982583,0.409405540795881,0.6541149448831696,0.2859200087639878,0.20070989233940945,0.45933113600491027,0.5108107363027621,0.5727773465612135,0.3677512548302518,0.5647784437416636,0.35675870094436457,0.18828101317866924,0.495310493409687,0.18451484694180276,0.31863606918964604,0.7059885532572926,0.24964382131991533,0.5647556760770879,0.3121134362131865,0.1386259844060001,0.6377742757399646,0.7109370895794467,0.8102675831990923,0.5306307243957713,0.11188837939148694,0.4834934748572231,0.6504177917578657,0.7774528843940288,0.2387848026918395,0.5223935789669482,0.6447433404527431,0.6855640515488964,0.5773303315121429,0.6349234678345631,0.6144493478523774,0.4984443973831728,0.71507236441665,0.5451024451627651,0.8150732857252448,0.8256070422322885,0.4816382222221156,0.6289867548537464,0.8175996361055169,0.7470306984459473,0.6512978180448121,0.7845204195023315,0.3005874993093008,0.8272612476850578,0.3579519782353577,0.49823393895110896,0.562558839926293,0.49213306251272304,0.8127731039654847,0.3969610154804395,0.5230774801831503,0.5552447254423352,0.5301590054242016,0.5962519707898787,0.43142948005063186,0.3540657687974267,0.35884059144950153,0.4551657566443182,0.6872257460266737,0.20712818597564886,0.1335815034737137,0.4681162824445458,0.2734558238134241,0.31915395673564295,0.1722834386015761,0.5022393478065726,0.34502954756064025,0.40956075516955837,0.41319918361623637,0.8864152121101331,0.7868140141405846,0.40455548029725763,0.405787173498736,0.7244565010932812,0.20710977217054638,0.6310570115586661,0.5078176586504021,0.7997930831834809,0.32515132087345827,0.7364584447473939,0.4743362903213647,0.8168095850062189,0.2818763544517942,0.7286195563174901],\"yaxis\":\"y\",\"type\":\"scatter\"},{\"hovertemplate\":\"<b>OLS trendline</b><br>y = 0.826646 * x + 0.0909374<br>R<sup>2</sup>=0.797228<br><br>y_test=%{x}<br>y_pred=%{y} <b>(trend)</b><extra></extra>\",\"legendgroup\":\"\",\"line\":{\"color\":\"red\"},\"marker\":{\"color\":\"#636efa\",\"symbol\":\"circle\"},\"mode\":\"lines\",\"name\":\"\",\"showlegend\":false,\"x\":[0.04820524620340543,0.05568338702254947,0.08893235158766682,0.10331339162448228,0.11090658076392085,0.11401288541187299,0.12356189599631848,0.13115508513575702,0.1494477680625863,0.15174873446847678,0.15393465255407274,0.1592268752876208,0.16382880809940176,0.16670501610676486,0.16682006442705938,0.17441325356649795,0.1771744132535665,0.18235158766682008,0.19834330418775886,0.20306028531983436,0.2053612517257248,0.21755637367694433,0.21916705016106766,0.22192820984813624,0.22399907961343765,0.22491946617579386,0.22583985273815005,0.232857800276116,0.23400828347906122,0.24079613437643813,0.24148642429820527,0.25471698113207547,0.2633456051541647,0.27300966405890476,0.27634606534744593,0.2771514035895076,0.27991256327657615,0.2817533364012885,0.29590427979751494,0.303382420616659,0.3092498849516797,0.31143580303727564,0.3131615278416935,0.31868384721583065,0.3232857800276116,0.33053382420616656,0.33421537045559135,0.3351357570179475,0.3365163368614818,0.34249884951679704,0.3431891394385642,0.35710998619420153,0.3660837551771744,0.3733317993557294,0.3754026691210308,0.3796594569719282,0.38265071329958583,0.3873676944316613,0.38771283939254486,0.38966866083755175,0.39116428900138056,0.3915094339622642,0.3950759318913944,0.41428900138057984,0.42418315692590886,0.4282098481362172,0.42855499309710077,0.4289001380579843,0.43281178094799816,0.4329268292682927,0.4330418775885872,0.43695352047860103,0.43810400368154623,0.43821905200184075,0.4392544868844915,0.4429360331339162,0.44730786930510813,0.4478831109065808,0.45121951219512196,0.4555913483663139,0.46030832949838935,0.46168890934192364,0.46295444086516335,0.46433502070869764,0.4660607455131155,0.4660607455131155,0.4675563736769443,0.4689369535204786,0.4689369535204786,0.47020248504371837,0.47146801656695814,0.47710538426138976,0.48124712379199264,0.48918545789231477,0.48918545789231477,0.49240681086056143,0.4942475839852738,0.49516797054763,0.4958582604693971,0.49597330878969165,0.4960883571099862,0.4970087436723424,0.4994247583985274,0.507478140819144,0.5101242521859181,0.5103543488265071,0.5162218131615278,0.5207086976530143,0.5231247123791992,0.5242751955821445,0.5250805338242062,0.5261159687068568,0.5276115968706857,0.5301426599171652,0.5331339162448229,0.5396916705016107,0.541072250345145,0.5432581684307409,0.543718361711919,0.5448688449148642,0.5448688449148642,0.545674183156926,0.5473999079613437,0.548550391164289,0.5487804878048781,0.5491256327657617,0.5526921306948919,0.5534974689369535,0.5537275655775425,0.5548780487804879,0.5572940635066728,0.5618959963184538,0.5690289921767142,0.5694891854578923,0.5709848136217212,0.5722503451449609,0.5736309249884952,0.5750115048320295,0.5757017947537966,0.5780027611596871,0.5798435342843995,0.5844454670961804,0.587666820064427,0.5959502991256328,0.5959502991256328,0.5976760239300506,0.6034284399447768,0.6074551311550851,0.6086056143580304,0.608950759318914,0.609410952600092,0.611366774045099,0.6124022089277497,0.6255177174413253,0.6259779107225034,0.6277036355269213,0.6296594569719283,0.6338011965025311,0.6346065347445927,0.6450759318913944,0.6516336861481823,0.6530142659917165,0.6581914404049701,0.6701564657156006,0.6753336401288541,0.6849976990335941,0.6868384721583065,0.6927059364933272,0.6927059364933272,0.7120340543028072,0.7154855039116429,0.7191670501610676,0.7290612057063967,0.732857800276116,0.7335480901978831,0.7361942015646572,0.74033594109526,0.7494247583985274,0.7494247583985274,0.7557524160147262,0.7574781408191441,0.7722043258168431,0.776346065347446,0.776576161988035,0.7772664519098021,0.7781868384721583,0.7863552692130695,0.7893465255407272,0.7900368154624943,0.7917625402669122,0.7992406810860562,0.8153474459272895,0.81764841233318,0.8179935572940635,0.8405430280717902,0.8416935112747355,0.8441095260009204,0.8480211688909343,0.8491716520938795,0.8536585365853658,0.8541187298665439,0.8554993097100783,0.8558444546709618,0.8596410492406811,0.8602162908421537,0.8607915324436264,0.8642429820524621,0.8683847215830649,0.8686148182236539,0.8709157846295444,0.8793143120110447,0.883571099861942,0.8848366313851818,0.8874827427519558,0.9071560055223193,0.9188909341923608,0.9358030372756558,0.943971468016567,0.9516797054763001,0.9632995858260469],\"xaxis\":\"x\",\"y\":[0.13078611596719233,0.13696789379702434,0.1644530290712005,0.17634106335933894,0.18261794546347607,0.18518576086971397,0.19307941563703793,0.19935629774117503,0.21447787735568719,0.21637996284178934,0.21818694405358638,0.22256174067162132,0.22636591164382563,0.22874351850145333,0.22883862277575845,0.23511550487989555,0.23739800746321812,0.24167769980694798,0.2548971939353579,0.2587964691818674,0.26069855466796954,0.270779607744311,0.2721110675845825,0.27439357016790505,0.276105447105397,0.27686628129983787,0.2776271154942787,0.28342847622689027,0.28437951896994135,0.2899906711539427,0.2905612967997734,0.3014982883448607,0.3086311089177438,0.3166198679593729,0.319377891914221,0.32004362183435675,0.3223261244176793,0.32384779280656106,0.33554561854608933,0.3417273963759213,0.3465777143654818,0.3483846955772788,0.34981125969185545,0.3543762648585006,0.3581804358307049,0.3641720051119267,0.3672153418896902,0.367976176084131,0.36911742737579234,0.37406284963965797,0.3746334752854886,0.3861410924764066,0.39355922587220504,0.39955079515342684,0.4012626720909187,0.4047815302402078,0.4072542413721405,0.41115351661864996,0.4114388294415653,0.4130556021047521,0.41429195767071847,0.4145772704936339,0.41752550299709223,0.4334079168060452,0.44158688439628446,0.44491553399696326,0.4452008468198785,0.4454861596427938,0.4487197049691676,0.4488148092434726,0.44890991351777776,0.4521434588441514,0.45309450158720244,0.4531896058615076,0.45404554433025357,0.45708888110801693,0.46070284353161106,0.4611783649031367,0.4639363888579848,0.46755035128157885,0.4714496265280883,0.4725908778197496,0.4736370248371058,0.474778276128767,0.47620484024334364,0.47620484024334364,0.4774411958093101,0.4785824471009713,0.4785824471009713,0.4796285941183276,0.48067474113568376,0.48533485057663395,0.4887586044516179,0.49532079937867035,0.49532079937867035,0.49798371905921335,0.49950538744809503,0.500266221642536,0.5008368472883665,0.5009319515626717,0.5010270558369768,0.5017878900314177,0.503785079791825,0.5104423789931825,0.5126297773021999,0.5128199858508101,0.5176703038403706,0.5213793705382699,0.5233765602986771,0.5243276030417282,0.5249933329618639,0.5258492714306099,0.5270856269965764,0.5291779210312887,0.5316506321632215,0.5370715757986126,0.5382128270902738,0.540019808302071,0.5404002253992914,0.5413512681423425,0.5413512681423425,0.5420169980624783,0.5434435621770548,0.5443946049201059,0.5445848134687161,0.5448701262916315,0.5478183587950898,0.5484840887152256,0.5486742972638358,0.5496253400068869,0.5516225297672941,0.5554267007394984,0.561323165746415,0.5617035828436355,0.562939938409602,0.563986085426958,0.5651273367186195,0.5662685880102807,0.5668392136561113,0.5687412991422135,0.5702629675310953,0.5740671385032995,0.5767300581838425,0.5835775659338104,0.5835775659338104,0.5850041300483869,0.5897593437636423,0.593087993364321,0.5940390361073722,0.5943243489302875,0.594704766027508,0.5963215386906948,0.5971774771594407,0.608019364430223,0.6083997815274435,0.6098263456420201,0.6114431183052069,0.6148668721801908,0.6155326021003266,0.6241870910620914,0.6296080346974825,0.6307492859891438,0.6350289783328736,0.6449198228606049,0.6491995152043346,0.6571882742459637,0.6587099426348455,0.663560260624406,0.663560260624406,0.6795377787076641,0.6823909069368173,0.6854342437145807,0.69361321130482,0.6967516523568886,0.6973222780027192,0.6995096763117367,0.7029334301867206,0.7104466678568241,0.7104466678568241,0.715677402943605,0.7171039670581817,0.7292773141692354,0.7327010680442193,0.7328912765928295,0.7334619022386601,0.734222736433101,0.7409751399087636,0.7434478510406964,0.7440184766865271,0.7454450408011037,0.7516268186309357,0.7649414170336508,0.766843502519753,0.7671288153426683,0.7857692531064694,0.7867202958495205,0.7887174856099277,0.7919510309363015,0.7929020736793525,0.7966111403772517,0.796991557474472,0.7981328087661335,0.7984181215890487,0.8015565626411173,0.8020320840126428,0.8025076053841684,0.8053607336133216,0.8087844874883054,0.8089746960369156,0.8108767815230179,0.8178193935472907,0.8213382516965797,0.8223843987139359,0.8245717970229534,0.8408346279291268,0.8505352639082477,0.8645155922310986,0.8712679957067613,0.8776399820852036,0.8872455137900194],\"yaxis\":\"y\",\"type\":\"scatter\"}],                        {\"template\":{\"data\":{\"bar\":[{\"error_x\":{\"color\":\"#2a3f5f\"},\"error_y\":{\"color\":\"#2a3f5f\"},\"marker\":{\"line\":{\"color\":\"#E5ECF6\",\"width\":0.5},\"pattern\":{\"fillmode\":\"overlay\",\"size\":10,\"solidity\":0.2}},\"type\":\"bar\"}],\"barpolar\":[{\"marker\":{\"line\":{\"color\":\"#E5ECF6\",\"width\":0.5},\"pattern\":{\"fillmode\":\"overlay\",\"size\":10,\"solidity\":0.2}},\"type\":\"barpolar\"}],\"carpet\":[{\"aaxis\":{\"endlinecolor\":\"#2a3f5f\",\"gridcolor\":\"white\",\"linecolor\":\"white\",\"minorgridcolor\":\"white\",\"startlinecolor\":\"#2a3f5f\"},\"baxis\":{\"endlinecolor\":\"#2a3f5f\",\"gridcolor\":\"white\",\"linecolor\":\"white\",\"minorgridcolor\":\"white\",\"startlinecolor\":\"#2a3f5f\"},\"type\":\"carpet\"}],\"choropleth\":[{\"colorbar\":{\"outlinewidth\":0,\"ticks\":\"\"},\"type\":\"choropleth\"}],\"contour\":[{\"colorbar\":{\"outlinewidth\":0,\"ticks\":\"\"},\"colorscale\":[[0.0,\"#0d0887\"],[0.1111111111111111,\"#46039f\"],[0.2222222222222222,\"#7201a8\"],[0.3333333333333333,\"#9c179e\"],[0.4444444444444444,\"#bd3786\"],[0.5555555555555556,\"#d8576b\"],[0.6666666666666666,\"#ed7953\"],[0.7777777777777778,\"#fb9f3a\"],[0.8888888888888888,\"#fdca26\"],[1.0,\"#f0f921\"]],\"type\":\"contour\"}],\"contourcarpet\":[{\"colorbar\":{\"outlinewidth\":0,\"ticks\":\"\"},\"type\":\"contourcarpet\"}],\"heatmap\":[{\"colorbar\":{\"outlinewidth\":0,\"ticks\":\"\"},\"colorscale\":[[0.0,\"#0d0887\"],[0.1111111111111111,\"#46039f\"],[0.2222222222222222,\"#7201a8\"],[0.3333333333333333,\"#9c179e\"],[0.4444444444444444,\"#bd3786\"],[0.5555555555555556,\"#d8576b\"],[0.6666666666666666,\"#ed7953\"],[0.7777777777777778,\"#fb9f3a\"],[0.8888888888888888,\"#fdca26\"],[1.0,\"#f0f921\"]],\"type\":\"heatmap\"}],\"heatmapgl\":[{\"colorbar\":{\"outlinewidth\":0,\"ticks\":\"\"},\"colorscale\":[[0.0,\"#0d0887\"],[0.1111111111111111,\"#46039f\"],[0.2222222222222222,\"#7201a8\"],[0.3333333333333333,\"#9c179e\"],[0.4444444444444444,\"#bd3786\"],[0.5555555555555556,\"#d8576b\"],[0.6666666666666666,\"#ed7953\"],[0.7777777777777778,\"#fb9f3a\"],[0.8888888888888888,\"#fdca26\"],[1.0,\"#f0f921\"]],\"type\":\"heatmapgl\"}],\"histogram\":[{\"marker\":{\"pattern\":{\"fillmode\":\"overlay\",\"size\":10,\"solidity\":0.2}},\"type\":\"histogram\"}],\"histogram2d\":[{\"colorbar\":{\"outlinewidth\":0,\"ticks\":\"\"},\"colorscale\":[[0.0,\"#0d0887\"],[0.1111111111111111,\"#46039f\"],[0.2222222222222222,\"#7201a8\"],[0.3333333333333333,\"#9c179e\"],[0.4444444444444444,\"#bd3786\"],[0.5555555555555556,\"#d8576b\"],[0.6666666666666666,\"#ed7953\"],[0.7777777777777778,\"#fb9f3a\"],[0.8888888888888888,\"#fdca26\"],[1.0,\"#f0f921\"]],\"type\":\"histogram2d\"}],\"histogram2dcontour\":[{\"colorbar\":{\"outlinewidth\":0,\"ticks\":\"\"},\"colorscale\":[[0.0,\"#0d0887\"],[0.1111111111111111,\"#46039f\"],[0.2222222222222222,\"#7201a8\"],[0.3333333333333333,\"#9c179e\"],[0.4444444444444444,\"#bd3786\"],[0.5555555555555556,\"#d8576b\"],[0.6666666666666666,\"#ed7953\"],[0.7777777777777778,\"#fb9f3a\"],[0.8888888888888888,\"#fdca26\"],[1.0,\"#f0f921\"]],\"type\":\"histogram2dcontour\"}],\"mesh3d\":[{\"colorbar\":{\"outlinewidth\":0,\"ticks\":\"\"},\"type\":\"mesh3d\"}],\"parcoords\":[{\"line\":{\"colorbar\":{\"outlinewidth\":0,\"ticks\":\"\"}},\"type\":\"parcoords\"}],\"pie\":[{\"automargin\":true,\"type\":\"pie\"}],\"scatter\":[{\"marker\":{\"colorbar\":{\"outlinewidth\":0,\"ticks\":\"\"}},\"type\":\"scatter\"}],\"scatter3d\":[{\"line\":{\"colorbar\":{\"outlinewidth\":0,\"ticks\":\"\"}},\"marker\":{\"colorbar\":{\"outlinewidth\":0,\"ticks\":\"\"}},\"type\":\"scatter3d\"}],\"scattercarpet\":[{\"marker\":{\"colorbar\":{\"outlinewidth\":0,\"ticks\":\"\"}},\"type\":\"scattercarpet\"}],\"scattergeo\":[{\"marker\":{\"colorbar\":{\"outlinewidth\":0,\"ticks\":\"\"}},\"type\":\"scattergeo\"}],\"scattergl\":[{\"marker\":{\"colorbar\":{\"outlinewidth\":0,\"ticks\":\"\"}},\"type\":\"scattergl\"}],\"scattermapbox\":[{\"marker\":{\"colorbar\":{\"outlinewidth\":0,\"ticks\":\"\"}},\"type\":\"scattermapbox\"}],\"scatterpolar\":[{\"marker\":{\"colorbar\":{\"outlinewidth\":0,\"ticks\":\"\"}},\"type\":\"scatterpolar\"}],\"scatterpolargl\":[{\"marker\":{\"colorbar\":{\"outlinewidth\":0,\"ticks\":\"\"}},\"type\":\"scatterpolargl\"}],\"scatterternary\":[{\"marker\":{\"colorbar\":{\"outlinewidth\":0,\"ticks\":\"\"}},\"type\":\"scatterternary\"}],\"surface\":[{\"colorbar\":{\"outlinewidth\":0,\"ticks\":\"\"},\"colorscale\":[[0.0,\"#0d0887\"],[0.1111111111111111,\"#46039f\"],[0.2222222222222222,\"#7201a8\"],[0.3333333333333333,\"#9c179e\"],[0.4444444444444444,\"#bd3786\"],[0.5555555555555556,\"#d8576b\"],[0.6666666666666666,\"#ed7953\"],[0.7777777777777778,\"#fb9f3a\"],[0.8888888888888888,\"#fdca26\"],[1.0,\"#f0f921\"]],\"type\":\"surface\"}],\"table\":[{\"cells\":{\"fill\":{\"color\":\"#EBF0F8\"},\"line\":{\"color\":\"white\"}},\"header\":{\"fill\":{\"color\":\"#C8D4E3\"},\"line\":{\"color\":\"white\"}},\"type\":\"table\"}]},\"layout\":{\"annotationdefaults\":{\"arrowcolor\":\"#2a3f5f\",\"arrowhead\":0,\"arrowwidth\":1},\"autotypenumbers\":\"strict\",\"coloraxis\":{\"colorbar\":{\"outlinewidth\":0,\"ticks\":\"\"}},\"colorscale\":{\"diverging\":[[0,\"#8e0152\"],[0.1,\"#c51b7d\"],[0.2,\"#de77ae\"],[0.3,\"#f1b6da\"],[0.4,\"#fde0ef\"],[0.5,\"#f7f7f7\"],[0.6,\"#e6f5d0\"],[0.7,\"#b8e186\"],[0.8,\"#7fbc41\"],[0.9,\"#4d9221\"],[1,\"#276419\"]],\"sequential\":[[0.0,\"#0d0887\"],[0.1111111111111111,\"#46039f\"],[0.2222222222222222,\"#7201a8\"],[0.3333333333333333,\"#9c179e\"],[0.4444444444444444,\"#bd3786\"],[0.5555555555555556,\"#d8576b\"],[0.6666666666666666,\"#ed7953\"],[0.7777777777777778,\"#fb9f3a\"],[0.8888888888888888,\"#fdca26\"],[1.0,\"#f0f921\"]],\"sequentialminus\":[[0.0,\"#0d0887\"],[0.1111111111111111,\"#46039f\"],[0.2222222222222222,\"#7201a8\"],[0.3333333333333333,\"#9c179e\"],[0.4444444444444444,\"#bd3786\"],[0.5555555555555556,\"#d8576b\"],[0.6666666666666666,\"#ed7953\"],[0.7777777777777778,\"#fb9f3a\"],[0.8888888888888888,\"#fdca26\"],[1.0,\"#f0f921\"]]},\"colorway\":[\"#636efa\",\"#EF553B\",\"#00cc96\",\"#ab63fa\",\"#FFA15A\",\"#19d3f3\",\"#FF6692\",\"#B6E880\",\"#FF97FF\",\"#FECB52\"],\"font\":{\"color\":\"#2a3f5f\"},\"geo\":{\"bgcolor\":\"white\",\"lakecolor\":\"white\",\"landcolor\":\"#E5ECF6\",\"showlakes\":true,\"showland\":true,\"subunitcolor\":\"white\"},\"hoverlabel\":{\"align\":\"left\"},\"hovermode\":\"closest\",\"mapbox\":{\"style\":\"light\"},\"paper_bgcolor\":\"white\",\"plot_bgcolor\":\"#E5ECF6\",\"polar\":{\"angularaxis\":{\"gridcolor\":\"white\",\"linecolor\":\"white\",\"ticks\":\"\"},\"bgcolor\":\"#E5ECF6\",\"radialaxis\":{\"gridcolor\":\"white\",\"linecolor\":\"white\",\"ticks\":\"\"}},\"scene\":{\"xaxis\":{\"backgroundcolor\":\"#E5ECF6\",\"gridcolor\":\"white\",\"gridwidth\":2,\"linecolor\":\"white\",\"showbackground\":true,\"ticks\":\"\",\"zerolinecolor\":\"white\"},\"yaxis\":{\"backgroundcolor\":\"#E5ECF6\",\"gridcolor\":\"white\",\"gridwidth\":2,\"linecolor\":\"white\",\"showbackground\":true,\"ticks\":\"\",\"zerolinecolor\":\"white\"},\"zaxis\":{\"backgroundcolor\":\"#E5ECF6\",\"gridcolor\":\"white\",\"gridwidth\":2,\"linecolor\":\"white\",\"showbackground\":true,\"ticks\":\"\",\"zerolinecolor\":\"white\"}},\"shapedefaults\":{\"line\":{\"color\":\"#2a3f5f\"}},\"ternary\":{\"aaxis\":{\"gridcolor\":\"white\",\"linecolor\":\"white\",\"ticks\":\"\"},\"baxis\":{\"gridcolor\":\"white\",\"linecolor\":\"white\",\"ticks\":\"\"},\"bgcolor\":\"#E5ECF6\",\"caxis\":{\"gridcolor\":\"white\",\"linecolor\":\"white\",\"ticks\":\"\"}},\"title\":{\"x\":0.05},\"xaxis\":{\"automargin\":true,\"gridcolor\":\"white\",\"linecolor\":\"white\",\"ticks\":\"\",\"title\":{\"standoff\":15},\"zerolinecolor\":\"white\",\"zerolinewidth\":2},\"yaxis\":{\"automargin\":true,\"gridcolor\":\"white\",\"linecolor\":\"white\",\"ticks\":\"\",\"title\":{\"standoff\":15},\"zerolinecolor\":\"white\",\"zerolinewidth\":2}}},\"xaxis\":{\"anchor\":\"y\",\"domain\":[0.0,1.0],\"title\":{\"text\":\"y_test\"}},\"yaxis\":{\"anchor\":\"x\",\"domain\":[0.0,1.0],\"title\":{\"text\":\"y_pred\"}},\"legend\":{\"tracegroupgap\":0},\"margin\":{\"t\":60},\"title\":{\"text\":\"y_pred vs y_pred\"}},                        {\"responsive\": true}                    ).then(function(){\n",
              "                            \n",
              "var gd = document.getElementById('89833943-048e-4a9a-81fe-135644a1a8bd');\n",
              "var x = new MutationObserver(function (mutations, observer) {{\n",
              "        var display = window.getComputedStyle(gd).display;\n",
              "        if (!display || display === 'none') {{\n",
              "            console.log([gd, 'removed!']);\n",
              "            Plotly.purge(gd);\n",
              "            observer.disconnect();\n",
              "        }}\n",
              "}});\n",
              "\n",
              "// Listen for the removal of the full notebook cells\n",
              "var notebookContainer = gd.closest('#notebook-container');\n",
              "if (notebookContainer) {{\n",
              "    x.observe(notebookContainer, {childList: true});\n",
              "}}\n",
              "\n",
              "// Listen for the clearing of the current output cell\n",
              "var outputEl = gd.closest('.output');\n",
              "if (outputEl) {{\n",
              "    x.observe(outputEl, {childList: true});\n",
              "}}\n",
              "\n",
              "                        })                };                            </script>        </div>\n",
              "</body>\n",
              "</html>"
            ]
          },
          "metadata": {}
        }
      ]
    },
    {
      "cell_type": "code",
      "source": [
        "lr_5.summary()"
      ],
      "metadata": {
        "colab": {
          "base_uri": "https://localhost:8080/",
          "height": 638
        },
        "id": "wtQF7HQ11_Sq",
        "outputId": "91bd9cb0-c789-46ed-e49e-ad5554b22cb6"
      },
      "execution_count": 1303,
      "outputs": [
        {
          "output_type": "execute_result",
          "data": {
            "text/plain": [
              "<class 'statsmodels.iolib.summary.Summary'>\n",
              "\"\"\"\n",
              "                            OLS Regression Results                            \n",
              "==============================================================================\n",
              "Dep. Variable:                    cnt   R-squared:                       0.835\n",
              "Model:                            OLS   Adj. R-squared:                  0.832\n",
              "Method:                 Least Squares   F-statistic:                     253.0\n",
              "Date:                Wed, 11 May 2022   Prob (F-statistic):          3.13e-188\n",
              "Time:                        18:06:11   Log-Likelihood:                 498.79\n",
              "No. Observations:                 510   AIC:                            -975.6\n",
              "Df Residuals:                     499   BIC:                            -929.0\n",
              "Df Model:                          10                                         \n",
              "Covariance Type:            nonrobust                                         \n",
              "=================================================================================\n",
              "                    coef    std err          t      P>|t|      [0.025      0.975]\n",
              "---------------------------------------------------------------------------------\n",
              "const             0.0750      0.019      4.031      0.000       0.038       0.112\n",
              "year              0.2331      0.008     28.370      0.000       0.217       0.249\n",
              "workingday        0.0561      0.011      5.024      0.000       0.034       0.078\n",
              "temp              0.5499      0.020     27.861      0.000       0.511       0.589\n",
              "windspeed        -0.1552      0.025     -6.195      0.000      -0.204      -0.106\n",
              "summer            0.0886      0.010      8.608      0.000       0.068       0.109\n",
              "winter            0.1307      0.010     12.600      0.000       0.110       0.151\n",
              "Sep               0.0974      0.016      6.184      0.000       0.066       0.128\n",
              "Sat               0.0675      0.014      4.693      0.000       0.039       0.096\n",
              "Light Snow       -0.2871      0.025    -11.611      0.000      -0.336      -0.239\n",
              "Mist + Cloudy    -0.0800      0.009     -9.143      0.000      -0.097      -0.063\n",
              "==============================================================================\n",
              "Omnibus:                       68.639   Durbin-Watson:                   2.089\n",
              "Prob(Omnibus):                  0.000   Jarque-Bera (JB):              151.839\n",
              "Skew:                          -0.731   Prob(JB):                     1.07e-33\n",
              "Kurtosis:                       5.238   Cond. No.                         11.6\n",
              "==============================================================================\n",
              "\n",
              "Warnings:\n",
              "[1] Standard Errors assume that the covariance matrix of the errors is correctly specified.\n",
              "\"\"\""
            ],
            "text/html": [
              "<table class=\"simpletable\">\n",
              "<caption>OLS Regression Results</caption>\n",
              "<tr>\n",
              "  <th>Dep. Variable:</th>           <td>cnt</td>       <th>  R-squared:         </th> <td>   0.835</td> \n",
              "</tr>\n",
              "<tr>\n",
              "  <th>Model:</th>                   <td>OLS</td>       <th>  Adj. R-squared:    </th> <td>   0.832</td> \n",
              "</tr>\n",
              "<tr>\n",
              "  <th>Method:</th>             <td>Least Squares</td>  <th>  F-statistic:       </th> <td>   253.0</td> \n",
              "</tr>\n",
              "<tr>\n",
              "  <th>Date:</th>             <td>Wed, 11 May 2022</td> <th>  Prob (F-statistic):</th> <td>3.13e-188</td>\n",
              "</tr>\n",
              "<tr>\n",
              "  <th>Time:</th>                 <td>18:06:11</td>     <th>  Log-Likelihood:    </th> <td>  498.79</td> \n",
              "</tr>\n",
              "<tr>\n",
              "  <th>No. Observations:</th>      <td>   510</td>      <th>  AIC:               </th> <td>  -975.6</td> \n",
              "</tr>\n",
              "<tr>\n",
              "  <th>Df Residuals:</th>          <td>   499</td>      <th>  BIC:               </th> <td>  -929.0</td> \n",
              "</tr>\n",
              "<tr>\n",
              "  <th>Df Model:</th>              <td>    10</td>      <th>                     </th>     <td> </td>    \n",
              "</tr>\n",
              "<tr>\n",
              "  <th>Covariance Type:</th>      <td>nonrobust</td>    <th>                     </th>     <td> </td>    \n",
              "</tr>\n",
              "</table>\n",
              "<table class=\"simpletable\">\n",
              "<tr>\n",
              "        <td></td>           <th>coef</th>     <th>std err</th>      <th>t</th>      <th>P>|t|</th>  <th>[0.025</th>    <th>0.975]</th>  \n",
              "</tr>\n",
              "<tr>\n",
              "  <th>const</th>         <td>    0.0750</td> <td>    0.019</td> <td>    4.031</td> <td> 0.000</td> <td>    0.038</td> <td>    0.112</td>\n",
              "</tr>\n",
              "<tr>\n",
              "  <th>year</th>          <td>    0.2331</td> <td>    0.008</td> <td>   28.370</td> <td> 0.000</td> <td>    0.217</td> <td>    0.249</td>\n",
              "</tr>\n",
              "<tr>\n",
              "  <th>workingday</th>    <td>    0.0561</td> <td>    0.011</td> <td>    5.024</td> <td> 0.000</td> <td>    0.034</td> <td>    0.078</td>\n",
              "</tr>\n",
              "<tr>\n",
              "  <th>temp</th>          <td>    0.5499</td> <td>    0.020</td> <td>   27.861</td> <td> 0.000</td> <td>    0.511</td> <td>    0.589</td>\n",
              "</tr>\n",
              "<tr>\n",
              "  <th>windspeed</th>     <td>   -0.1552</td> <td>    0.025</td> <td>   -6.195</td> <td> 0.000</td> <td>   -0.204</td> <td>   -0.106</td>\n",
              "</tr>\n",
              "<tr>\n",
              "  <th>summer</th>        <td>    0.0886</td> <td>    0.010</td> <td>    8.608</td> <td> 0.000</td> <td>    0.068</td> <td>    0.109</td>\n",
              "</tr>\n",
              "<tr>\n",
              "  <th>winter</th>        <td>    0.1307</td> <td>    0.010</td> <td>   12.600</td> <td> 0.000</td> <td>    0.110</td> <td>    0.151</td>\n",
              "</tr>\n",
              "<tr>\n",
              "  <th>Sep</th>           <td>    0.0974</td> <td>    0.016</td> <td>    6.184</td> <td> 0.000</td> <td>    0.066</td> <td>    0.128</td>\n",
              "</tr>\n",
              "<tr>\n",
              "  <th>Sat</th>           <td>    0.0675</td> <td>    0.014</td> <td>    4.693</td> <td> 0.000</td> <td>    0.039</td> <td>    0.096</td>\n",
              "</tr>\n",
              "<tr>\n",
              "  <th>Light Snow</th>    <td>   -0.2871</td> <td>    0.025</td> <td>  -11.611</td> <td> 0.000</td> <td>   -0.336</td> <td>   -0.239</td>\n",
              "</tr>\n",
              "<tr>\n",
              "  <th>Mist + Cloudy</th> <td>   -0.0800</td> <td>    0.009</td> <td>   -9.143</td> <td> 0.000</td> <td>   -0.097</td> <td>   -0.063</td>\n",
              "</tr>\n",
              "</table>\n",
              "<table class=\"simpletable\">\n",
              "<tr>\n",
              "  <th>Omnibus:</th>       <td>68.639</td> <th>  Durbin-Watson:     </th> <td>   2.089</td>\n",
              "</tr>\n",
              "<tr>\n",
              "  <th>Prob(Omnibus):</th> <td> 0.000</td> <th>  Jarque-Bera (JB):  </th> <td> 151.839</td>\n",
              "</tr>\n",
              "<tr>\n",
              "  <th>Skew:</th>          <td>-0.731</td> <th>  Prob(JB):          </th> <td>1.07e-33</td>\n",
              "</tr>\n",
              "<tr>\n",
              "  <th>Kurtosis:</th>      <td> 5.238</td> <th>  Cond. No.          </th> <td>    11.6</td>\n",
              "</tr>\n",
              "</table><br/><br/>Warnings:<br/>[1] Standard Errors assume that the covariance matrix of the errors is correctly specified."
            ]
          },
          "metadata": {},
          "execution_count": 1303
        }
      ]
    },
    {
      "cell_type": "markdown",
      "source": [
        "The equation of our best fitted line is:\n",
        "\n",
        "*cnt = 0.0750 + 0.2331 * year + 0.0561 * workingday + 0.5499 * temp - 0.1552 * windpseed + 0.0886 * summer + 0.1307 * winter + 0.0974 * Sep + 0.0675 * Sat - 0.2871 - 0.0800 * Mist+Cloudy*"
      ],
      "metadata": {
        "id": "Ilie4x0uF5rz"
      }
    },
    {
      "cell_type": "code",
      "source": [
        "\n",
        "r2_score(y_train, y_train_pred)"
      ],
      "metadata": {
        "colab": {
          "base_uri": "https://localhost:8080/"
        },
        "id": "bEi0vmzlu-XA",
        "outputId": "068b760b-b67d-49f5-86af-463889d6a08f"
      },
      "execution_count": 1304,
      "outputs": [
        {
          "output_type": "execute_result",
          "data": {
            "text/plain": [
              "0.8352749595695672"
            ]
          },
          "metadata": {},
          "execution_count": 1304
        }
      ]
    },
    {
      "cell_type": "markdown",
      "source": [
        "Comparision between train and test data"
      ],
      "metadata": {
        "id": "Uy87QXkvxlyg"
      }
    },
    {
      "cell_type": "code",
      "source": [
        "train = 1-(1-r2_score(y_train, y_train_pred))*(len(y_train)-1)/(len(y_train)-5-1)\n",
        "test = 1-(1-r2_score(y_test, y_pred))*(len(X_test)-1)/(len(X_test)-5-1)\n",
        "print('Coefficient of determination(R^2) for Train dataset : %.2f'% r2_score(y_train, y_train_pred))\n",
        "print('Coefficient of determination(R^2) for Test dataset : %.2f'% r2_score(y_test, y_pred))\n",
        "print('Adjusted R^2 for Train dataset : %.2f'% train)\n",
        "print('Adjusted R^2 for Test dataset : %.2f'% test)"
      ],
      "metadata": {
        "colab": {
          "base_uri": "https://localhost:8080/"
        },
        "id": "2sqGNoW-xdNW",
        "outputId": "dc866674-d665-474d-c3ee-ce8e34613d2b"
      },
      "execution_count": 1305,
      "outputs": [
        {
          "output_type": "stream",
          "name": "stdout",
          "text": [
            "Coefficient of determination(R^2) for Train dataset : 0.84\n",
            "Coefficient of determination(R^2) for Test dataset : 0.80\n",
            "Adjusted R^2 for Train dataset : 0.83\n",
            "Adjusted R^2 for Test dataset : 0.79\n"
          ]
        }
      ]
    }
  ]
}